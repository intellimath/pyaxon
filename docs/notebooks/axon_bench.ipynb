{
 "metadata": {
  "name": "axon_bench"
 },
 "nbformat": 3,
 "nbformat_minor": 0,
 "worksheets": [
  {
   "cells": [
    {
     "cell_type": "heading",
     "level": 2,
     "metadata": {},
     "source": [
      "AXON: Some benchmarks"
     ]
    },
    {
     "cell_type": "code",
     "collapsed": false,
     "input": [
      "from __future__ import print_function\n",
      "import json\n",
      "import axon\n",
      "import yaml\n",
      "import random\n",
      "import time\n",
      "import matplotlib.pyplot as plt\n",
      "import gc"
     ],
     "language": "python",
     "metadata": {},
     "outputs": [],
     "prompt_number": 1
    },
    {
     "cell_type": "code",
     "collapsed": false,
     "input": [
      "def random_string(n):\n",
      "    text = ''.join(chr(ord('a')+random.randint(1,20)) for i in range(20))\n",
      "    text = axon.as_unicode(text)\n",
      "    return text"
     ],
     "language": "python",
     "metadata": {},
     "outputs": [],
     "prompt_number": 2
    },
    {
     "cell_type": "code",
     "collapsed": false,
     "input": [
      "yaml_times_dump = []\n",
      "json_times_dump = []\n",
      "axon_times_dump = []\n",
      "yaml_times_load = []\n",
      "json_times_load = []\n",
      "axon_times_load = []\n",
      "\n",
      "def make_test(data):\n",
      "    if type(data) == dict:\n",
      "        data = [data]\n",
      "\n",
      "    t0 = time.time()\n",
      "    axon_text = axon.dumps(data, sorted=0)\n",
      "    dt_axon_dump = time.time() - t0\n",
      "    axon_times_dump.append(dt_axon_dump)\n",
      "    \n",
      "    t0 = time.time()\n",
      "    v = axon.loads(axon_text)\n",
      "    dt_axon_load = time.time() - t0\n",
      "    axon_times_load.append(dt_axon_load)\n",
      "    \n",
      "    t0 = time.time()\n",
      "    json_text = json.dumps(data)\n",
      "    dt_json_dump = time.time() - t0\n",
      "    json_times_dump.append(dt_json_dump)\n",
      "\n",
      "    t0 = time.time()\n",
      "    v = json.loads(json_text)\n",
      "    dt_json_load = time.time() - t0\n",
      "    json_times_load.append(dt_json_load)\n",
      "\n",
      "    t0 = time.time()\n",
      "    yaml_text = yaml.dump(data, Dumper=yaml.CDumper)\n",
      "    dt_yaml_dump = time.time() - t0\n",
      "    yaml_times_dump.append(dt_yaml_dump)\n",
      "\n",
      "    t0 = time.time()\n",
      "    v = yaml.load(json_text, Loader=yaml.CLoader)\n",
      "    dt_yaml_load = time.time() - t0\n",
      "    yaml_times_load.append(dt_yaml_load)\n",
      "    \n",
      "    print('Dump:: axon: %.3f json: %.3f yaml: %.3f' % (dt_axon_dump, dt_json_dump, dt_yaml_dump))\n",
      "    print('Load:: axon: %.3f json: %.3f yaml: %.3f' % (dt_axon_load, dt_json_load, dt_yaml_load))"
     ],
     "language": "python",
     "metadata": {},
     "outputs": [],
     "prompt_number": 3
    },
    {
     "cell_type": "code",
     "collapsed": false,
     "input": [
      "def test_1():\n",
      "    lst = []\n",
      "    for i in range(4000):\n",
      "        lst.append([\n",
      "            random_string(8), random.random(),\n",
      "            random_string(8), random.randint(1,99999),\n",
      "            random_string(8), random_string(32),\n",
      "            random_string(8), random.random(),\n",
      "            random_string(8), random.randint(1,99999),\n",
      "            random_string(8), random_string(32),\n",
      "            random_string(8), random.random(),\n",
      "            random_string(8), random.randint(1,99999),\n",
      "            random_string(8), random_string(32),\n",
      "            random_string(8), random.random(),\n",
      "            random_string(8), random.randint(1,99999),\n",
      "            random_string(8), random_string(32),\n",
      "        ])\n",
      "    return lst\n",
      "\n",
      "make_test(test_1())        "
     ],
     "language": "python",
     "metadata": {},
     "outputs": [
      {
       "output_type": "stream",
       "stream": "stdout",
       "text": [
        "Dump:: axon: 0.067 json: 0.067 yaml: 3.414\n",
        "Load:: axon: 0.044 json: 0.088 yaml: 3.183\n"
       ]
      }
     ],
     "prompt_number": 4
    },
    {
     "cell_type": "code",
     "collapsed": false,
     "input": [
      "def test_2():\n",
      "    lst = []\n",
      "    for i in range(4000):\n",
      "        lst.append({\n",
      "            random_string(8): random.random(),\n",
      "            random_string(8): random.randint(1,99999),\n",
      "            random_string(8): random_string(32),\n",
      "            random_string(8): random.random(),\n",
      "            random_string(8): random.randint(1,99999),\n",
      "            random_string(8): random_string(32),\n",
      "            random_string(8): random.random(),\n",
      "            random_string(8): random.randint(1,99999),\n",
      "            random_string(8): random_string(32),\n",
      "            random_string(8): random.random(),\n",
      "            random_string(8): random.randint(1,99999),\n",
      "            random_string(8): random_string(32),\n",
      "        })\n",
      "    return lst\n",
      "\n",
      "make_test(test_2())    "
     ],
     "language": "python",
     "metadata": {},
     "outputs": [
      {
       "output_type": "stream",
       "stream": "stdout",
       "text": [
        "Dump:: axon: 0.102 json: 0.074 yaml: 3.440\n",
        "Load:: axon: 0.051 json: 0.092 yaml: 3.016\n"
       ]
      }
     ],
     "prompt_number": 5
    },
    {
     "cell_type": "code",
     "collapsed": false,
     "input": [
      "def test_3():\n",
      "    d = {}\n",
      "    for j in range(100):\n",
      "        lst = []\n",
      "        for i in range(100):\n",
      "            lst.append({\n",
      "                random_string(8): random.random(),\n",
      "                random_string(8): random.randint(1,99999),\n",
      "                random_string(8): random_string(32),\n",
      "                random_string(8): random.random(),\n",
      "                random_string(8): random.randint(1,99999),\n",
      "                random_string(8): random_string(32),\n",
      "                random_string(8): random.random(),\n",
      "                random_string(8): random.randint(1,99999),\n",
      "                random_string(8): random_string(32),\n",
      "            })\n",
      "        d[random_string(8)] = lst\n",
      "    return d\n",
      "\n",
      "make_test(test_3()) "
     ],
     "language": "python",
     "metadata": {},
     "outputs": [
      {
       "output_type": "stream",
       "stream": "stdout",
       "text": [
        "Dump:: axon: 0.179 json: 0.139 yaml: 6.679\n",
        "Load:: axon: 0.093 json: 0.212 yaml: 6.574\n"
       ]
      }
     ],
     "prompt_number": 6
    },
    {
     "cell_type": "code",
     "collapsed": false,
     "input": [
      "def test_4():\n",
      "    lst = []\n",
      "    for i in range(4000):\n",
      "        lst.append([\n",
      "            random_string(8), random_string(32),\n",
      "            random_string(32), random_string(8),\n",
      "            random_string(8), random_string(32),\n",
      "            random_string(32), random_string(32),\n",
      "            random_string(8), random_string(8),\n",
      "            random_string(32), random_string(32),\n",
      "            random_string(8), random_string(8),\n",
      "            random_string(32), random_string(8),\n",
      "            random_string(8), random_string(32),\n",
      "            random_string(32), random_string(8),\n",
      "            random_string(8), random_string(8),\n",
      "            random_string(32), random_string(32),\n",
      "            random_string(8), random_string(8),\n",
      "            random_string(32), random_string(8),\n",
      "            random_string(8), random_string(32),\n",
      "        ])\n",
      "    return lst\n",
      "\n",
      "make_test(test_4()) "
     ],
     "language": "python",
     "metadata": {},
     "outputs": [
      {
       "output_type": "stream",
       "stream": "stdout",
       "text": [
        "Dump:: axon: 0.064 json: 0.053 yaml: 3.872\n",
        "Load:: axon: 0.047 json: 0.114 yaml: 3.222\n"
       ]
      }
     ],
     "prompt_number": 7
    },
    {
     "cell_type": "code",
     "collapsed": false,
     "input": [
      "def test_5():\n",
      "    lst = []\n",
      "    for i in range(5000):\n",
      "        lst.extend([\n",
      "            random_string(8), random_string(8),\n",
      "            random_string(32), random_string(8),\n",
      "            random_string(32), random_string(32),\n",
      "            random_string(8), random_string(8),\n",
      "            random_string(8), random_string(8),\n",
      "            random_string(32), random_string(8),\n",
      "            random_string(8), random_string(32),\n",
      "            random_string(32), random_string(8),\n",
      "            random_string(32), random_string(32),\n",
      "            random_string(8), random_string(8),\n",
      "            random_string(32), random_string(8),\n",
      "            random_string(32), random_string(32),\n",
      "        ])\n",
      "    return lst\n",
      "\n",
      "make_test(test_5()) "
     ],
     "language": "python",
     "metadata": {},
     "outputs": [
      {
       "output_type": "stream",
       "stream": "stdout",
       "text": [
        "Dump:: axon: 0.071 json: 0.050 yaml: 3.874\n",
        "Load:: axon: 0.036 json: 0.089 yaml: 3.034\n"
       ]
      }
     ],
     "prompt_number": 8
    },
    {
     "cell_type": "code",
     "collapsed": false,
     "input": [
      "def test_6():\n",
      "    lst = []\n",
      "    for i in range(5000):\n",
      "        lst.extend([\n",
      "            random.randint(1,99999), random.randint(1,99999),\n",
      "            random.randint(1,99999), random.randint(1,99999),\n",
      "            random.randint(1,99999), random.randint(1,99999),\n",
      "            random.randint(1,99999), random.randint(1,99999),\n",
      "            random.randint(1,99999), random.randint(1,99999),\n",
      "            random.randint(1,99999), random.randint(1,99999),\n",
      "            random.randint(1,99999), random.randint(1,99999),\n",
      "            random.randint(1,99999), random.randint(1,99999),\n",
      "            random.randint(1,99999), random.randint(1,99999),\n",
      "            random.randint(1,99999), random.randint(1,99999),\n",
      "            random.randint(1,99999), random.randint(1,99999),\n",
      "            random.randint(1,99999), random.randint(1,99999),\n",
      "        ])\n",
      "    lst = [lst]\n",
      "    return lst\n",
      "\n",
      "make_test(test_6()) "
     ],
     "language": "python",
     "metadata": {},
     "outputs": [
      {
       "output_type": "stream",
       "stream": "stdout",
       "text": [
        "Dump:: axon: 0.047 json: 0.026 yaml: 3.620\n",
        "Load:: axon: 0.038 json: 0.033 yaml: 4.112\n"
       ]
      }
     ],
     "prompt_number": 9
    },
    {
     "cell_type": "code",
     "collapsed": false,
     "input": [
      "def test_7():\n",
      "    lst = []\n",
      "    for i in range(5000):\n",
      "        lst.extend([\n",
      "            random.random(), random.random(),\n",
      "            random.random(), random.random(),\n",
      "            random.random(), random.random(),\n",
      "            random.random(), random.random(),\n",
      "            random.random(), random.random(),\n",
      "            random.random(), random.random(),\n",
      "            random.random(), random.random(),\n",
      "            random.random(), random.random(),\n",
      "            random.random(), random.random(),\n",
      "            random.random(), random.random(),\n",
      "            random.random(), random.random(),\n",
      "            random.random(), random.random(),\n",
      "            random.random(), random.random(),\n",
      "            random.random(), random.random(),\n",
      "        ])\n",
      "    lst = [lst]\n",
      "    return lst\n",
      "\n",
      "make_test(test_7())     "
     ],
     "language": "python",
     "metadata": {},
     "outputs": [
      {
       "output_type": "stream",
       "stream": "stdout",
       "text": [
        "Dump:: axon: 0.128 json: 0.258 yaml: 4.929\n",
        "Load:: axon: 0.053 json: 0.080 yaml: 4.760\n"
       ]
      }
     ],
     "prompt_number": 10
    },
    {
     "cell_type": "code",
     "collapsed": false,
     "input": [
      "#import urllib\n",
      "\n",
      "#text = urllib.urlopen(r'https://raw.github.com/zeMirco/sf-city-lots-json/master/citylots.json').read()\n",
      "#print(text[:100])\n",
      "#data = json.loads(text)\n",
      "#del text\n",
      "\n",
      "#make_test(data)"
     ],
     "language": "python",
     "metadata": {},
     "outputs": [],
     "prompt_number": 11
    },
    {
     "cell_type": "code",
     "collapsed": false,
     "input": [
      "def make_plot():\n",
      "    tests = range(1,len(axon_times_dump)+1)\n",
      "    plt.figure(figsize=(10.0, 10.0))\n",
      "    \n",
      "    plt.subplot(2,1,1)\n",
      "    plt.title('Dumping')\n",
      "    plt.plot(tests, axon_times_dump, label='axon', marker='o')\n",
      "    plt.plot(tests, json_times_dump, label='json', marker='o')\n",
      "    plt.plot(tests, yaml_times_dump, label='yaml', marker='o')\n",
      "    plt.legend()\n",
      "    plt.grid()\n",
      "    plt.minorticks_on()\n",
      "    \n",
      "    plt.subplot(2,1,2)\n",
      "    plt.title('Loading')\n",
      "    plt.plot(tests, axon_times_load, label='axon', marker='o')\n",
      "    plt.plot(tests, json_times_load, label='json', marker='o')\n",
      "    plt.plot(tests, yaml_times_load, label='yaml', marker='o')\n",
      "    plt.legend()\n",
      "    plt.grid()\n",
      "    plt.minorticks_on()\n",
      "\n",
      "print('Dumping:')\n",
      "print('axon:', *[('%.3f' % t) for t in axon_times_dump])\n",
      "print('json:', *[('%.3f' % t) for t in json_times_dump])\n",
      "print('yaml:', *[('%.3f' % t) for t in yaml_times_dump])\n",
      "print('Loading:')\n",
      "print('axon:', *[('%.3f' % t) for t in axon_times_load])\n",
      "print('json:', *[('%.3f' % t) for t in json_times_load])\n",
      "print('yaml:', *[('%.3f' % t) for t in yaml_times_load])\n",
      "make_plot()"
     ],
     "language": "python",
     "metadata": {},
     "outputs": [
      {
       "output_type": "stream",
       "stream": "stdout",
       "text": [
        "Dumping:\n",
        "axon: 0.067 0.102 0.179 0.064 0.071 0.047 0.128\n",
        "json: 0.067 0.074 0.139 0.053 0.050 0.026 0.258\n",
        "yaml: 3.414 3.440 6.679 3.872 3.874 3.620 4.929\n",
        "Loading:\n",
        "axon: 0.044 0.051 0.093 0.047 0.036 0.038 0.053\n",
        "json: 0.088 0.092 0.212 0.114 0.089 0.033 0.080\n",
        "yaml: 3.183 3.016 6.574 3.222 3.034 4.112 4.760\n"
       ]
      },
      {
       "output_type": "display_data",
       "png": "[encoded data removed]"
      }
     ],
     "prompt_number": 12
    },
    {
     "cell_type": "code",
     "collapsed": false,
     "input": [],
     "language": "python",
     "metadata": {},
     "outputs": [],
     "prompt_number": 12
    },
    {
     "cell_type": "code",
     "collapsed": false,
     "input": [],
     "language": "python",
     "metadata": {},
     "outputs": [],
     "prompt_number": 12
    },
    {
     "cell_type": "code",
     "collapsed": false,
     "input": [],
     "language": "python",
     "metadata": {},
     "outputs": [],
     "prompt_number": 12
    },
    {
     "cell_type": "code",
     "collapsed": false,
     "input": [],
     "language": "python",
     "metadata": {},
     "outputs": [],
     "prompt_number": 12
    },
    {
     "cell_type": "code",
     "collapsed": false,
     "input": [],
     "language": "python",
     "metadata": {},
     "outputs": [],
     "prompt_number": 12
    },
    {
     "cell_type": "code",
     "collapsed": false,
     "input": [
      "import IPython.core.display\n",
      "IPython.core.display.HTML(\"\"\"\n",
      "<style type=\"text/css\">\n",
      "\n",
      "div.input {\n",
      "width: 150ex; /* about 80 chars + buffer */\n",
      "}\n",
      "\n",
      "div.text_cell {\n",
      "width: 150ex /* instead of 100%, */\n",
      "}\n",
      "\n",
      "div.text_cell_render {\n",
      "/*font-family: \"Source Sans Pro\", \"Helvetica Neue\", Arial, Helvetica, Geneva, sans-serif;*/\n",
      "font-family: \"Charis SIL\", \"Times New Roman\", serif; \n",
      "line-height: 145%; /* added for some line spacing of text. */\n",
      "width: 110ex; /* instead of 'inherit' for shorter lines */\n",
      "font-size: 12pt\n",
      "}\n",
      "\n",
      "/* Set the size of the headers */\n",
      "div.text_cell_render h1 {\n",
      "font-family: \"Source Sans Pro\", \"Helvetica Neue\", Arial, Helvetica, Geneva, sans-serif;\n",
      "font-size: 18pt;\n",
      "color: #A00000;\n",
      "}\n",
      "\n",
      "div.text_cell_render h2 {\n",
      "font-family: \"Source Sans Pro\", \"Helvetica Neue\", Arial, Helvetica, Geneva, sans-serif;\n",
      "font-size: 14pt;\n",
      "color: #A00000;\n",
      "}\n",
      "\n",
      "div.text_cell_render h3 {\n",
      "font-family: \"Source Sans Pro\", \"Helvetica Neue\", Arial, Helvetica, Geneva, sans-serif;\n",
      "font-size: 13pt;\n",
      "color: #A00000;\n",
      "}\n",
      "\n",
      "div.text_cell_render h4 {\n",
      "font-family: \"Source Sans Pro\", \"Helvetica Neue\", Arial, Helvetica, Geneva, sans-serif;\n",
      "font-size: 12pt;\n",
      "color: #A00000;\n",
      "}\n",
      "\n",
      "em {\n",
      " color: #00A000;\n",
      "}\n",
      "\n",
      "code {\n",
      " font-family: Consolas, monospace;\n",
      " color: #0000A0;\n",
      " font-size: 11pt;\n",
      "}\n",
      "\n",
      ".CodeMirror {\n",
      " font-family: \"Consolas, monospace;\n",
      " font-size: 11pt;\n",
      "}\n",
      "\n",
      ".rendered_html ol {list-style:decimal; margin: 1em 2em;}\n",
      "</style>\n",
      "\"\"\")\n"
     ],
     "language": "python",
     "metadata": {},
     "outputs": [
      {
       "html": [
        "\n",
        "<style type=\"text/css\">\n",
        "\n",
        "div.input {\n",
        "width: 150ex; /* about 80 chars + buffer */\n",
        "}\n",
        "\n",
        "div.text_cell {\n",
        "width: 150ex /* instead of 100%, */\n",
        "}\n",
        "\n",
        "div.text_cell_render {\n",
        "/*font-family: \"Source Sans Pro\", \"Helvetica Neue\", Arial, Helvetica, Geneva, sans-serif;*/\n",
        "font-family: \"Charis SIL\", \"Times New Roman\", serif; \n",
        "line-height: 145%; /* added for some line spacing of text. */\n",
        "width: 110ex; /* instead of 'inherit' for shorter lines */\n",
        "font-size: 12pt\n",
        "}\n",
        "\n",
        "/* Set the size of the headers */\n",
        "div.text_cell_render h1 {\n",
        "font-family: \"Source Sans Pro\", \"Helvetica Neue\", Arial, Helvetica, Geneva, sans-serif;\n",
        "font-size: 18pt;\n",
        "color: #A00000;\n",
        "}\n",
        "\n",
        "div.text_cell_render h2 {\n",
        "font-family: \"Source Sans Pro\", \"Helvetica Neue\", Arial, Helvetica, Geneva, sans-serif;\n",
        "font-size: 14pt;\n",
        "color: #A00000;\n",
        "}\n",
        "\n",
        "div.text_cell_render h3 {\n",
        "font-family: \"Source Sans Pro\", \"Helvetica Neue\", Arial, Helvetica, Geneva, sans-serif;\n",
        "font-size: 13pt;\n",
        "color: #A00000;\n",
        "}\n",
        "\n",
        "div.text_cell_render h4 {\n",
        "font-family: \"Source Sans Pro\", \"Helvetica Neue\", Arial, Helvetica, Geneva, sans-serif;\n",
        "font-size: 12pt;\n",
        "color: #A00000;\n",
        "}\n",
        "\n",
        "em {\n",
        " color: #00A000;\n",
        "}\n",
        "\n",
        "code {\n",
        " font-family: Consolas, monospace;\n",
        " color: #0000A0;\n",
        " font-size: 11pt;\n",
        "}\n",
        "\n",
        ".CodeMirror {\n",
        " font-family: \"Consolas, monospace;\n",
        " font-size: 11pt;\n",
        "}\n",
        "\n",
        ".rendered_html ol {list-style:decimal; margin: 1em 2em;}\n",
        "</style>\n"
       ],
       "output_type": "pyout",
       "prompt_number": 13,
       "text": [
        "<IPython.core.display.HTML at 0x10b4f05d0>"
       ]
      }
     ],
     "prompt_number": 13
    },
    {
     "cell_type": "code",
     "collapsed": false,
     "input": [],
     "language": "python",
     "metadata": {},
     "outputs": [],
     "prompt_number": 13
    },
    {
     "cell_type": "code",
     "collapsed": false,
     "input": [],
     "language": "python",
     "metadata": {},
     "outputs": [],
     "prompt_number": 13
    }
   ],
   "metadata": {}
  }
 ]
}