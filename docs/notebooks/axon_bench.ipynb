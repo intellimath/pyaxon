{
 "metadata": {
  "name": "axon_bench"
 },
 "nbformat": 3,
 "nbformat_minor": 0,
 "worksheets": [
  {
   "cells": [
    {
     "cell_type": "heading",
     "level": 2,
     "metadata": {},
     "source": [
      "AXON: Some benchmarks"
     ]
    },
    {
     "cell_type": "code",
     "collapsed": false,
     "input": [
      "from __future__ import print_function\n",
      "import json\n",
      "import axon\n",
      "import yaml\n",
      "import random\n",
      "import time\n",
      "import matplotlib.pyplot as plt\n",
      "import gc"
     ],
     "language": "python",
     "metadata": {},
     "outputs": [],
     "prompt_number": 1
    },
    {
     "cell_type": "code",
     "collapsed": false,
     "input": [
      "def random_string(n):\n",
      "    text = ''.join(chr(ord('a')+random.randint(1,20)) for i in range(20))\n",
      "    text = axon.as_unicode(text)\n",
      "    return text"
     ],
     "language": "python",
     "metadata": {},
     "outputs": [],
     "prompt_number": 2
    },
    {
     "cell_type": "code",
     "collapsed": false,
     "input": [
      "yaml_times = []\n",
      "json_times = []\n",
      "axon_times = []\n",
      "\n",
      "def make_test(data):\n",
      "    if type(data) == dict:\n",
      "        data = [data]\n",
      "    axon_text = axon.dumps(data)\n",
      "    gc.collect()\n",
      "    gc.disable()\n",
      "    t0 = time.time()\n",
      "    v = axon.loads(axon_text)\n",
      "    dt_axon = time.time() - t0\n",
      "    gc.enable()\n",
      "\n",
      "    json_text = json.dumps(data)\n",
      "    gc.collect()\n",
      "    gc.disable()\n",
      "    t0 = time.time()\n",
      "    v = json.loads(json_text)\n",
      "    dt_json = time.time() - t0\n",
      "    gc.enable()\n",
      "\n",
      "    yaml_text = yaml.dump(data, Dumper=yaml.CDumper)\n",
      "    gc.collect()\n",
      "    gc.disable()\n",
      "    t0 = time.time()\n",
      "    v = yaml.load(json_text, Loader=yaml.CLoader)\n",
      "    dt_yaml = time.time() - t0\n",
      "    gc.enable()\n",
      "    \n",
      "    print('axon:', dt_axon, 'json:', dt_json, 'yaml:', dt_yaml)\n",
      "    \n",
      "    yaml_times.append(dt_yaml)\n",
      "    json_times.append(dt_json)\n",
      "    axon_times.append(dt_axon)"
     ],
     "language": "python",
     "metadata": {},
     "outputs": [],
     "prompt_number": 3
    },
    {
     "cell_type": "code",
     "collapsed": false,
     "input": [
      "def test_1():\n",
      "    lst = []\n",
      "    for i in range(4000):\n",
      "        lst.append([\n",
      "            random_string(8), random.random(),\n",
      "            random_string(8), random.randint(1,99999),\n",
      "            random_string(8), random_string(32),\n",
      "            random_string(8), random.random(),\n",
      "            random_string(8), random.randint(1,99999),\n",
      "            random_string(8), random_string(32),\n",
      "            random_string(8), random.random(),\n",
      "            random_string(8), random.randint(1,99999),\n",
      "            random_string(8), random_string(32),\n",
      "            random_string(8), random.random(),\n",
      "            random_string(8), random.randint(1,99999),\n",
      "            random_string(8), random_string(32),\n",
      "        ])\n",
      "    return lst\n",
      "\n",
      "make_test(test_1())        "
     ],
     "language": "python",
     "metadata": {},
     "outputs": [
      {
       "output_type": "stream",
       "stream": "stdout",
       "text": [
        "axon: 0.0397808551788 json: 0.0740878582001 yaml: 2.44020104408\n"
       ]
      }
     ],
     "prompt_number": 4
    },
    {
     "cell_type": "code",
     "collapsed": false,
     "input": [
      "def test_2():\n",
      "    lst = []\n",
      "    for i in range(4000):\n",
      "        lst.append({\n",
      "            random_string(8): random.random(),\n",
      "            random_string(8): random.randint(1,99999),\n",
      "            random_string(8): random_string(32),\n",
      "            random_string(8): random.random(),\n",
      "            random_string(8): random.randint(1,99999),\n",
      "            random_string(8): random_string(32),\n",
      "            random_string(8): random.random(),\n",
      "            random_string(8): random.randint(1,99999),\n",
      "            random_string(8): random_string(32),\n",
      "            random_string(8): random.random(),\n",
      "            random_string(8): random.randint(1,99999),\n",
      "            random_string(8): random_string(32),\n",
      "        })\n",
      "    return lst\n",
      "\n",
      "make_test(test_2())    "
     ],
     "language": "python",
     "metadata": {},
     "outputs": [
      {
       "output_type": "stream",
       "stream": "stdout",
       "text": [
        "axon: 0.0472049713135 json: 0.0984580516815 yaml: 2.45826601982\n"
       ]
      }
     ],
     "prompt_number": 5
    },
    {
     "cell_type": "code",
     "collapsed": false,
     "input": [
      "def test_3():\n",
      "    d = {}\n",
      "    for j in range(100):\n",
      "        lst = []\n",
      "        for i in range(100):\n",
      "            lst.append({\n",
      "                random_string(8): random.random(),\n",
      "                random_string(8): random.randint(1,99999),\n",
      "                random_string(8): random_string(32),\n",
      "                random_string(8): random.random(),\n",
      "                random_string(8): random.randint(1,99999),\n",
      "                random_string(8): random_string(32),\n",
      "                random_string(8): random.random(),\n",
      "                random_string(8): random.randint(1,99999),\n",
      "                random_string(8): random_string(32),\n",
      "            })\n",
      "        d[random_string(8)] = lst\n",
      "    return d\n",
      "\n",
      "make_test(test_3()) "
     ],
     "language": "python",
     "metadata": {},
     "outputs": [
      {
       "output_type": "stream",
       "stream": "stdout",
       "text": [
        "axon: 0.100348949432 json: 0.218672990799 yaml: 4.8071501255\n"
       ]
      }
     ],
     "prompt_number": 6
    },
    {
     "cell_type": "code",
     "collapsed": false,
     "input": [
      "def test_4():\n",
      "    lst = []\n",
      "    for i in range(4000):\n",
      "        lst.append([\n",
      "            random_string(8), random_string(32),\n",
      "            random_string(32), random_string(8),\n",
      "            random_string(8), random_string(32),\n",
      "            random_string(32), random_string(32),\n",
      "            random_string(8), random_string(8),\n",
      "            random_string(32), random_string(32),\n",
      "            random_string(8), random_string(8),\n",
      "            random_string(32), random_string(8),\n",
      "            random_string(8), random_string(32),\n",
      "            random_string(32), random_string(8),\n",
      "            random_string(8), random_string(8),\n",
      "            random_string(32), random_string(32),\n",
      "            random_string(8), random_string(8),\n",
      "            random_string(32), random_string(8),\n",
      "            random_string(8), random_string(32),\n",
      "        ])\n",
      "    return lst\n",
      "\n",
      "make_test(test_4()) "
     ],
     "language": "python",
     "metadata": {},
     "outputs": [
      {
       "output_type": "stream",
       "stream": "stdout",
       "text": [
        "axon: 0.0398828983307 json: 0.0922269821167 yaml: 2.45434403419\n"
       ]
      }
     ],
     "prompt_number": 7
    },
    {
     "cell_type": "code",
     "collapsed": false,
     "input": [
      "def test_5():\n",
      "    lst = []\n",
      "    for i in range(5000):\n",
      "        lst.extend([\n",
      "            random_string(8), random_string(8),\n",
      "            random_string(32), random_string(8),\n",
      "            random_string(32), random_string(32),\n",
      "            random_string(8), random_string(8),\n",
      "            random_string(8), random_string(8),\n",
      "            random_string(32), random_string(8),\n",
      "            random_string(8), random_string(32),\n",
      "            random_string(32), random_string(8),\n",
      "            random_string(32), random_string(32),\n",
      "            random_string(8), random_string(8),\n",
      "            random_string(32), random_string(8),\n",
      "            random_string(32), random_string(32),\n",
      "        ])\n",
      "    return lst\n",
      "\n",
      "make_test(test_5()) "
     ],
     "language": "python",
     "metadata": {},
     "outputs": [
      {
       "output_type": "stream",
       "stream": "stdout",
       "text": [
        "axon: 0.0358788967133 json: 0.0847260951996 yaml: 2.38509106636\n"
       ]
      }
     ],
     "prompt_number": 8
    },
    {
     "cell_type": "code",
     "collapsed": false,
     "input": [
      "def test_6():\n",
      "    lst = []\n",
      "    for i in range(5000):\n",
      "        lst.extend([\n",
      "            random.randint(1,99999), random.randint(1,99999),\n",
      "            random.randint(1,99999), random.randint(1,99999),\n",
      "            random.randint(1,99999), random.randint(1,99999),\n",
      "            random.randint(1,99999), random.randint(1,99999),\n",
      "            random.randint(1,99999), random.randint(1,99999),\n",
      "            random.randint(1,99999), random.randint(1,99999),\n",
      "            random.randint(1,99999), random.randint(1,99999),\n",
      "            random.randint(1,99999), random.randint(1,99999),\n",
      "            random.randint(1,99999), random.randint(1,99999),\n",
      "            random.randint(1,99999), random.randint(1,99999),\n",
      "            random.randint(1,99999), random.randint(1,99999),\n",
      "            random.randint(1,99999), random.randint(1,99999),\n",
      "        ])\n",
      "    lst = [lst]\n",
      "    return lst\n",
      "\n",
      "make_test(test_6()) "
     ],
     "language": "python",
     "metadata": {},
     "outputs": [
      {
       "output_type": "stream",
       "stream": "stdout",
       "text": [
        "axon: 0.0393171310425 json: 0.0334069728851 yaml: 3.58502817154\n"
       ]
      }
     ],
     "prompt_number": 9
    },
    {
     "cell_type": "code",
     "collapsed": false,
     "input": [
      "def test_7():\n",
      "    lst = []\n",
      "    for i in range(5000):\n",
      "        lst.extend([\n",
      "            random.random(), random.random(),\n",
      "            random.random(), random.random(),\n",
      "            random.random(), random.random(),\n",
      "            random.random(), random.random(),\n",
      "            random.random(), random.random(),\n",
      "            random.random(), random.random(),\n",
      "            random.random(), random.random(),\n",
      "            random.random(), random.random(),\n",
      "            random.random(), random.random(),\n",
      "            random.random(), random.random(),\n",
      "            random.random(), random.random(),\n",
      "            random.random(), random.random(),\n",
      "            random.random(), random.random(),\n",
      "            random.random(), random.random(),\n",
      "        ])\n",
      "    lst = [lst]\n",
      "    return lst\n",
      "\n",
      "make_test(test_7())     "
     ],
     "language": "python",
     "metadata": {},
     "outputs": [
      {
       "output_type": "stream",
       "stream": "stdout",
       "text": [
        "axon: 0.0500149726868 json: 0.0783448219299 yaml: 4.05272507668\n"
       ]
      }
     ],
     "prompt_number": 10
    },
    {
     "cell_type": "code",
     "collapsed": false,
     "input": [
      "def make_plot():\n",
      "    tests = range(1,len(axon_times)+1)\n",
      "    plt.figure(figsize=(12.0, 6.0))\n",
      "    plt.plot(tests, axon_times, label='axon', marker='o')\n",
      "    plt.plot(tests, json_times, label='json', marker='o')\n",
      "    plt.plot(tests, yaml_times, label='yaml', marker='o')\n",
      "    plt.legend()\n",
      "    plt.grid()\n",
      "    plt.minorticks_on()\n",
      "\n",
      "print('axon:', *[('%.2f' % t) for t in axon_times])\n",
      "print('json:', *[('%.2f' % t) for t in json_times])\n",
      "print('yaml:', *[('%.2f' % t) for t in yaml_times])\n",
      "make_plot()"
     ],
     "language": "python",
     "metadata": {},
     "outputs": [
      {
       "output_type": "stream",
       "stream": "stdout",
       "text": [
        "axon: 0.04 0.05 0.10 0.04 0.04 0.04 0.05\n",
        "json: 0.07 0.10 0.22 0.09 0.08 0.03 0.08\n",
        "yaml: 2.44 2.46 4.81 2.45 2.39 3.59 4.05\n"
       ]
      },
      {
       "output_type": "display_data",
       "png": "[encoded data removed]"
      }
     ],
     "prompt_number": 11
    },
    {
     "cell_type": "code",
     "collapsed": false,
     "input": [],
     "language": "python",
     "metadata": {},
     "outputs": []
    },
    {
     "cell_type": "code",
     "collapsed": false,
     "input": [],
     "language": "python",
     "metadata": {},
     "outputs": []
    },
    {
     "cell_type": "code",
     "collapsed": false,
     "input": [],
     "language": "python",
     "metadata": {},
     "outputs": []
    },
    {
     "cell_type": "code",
     "collapsed": false,
     "input": [],
     "language": "python",
     "metadata": {},
     "outputs": []
    },
    {
     "cell_type": "code",
     "collapsed": false,
     "input": [],
     "language": "python",
     "metadata": {},
     "outputs": []
    },
    {
     "cell_type": "code",
     "collapsed": false,
     "input": [
      "import IPython.core.display\n",
      "IPython.core.display.HTML(\"\"\"\n",
      "<style type=\"text/css\">\n",
      "\n",
      "div.input {\n",
      "width: 150ex; /* about 80 chars + buffer */\n",
      "}\n",
      "\n",
      "div.text_cell {\n",
      "width: 150ex /* instead of 100%, */\n",
      "}\n",
      "\n",
      "div.text_cell_render {\n",
      "/*font-family: \"Source Sans Pro\", \"Helvetica Neue\", Arial, Helvetica, Geneva, sans-serif;*/\n",
      "font-family: \"Charis SIL\", \"Times New Roman\", serif; \n",
      "line-height: 145%; /* added for some line spacing of text. */\n",
      "width: 110ex; /* instead of 'inherit' for shorter lines */\n",
      "font-size: 12pt\n",
      "}\n",
      "\n",
      "/* Set the size of the headers */\n",
      "div.text_cell_render h1 {\n",
      "font-family: \"Source Sans Pro\", \"Helvetica Neue\", Arial, Helvetica, Geneva, sans-serif;\n",
      "font-size: 18pt;\n",
      "color: #A00000;\n",
      "}\n",
      "\n",
      "div.text_cell_render h2 {\n",
      "font-family: \"Source Sans Pro\", \"Helvetica Neue\", Arial, Helvetica, Geneva, sans-serif;\n",
      "font-size: 14pt;\n",
      "color: #A00000;\n",
      "}\n",
      "\n",
      "div.text_cell_render h3 {\n",
      "font-family: \"Source Sans Pro\", \"Helvetica Neue\", Arial, Helvetica, Geneva, sans-serif;\n",
      "font-size: 13pt;\n",
      "color: #A00000;\n",
      "}\n",
      "\n",
      "div.text_cell_render h4 {\n",
      "font-family: \"Source Sans Pro\", \"Helvetica Neue\", Arial, Helvetica, Geneva, sans-serif;\n",
      "font-size: 12pt;\n",
      "color: #A00000;\n",
      "}\n",
      "\n",
      "em {\n",
      " color: #00A000;\n",
      "}\n",
      "\n",
      "code {\n",
      " font-family: Consolas, monospace;\n",
      " color: #0000A0;\n",
      " font-size: 11pt;\n",
      "}\n",
      "\n",
      ".CodeMirror {\n",
      " font-family: \"Consolas, monospace;\n",
      " font-size: 11pt;\n",
      "}\n",
      "\n",
      ".rendered_html ol {list-style:decimal; margin: 1em 2em;}\n",
      "</style>\n",
      "\"\"\")\n"
     ],
     "language": "python",
     "metadata": {},
     "outputs": [
      {
       "html": [
        "\n",
        "<style type=\"text/css\">\n",
        "\n",
        "div.input {\n",
        "width: 150ex; /* about 80 chars + buffer */\n",
        "}\n",
        "\n",
        "div.text_cell {\n",
        "width: 150ex /* instead of 100%, */\n",
        "}\n",
        "\n",
        "div.text_cell_render {\n",
        "/*font-family: \"Source Sans Pro\", \"Helvetica Neue\", Arial, Helvetica, Geneva, sans-serif;*/\n",
        "font-family: \"Charis SIL\", \"Times New Roman\", serif; \n",
        "line-height: 145%; /* added for some line spacing of text. */\n",
        "width: 110ex; /* instead of 'inherit' for shorter lines */\n",
        "font-size: 12pt\n",
        "}\n",
        "\n",
        "/* Set the size of the headers */\n",
        "div.text_cell_render h1 {\n",
        "font-family: \"Source Sans Pro\", \"Helvetica Neue\", Arial, Helvetica, Geneva, sans-serif;\n",
        "font-size: 18pt;\n",
        "color: #A00000;\n",
        "}\n",
        "\n",
        "div.text_cell_render h2 {\n",
        "font-family: \"Source Sans Pro\", \"Helvetica Neue\", Arial, Helvetica, Geneva, sans-serif;\n",
        "font-size: 14pt;\n",
        "color: #A00000;\n",
        "}\n",
        "\n",
        "div.text_cell_render h3 {\n",
        "font-family: \"Source Sans Pro\", \"Helvetica Neue\", Arial, Helvetica, Geneva, sans-serif;\n",
        "font-size: 13pt;\n",
        "color: #A00000;\n",
        "}\n",
        "\n",
        "div.text_cell_render h4 {\n",
        "font-family: \"Source Sans Pro\", \"Helvetica Neue\", Arial, Helvetica, Geneva, sans-serif;\n",
        "font-size: 12pt;\n",
        "color: #A00000;\n",
        "}\n",
        "\n",
        "em {\n",
        " color: #00A000;\n",
        "}\n",
        "\n",
        "code {\n",
        " font-family: Consolas, monospace;\n",
        " color: #0000A0;\n",
        " font-size: 11pt;\n",
        "}\n",
        "\n",
        ".CodeMirror {\n",
        " font-family: \"Consolas, monospace;\n",
        " font-size: 11pt;\n",
        "}\n",
        "\n",
        ".rendered_html ol {list-style:decimal; margin: 1em 2em;}\n",
        "</style>\n"
       ],
       "output_type": "pyout",
       "prompt_number": 12,
       "text": [
        "<IPython.core.display.HTML at 0x104ec5090>"
       ]
      }
     ],
     "prompt_number": 12
    },
    {
     "cell_type": "code",
     "collapsed": false,
     "input": [],
     "language": "python",
     "metadata": {},
     "outputs": [],
     "prompt_number": 12
    },
    {
     "cell_type": "code",
     "collapsed": false,
     "input": [],
     "language": "python",
     "metadata": {},
     "outputs": [],
     "prompt_number": 12
    }
   ],
   "metadata": {}
  }
 ]
}