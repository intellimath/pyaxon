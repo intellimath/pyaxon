{
 "metadata": {
  "name": "axon_bench"
 },
 "nbformat": 3,
 "nbformat_minor": 0,
 "worksheets": [
  {
   "cells": [
    {
     "cell_type": "heading",
     "level": 2,
     "metadata": {},
     "source": [
      "AXON: Some benchmarks"
     ]
    },
    {
     "cell_type": "code",
     "collapsed": false,
     "input": [
      "from __future__ import print_function\n",
      "import json\n",
      "import axon\n",
      "import yaml\n",
      "import random\n",
      "import time\n",
      "import matplotlib.pyplot as plt\n",
      "import gc"
     ],
     "language": "python",
     "metadata": {},
     "outputs": [],
     "prompt_number": 1
    },
    {
     "cell_type": "code",
     "collapsed": false,
     "input": [
      "def random_string(n):\n",
      "    text = ''.join(chr(ord('a')+random.randint(1,20)) for i in range(20))\n",
      "    text = axon.as_unicode(text)\n",
      "    return text"
     ],
     "language": "python",
     "metadata": {},
     "outputs": [],
     "prompt_number": 2
    },
    {
     "cell_type": "code",
     "collapsed": false,
     "input": [
      "yaml_times_dump = []\n",
      "json_times_dump = []\n",
      "axon_times_dump = []\n",
      "yaml_times_load = []\n",
      "json_times_load = []\n",
      "axon_times_load = []\n",
      "\n",
      "def make_test(data):\n",
      "    if type(data) == dict:\n",
      "        data = [data]\n",
      "\n",
      "    t0 = time.time()\n",
      "    axon_text = axon.dumps(data, sorted=0)\n",
      "    dt_axon_dump = time.time() - t0\n",
      "    axon_times_dump.append(dt_axon_dump)\n",
      "    \n",
      "    t0 = time.time()\n",
      "    v = axon.loads(axon_text)\n",
      "    dt_axon_load = time.time() - t0\n",
      "    axon_times_load.append(dt_axon_load)\n",
      "    \n",
      "    t0 = time.time()\n",
      "    json_text = json.dumps(data)\n",
      "    dt_json_dump = time.time() - t0\n",
      "    json_times_dump.append(dt_json_dump)\n",
      "\n",
      "    t0 = time.time()\n",
      "    v = json.loads(json_text)\n",
      "    dt_json_load = time.time() - t0\n",
      "    json_times_load.append(dt_json_load)\n",
      "\n",
      "    t0 = time.time()\n",
      "    yaml_text = yaml.dump(data, Dumper=yaml.CDumper)\n",
      "    dt_yaml_dump = time.time() - t0\n",
      "    yaml_times_dump.append(dt_yaml_dump)\n",
      "\n",
      "    t0 = time.time()\n",
      "    v = yaml.load(json_text, Loader=yaml.CLoader)\n",
      "    dt_yaml_load = time.time() - t0\n",
      "    yaml_times_load.append(dt_yaml_load)\n",
      "    \n",
      "    print('Dump:: axon: %.3f json: %.3f yaml: %.3f' % (dt_axon_dump, dt_json_dump, dt_yaml_dump))\n",
      "    print('Load:: axon: %.3f json: %.3f yaml: %.3f' % (dt_axon_load, dt_json_load, dt_yaml_load))"
     ],
     "language": "python",
     "metadata": {},
     "outputs": [],
     "prompt_number": 3
    },
    {
     "cell_type": "code",
     "collapsed": false,
     "input": [
      "def test_1():\n",
      "    lst = []\n",
      "    for i in range(4000):\n",
      "        lst.append([\n",
      "            random_string(8), random.random(),\n",
      "            random_string(8), random.randint(1,99999),\n",
      "            random_string(8), random_string(32),\n",
      "            random_string(8), random.random(),\n",
      "            random_string(8), random.randint(1,99999),\n",
      "            random_string(8), random_string(32),\n",
      "            random_string(8), random.random(),\n",
      "            random_string(8), random.randint(1,99999),\n",
      "            random_string(8), random_string(32),\n",
      "            random_string(8), random.random(),\n",
      "            random_string(8), random.randint(1,99999),\n",
      "            random_string(8), random_string(32),\n",
      "        ])\n",
      "    return lst\n",
      "\n",
      "make_test(test_1())        "
     ],
     "language": "python",
     "metadata": {},
     "outputs": [
      {
       "output_type": "stream",
       "stream": "stdout",
       "text": [
        "Dump:: axon: 0.252 json: 0.065 yaml: 3.322\n",
        "Load:: axon: 0.044 json: 0.085 yaml: 2.908\n"
       ]
      }
     ],
     "prompt_number": 4
    },
    {
     "cell_type": "code",
     "collapsed": false,
     "input": [
      "def test_2():\n",
      "    lst = []\n",
      "    for i in range(4000):\n",
      "        lst.append({\n",
      "            random_string(8): random.random(),\n",
      "            random_string(8): random.randint(1,99999),\n",
      "            random_string(8): random_string(32),\n",
      "            random_string(8): random.random(),\n",
      "            random_string(8): random.randint(1,99999),\n",
      "            random_string(8): random_string(32),\n",
      "            random_string(8): random.random(),\n",
      "            random_string(8): random.randint(1,99999),\n",
      "            random_string(8): random_string(32),\n",
      "            random_string(8): random.random(),\n",
      "            random_string(8): random.randint(1,99999),\n",
      "            random_string(8): random_string(32),\n",
      "        })\n",
      "    return lst\n",
      "\n",
      "make_test(test_2())    "
     ],
     "language": "python",
     "metadata": {},
     "outputs": [
      {
       "output_type": "stream",
       "stream": "stdout",
       "text": [
        "Dump:: axon: 0.190 json: 0.075 yaml: 3.390\n",
        "Load:: axon: 0.048 json: 0.095 yaml: 2.987\n"
       ]
      }
     ],
     "prompt_number": 5
    },
    {
     "cell_type": "code",
     "collapsed": false,
     "input": [
      "def test_3():\n",
      "    d = {}\n",
      "    for j in range(100):\n",
      "        lst = []\n",
      "        for i in range(100):\n",
      "            lst.append({\n",
      "                random_string(8): random.random(),\n",
      "                random_string(8): random.randint(1,99999),\n",
      "                random_string(8): random_string(32),\n",
      "                random_string(8): random.random(),\n",
      "                random_string(8): random.randint(1,99999),\n",
      "                random_string(8): random_string(32),\n",
      "                random_string(8): random.random(),\n",
      "                random_string(8): random.randint(1,99999),\n",
      "                random_string(8): random_string(32),\n",
      "            })\n",
      "        d[random_string(8)] = lst\n",
      "    return d\n",
      "\n",
      "make_test(test_3()) "
     ],
     "language": "python",
     "metadata": {},
     "outputs": [
      {
       "output_type": "stream",
       "stream": "stdout",
       "text": [
        "Dump:: axon: 0.357 json: 0.145 yaml: 6.577\n",
        "Load:: axon: 0.093 json: 0.220 yaml: 6.624\n"
       ]
      }
     ],
     "prompt_number": 6
    },
    {
     "cell_type": "code",
     "collapsed": false,
     "input": [
      "def test_4():\n",
      "    lst = []\n",
      "    for i in range(4000):\n",
      "        lst.append([\n",
      "            random_string(8), random_string(32),\n",
      "            random_string(32), random_string(8),\n",
      "            random_string(8), random_string(32),\n",
      "            random_string(32), random_string(32),\n",
      "            random_string(8), random_string(8),\n",
      "            random_string(32), random_string(32),\n",
      "            random_string(8), random_string(8),\n",
      "            random_string(32), random_string(8),\n",
      "            random_string(8), random_string(32),\n",
      "            random_string(32), random_string(8),\n",
      "            random_string(8), random_string(8),\n",
      "            random_string(32), random_string(32),\n",
      "            random_string(8), random_string(8),\n",
      "            random_string(32), random_string(8),\n",
      "            random_string(8), random_string(32),\n",
      "        ])\n",
      "    return lst\n",
      "\n",
      "make_test(test_4()) "
     ],
     "language": "python",
     "metadata": {},
     "outputs": [
      {
       "output_type": "stream",
       "stream": "stdout",
       "text": [
        "Dump:: axon: 0.384 json: 0.054 yaml: 3.841\n",
        "Load:: axon: 0.045 json: 0.110 yaml: 3.277\n"
       ]
      }
     ],
     "prompt_number": 7
    },
    {
     "cell_type": "code",
     "collapsed": false,
     "input": [
      "def test_5():\n",
      "    lst = []\n",
      "    for i in range(5000):\n",
      "        lst.extend([\n",
      "            random_string(8), random_string(8),\n",
      "            random_string(32), random_string(8),\n",
      "            random_string(32), random_string(32),\n",
      "            random_string(8), random_string(8),\n",
      "            random_string(8), random_string(8),\n",
      "            random_string(32), random_string(8),\n",
      "            random_string(8), random_string(32),\n",
      "            random_string(32), random_string(8),\n",
      "            random_string(32), random_string(32),\n",
      "            random_string(8), random_string(8),\n",
      "            random_string(32), random_string(8),\n",
      "            random_string(32), random_string(32),\n",
      "        ])\n",
      "    return lst\n",
      "\n",
      "make_test(test_5()) "
     ],
     "language": "python",
     "metadata": {},
     "outputs": [
      {
       "output_type": "stream",
       "stream": "stdout",
       "text": [
        "Dump:: axon: 0.374 json: 0.052 yaml: 3.839\n",
        "Load:: axon: 0.035 json: 0.088 yaml: 2.993\n"
       ]
      }
     ],
     "prompt_number": 8
    },
    {
     "cell_type": "code",
     "collapsed": false,
     "input": [
      "def test_6():\n",
      "    lst = []\n",
      "    for i in range(5000):\n",
      "        lst.extend([\n",
      "            random.randint(1,99999), random.randint(1,99999),\n",
      "            random.randint(1,99999), random.randint(1,99999),\n",
      "            random.randint(1,99999), random.randint(1,99999),\n",
      "            random.randint(1,99999), random.randint(1,99999),\n",
      "            random.randint(1,99999), random.randint(1,99999),\n",
      "            random.randint(1,99999), random.randint(1,99999),\n",
      "            random.randint(1,99999), random.randint(1,99999),\n",
      "            random.randint(1,99999), random.randint(1,99999),\n",
      "            random.randint(1,99999), random.randint(1,99999),\n",
      "            random.randint(1,99999), random.randint(1,99999),\n",
      "            random.randint(1,99999), random.randint(1,99999),\n",
      "            random.randint(1,99999), random.randint(1,99999),\n",
      "        ])\n",
      "    lst = [lst]\n",
      "    return lst\n",
      "\n",
      "make_test(test_6()) "
     ],
     "language": "python",
     "metadata": {},
     "outputs": [
      {
       "output_type": "stream",
       "stream": "stdout",
       "text": [
        "Dump:: axon: 0.094 json: 0.027 yaml: 3.658\n",
        "Load:: axon: 0.039 json: 0.034 yaml: 4.259\n"
       ]
      }
     ],
     "prompt_number": 9
    },
    {
     "cell_type": "code",
     "collapsed": false,
     "input": [
      "def test_7():\n",
      "    lst = []\n",
      "    for i in range(5000):\n",
      "        lst.extend([\n",
      "            random.random(), random.random(),\n",
      "            random.random(), random.random(),\n",
      "            random.random(), random.random(),\n",
      "            random.random(), random.random(),\n",
      "            random.random(), random.random(),\n",
      "            random.random(), random.random(),\n",
      "            random.random(), random.random(),\n",
      "            random.random(), random.random(),\n",
      "            random.random(), random.random(),\n",
      "            random.random(), random.random(),\n",
      "            random.random(), random.random(),\n",
      "            random.random(), random.random(),\n",
      "            random.random(), random.random(),\n",
      "            random.random(), random.random(),\n",
      "        ])\n",
      "    lst = [lst]\n",
      "    return lst\n",
      "\n",
      "make_test(test_7())     "
     ],
     "language": "python",
     "metadata": {},
     "outputs": [
      {
       "output_type": "stream",
       "stream": "stdout",
       "text": [
        "Dump:: axon: 0.207 json: 0.255 yaml: 4.992\n",
        "Load:: axon: 0.049 json: 0.080 yaml: 4.725\n"
       ]
      }
     ],
     "prompt_number": 10
    },
    {
     "cell_type": "code",
     "collapsed": false,
     "input": [
      "#import urllib\n",
      "\n",
      "#text = urllib.urlopen(r'https://raw.github.com/zeMirco/sf-city-lots-json/master/citylots.json').read()\n",
      "#print(text[:100])\n",
      "#data = json.loads(text)\n",
      "#del text\n",
      "\n",
      "#make_test(data)"
     ],
     "language": "python",
     "metadata": {},
     "outputs": [],
     "prompt_number": 11
    },
    {
     "cell_type": "code",
     "collapsed": false,
     "input": [
      "def make_plot():\n",
      "    tests = range(1,len(axon_times_dump)+1)\n",
      "    plt.figure(figsize=(12.0, 12.0))\n",
      "    \n",
      "    plt.subplot(2,1,1)\n",
      "    plt.title('Dumping')\n",
      "    plt.plot(tests, axon_times_dump, label='axon', marker='o')\n",
      "    plt.plot(tests, json_times_dump, label='json', marker='o')\n",
      "    plt.plot(tests, yaml_times_dump, label='yaml', marker='o')\n",
      "    plt.legend()\n",
      "    plt.grid()\n",
      "    plt.minorticks_on()\n",
      "    \n",
      "    plt.subplot(2,1,2)\n",
      "    plt.title('Loading')\n",
      "    plt.plot(tests, axon_times_load, label='axon', marker='o')\n",
      "    plt.plot(tests, json_times_load, label='json', marker='o')\n",
      "    plt.plot(tests, yaml_times_load, label='yaml', marker='o')\n",
      "    plt.legend()\n",
      "    plt.grid()\n",
      "    plt.minorticks_on()\n",
      "\n",
      "print('Dumping:')\n",
      "print('axon:', *[('%.3f' % t) for t in axon_times_dump])\n",
      "print('json:', *[('%.3f' % t) for t in json_times_dump])\n",
      "print('yaml:', *[('%.3f' % t) for t in yaml_times_dump])\n",
      "print('Loading:')\n",
      "print('axon:', *[('%.3f' % t) for t in axon_times_load])\n",
      "print('json:', *[('%.3f' % t) for t in json_times_load])\n",
      "print('yaml:', *[('%.3f' % t) for t in yaml_times_load])\n",
      "make_plot()"
     ],
     "language": "python",
     "metadata": {},
     "outputs": [
      {
       "output_type": "stream",
       "stream": "stdout",
       "text": [
        "Dumping:\n",
        "axon: 0.252 0.190 0.357 0.384 0.374 0.094 0.207\n",
        "json: 0.065 0.075 0.145 0.054 0.052 0.027 0.255\n",
        "yaml: 3.322 3.390 6.577 3.841 3.839 3.658 4.992\n",
        "Loading:\n",
        "axon: 0.044 0.048 0.093 0.045 0.035 0.039 0.049\n",
        "json: 0.085 0.095 0.220 0.110 0.088 0.034 0.080\n",
        "yaml: 2.908 2.987 6.624 3.277 2.993 4.259 4.725\n"
       ]
      },
      {
       "output_type": "display_data",
       "png": "[encoded data removed]"
      }
     ],
     "prompt_number": 15
    },
    {
     "cell_type": "code",
     "collapsed": false,
     "input": [],
     "language": "python",
     "metadata": {},
     "outputs": []
    },
    {
     "cell_type": "code",
     "collapsed": false,
     "input": [],
     "language": "python",
     "metadata": {},
     "outputs": []
    },
    {
     "cell_type": "code",
     "collapsed": false,
     "input": [],
     "language": "python",
     "metadata": {},
     "outputs": []
    },
    {
     "cell_type": "code",
     "collapsed": false,
     "input": [],
     "language": "python",
     "metadata": {},
     "outputs": []
    },
    {
     "cell_type": "code",
     "collapsed": false,
     "input": [],
     "language": "python",
     "metadata": {},
     "outputs": []
    },
    {
     "cell_type": "code",
     "collapsed": false,
     "input": [
      "import IPython.core.display\n",
      "IPython.core.display.HTML(\"\"\"\n",
      "<style type=\"text/css\">\n",
      "\n",
      "div.input {\n",
      "width: 150ex; /* about 80 chars + buffer */\n",
      "}\n",
      "\n",
      "div.text_cell {\n",
      "width: 150ex /* instead of 100%, */\n",
      "}\n",
      "\n",
      "div.text_cell_render {\n",
      "/*font-family: \"Source Sans Pro\", \"Helvetica Neue\", Arial, Helvetica, Geneva, sans-serif;*/\n",
      "font-family: \"Charis SIL\", \"Times New Roman\", serif; \n",
      "line-height: 145%; /* added for some line spacing of text. */\n",
      "width: 110ex; /* instead of 'inherit' for shorter lines */\n",
      "font-size: 12pt\n",
      "}\n",
      "\n",
      "/* Set the size of the headers */\n",
      "div.text_cell_render h1 {\n",
      "font-family: \"Source Sans Pro\", \"Helvetica Neue\", Arial, Helvetica, Geneva, sans-serif;\n",
      "font-size: 18pt;\n",
      "color: #A00000;\n",
      "}\n",
      "\n",
      "div.text_cell_render h2 {\n",
      "font-family: \"Source Sans Pro\", \"Helvetica Neue\", Arial, Helvetica, Geneva, sans-serif;\n",
      "font-size: 14pt;\n",
      "color: #A00000;\n",
      "}\n",
      "\n",
      "div.text_cell_render h3 {\n",
      "font-family: \"Source Sans Pro\", \"Helvetica Neue\", Arial, Helvetica, Geneva, sans-serif;\n",
      "font-size: 13pt;\n",
      "color: #A00000;\n",
      "}\n",
      "\n",
      "div.text_cell_render h4 {\n",
      "font-family: \"Source Sans Pro\", \"Helvetica Neue\", Arial, Helvetica, Geneva, sans-serif;\n",
      "font-size: 12pt;\n",
      "color: #A00000;\n",
      "}\n",
      "\n",
      "em {\n",
      " color: #00A000;\n",
      "}\n",
      "\n",
      "code {\n",
      " font-family: Consolas, monospace;\n",
      " color: #0000A0;\n",
      " font-size: 11pt;\n",
      "}\n",
      "\n",
      ".CodeMirror {\n",
      " font-family: \"Consolas, monospace;\n",
      " font-size: 11pt;\n",
      "}\n",
      "\n",
      ".rendered_html ol {list-style:decimal; margin: 1em 2em;}\n",
      "</style>\n",
      "\"\"\")\n"
     ],
     "language": "python",
     "metadata": {},
     "outputs": []
    },
    {
     "cell_type": "code",
     "collapsed": false,
     "input": [],
     "language": "python",
     "metadata": {},
     "outputs": []
    },
    {
     "cell_type": "code",
     "collapsed": false,
     "input": [],
     "language": "python",
     "metadata": {},
     "outputs": []
    }
   ],
   "metadata": {}
  }
 ]
}