{
 "metadata": {
  "name": ""
 },
 "nbformat": 3,
 "nbformat_minor": 0,
 "worksheets": [
  {
   "cells": [
    {
     "cell_type": "heading",
     "level": 2,
     "metadata": {},
     "source": [
      "AXON: Some benchmarks"
     ]
    },
    {
     "cell_type": "code",
     "collapsed": false,
     "input": [
      "from __future__ import print_function\n",
      "import json\n",
      "import axon\n",
      "\n",
      "try:\n",
      "    import yaml\n",
      "    use_yaml = 1\n",
      "except:\n",
      "    use_yaml = 0\n",
      "    \n",
      "#use_yaml = 0    \n",
      "    \n",
      "import random\n",
      "import time\n",
      "import matplotlib.pyplot as plt\n",
      "import gc"
     ],
     "language": "python",
     "metadata": {},
     "outputs": [],
     "prompt_number": 1
    },
    {
     "cell_type": "code",
     "collapsed": false,
     "input": [
      "def random_string(n):\n",
      "    text = ''.join(chr(ord('a')+random.randint(1,20)) for i in range(20))\n",
      "    text = axon.as_unicode(text)\n",
      "    return text"
     ],
     "language": "python",
     "metadata": {},
     "outputs": [],
     "prompt_number": 2
    },
    {
     "cell_type": "code",
     "collapsed": false,
     "input": [
      "yaml_times_dump = []\n",
      "json_times_dump = []\n",
      "axon_times_dump = []\n",
      "yaml_times_load = []\n",
      "json_times_load = []\n",
      "axon_times_load = []\n",
      "\n",
      "def make_test(data):\n",
      "    if type(data) == dict:\n",
      "        data = [data]\n",
      "\n",
      "    t0 = time.time()\n",
      "    axon_text = axon.dumps(data, sorted=0)\n",
      "    dt_axon_dump = time.time() - t0\n",
      "    axon_times_dump.append(dt_axon_dump)\n",
      "    \n",
      "    t0 = time.time()\n",
      "    v = axon.loads(axon_text)\n",
      "    dt_axon_load = time.time() - t0\n",
      "    axon_times_load.append(dt_axon_load)\n",
      "    \n",
      "    t0 = time.time()\n",
      "    json_text = json.dumps(data)\n",
      "    dt_json_dump = time.time() - t0\n",
      "    json_times_dump.append(dt_json_dump)\n",
      "\n",
      "    t0 = time.time()\n",
      "    v = json.loads(json_text)\n",
      "    dt_json_load = time.time() - t0\n",
      "    json_times_load.append(dt_json_load)\n",
      "\n",
      "    if use_yaml:\n",
      "        t0 = time.time()\n",
      "        yaml_text = yaml.dump(data, Dumper=yaml.CDumper)\n",
      "        dt_yaml_dump = time.time() - t0\n",
      "        yaml_times_dump.append(dt_yaml_dump)\n",
      "    \n",
      "        t0 = time.time()\n",
      "        v = yaml.load(json_text, Loader=yaml.CLoader)\n",
      "        dt_yaml_load = time.time() - t0\n",
      "        yaml_times_load.append(dt_yaml_load)\n",
      "    else:\n",
      "        dt_yaml_dump, dt_yaml_load = float('nan'), float('nan')\n",
      "    \n",
      "    print('Dump:: axon: %.3f json: %.3f yaml: %.3f' % (dt_axon_dump, dt_json_dump, dt_yaml_dump))\n",
      "    print('Load:: axon: %.3f json: %.3f yaml: %.3f' % (dt_axon_load, dt_json_load, dt_yaml_load))"
     ],
     "language": "python",
     "metadata": {},
     "outputs": [],
     "prompt_number": 3
    },
    {
     "cell_type": "code",
     "collapsed": false,
     "input": [
      "def test_1():\n",
      "    lst = []\n",
      "    for i in range(4000):\n",
      "        lst.append([\n",
      "            random_string(8), random.random(),\n",
      "            random_string(8), random.randint(1,99999),\n",
      "            random_string(8), random_string(32),\n",
      "            random_string(8), random.random(),\n",
      "            random_string(8), random.randint(1,99999),\n",
      "            random_string(8), random_string(32),\n",
      "            random_string(8), random.random(),\n",
      "            random_string(8), random.randint(1,99999),\n",
      "            random_string(8), random_string(32),\n",
      "            random_string(8), random.random(),\n",
      "            random_string(8), random.randint(1,99999),\n",
      "            random_string(8), random_string(32),\n",
      "        ])\n",
      "    return lst\n",
      "\n",
      "make_test(test_1())        "
     ],
     "language": "python",
     "metadata": {},
     "outputs": [
      {
       "output_type": "stream",
       "stream": "stdout",
       "text": [
        "Dump:: axon: 0.068 json: 0.068 yaml: 3.376\n",
        "Load:: axon: 0.045 json: 0.085 yaml: 3.275\n"
       ]
      }
     ],
     "prompt_number": 4
    },
    {
     "cell_type": "code",
     "collapsed": false,
     "input": [
      "def test_2():\n",
      "    lst = []\n",
      "    for i in range(4000):\n",
      "        lst.append({\n",
      "            random_string(8): random.random(),\n",
      "            random_string(8): random.randint(1,99999),\n",
      "            random_string(8): random_string(32),\n",
      "            random_string(8): random.random(),\n",
      "            random_string(8): random.randint(1,99999),\n",
      "            random_string(8): random_string(32),\n",
      "            random_string(8): random.random(),\n",
      "            random_string(8): random.randint(1,99999),\n",
      "            random_string(8): random_string(32),\n",
      "            random_string(8): random.random(),\n",
      "            random_string(8): random.randint(1,99999),\n",
      "            random_string(8): random_string(32),\n",
      "        })\n",
      "    return lst\n",
      "\n",
      "make_test(test_2())    "
     ],
     "language": "python",
     "metadata": {},
     "outputs": [
      {
       "output_type": "stream",
       "stream": "stdout",
       "text": [
        "Dump:: axon: 0.099 json: 0.073 yaml: 3.380\n",
        "Load:: axon: 0.047 json: 0.093 yaml: 3.062\n"
       ]
      }
     ],
     "prompt_number": 5
    },
    {
     "cell_type": "code",
     "collapsed": false,
     "input": [
      "def test_3():\n",
      "    d = {}\n",
      "    for j in range(100):\n",
      "        lst = []\n",
      "        for i in range(100):\n",
      "            lst.append({\n",
      "                random_string(8): random.random(),\n",
      "                random_string(8): random.randint(1,99999),\n",
      "                random_string(8): random_string(32),\n",
      "                random_string(8): random.random(),\n",
      "                random_string(8): random.randint(1,99999),\n",
      "                random_string(8): random_string(32),\n",
      "                random_string(8): random.random(),\n",
      "                random_string(8): random.randint(1,99999),\n",
      "                random_string(8): random_string(32),\n",
      "            })\n",
      "        d[random_string(8)] = lst\n",
      "    return d\n",
      "\n",
      "make_test(test_3()) "
     ],
     "language": "python",
     "metadata": {},
     "outputs": [
      {
       "output_type": "stream",
       "stream": "stdout",
       "text": [
        "Dump:: axon: 0.199 json: 0.140 yaml: 7.070\n",
        "Load:: axon: 0.094 json: 0.216 yaml: 7.587\n"
       ]
      }
     ],
     "prompt_number": 6
    },
    {
     "cell_type": "code",
     "collapsed": false,
     "input": [
      "def test_4():\n",
      "    lst = []\n",
      "    for i in range(4000):\n",
      "        lst.append([\n",
      "            random_string(8), random_string(32),\n",
      "            random_string(32), random_string(8),\n",
      "            random_string(8), random_string(32),\n",
      "            random_string(32), random_string(32),\n",
      "            random_string(8), random_string(8),\n",
      "            random_string(32), random_string(32),\n",
      "            random_string(8), random_string(8),\n",
      "            random_string(32), random_string(8),\n",
      "            random_string(8), random_string(32),\n",
      "            random_string(32), random_string(8),\n",
      "            random_string(8), random_string(8),\n",
      "            random_string(32), random_string(32),\n",
      "            random_string(8), random_string(8),\n",
      "            random_string(32), random_string(8),\n",
      "            random_string(8), random_string(32),\n",
      "        ])\n",
      "    return lst\n",
      "\n",
      "make_test(test_4()) "
     ],
     "language": "python",
     "metadata": {},
     "outputs": [
      {
       "output_type": "stream",
       "stream": "stdout",
       "text": [
        "Dump:: axon: 0.065 json: 0.051 yaml: 3.793\n",
        "Load:: axon: 0.045 json: 0.110 yaml: 3.158\n"
       ]
      }
     ],
     "prompt_number": 7
    },
    {
     "cell_type": "code",
     "collapsed": false,
     "input": [
      "def test_5():\n",
      "    lst = []\n",
      "    for i in range(5000):\n",
      "        lst.extend([\n",
      "            random_string(8), random_string(8),\n",
      "            random_string(32), random_string(8),\n",
      "            random_string(32), random_string(32),\n",
      "            random_string(8), random_string(8),\n",
      "            random_string(8), random_string(8),\n",
      "            random_string(32), random_string(8),\n",
      "            random_string(8), random_string(32),\n",
      "            random_string(32), random_string(8),\n",
      "            random_string(32), random_string(32),\n",
      "            random_string(8), random_string(8),\n",
      "            random_string(32), random_string(8),\n",
      "            random_string(32), random_string(32),\n",
      "        ])\n",
      "    return lst\n",
      "\n",
      "make_test(test_5()) "
     ],
     "language": "python",
     "metadata": {},
     "outputs": [
      {
       "output_type": "stream",
       "stream": "stdout",
       "text": [
        "Dump:: axon: 0.084 json: 0.050 yaml: 3.853\n",
        "Load:: axon: 0.041 json: 0.087 yaml: 3.086\n"
       ]
      }
     ],
     "prompt_number": 8
    },
    {
     "cell_type": "code",
     "collapsed": false,
     "input": [
      "def test_6():\n",
      "    lst = []\n",
      "    for i in range(5000):\n",
      "        lst.extend([\n",
      "            random.randint(1,99999), random.randint(1,99999),\n",
      "            random.randint(1,99999), random.randint(1,99999),\n",
      "            random.randint(1,99999), random.randint(1,99999),\n",
      "            random.randint(1,99999), random.randint(1,99999),\n",
      "            random.randint(1,99999), random.randint(1,99999),\n",
      "            random.randint(1,99999), random.randint(1,99999),\n",
      "            random.randint(1,99999), random.randint(1,99999),\n",
      "            random.randint(1,99999), random.randint(1,99999),\n",
      "            random.randint(1,99999), random.randint(1,99999),\n",
      "            random.randint(1,99999), random.randint(1,99999),\n",
      "            random.randint(1,99999), random.randint(1,99999),\n",
      "            random.randint(1,99999), random.randint(1,99999),\n",
      "        ])\n",
      "    lst = [lst]\n",
      "    return lst\n",
      "\n",
      "make_test(test_6()) "
     ],
     "language": "python",
     "metadata": {},
     "outputs": [
      {
       "output_type": "stream",
       "stream": "stdout",
       "text": [
        "Dump:: axon: 0.047 json: 0.027 yaml: 3.643\n",
        "Load:: axon: 0.039 json: 0.033 yaml: 4.142\n"
       ]
      }
     ],
     "prompt_number": 9
    },
    {
     "cell_type": "code",
     "collapsed": false,
     "input": [
      "def test_7():\n",
      "    lst = []\n",
      "    for i in range(5000):\n",
      "        lst.extend([\n",
      "            random.random(), random.random(),\n",
      "            random.random(), random.random(),\n",
      "            random.random(), random.random(),\n",
      "            random.random(), random.random(),\n",
      "            random.random(), random.random(),\n",
      "            random.random(), random.random(),\n",
      "            random.random(), random.random(),\n",
      "            random.random(), random.random(),\n",
      "            random.random(), random.random(),\n",
      "            random.random(), random.random(),\n",
      "            random.random(), random.random(),\n",
      "            random.random(), random.random(),\n",
      "            random.random(), random.random(),\n",
      "            random.random(), random.random(),\n",
      "        ])\n",
      "    lst = [lst]\n",
      "    return lst\n",
      "\n",
      "make_test(test_7())     "
     ],
     "language": "python",
     "metadata": {},
     "outputs": [
      {
       "output_type": "stream",
       "stream": "stdout",
       "text": [
        "Dump:: axon: 0.131 json: 0.258 yaml: 4.937\n",
        "Load:: axon: 0.052 json: 0.083 yaml: 4.711\n"
       ]
      }
     ],
     "prompt_number": 10
    },
    {
     "cell_type": "code",
     "collapsed": false,
     "input": [
      "def make_plot():\n",
      "    tests = range(1,len(axon_times_dump)+1)\n",
      "    plt.figure(figsize=(8.0, 10.0))\n",
      "    \n",
      "    plt.subplot(2,1,1)\n",
      "    plt.title('Dumping')\n",
      "    plt.plot(tests, axon_times_dump, label='axon', marker='o')\n",
      "    plt.plot(tests, json_times_dump, label='json', marker='o')\n",
      "    if use_yaml:\n",
      "        plt.plot(tests, yaml_times_dump, label='yaml', marker='o')\n",
      "    plt.legend()\n",
      "    plt.grid()\n",
      "    plt.minorticks_on()\n",
      "    \n",
      "    plt.subplot(2,1,2)\n",
      "    plt.title('Loading')\n",
      "    plt.plot(tests, axon_times_load, label='axon', marker='o')\n",
      "    plt.plot(tests, json_times_load, label='json', marker='o')\n",
      "    if use_yaml:\n",
      "        plt.plot(tests, yaml_times_load, label='yaml', marker='o')\n",
      "    plt.legend()\n",
      "    plt.grid()\n",
      "    plt.minorticks_on()\n",
      "\n",
      "print('Dumping:')\n",
      "print('axon:', *[('%.3f' % t) for t in axon_times_dump])\n",
      "print('json:', *[('%.3f' % t) for t in json_times_dump])\n",
      "if use_yaml:\n",
      "    print('yaml:', *[('%.3f' % t) for t in yaml_times_dump])\n",
      "print('Loading:')\n",
      "print('axon:', *[('%.3f' % t) for t in axon_times_load])\n",
      "print('json:', *[('%.3f' % t) for t in json_times_load])\n",
      "if use_yaml:\n",
      "    print('yaml:', *[('%.3f' % t) for t in yaml_times_load])\n",
      "make_plot()"
     ],
     "language": "python",
     "metadata": {},
     "outputs": [
      {
       "output_type": "stream",
       "stream": "stdout",
       "text": [
        "Dumping:\n",
        "axon: 0.068 0.099 0.199 0.065 0.084 0.047 0.131\n",
        "json: 0.068 0.073 0.140 0.051 0.050 0.027 0.258\n",
        "yaml: 3.376 3.380 7.070 3.793 3.853 3.643 4.937\n",
        "Loading:\n",
        "axon: 0.045 0.047 0.094 0.045 0.041 0.039 0.052\n",
        "json: 0.085 0.093 0.216 0.110 0.087 0.033 0.083\n",
        "yaml: 3.275 3.062 7.587 3.158 3.086 4.142 4.711\n"
       ]
      },
      {
       "output_type": "display_data",
       "png": "[encoded data removed]"
      }
     ],
     "prompt_number": 12
    },
    {
     "cell_type": "code",
     "collapsed": false,
     "input": [],
     "language": "python",
     "metadata": {},
     "outputs": [],
     "prompt_number": 12
    },
    {
     "cell_type": "code",
     "collapsed": false,
     "input": [],
     "language": "python",
     "metadata": {},
     "outputs": [],
     "prompt_number": 12
    }
   ],
   "metadata": {}
  }
 ]
}