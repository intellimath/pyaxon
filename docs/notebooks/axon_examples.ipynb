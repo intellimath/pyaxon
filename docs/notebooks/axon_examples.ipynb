{
 "metadata": {
  "name": "axon_examples"
 },
 "nbformat": 3,
 "nbformat_minor": 0,
 "worksheets": [
  {
   "cells": [
    {
     "cell_type": "heading",
     "level": 1,
     "metadata": {},
     "source": [
      "AXON: Examples"
     ]
    },
    {
     "cell_type": "code",
     "collapsed": false,
     "input": [
      "from __future__ import unicode_literals, print_function\n",
      "from axon.api import loads, dumps\n",
      "from axon.objects import mapping, element, sequence, instance, collection, empty\n",
      "from axon.objects import Element, Instance, Mapping, Sequence, Empty\n",
      "from axon.objects import GenericBuilder, register_builder\n",
      "from axon import dump_as_str, as_unicode, factory, reduce\n",
      "\n",
      "from datetime import date, time, datetime\n",
      "from pprint import pprint\n",
      "from axon.errors import LoaderError\n",
      "\n",
      "try:\n",
      "    from cdecimal import Decimal  \n",
      "except:\n",
      "    from decimal import Decimal"
     ],
     "language": "python",
     "metadata": {},
     "outputs": [],
     "prompt_number": 1
    },
    {
     "cell_type": "heading",
     "level": 2,
     "metadata": {},
     "source": [
      "Simple values"
     ]
    },
    {
     "cell_type": "heading",
     "level": 3,
     "metadata": {},
     "source": [
      "Integer values"
     ]
    },
    {
     "cell_type": "code",
     "collapsed": false,
     "input": [
      "vs = loads('0 1 -1 32768 -9223372036854775807')\n",
      "print(vs)\n",
      "print(dumps(vs))"
     ],
     "language": "python",
     "metadata": {},
     "outputs": [
      {
       "output_type": "stream",
       "stream": "stdout",
       "text": [
        "[0, 1, -1, 32768, -9223372036854775807]\n",
        "0 1 -1 32768 -9223372036854775807\n"
       ]
      }
     ],
     "prompt_number": 2
    },
    {
     "cell_type": "code",
     "collapsed": false,
     "input": [
      "vs = loads('340282366920938463463374607431768211456 -340282366920938463463374607431768211456') # long int value =/-2**128\n",
      "print(vs)\n",
      "print(dumps(vs))"
     ],
     "language": "python",
     "metadata": {},
     "outputs": [
      {
       "output_type": "stream",
       "stream": "stdout",
       "text": [
        "[340282366920938463463374607431768211456L, -340282366920938463463374607431768211456L]\n",
        "340282366920938463463374607431768211456 -340282366920938463463374607431768211456\n"
       ]
      }
     ],
     "prompt_number": 3
    },
    {
     "cell_type": "heading",
     "level": 3,
     "metadata": {},
     "source": [
      "Float values"
     ]
    },
    {
     "cell_type": "code",
     "collapsed": false,
     "input": [
      "vs = loads('0. 0.0 1.0 -1.0 -0.0 3.141528 1.41e2 -1.41e-2')\n",
      "print(vs)\n",
      "print(dumps(vs))"
     ],
     "language": "python",
     "metadata": {},
     "outputs": [
      {
       "output_type": "stream",
       "stream": "stdout",
       "text": [
        "[0.0, 0.0, 1.0, -1.0, -0.0, 3.141528, 141.0, -0.0141]\n",
        "0.0 0.0 1.0 -1.0 -0.0 3.141528 141.0 -0.0141\n"
       ]
      }
     ],
     "prompt_number": 4
    },
    {
     "cell_type": "code",
     "collapsed": false,
     "input": [
      "try:\n",
      "    vs = loads('.12')\n",
      "    print(vs)\n",
      "except ValueError:\n",
      "    print('invalid float number')"
     ],
     "language": "python",
     "metadata": {},
     "outputs": [
      {
       "output_type": "stream",
       "stream": "stdout",
       "text": [
        "invalid float number\n"
       ]
      }
     ],
     "prompt_number": 6
    },
    {
     "cell_type": "code",
     "collapsed": false,
     "input": [
      "vs = loads('Infinity -Infinity NaN \u221e -\u221e ?')\n",
      "print(vs)\n",
      "print(dumps(vs))"
     ],
     "language": "python",
     "metadata": {},
     "outputs": [
      {
       "output_type": "stream",
       "stream": "stdout",
       "text": [
        "[inf, -inf, nan, inf, -inf, nan]\n",
        "\u221e -\u221e ? \u221e -\u221e ?\n"
       ]
      }
     ],
     "prompt_number": 7
    },
    {
     "cell_type": "code",
     "collapsed": false,
     "input": [
      "try:\n",
      "    vs = loads('.')\n",
      "    print(vs)\n",
      "except ValueError:\n",
      "    print('invalid float number')"
     ],
     "language": "python",
     "metadata": {},
     "outputs": [
      {
       "output_type": "stream",
       "stream": "stdout",
       "text": [
        "invalid float number\n"
       ]
      }
     ],
     "prompt_number": 5
    },
    {
     "cell_type": "heading",
     "level": 3,
     "metadata": {},
     "source": [
      "Decimal values"
     ]
    },
    {
     "cell_type": "code",
     "collapsed": false,
     "input": [
      "vs = loads('0$ 1$ -1$ 0.$ 0.0$ 1.0$ -1.0$ -0.0$ 3.141528$ 1.41e2$ -1.41e-2$')\n",
      "print(vs)\n",
      "print(dumps(vs))"
     ],
     "language": "python",
     "metadata": {},
     "outputs": [
      {
       "output_type": "stream",
       "stream": "stdout",
       "text": [
        "[Decimal('0'), Decimal('1'), Decimal('-1'), Decimal('0'), Decimal('0.0'), Decimal('1.0'), Decimal('-1.0'), Decimal('-0.0'), Decimal('3.141528'), Decimal('141'), Decimal('-0.0141')]\n",
        "0$ 1$ -1$ 0$ 0.0$ 1.0$ -1.0$ -0.0$ 3.141528$ 141$ -0.0141$\n"
       ]
      }
     ],
     "prompt_number": 8
    },
    {
     "cell_type": "code",
     "collapsed": false,
     "input": [
      "#vs = loads('Infinity$ -Infinity$ NaN$ \u221e$ -\u221e$ ?$')\n",
      "#print(vs)\n",
      "#print(dumps(vs))"
     ],
     "language": "python",
     "metadata": {},
     "outputs": [],
     "prompt_number": 9
    },
    {
     "cell_type": "heading",
     "level": 3,
     "metadata": {},
     "source": [
      "Unicode text"
     ]
    },
    {
     "cell_type": "code",
     "collapsed": false,
     "input": [
      "vs = loads('''\"any unicode text\n",
      "with line breaks\n",
      "and control symbols \\t\\n\"''')\n",
      "print(vs)\n",
      "print(dumps(vs))"
     ],
     "language": "python",
     "metadata": {},
     "outputs": [
      {
       "output_type": "stream",
       "stream": "stdout",
       "text": [
        "[u'any unicode text\\nwith line breaks\\nand control symbols \\t\\n']\n",
        "\"any unicode text\n",
        "with line breaks\n",
        "and control symbols \t\n",
        "\"\n"
       ]
      }
     ],
     "prompt_number": 10
    },
    {
     "cell_type": "code",
     "collapsed": false,
     "input": [
      "vs = loads('''\"text line \\\n",
      "splited \\\n",
      "into chunks\"''')\n",
      "print(vs)\n",
      "print(dumps(vs))"
     ],
     "language": "python",
     "metadata": {},
     "outputs": [
      {
       "output_type": "stream",
       "stream": "stdout",
       "text": [
        "[u'text line splited into chunks']\n",
        "\"text line splited into chunks\"\n"
       ]
      }
     ],
     "prompt_number": 11
    },
    {
     "cell_type": "heading",
     "level": 3,
     "metadata": {},
     "source": [
      "Date/Time values"
     ]
    },
    {
     "cell_type": "code",
     "collapsed": false,
     "input": [
      "vs = loads('''2012-12-31 12:30 12:30:59 12:30:59.150000 12:30:59+03 2012-12-31T12:30:59.015000-04''')\n",
      "print(vs)\n",
      "print(dumps(vs, pretty=1))"
     ],
     "language": "python",
     "metadata": {},
     "outputs": [
      {
       "output_type": "stream",
       "stream": "stdout",
       "text": [
        "[datetime.date(2012, 12, 31), datetime.time(12, 30), datetime.time(12, 30, 59), datetime.time(12, 30, 59, 150000), datetime.time(12, 30, 59, tzinfo=timezone(3:00:00)), datetime.datetime(2012, 12, 31, 12, 30, 59, 15000, tzinfo=timezone(-1 day, 20:00:00))]\n",
        "2012-12-31\n",
        "12:30\n",
        "12:30:59\n",
        "12:30:59.150000\n",
        "12:30:59+03\n",
        "2012-12-31T12:30:59.015000-04\n"
       ]
      }
     ],
     "prompt_number": 12
    },
    {
     "cell_type": "heading",
     "level": 2,
     "metadata": {},
     "source": [
      "Anonymous complex objects"
     ]
    },
    {
     "cell_type": "heading",
     "level": 3,
     "metadata": {},
     "source": [
      "Simply lines of data"
     ]
    },
    {
     "cell_type": "code",
     "collapsed": false,
     "input": [
      "text = u'''\n",
      "# No Sym Flag Date Time\n",
      "[1 \"a\" true 2007-12-20 9:00]\n",
      "[2 \"b\" false 2007-12-20 15:00]\n",
      "[3 \"c\" false 2007-12-20 00:00]\n",
      "'''\n",
      "vs = loads(text)\n",
      "pprint(vs)"
     ],
     "language": "python",
     "metadata": {},
     "outputs": [
      {
       "output_type": "stream",
       "stream": "stdout",
       "text": [
        "[[1, u'a', True, datetime.date(2007, 12, 20), datetime.time(9, 0)],\n",
        " [2, u'b', False, datetime.date(2007, 12, 20), datetime.time(15, 0)],\n",
        " [3, u'c', False, datetime.date(2007, 12, 20), datetime.time(0, 0)]]\n"
       ]
      }
     ],
     "prompt_number": 13
    },
    {
     "cell_type": "code",
     "collapsed": false,
     "input": [
      "print(dumps(vs))"
     ],
     "language": "python",
     "metadata": {},
     "outputs": [
      {
       "output_type": "stream",
       "stream": "stdout",
       "text": [
        "[1 \"a\" true 2007-12-20 09:00] [2 \"b\" false 2007-12-20 15:00] [3 \"c\" false 2007-12-20 00:00]\n"
       ]
      }
     ],
     "prompt_number": 14
    },
    {
     "cell_type": "code",
     "collapsed": false,
     "input": [
      "print(dumps(vs, pretty=1, nsize=10))"
     ],
     "language": "python",
     "metadata": {},
     "outputs": [
      {
       "output_type": "stream",
       "stream": "stdout",
       "text": [
        "[1 \"a\" true 2007-12-20 09:00]\n",
        "[2 \"b\" false 2007-12-20 15:00]\n",
        "[3 \"c\" false 2007-12-20 00:00]\n"
       ]
      }
     ],
     "prompt_number": 15
    },
    {
     "cell_type": "heading",
     "level": 3,
     "metadata": {},
     "source": [
      "Simply dicts"
     ]
    },
    {
     "cell_type": "code",
     "collapsed": false,
     "input": [
      "text = u'''\n",
      "{\"a\":1 \"b\":2.0 \"c\":3000$}\n",
      "{\"a\":100 \"b\":200.5 \"c\":30$ \"d\":null}\n",
      "'''\n",
      "vs = loads(text)\n",
      "pprint(vs)"
     ],
     "language": "python",
     "metadata": {},
     "outputs": [
      {
       "output_type": "stream",
       "stream": "stdout",
       "text": [
        "[{u'a': 1, u'b': 2.0, u'c': Decimal('3000')},\n",
        " {u'a': 100, u'b': 200.5, u'c': Decimal('30'), u'd': None}]\n"
       ]
      }
     ],
     "prompt_number": 16
    },
    {
     "cell_type": "code",
     "collapsed": false,
     "input": [
      "print(dumps(vs))"
     ],
     "language": "python",
     "metadata": {},
     "outputs": [
      {
       "output_type": "stream",
       "stream": "stdout",
       "text": [
        "{a:1 b:2.0 c:3000$} {a:100 b:200.5 c:30$ d:null}\n"
       ]
      }
     ],
     "prompt_number": 17
    },
    {
     "cell_type": "code",
     "collapsed": false,
     "input": [
      "print(dumps(vs, pretty=1))"
     ],
     "language": "python",
     "metadata": {},
     "outputs": [
      {
       "output_type": "stream",
       "stream": "stdout",
       "text": [
        "{ a: 1\n",
        "  b: 2.0\n",
        "  c: 3000$}\n",
        "{ a: 100\n",
        "  b: 200.5\n",
        "  c: 30$\n",
        "  d: null}\n"
       ]
      }
     ],
     "prompt_number": 18
    },
    {
     "cell_type": "heading",
     "level": 3,
     "metadata": {},
     "source": [
      "Simply tuples"
     ]
    },
    {
     "cell_type": "code",
     "collapsed": false,
     "input": [
      "text = u'''\n",
      "(2013-01-01 12:30) \n",
      "(2013-01-02 13:00)\n",
      "(2013-01-03 14:30)\n",
      "'''\n",
      "values = loads(text)\n",
      "pprint(values)"
     ],
     "language": "python",
     "metadata": {},
     "outputs": [
      {
       "output_type": "stream",
       "stream": "stdout",
       "text": [
        "[(datetime.date(2013, 1, 1), datetime.time(12, 30)),\n",
        " (datetime.date(2013, 1, 2), datetime.time(13, 0)),\n",
        " (datetime.date(2013, 1, 3), datetime.time(14, 30))]\n"
       ]
      }
     ],
     "prompt_number": 19
    },
    {
     "cell_type": "code",
     "collapsed": false,
     "input": [
      "print(dumps(values))"
     ],
     "language": "python",
     "metadata": {},
     "outputs": [
      {
       "output_type": "stream",
       "stream": "stdout",
       "text": [
        "(2013-01-01 12:30) (2013-01-02 13:00) (2013-01-03 14:30)\n"
       ]
      }
     ],
     "prompt_number": 20
    },
    {
     "cell_type": "code",
     "collapsed": false,
     "input": [
      "print(dumps(values, pretty=1))"
     ],
     "language": "python",
     "metadata": {},
     "outputs": [
      {
       "output_type": "stream",
       "stream": "stdout",
       "text": [
        "( 2013-01-01\n",
        "  12:30)\n",
        "( 2013-01-02\n",
        "  13:00)\n",
        "( 2013-01-03\n",
        "  14:30)\n"
       ]
      }
     ],
     "prompt_number": 21
    },
    {
     "cell_type": "heading",
     "level": 3,
     "metadata": {},
     "source": [
      "Simply dicts of lists"
     ]
    },
    {
     "cell_type": "code",
     "collapsed": false,
     "input": [
      "text = u'''\n",
      "{ a: [0 1 2] \n",
      "  b: [0. 1.0 2.0] \n",
      "  c: [0.$ 1.0$] \n",
      "  d: [true] }\n",
      "{ a: [100 200 300] \n",
      "  b: [100. 200. 300.] \n",
      "  c: [10$ 20$] \n",
      "  s: [false] }\n",
      "'''\n",
      "values = loads(text)\n",
      "pprint(values)"
     ],
     "language": "python",
     "metadata": {},
     "outputs": [
      {
       "output_type": "stream",
       "stream": "stdout",
       "text": [
        "[{u'a': [0, 1, 2],\n",
        "  u'b': [0.0, 1.0, 2.0],\n",
        "  u'c': [Decimal('0'), Decimal('1.0')],\n",
        "  u'd': [True]},\n",
        " {u'a': [100, 200, 300],\n",
        "  u'b': [100.0, 200.0, 300.0],\n",
        "  u'c': [Decimal('10'), Decimal('20')],\n",
        "  u's': [False]}]\n"
       ]
      }
     ],
     "prompt_number": 22
    },
    {
     "cell_type": "code",
     "collapsed": false,
     "input": [
      "print(dumps(values))"
     ],
     "language": "python",
     "metadata": {},
     "outputs": [
      {
       "output_type": "stream",
       "stream": "stdout",
       "text": [
        "{a:[0 1 2] b:[0.0 1.0 2.0] c:[0$ 1.0$] d:[true]} {a:[100 200 300] b:[100.0 200.0 300.0] c:[10$ 20$] s:[false]}\n"
       ]
      }
     ],
     "prompt_number": 23
    },
    {
     "cell_type": "code",
     "collapsed": false,
     "input": [
      "print(dumps(values, pretty=1))"
     ],
     "language": "python",
     "metadata": {},
     "outputs": [
      {
       "output_type": "stream",
       "stream": "stdout",
       "text": [
        "{ a: [\n",
        "    0\n",
        "    1\n",
        "    2]\n",
        "  b: [\n",
        "    0.0\n",
        "    1.0\n",
        "    2.0]\n",
        "  c: [\n",
        "    0$\n",
        "    1.0$]\n",
        "  d: [\n",
        "    true]}\n",
        "{ a: [\n",
        "    100\n",
        "    200\n",
        "    300]\n",
        "  b: [\n",
        "    100.0\n",
        "    200.0\n",
        "    300.0]\n",
        "  c: [\n",
        "    10$\n",
        "    20$]\n",
        "  s: [\n",
        "    false]}\n"
       ]
      }
     ],
     "prompt_number": 24
    },
    {
     "cell_type": "code",
     "collapsed": false,
     "input": [
      "print(dumps(values, pretty=1, nsize=3))"
     ],
     "language": "python",
     "metadata": {},
     "outputs": [
      {
       "output_type": "stream",
       "stream": "stdout",
       "text": [
        "{ a: [0 1 2]\n",
        "  b: [0.0 1.0 2.0]\n",
        "  c: [0$ 1.0$]\n",
        "  d: [true]}\n",
        "{ a: [100 200 300]\n",
        "  b: [100.0 200.0 300.0]\n",
        "  c: [10$ 20$]\n",
        "  s: [false]}\n"
       ]
      }
     ],
     "prompt_number": 25
    },
    {
     "cell_type": "heading",
     "level": 2,
     "metadata": {},
     "source": [
      "Named complex objects"
     ]
    },
    {
     "cell_type": "heading",
     "level": 3,
     "metadata": {},
     "source": [
      "Simply named dicts of tuples"
     ]
    },
    {
     "cell_type": "code",
     "collapsed": false,
     "input": [
      "text = u'''\n",
      "rectangle {\n",
      "    left_top: (-1.0 1.0)\n",
      "    left_bottom: (-1.0 -1.0)\n",
      "    right_top: (1.0 1.0)\n",
      "    right_bottom: (1.0 -1.0)\n",
      "}\n",
      "rectangle {\n",
      "    left_top: (-2.0 2.0)\n",
      "    left_bottom: (-2.0 -1.0)\n",
      "    right_top: (1.0 2.0)\n",
      "    right_bottom: (1.0 -1.0)\n",
      "}\n",
      "'''\n",
      "values = loads(text)\n",
      "pprint(values)"
     ],
     "language": "python",
     "metadata": {},
     "outputs": [
      {
       "output_type": "stream",
       "stream": "stdout",
       "text": [
        "[mapping(u'rectangle', {u'left_bottom': (-1.0, -1.0), u'right_top': (1.0, 1.0), u'right_bottom': (1.0, -1.0), u'left_top': (-1.0, 1.0)}),\n",
        " mapping(u'rectangle', {u'left_bottom': (-2.0, -1.0), u'right_top': (1.0, 2.0), u'right_bottom': (1.0, -1.0), u'left_top': (-2.0, 2.0)})]\n"
       ]
      }
     ],
     "prompt_number": 26
    },
    {
     "cell_type": "code",
     "collapsed": false,
     "input": [
      "print(values[0])\n",
      "print(values[1])\n",
      "print(values[0].name, values[0].mapping)\n",
      "print(values[0].a.left_bottom, values[0].a.right_top)"
     ],
     "language": "python",
     "metadata": {},
     "outputs": [
      {
       "output_type": "stream",
       "stream": "stdout",
       "text": [
        "mapping(u'rectangle', {u'left_bottom': (-1.0, -1.0), u'right_top': (1.0, 1.0), u'right_bottom': (1.0, -1.0), u'left_top': (-1.0, 1.0)})\n",
        "mapping(u'rectangle', {u'left_bottom': (-2.0, -1.0), u'right_top': (1.0, 2.0), u'right_bottom': (1.0, -1.0), u'left_top': (-2.0, 2.0)})\n",
        "rectangle {u'left_bottom': (-1.0, -1.0), u'right_top': (1.0, 1.0), u'right_bottom': (1.0, -1.0), u'left_top': (-1.0, 1.0)}\n",
        "(-1.0, -1.0) (1.0, 1.0)\n"
       ]
      }
     ],
     "prompt_number": 27
    },
    {
     "cell_type": "code",
     "collapsed": false,
     "input": [
      "print(dumps(values))"
     ],
     "language": "python",
     "metadata": {},
     "outputs": [
      {
       "output_type": "stream",
       "stream": "stdout",
       "text": [
        "rectangle{left_bottom:(-1.0 -1.0) left_top:(-1.0 1.0) right_bottom:(1.0 -1.0) right_top:(1.0 1.0)} rectangle{left_bottom:(-2.0 -1.0) left_top:(-2.0 2.0) right_bottom:(1.0 -1.0) right_top:(1.0 2.0)}\n"
       ]
      }
     ],
     "prompt_number": 28
    },
    {
     "cell_type": "code",
     "collapsed": false,
     "input": [
      "print(dumps(values, pretty=1))"
     ],
     "language": "python",
     "metadata": {},
     "outputs": [
      {
       "output_type": "stream",
       "stream": "stdout",
       "text": [
        "rectangle {\n",
        "  left_bottom: ( -1.0\n",
        "    -1.0)\n",
        "  left_top: ( -1.0\n",
        "    1.0)\n",
        "  right_bottom: ( 1.0\n",
        "    -1.0)\n",
        "  right_top: ( 1.0\n",
        "    1.0)}\n",
        "rectangle {\n",
        "  left_bottom: ( -2.0\n",
        "    -1.0)\n",
        "  left_top: ( -2.0\n",
        "    2.0)\n",
        "  right_bottom: ( 1.0\n",
        "    -1.0)\n",
        "  right_top: ( 1.0\n",
        "    2.0)}\n"
       ]
      }
     ],
     "prompt_number": 29
    },
    {
     "cell_type": "code",
     "collapsed": false,
     "input": [
      "print(dumps(values, pretty=1, nsize=3))"
     ],
     "language": "python",
     "metadata": {},
     "outputs": [
      {
       "output_type": "stream",
       "stream": "stdout",
       "text": [
        "rectangle {\n",
        "  left_bottom: (-1.0 -1.0)\n",
        "  left_top: (-1.0 1.0)\n",
        "  right_bottom: (1.0 -1.0)\n",
        "  right_top: (1.0 1.0)}\n",
        "rectangle {\n",
        "  left_bottom: (-2.0 -1.0)\n",
        "  left_top: (-2.0 2.0)\n",
        "  right_bottom: (1.0 -1.0)\n",
        "  right_top: (1.0 2.0)}\n"
       ]
      }
     ],
     "prompt_number": 30
    },
    {
     "cell_type": "code",
     "collapsed": false,
     "input": [
      "text2 = dumps(values, pretty=2, nsize=3)\n",
      "print(text2)"
     ],
     "language": "python",
     "metadata": {},
     "outputs": [
      {
       "output_type": "stream",
       "stream": "stdout",
       "text": [
        "rectangle:\n",
        "  left_bottom: (-1.0 -1.0)\n",
        "  left_top: (-1.0 1.0)\n",
        "  right_bottom: (1.0 -1.0)\n",
        "  right_top: (1.0 1.0)\n",
        "rectangle:\n",
        "  left_bottom: (-2.0 -1.0)\n",
        "  left_top: (-2.0 2.0)\n",
        "  right_bottom: (1.0 -1.0)\n",
        "  right_top: (1.0 2.0)\n"
       ]
      }
     ],
     "prompt_number": 31
    },
    {
     "cell_type": "code",
     "collapsed": false,
     "input": [
      "values2 = loads(text2)\n",
      "print(dumps(values2, pretty=2, nsize=3))"
     ],
     "language": "python",
     "metadata": {},
     "outputs": [
      {
       "output_type": "stream",
       "stream": "stdout",
       "text": [
        "rectangle:\n",
        "  left_bottom: (-1.0 -1.0)\n",
        "  left_top: (-1.0 1.0)\n",
        "  right_bottom: (1.0 -1.0)\n",
        "  right_top: (1.0 1.0)\n",
        "rectangle:\n",
        "  left_bottom: (-2.0 -1.0)\n",
        "  left_top: (-2.0 2.0)\n",
        "  right_bottom: (1.0 -1.0)\n",
        "  right_top: (1.0 2.0)\n"
       ]
      }
     ],
     "prompt_number": 32
    },
    {
     "cell_type": "heading",
     "level": 3,
     "metadata": {},
     "source": [
      "Simply named lists of tuples"
     ]
    },
    {
     "cell_type": "code",
     "collapsed": false,
     "input": [
      "text = u'''\n",
      "rectangle {\n",
      "    (-1.0 1.0) \n",
      "    (-1.0 -1.0)\n",
      "    (1.0 -1.0)\n",
      "    (1.0 1.0)\n",
      "}\n",
      "rectangle {\n",
      "    (-2.0 2.0)\n",
      "    (-2.0 -1.0)\n",
      "    (1.0 -1.0)\n",
      "    (1.0 2.0)\n",
      "}\n",
      "'''\n",
      "values = loads(text)\n",
      "pprint(values)"
     ],
     "language": "python",
     "metadata": {},
     "outputs": [
      {
       "output_type": "stream",
       "stream": "stdout",
       "text": [
        "[sequence(u'rectangle', [(-1.0, 1.0), (-1.0, -1.0), (1.0, -1.0), (1.0, 1.0)]),\n",
        " sequence(u'rectangle', [(-2.0, 2.0), (-2.0, -1.0), (1.0, -1.0), (1.0, 2.0)])]\n"
       ]
      }
     ],
     "prompt_number": 33
    },
    {
     "cell_type": "code",
     "collapsed": false,
     "input": [
      "print(values[0])\n",
      "print(values[1])\n",
      "print(values[0].name, values[0].sequence)"
     ],
     "language": "python",
     "metadata": {},
     "outputs": [
      {
       "output_type": "stream",
       "stream": "stdout",
       "text": [
        "sequence(u'rectangle', [(-1.0, 1.0), (-1.0, -1.0), (1.0, -1.0), (1.0, 1.0)])\n",
        "sequence(u'rectangle', [(-2.0, 2.0), (-2.0, -1.0), (1.0, -1.0), (1.0, 2.0)])\n",
        "rectangle [(-1.0, 1.0), (-1.0, -1.0), (1.0, -1.0), (1.0, 1.0)]\n"
       ]
      }
     ],
     "prompt_number": 34
    },
    {
     "cell_type": "code",
     "collapsed": false,
     "input": [
      "print(dumps(values))"
     ],
     "language": "python",
     "metadata": {},
     "outputs": [
      {
       "output_type": "stream",
       "stream": "stdout",
       "text": [
        "rectangle{(-1.0 1.0) (-1.0 -1.0) (1.0 -1.0) (1.0 1.0)} rectangle{(-2.0 2.0) (-2.0 -1.0) (1.0 -1.0) (1.0 2.0)}\n"
       ]
      }
     ],
     "prompt_number": 35
    },
    {
     "cell_type": "code",
     "collapsed": false,
     "input": [
      "print(dumps(values, pretty=1))"
     ],
     "language": "python",
     "metadata": {},
     "outputs": [
      {
       "output_type": "stream",
       "stream": "stdout",
       "text": [
        "rectangle {\n",
        "  ( -1.0\n",
        "    1.0)\n",
        "  ( -1.0\n",
        "    -1.0)\n",
        "  ( 1.0\n",
        "    -1.0)\n",
        "  ( 1.0\n",
        "    1.0)}\n",
        "rectangle {\n",
        "  ( -2.0\n",
        "    2.0)\n",
        "  ( -2.0\n",
        "    -1.0)\n",
        "  ( 1.0\n",
        "    -1.0)\n",
        "  ( 1.0\n",
        "    2.0)}\n"
       ]
      }
     ],
     "prompt_number": 36
    },
    {
     "cell_type": "code",
     "collapsed": false,
     "input": [
      "print(dumps(values, pretty=1, nsize=2))"
     ],
     "language": "python",
     "metadata": {},
     "outputs": [
      {
       "output_type": "stream",
       "stream": "stdout",
       "text": [
        "rectangle {\n",
        "  (-1.0 1.0)\n",
        "  (-1.0 -1.0)\n",
        "  (1.0 -1.0)\n",
        "  (1.0 1.0)}\n",
        "rectangle {\n",
        "  (-2.0 2.0)\n",
        "  (-2.0 -1.0)\n",
        "  (1.0 -1.0)\n",
        "  (1.0 2.0)}\n"
       ]
      }
     ],
     "prompt_number": 37
    },
    {
     "cell_type": "code",
     "collapsed": false,
     "input": [
      "print(dumps(values, pretty=2, nsize=2))"
     ],
     "language": "python",
     "metadata": {},
     "outputs": [
      {
       "output_type": "stream",
       "stream": "stdout",
       "text": [
        "rectangle:\n",
        "  (-1.0 1.0)\n",
        "  (-1.0 -1.0)\n",
        "  (1.0 -1.0)\n",
        "  (1.0 1.0)\n",
        "rectangle:\n",
        "  (-2.0 2.0)\n",
        "  (-2.0 -1.0)\n",
        "  (1.0 -1.0)\n",
        "  (1.0 2.0)\n"
       ]
      }
     ],
     "prompt_number": 38
    },
    {
     "cell_type": "heading",
     "level": 3,
     "metadata": {},
     "source": [
      "Simply file system: attributed tree"
     ]
    },
    {
     "cell_type": "code",
     "collapsed": false,
     "input": [
      "text = u'''\n",
      "folder {\n",
      "  name: \"/\"\n",
      "  folder {\n",
      "    name: \"Library\"\n",
      "    file {name: \"book.pdf\"}\n",
      "    file {name: \"README\"}\n",
      "    folder {\n",
      "      name: \"Temp\"\n",
      "    }\n",
      "  }\n",
      "  folder {\n",
      "    name: \"Desktop\"\n",
      "    file {name: \"Notes.txt\"}\n",
      "    file {name: \"Recipes.txt\"}\n",
      "  }\n",
      "}\n",
      "'''\n",
      "values = loads(text)\n",
      "pprint(values)"
     ],
     "language": "python",
     "metadata": {},
     "outputs": [
      {
       "output_type": "stream",
       "stream": "stdout",
       "text": [
        "[element(u'folder', {u'name': u'/'}, [element(u'folder', {u'name': u'Library'}, [mapping(u'file', {u'name': u'book.pdf'}), mapping(u'file', {u'name': u'README'}), mapping(u'folder', {u'name': u'Temp'})]), element(u'folder', {u'name': u'Desktop'}, [mapping(u'file', {u'name': u'Notes.txt'}), mapping(u'file', {u'name': u'Recipes.txt'})])])]\n"
       ]
      }
     ],
     "prompt_number": 39
    },
    {
     "cell_type": "code",
     "collapsed": false,
     "input": [
      "val = values[0]\n",
      "print(val.name)\n",
      "print(val[0].a.name, val[1].a.name)\n",
      "print(val[0][0].a.name, val[1][0].a.name)\n",
      "print(val[1].name, val[1].mapping, val[1].sequence)"
     ],
     "language": "python",
     "metadata": {},
     "outputs": [
      {
       "output_type": "stream",
       "stream": "stdout",
       "text": [
        "folder\n",
        "Library Desktop\n",
        "book.pdf Notes.txt\n",
        "folder {u'name': u'Desktop'} [mapping(u'file', {u'name': u'Notes.txt'}), mapping(u'file', {u'name': u'Recipes.txt'})]\n"
       ]
      }
     ],
     "prompt_number": 40
    },
    {
     "cell_type": "code",
     "collapsed": false,
     "input": [
      "print(dumps(values))"
     ],
     "language": "python",
     "metadata": {},
     "outputs": [
      {
       "output_type": "stream",
       "stream": "stdout",
       "text": [
        "folder{name:\"/\" folder{name:\"Library\" file{name:\"book.pdf\"} file{name:\"README\"} folder{name:\"Temp\"}} folder{name:\"Desktop\" file{name:\"Notes.txt\"} file{name:\"Recipes.txt\"}}}\n"
       ]
      }
     ],
     "prompt_number": 41
    },
    {
     "cell_type": "code",
     "collapsed": false,
     "input": [
      "text2 = dumps(values, pretty=1)\n",
      "print(text2)"
     ],
     "language": "python",
     "metadata": {},
     "outputs": [
      {
       "output_type": "stream",
       "stream": "stdout",
       "text": [
        "folder {\n",
        "  name: \"/\"\n",
        "  folder {\n",
        "    name: \"Library\"\n",
        "    file {\n",
        "      name: \"book.pdf\"}\n",
        "    file {\n",
        "      name: \"README\"}\n",
        "    folder {\n",
        "      name: \"Temp\"}}\n",
        "  folder {\n",
        "    name: \"Desktop\"\n",
        "    file {\n",
        "      name: \"Notes.txt\"}\n",
        "    file {\n",
        "      name: \"Recipes.txt\"}}}\n"
       ]
      }
     ],
     "prompt_number": 42
    },
    {
     "cell_type": "code",
     "collapsed": false,
     "input": [
      "values2 = loads(text2)\n",
      "print(dumps(values, pretty=2))"
     ],
     "language": "python",
     "metadata": {},
     "outputs": [
      {
       "output_type": "stream",
       "stream": "stdout",
       "text": [
        "folder:\n",
        "  name: \"/\"\n",
        "  folder:\n",
        "    name: \"Library\"\n",
        "    file:\n",
        "      name: \"book.pdf\"\n",
        "    file:\n",
        "      name: \"README\"\n",
        "    folder:\n",
        "      name: \"Temp\"\n",
        "  folder:\n",
        "    name: \"Desktop\"\n",
        "    file:\n",
        "      name: \"Notes.txt\"\n",
        "    file:\n",
        "      name: \"Recipes.txt\"\n"
       ]
      }
     ],
     "prompt_number": 43
    },
    {
     "cell_type": "heading",
     "level": 3,
     "metadata": {},
     "source": [
      "Simple sequence of instances"
     ]
    },
    {
     "cell_type": "code",
     "collapsed": false,
     "input": [
      "text = u'''\n",
      "datarow:\n",
      "  2000-12-01 00:00 T:12.5 R:3.0\n",
      "datarow:\n",
      "  2000-12-01 06:00 T:13.0\n",
      "datarow:\n",
      "  2000-12-01 12:00 T:14.0 R:1.0\n",
      "datarow:\n",
      "  2000-12-01 18:00 T:12.0\n",
      "datarow:\n",
      "  2000-12-02 0:00 T:8.0\n",
      "'''\n",
      "values = loads(text)\n",
      "pprint(values)"
     ],
     "language": "python",
     "metadata": {},
     "outputs": [
      {
       "output_type": "stream",
       "stream": "stdout",
       "text": [
        "[instance(u'datarow', (datetime.date(2000, 12, 1), datetime.time(0, 0)), {u'R': 3.0, u'T': 12.5}),\n",
        " instance(u'datarow', (datetime.date(2000, 12, 1), datetime.time(6, 0)), {u'T': 13.0}),\n",
        " instance(u'datarow', (datetime.date(2000, 12, 1), datetime.time(12, 0)), {u'R': 1.0, u'T': 14.0}),\n",
        " instance(u'datarow', (datetime.date(2000, 12, 1), datetime.time(18, 0)), {u'T': 12.0}),\n",
        " instance(u'datarow', (datetime.date(2000, 12, 2), datetime.time(0, 0)), {u'T': 8.0})]\n"
       ]
      }
     ],
     "prompt_number": 44
    },
    {
     "cell_type": "code",
     "collapsed": false,
     "input": [
      "print(dumps(values))"
     ],
     "language": "python",
     "metadata": {},
     "outputs": [
      {
       "output_type": "stream",
       "stream": "stdout",
       "text": [
        "datarow{2000-12-01 00:00 R:3.0 T:12.5} datarow{2000-12-01 06:00 T:13.0} datarow{2000-12-01 12:00 R:1.0 T:14.0} datarow{2000-12-01 18:00 T:12.0} datarow{2000-12-02 00:00 T:8.0}\n"
       ]
      }
     ],
     "prompt_number": 45
    },
    {
     "cell_type": "code",
     "collapsed": false,
     "input": [
      "print(dumps(values, pretty=1))"
     ],
     "language": "python",
     "metadata": {},
     "outputs": [
      {
       "output_type": "stream",
       "stream": "stdout",
       "text": [
        "datarow {\n",
        "  2000-12-01\n",
        "  00:00\n",
        "  R: 3.0\n",
        "  T: 12.5}\n",
        "datarow {\n",
        "  2000-12-01\n",
        "  06:00\n",
        "  T: 13.0}\n",
        "datarow {\n",
        "  2000-12-01\n",
        "  12:00\n",
        "  R: 1.0\n",
        "  T: 14.0}\n",
        "datarow {\n",
        "  2000-12-01\n",
        "  18:00\n",
        "  T: 12.0}\n",
        "datarow {\n",
        "  2000-12-02\n",
        "  00:00\n",
        "  T: 8.0}\n"
       ]
      }
     ],
     "prompt_number": 46
    },
    {
     "cell_type": "code",
     "collapsed": false,
     "input": [
      "print(dumps(values, pretty=1, nsize=2))"
     ],
     "language": "python",
     "metadata": {},
     "outputs": [
      {
       "output_type": "stream",
       "stream": "stdout",
       "text": [
        "datarow {\n",
        "  2000-12-01 00:00\n",
        "  R:3.0 T:12.5}\n",
        "datarow {\n",
        "  2000-12-01 06:00\n",
        "  T:13.0}\n",
        "datarow {\n",
        "  2000-12-01 12:00\n",
        "  R:1.0 T:14.0}\n",
        "datarow {\n",
        "  2000-12-01 18:00\n",
        "  T:12.0}\n",
        "datarow {\n",
        "  2000-12-02 00:00\n",
        "  T:8.0}\n"
       ]
      }
     ],
     "prompt_number": 47
    },
    {
     "cell_type": "code",
     "collapsed": false,
     "input": [
      "print(dumps(values, pretty=2, nsize=2))"
     ],
     "language": "python",
     "metadata": {},
     "outputs": [
      {
       "output_type": "stream",
       "stream": "stdout",
       "text": [
        "datarow:\n",
        "  2000-12-01 00:00\n",
        "  R:3.0 T:12.5\n",
        "datarow:\n",
        "  2000-12-01 06:00\n",
        "  T:13.0\n",
        "datarow:\n",
        "  2000-12-01 12:00\n",
        "  R:1.0 T:14.0\n",
        "datarow:\n",
        "  2000-12-01 18:00\n",
        "  T:12.0\n",
        "datarow:\n",
        "  2000-12-02 00:00\n",
        "  T:8.0\n"
       ]
      }
     ],
     "prompt_number": 48
    },
    {
     "cell_type": "heading",
     "level": 3,
     "metadata": {},
     "source": [
      "Network of connected units"
     ]
    },
    {
     "cell_type": "code",
     "collapsed": false,
     "input": [
      "text = u'''\n",
      "network {\n",
      "    nodes {\n",
      "        &x1 node {label:\"x1\"}\n",
      "        &x2 node {label:\"x2\"}\n",
      "        &x3 node {label:\"x3\"}\n",
      "        &u1 node {label:\"u1\"}\n",
      "        &u2 node {label:\"u2\"}\n",
      "        &y node {label:\"y\"}\n",
      "    }\n",
      "    units {\n",
      "        unit {out:(*u1) inp:(*x1 *x2 *x3) weights:(1.0 0.5 0.5)}\n",
      "        unit {out:(*u2) inp:(*x1 *x2) weights:(1.0 1.5)}\n",
      "        unit {out:(*y) inp:(*u1 *u2) weights:(0.5 -1.0)}\n",
      "    }\n",
      "}\n",
      "'''\n",
      "values = loads(text)\n",
      "pprint(values)"
     ],
     "language": "python",
     "metadata": {},
     "outputs": [
      {
       "output_type": "stream",
       "stream": "stdout",
       "text": [
        "[sequence(u'network', [sequence(u'nodes', [mapping(u'node', {u'label': u'x1'}), mapping(u'node', {u'label': u'x2'}), mapping(u'node', {u'label': u'x3'}), mapping(u'node', {u'label': u'u1'}), mapping(u'node', {u'label': u'u2'}), mapping(u'node', {u'label': u'y'})]), sequence(u'units', [mapping(u'unit', {u'weights': (1.0, 0.5, 0.5), u'inp': (mapping(u'node', {u'label': u'x1'}), mapping(u'node', {u'label': u'x2'}), mapping(u'node', {u'label': u'x3'})), u'out': (mapping(u'node', {u'label': u'u1'}),)}), mapping(u'unit', {u'weights': (1.0, 1.5), u'inp': (mapping(u'node', {u'label': u'x1'}), mapping(u'node', {u'label': u'x2'})), u'out': (mapping(u'node', {u'label': u'u2'}),)}), mapping(u'unit', {u'weights': (0.5, -1.0), u'inp': (mapping(u'node', {u'label': u'u1'}), mapping(u'node', {u'label': u'u2'})), u'out': (mapping(u'node', {u'label': u'y'}),)})])])]\n"
       ]
      }
     ],
     "prompt_number": 49
    },
    {
     "cell_type": "code",
     "collapsed": false,
     "input": [
      "val = values[0]\n",
      "print('Same objects here:')\n",
      "print(val[0][0] is val[1][0].a.inp[0])\n",
      "print(val[0][-1] is val[1][-1].a.out[0])"
     ],
     "language": "python",
     "metadata": {},
     "outputs": [
      {
       "output_type": "stream",
       "stream": "stdout",
       "text": [
        "Same objects here:\n",
        "True\n",
        "True\n"
       ]
      }
     ],
     "prompt_number": 50
    },
    {
     "cell_type": "code",
     "collapsed": false,
     "input": [
      "print(dumps(values))"
     ],
     "language": "python",
     "metadata": {},
     "outputs": [
      {
       "output_type": "stream",
       "stream": "stdout",
       "text": [
        "network{nodes{node{label:\"x1\"} node{label:\"x2\"} node{label:\"x3\"} node{label:\"u1\"} node{label:\"u2\"} node{label:\"y\"}} units{unit{inp:(node{label:\"x1\"} node{label:\"x2\"} node{label:\"x3\"}) out:(node{label:\"u1\"}) weights:(1.0 0.5 0.5)} unit{inp:(node{label:\"x1\"} node{label:\"x2\"}) out:(node{label:\"u2\"}) weights:(1.0 1.5)} unit{inp:(node{label:\"u1\"} node{label:\"u2\"}) out:(node{label:\"y\"}) weights:(0.5 -1.0)}}}\n"
       ]
      }
     ],
     "prompt_number": 51
    },
    {
     "cell_type": "code",
     "collapsed": false,
     "input": [
      "print(dumps(values, crossref=1))"
     ],
     "language": "python",
     "metadata": {},
     "outputs": [
      {
       "output_type": "stream",
       "stream": "stdout",
       "text": [
        "network{nodes{&3 node{label:\"x1\"} &1 node{label:\"x2\"} &4 node{label:\"x3\"} &5 node{label:\"u1\"} &6 node{label:\"u2\"} &2 node{label:\"y\"}} units{unit{inp:(*3 *1 *4) out:(*5) weights:(1.0 0.5 0.5)} unit{inp:(*3 *1) out:(*6) weights:(1.0 1.5)} unit{inp:(*5 *6) out:(*2) weights:(0.5 -1.0)}}}\n"
       ]
      }
     ],
     "prompt_number": 52
    },
    {
     "cell_type": "code",
     "collapsed": false,
     "input": [
      "print(dumps(values, crossref=1, pretty=1, nsize=3))"
     ],
     "language": "python",
     "metadata": {},
     "outputs": [
      {
       "output_type": "stream",
       "stream": "stdout",
       "text": [
        "network {\n",
        "  nodes {\n",
        "    &3 node {\n",
        "      label:\"x1\"}\n",
        "    &1 node {\n",
        "      label:\"x2\"}\n",
        "    &4 node {\n",
        "      label:\"x3\"}\n",
        "    &5 node {\n",
        "      label:\"u1\"}\n",
        "    &6 node {\n",
        "      label:\"u2\"}\n",
        "    &2 node {\n",
        "      label:\"y\"}}\n",
        "  units {\n",
        "    unit {\n",
        "      inp: (*3 *1 *4)\n",
        "      out: (*5)\n",
        "      weights: (1.0 0.5 0.5)}\n",
        "    unit {\n",
        "      inp: (*3 *1)\n",
        "      out: (*6)\n",
        "      weights: (1.0 1.5)}\n",
        "    unit {\n",
        "      inp: (*5 *6)\n",
        "      out: (*2)\n",
        "      weights: (0.5 -1.0)}}}\n"
       ]
      }
     ],
     "prompt_number": 53
    },
    {
     "cell_type": "code",
     "collapsed": false,
     "input": [
      "print(dumps(values, crossref=1, pretty=2, nsize=3))"
     ],
     "language": "python",
     "metadata": {},
     "outputs": [
      {
       "output_type": "stream",
       "stream": "stdout",
       "text": [
        "network:\n",
        "  nodes:\n",
        "    &3 node:\n",
        "      label:\"x1\"\n",
        "    &1 node:\n",
        "      label:\"x2\"\n",
        "    &4 node:\n",
        "      label:\"x3\"\n",
        "    &5 node:\n",
        "      label:\"u1\"\n",
        "    &6 node:\n",
        "      label:\"u2\"\n",
        "    &2 node:\n",
        "      label:\"y\"\n",
        "  units:\n",
        "    unit:\n",
        "      inp: (*3 *1 *4)\n",
        "      out: (*5)\n",
        "      weights: (1.0 0.5 0.5)\n",
        "    unit:\n",
        "      inp: (*3 *1)\n",
        "      out: (*6)\n",
        "      weights: (1.0 1.5)\n",
        "    unit:\n",
        "      inp: (*5 *6)\n",
        "      out: (*2)\n",
        "      weights: (0.5 -1.0)\n"
       ]
      }
     ],
     "prompt_number": 54
    },
    {
     "cell_type": "heading",
     "level": 3,
     "metadata": {},
     "source": [
      "XML-style representation with collections of elements with same name"
     ]
    },
    {
     "cell_type": "code",
     "collapsed": false,
     "input": [
      "text = u'''\n",
      "network {\n",
      "    node* {\n",
      "        &x1 {label:\"x1\"}\n",
      "        &x2 {label:\"x2\"}\n",
      "        &x3 {label:\"x3\"}\n",
      "        &u1 {label:\"u1\"}\n",
      "        &u2 {label:\"u2\"}\n",
      "        &y {label:\"y\"}\n",
      "    }\n",
      "    unit* {\n",
      "        {out:(*u1) inp:(*x1 *x2 *x3) weights:(1.0 0.5 0.5)}\n",
      "        {out:(*u2) inp:(*x1 *x2) weights:(1.0 1.5)}\n",
      "        {out:(*y) inp:(*u1 *u2) weights:(0.5 -1.0)}\n",
      "    }\n",
      "}\n",
      "'''\n",
      "values = loads(text)\n",
      "pprint(values)"
     ],
     "language": "python",
     "metadata": {},
     "outputs": [
      {
       "output_type": "stream",
       "stream": "stdout",
       "text": [
        "[sequence(u'network', [collection(u'node', mapping(u'node', {u'label': u'x1'}), mapping(u'node', {u'label': u'x2'}), mapping(u'node', {u'label': u'x3'}), mapping(u'node', {u'label': u'u1'}), mapping(u'node', {u'label': u'u2'}), mapping(u'node', {u'label': u'y'})), collection(u'unit', mapping(u'unit', {u'weights': (1.0, 0.5, 0.5), u'inp': (mapping(u'node', {u'label': u'x1'}), mapping(u'node', {u'label': u'x2'}), mapping(u'node', {u'label': u'x3'})), u'out': (mapping(u'node', {u'label': u'u1'}),)}), mapping(u'unit', {u'weights': (1.0, 1.5), u'inp': (mapping(u'node', {u'label': u'x1'}), mapping(u'node', {u'label': u'x2'})), u'out': (mapping(u'node', {u'label': u'u2'}),)}), mapping(u'unit', {u'weights': (0.5, -1.0), u'inp': (mapping(u'node', {u'label': u'u1'}), mapping(u'node', {u'label': u'u2'})), u'out': (mapping(u'node', {u'label': u'y'}),)}))])]\n"
       ]
      }
     ],
     "prompt_number": 55
    },
    {
     "cell_type": "code",
     "collapsed": false,
     "input": [
      "val = values[0]\n",
      "print(val[0][0] is val[1][0].a['inp'][0])\n",
      "print(val[0][-1] is val[1][-1].a['out'][0])"
     ],
     "language": "python",
     "metadata": {},
     "outputs": [
      {
       "output_type": "stream",
       "stream": "stdout",
       "text": [
        "True\n",
        "True\n"
       ]
      }
     ],
     "prompt_number": 56
    },
    {
     "cell_type": "code",
     "collapsed": false,
     "input": [
      "print(dumps(values, crossref=1))"
     ],
     "language": "python",
     "metadata": {},
     "outputs": [
      {
       "output_type": "stream",
       "stream": "stdout",
       "text": [
        "network{node*{ &5 {label:\"x1\"} &4 {label:\"x2\"} &1 {label:\"x3\"} &2 {label:\"u1\"} &3 {label:\"u2\"} &6 {label:\"y\"}} unit*{ {inp:(*5 *4 *1) out:(*2) weights:(1.0 0.5 0.5)} {inp:(*5 *4) out:(*3) weights:(1.0 1.5)} {inp:(*2 *3) out:(*6) weights:(0.5 -1.0)}}}\n"
       ]
      }
     ],
     "prompt_number": 57
    },
    {
     "cell_type": "code",
     "collapsed": false,
     "input": [
      "print(dumps(values, crossref=1, pretty=1, nsize=3))"
     ],
     "language": "python",
     "metadata": {},
     "outputs": [
      {
       "output_type": "stream",
       "stream": "stdout",
       "text": [
        "network {\n",
        "  node* {\n",
        "    &5 {\n",
        "      label:\"x1\"}\n",
        "    &4 {\n",
        "      label:\"x2\"}\n",
        "    &1 {\n",
        "      label:\"x3\"}\n",
        "    &2 {\n",
        "      label:\"u1\"}\n",
        "    &3 {\n",
        "      label:\"u2\"}\n",
        "    &6 {\n",
        "      label:\"y\"}}\n",
        "  unit* {\n",
        "    {\n",
        "      inp: (*5 *4 *1)\n",
        "      out: (*2)\n",
        "      weights: (1.0 0.5 0.5)}\n",
        "    {\n",
        "      inp: (*5 *4)\n",
        "      out: (*3)\n",
        "      weights: (1.0 1.5)}\n",
        "    {\n",
        "      inp: (*2 *3)\n",
        "      out: (*6)\n",
        "      weights: (0.5 -1.0)}}}\n"
       ]
      }
     ],
     "prompt_number": 58
    },
    {
     "cell_type": "code",
     "collapsed": false,
     "input": [
      "print(dumps(values, crossref=1, pretty=2, nsize=3))"
     ],
     "language": "python",
     "metadata": {},
     "outputs": [
      {
       "output_type": "stream",
       "stream": "stdout",
       "text": [
        "network:\n",
        "  node*:\n",
        "    &5 :\n",
        "      label:\"x1\"\n",
        "    &4 :\n",
        "      label:\"x2\"\n",
        "    &1 :\n",
        "      label:\"x3\"\n",
        "    &2 :\n",
        "      label:\"u1\"\n",
        "    &3 :\n",
        "      label:\"u2\"\n",
        "    &6 :\n",
        "      label:\"y\"\n",
        "  unit*:\n",
        "    :\n",
        "      inp: (*5 *4 *1)\n",
        "      out: (*2)\n",
        "      weights: (1.0 0.5 0.5)\n",
        "    :\n",
        "      inp: (*5 *4)\n",
        "      out: (*3)\n",
        "      weights: (1.0 1.5)\n",
        "    :\n",
        "      inp: (*2 *3)\n",
        "      out: (*6)\n",
        "      weights: (0.5 -1.0)\n"
       ]
      }
     ],
     "prompt_number": 59
    },
    {
     "cell_type": "heading",
     "level": 3,
     "metadata": {},
     "source": [
      "Collection of mappings with same name"
     ]
    },
    {
     "cell_type": "code",
     "collapsed": false,
     "input": [
      "text = u'''\n",
      "rectangle* {\n",
      "    { left_top: (-1.0 1.0) \n",
      "      left_bottom: (-1.0 -1.0)\n",
      "      right_top: (1.0 1.0)\n",
      "      right_bottom: (1.0 -1.0)}\n",
      "    { left_top: (-2.0 2.0)\n",
      "     left_bottom: (-2.0 -1.0)\n",
      "     right_top: (1.0 2.0)\n",
      "     right_bottom: (1.0 -1.0)}\n",
      "}\n",
      "'''\n",
      "values = loads(text)\n",
      "pprint(values)"
     ],
     "language": "python",
     "metadata": {},
     "outputs": [
      {
       "output_type": "stream",
       "stream": "stdout",
       "text": [
        "[collection(u'rectangle', mapping(u'rectangle', {u'left_bottom': (-1.0, -1.0), u'right_top': (1.0, 1.0), u'right_bottom': (1.0, -1.0), u'left_top': (-1.0, 1.0)}), mapping(u'rectangle', {u'left_bottom': (-2.0, -1.0), u'right_top': (1.0, 2.0), u'right_bottom': (1.0, -1.0), u'left_top': (-2.0, 2.0)}))]\n"
       ]
      }
     ],
     "prompt_number": 60
    },
    {
     "cell_type": "code",
     "collapsed": false,
     "input": [
      "print(dumps(values))"
     ],
     "language": "python",
     "metadata": {},
     "outputs": [
      {
       "output_type": "stream",
       "stream": "stdout",
       "text": [
        "rectangle*{{left_bottom:(-1.0 -1.0) left_top:(-1.0 1.0) right_bottom:(1.0 -1.0) right_top:(1.0 1.0)}{left_bottom:(-2.0 -1.0) left_top:(-2.0 2.0) right_bottom:(1.0 -1.0) right_top:(1.0 2.0)}}\n"
       ]
      }
     ],
     "prompt_number": 61
    },
    {
     "cell_type": "code",
     "collapsed": false,
     "input": [
      "print(dumps(values, pretty=1, nsize=3))"
     ],
     "language": "python",
     "metadata": {},
     "outputs": [
      {
       "output_type": "stream",
       "stream": "stdout",
       "text": [
        "rectangle* {\n",
        "  {\n",
        "    left_bottom: (-1.0 -1.0)\n",
        "    left_top: (-1.0 1.0)\n",
        "    right_bottom: (1.0 -1.0)\n",
        "    right_top: (1.0 1.0)}\n",
        "  {\n",
        "    left_bottom: (-2.0 -1.0)\n",
        "    left_top: (-2.0 2.0)\n",
        "    right_bottom: (1.0 -1.0)\n",
        "    right_top: (1.0 2.0)}}\n"
       ]
      }
     ],
     "prompt_number": 62
    },
    {
     "cell_type": "code",
     "collapsed": false,
     "input": [
      "print(dumps(values, pretty=2, nsize=3))"
     ],
     "language": "python",
     "metadata": {},
     "outputs": [
      {
       "output_type": "stream",
       "stream": "stdout",
       "text": [
        "rectangle*:\n",
        "  :\n",
        "    left_bottom: (-1.0 -1.0)\n",
        "    left_top: (-1.0 1.0)\n",
        "    right_bottom: (1.0 -1.0)\n",
        "    right_top: (1.0 1.0)\n",
        "  :\n",
        "    left_bottom: (-2.0 -1.0)\n",
        "    left_top: (-2.0 2.0)\n",
        "    right_bottom: (1.0 -1.0)\n",
        "    right_top: (1.0 2.0)\n"
       ]
      }
     ],
     "prompt_number": 63
    },
    {
     "cell_type": "heading",
     "level": 3,
     "metadata": {},
     "source": [
      "Mapping named complex values to types"
     ]
    },
    {
     "cell_type": "code",
     "collapsed": false,
     "input": [
      "from __future__ import print_function\n",
      "from axon import dump_as_str, as_unicode, factory, reduce\n",
      "import numpy as np\n",
      "\n",
      "@factory('ndarray')\n",
      "def create_array(mapping, sequence):\n",
      "    shape = mapping.get('shape', None)\n",
      "    dtype = mapping['dtype']\n",
      "    if type(dtype) is list:\n",
      "        dtype = [(str(n), str(t)) for n, t in dtype]\n",
      "    a = np.array(sequence, dtype=dtype)\n",
      "    if shape is not None:\n",
      "        a.shape = shape\n",
      "    return a\n",
      "\n",
      "@reduce(np.ndarray)\n",
      "def reduce_array(a):\n",
      "    signes = {'<', '=', '>', '!'}\n",
      "    if len(a.dtype.descr) > 1:\n",
      "        dtype = [\n",
      "            (as_unicode(n), (as_unicode(t[1:]) \\\n",
      "                             if t[0] in signes \\\n",
      "                             else as_unicode(t)))\n",
      "            for n, t in a.dtype.descr]\n",
      "        return 'ndarray', {'dtype':dtype}, a.tolist()\n",
      "    else:\n",
      "        dtype_str = a.dtype.str\n",
      "        dtype_str = as_unicode(dtype_str[1:]) \\\n",
      "                if dtype_str[0] in signes \\\n",
      "                else as_unicode(dtype_str)\n",
      "        return 'ndarray', {'shape': a.shape, 'dtype':unicode(dtype_str)}, a.tolist()\n",
      "\n",
      "dump_as_str(np.int8)\n",
      "dump_as_str(np.int16)\n",
      "dump_as_str(np.int32)\n",
      "dump_as_str(np.int64)\n",
      "dump_as_str(np.float16)\n",
      "dump_as_str(np.float32)\n",
      "dump_as_str(np.float64)\n",
      "dump_as_str(np.float128)\n",
      "dump_as_str(np.int_)\n",
      "dump_as_str(np.float_)\n",
      "dump_as_str(np.double)\n",
      "\n",
      "a = np.array([[1, 2], [3, 4], [5, 6]])\n",
      "print('\\nCompact form:')\n",
      "text = dumps([a])\n",
      "print(text)\n",
      "b = loads(text, mode=\"strict\")[0]\n",
      "print('val=', repr(b))\n",
      "\n",
      "print('\\nFormatted form:')\n",
      "text = dumps([a], pretty=1, nsize=10)\n",
      "print(text)\n",
      "print('\\nIndented form:')\n",
      "text = dumps([a], pretty=2, nsize=10)\n",
      "print(text)\n",
      "b = loads(text, mode=\"strict\")[0]\n",
      "print('val=', repr(b))\n",
      "\n",
      "a = np.array(\n",
      "        [(1, 2, 3.0), (3, 4, 5.0), (4, 5, 6.0)], \n",
      "        dtype=[(b'x', int), (b'y', int), (b'z', float)])\n",
      "text = dumps([a])\n",
      "print('val=', text)\n",
      "b = loads(text, mode=\"strict\")[0]\n",
      "print('val=', repr(b))\n",
      "\n",
      "text = dumps([a], pretty=1, nsize=10)\n",
      "print('val=', text)\n",
      "b = loads(text, mode=\"strict\")[0]\n",
      "print('val=', repr(b))\n",
      "text = dumps([b], pretty=2, nsize=10)\n",
      "print('val=', text)\n"
     ],
     "language": "python",
     "metadata": {},
     "outputs": [
      {
       "output_type": "stream",
       "stream": "stdout",
       "text": [
        "\n",
        "Compact form:\n",
        "ndarray{dtype:\"i8\" shape:(3 2) [1 2] [3 4] [5 6]}\n",
        "val= array([[1, 2],\n",
        "       [3, 4],\n",
        "       [5, 6]])\n",
        "\n",
        "Formatted form:\n",
        "ndarray {\n",
        "  dtype: \"i8\"\n",
        "  shape: (3 2)\n",
        "  [1 2]\n",
        "  [3 4]\n",
        "  [5 6]}\n",
        "\n",
        "Indented form:\n",
        "ndarray:\n",
        "  dtype: \"i8\"\n",
        "  shape: (3 2)\n",
        "  [1 2]\n",
        "  [3 4]\n",
        "  [5 6]\n",
        "val= array([[1, 2],\n",
        "       [3, 4],\n",
        "       [5, 6]])\n",
        "val= ndarray{dtype:[(\"x\" \"i8\") (\"y\" \"i8\") (\"z\" \"f8\")] (1 2 3.0) (3 4 5.0) (4 5 6.0)}\n",
        "val= array([(1, 2, 3.0), (3, 4, 5.0), (4, 5, 6.0)], \n",
        "      dtype=[('x', '<i8'), ('y', '<i8'), ('z', '<f8')])\n",
        "val= ndarray {\n",
        "  dtype: [\n",
        "    (\"x\" \"i8\")\n",
        "    (\"y\" \"i8\")\n",
        "    (\"z\" \"f8\")]\n",
        "  (1 2 3.0)\n",
        "  (3 4 5.0)\n",
        "  (4 5 6.0)}\n",
        "val= array([(1, 2, 3.0), (3, 4, 5.0), (4, 5, 6.0)], \n",
        "      dtype=[('x', '<i8'), ('y', '<i8'), ('z', '<f8')])\n",
        "val= ndarray:\n",
        "  dtype: [\n",
        "    (\"x\" \"i8\")\n",
        "    (\"y\" \"i8\")\n",
        "    (\"z\" \"f8\")]\n",
        "  (1 2 3.0)\n",
        "  (3 4 5.0)\n",
        "  (4 5 6.0)\n"
       ]
      }
     ],
     "prompt_number": 64
    },
    {
     "cell_type": "heading",
     "level": 2,
     "metadata": {},
     "source": [
      "Documents"
     ]
    },
    {
     "cell_type": "heading",
     "level": 3,
     "metadata": {},
     "source": [
      "HTML document as data"
     ]
    },
    {
     "cell_type": "code",
     "collapsed": false,
     "input": [
      "html_as_data = '''\n",
      "html {\n",
      "  head {\n",
      "    meta: {charset: \"utf-8\"}\n",
      "    title: \"Sample html page\"\n",
      "  }\n",
      "  body {\n",
      "\n",
      "  form {\n",
      "    name:\"test\" method:\"post\" action:\"result.html\"\n",
      "    p {\n",
      "      b { \"Your name:\" } br{}\n",
      "      input { type:\"text\" size:\"40\" }\n",
      "    }\n",
      "    p { \n",
      "      b { \"What is your browser:\" } \n",
      "      input { type:\"radio\" name:\"browser\" value:\"ie\" } \"Internet Explorer\" br{}\n",
      "      input { type:\"radio\" name:\"browser\" value:\"opera\" } \"Opera\" br{}\n",
      "      input { type:\"radio\" name:\"browser\" value:\"firefox\" } \"Firefox\" br{}\n",
      "    }\n",
      "    p {\n",
      "      input { type:\"submit\" value:\"Send\" }\n",
      "    }\n",
      "  }\n",
      "  }\n",
      "}\n",
      "'''\n",
      "values = loads(html_as_data)[0]\n",
      "pprint(values)"
     ],
     "language": "python",
     "metadata": {},
     "outputs": [
      {
       "output_type": "stream",
       "stream": "stdout",
       "text": [
        "sequence(u'html', [mapping(u'head', {u'meta': {u'charset': u'utf-8'}, u'title': u'Sample html page'}), sequence(u'body', [element(u'form', {u'action': u'result.html', u'name': u'test', u'method': u'post'}, [sequence(u'p', [sequence(u'b', [u'Your name:']), empty(u'br'), mapping(u'input', {u'type': u'text', u'size': u'40'})]), sequence(u'p', [sequence(u'b', [u'What is your browser:']), mapping(u'input', {u'type': u'radio', u'name': u'browser', u'value': u'ie'}), u'Internet Explorer', empty(u'br'), mapping(u'input', {u'type': u'radio', u'name': u'browser', u'value': u'opera'}), u'Opera', empty(u'br'), mapping(u'input', {u'type': u'radio', u'name': u'browser', u'value': u'firefox'}), u'Firefox', empty(u'br')]), sequence(u'p', [mapping(u'input', {u'type': u'submit', u'value': u'Send'})])])])])\n"
       ]
      }
     ],
     "prompt_number": 65
    },
    {
     "cell_type": "code",
     "collapsed": false,
     "input": [
      "print(dumps(values))"
     ],
     "language": "python",
     "metadata": {},
     "outputs": [
      {
       "output_type": "stream",
       "stream": "stdout",
       "text": [
        "head{meta:{charset:\"utf-8\"} title:\"Sample html page\"} body{form{action:\"result.html\" method:\"post\" name:\"test\" p{b{\"Your name:\"} br{} input{size:\"40\" type:\"text\"}} p{b{\"What is your browser:\"} input{name:\"browser\" type:\"radio\" value:\"ie\"} \"Internet Explorer\" br{} input{name:\"browser\" type:\"radio\" value:\"opera\"} \"Opera\" br{} input{name:\"browser\" type:\"radio\" value:\"firefox\"} \"Firefox\" br{}} p{input{type:\"submit\" value:\"Send\"}}}}\n"
       ]
      }
     ],
     "prompt_number": 66
    },
    {
     "cell_type": "code",
     "collapsed": false,
     "input": [
      "print(dumps(values, pretty=1, nsize=3))"
     ],
     "language": "python",
     "metadata": {},
     "outputs": [
      {
       "output_type": "stream",
       "stream": "stdout",
       "text": [
        "head {\n",
        "  meta: {charset:\"utf-8\"}\n",
        "  title: \"Sample html page\"}\n",
        "body {\n",
        "  form {\n",
        "    action:\"result.html\" method:\"post\" name:\"test\"\n",
        "    p {\n",
        "      b {\n",
        "        \"Your name:\"}\n",
        "      br{}\n",
        "      input {\n",
        "        size:\"40\" type:\"text\"}}\n",
        "    p {\n",
        "      b {\n",
        "        \"What is your browser:\"}\n",
        "      input {\n",
        "        name:\"browser\" type:\"radio\" value:\"ie\"}\n",
        "      \"Internet Explorer\"\n",
        "      br{}\n",
        "      input {\n",
        "        name:\"browser\" type:\"radio\" value:\"opera\"}\n",
        "      \"Opera\"\n",
        "      br{}\n",
        "      input {\n",
        "        name:\"browser\" type:\"radio\" value:\"firefox\"}\n",
        "      \"Firefox\"\n",
        "      br{}}\n",
        "    p {\n",
        "      input {\n",
        "        type:\"submit\" value:\"Send\"}}}}\n"
       ]
      }
     ],
     "prompt_number": 67
    },
    {
     "cell_type": "code",
     "collapsed": false,
     "input": [
      "print(dumps(values, pretty=2, nsize=3))"
     ],
     "language": "python",
     "metadata": {},
     "outputs": [
      {
       "output_type": "stream",
       "stream": "stdout",
       "text": [
        "head:\n",
        "  meta: {charset:\"utf-8\"}\n",
        "  title: \"Sample html page\"\n",
        "body:\n",
        "  form:\n",
        "    action:\"result.html\" method:\"post\" name:\"test\"\n",
        "    p:\n",
        "      b:\n",
        "        \"Your name:\"\n",
        "      br:\n",
        "        ...\n",
        "      input:\n",
        "        size:\"40\" type:\"text\"\n",
        "    p:\n",
        "      b:\n",
        "        \"What is your browser:\"\n",
        "      input:\n",
        "        name:\"browser\" type:\"radio\" value:\"ie\"\n",
        "      \"Internet Explorer\"\n",
        "      br:\n",
        "        ...\n",
        "      input:\n",
        "        name:\"browser\" type:\"radio\" value:\"opera\"\n",
        "      \"Opera\"\n",
        "      br:\n",
        "        ...\n",
        "      input:\n",
        "        name:\"browser\" type:\"radio\" value:\"firefox\"\n",
        "      \"Firefox\"\n",
        "      br:\n",
        "        ...\n",
        "    p:\n",
        "      input:\n",
        "        type:\"submit\" value:\"Send\"\n"
       ]
      }
     ],
     "prompt_number": 68
    },
    {
     "cell_type": "heading",
     "level": 3,
     "metadata": {},
     "source": [
      "SVG example"
     ]
    },
    {
     "cell_type": "code",
     "collapsed": false,
     "input": [
      "text = '''\n",
      "svg:\n",
      "  xmlns:\"http://www.w3.org/2000/svg\" \n",
      "  viewBox:(0 0 300 150)\n",
      "  defs:\n",
      "    radialGradient:\n",
      "        id: \"gradient\"\n",
      "        cx: \"50%\" cy: \"50%\"\n",
      "        stop:\n",
      "          offset:\"0%\" \n",
      "          style:\n",
      "            stop_color: rgb{200 200 200} \n",
      "            stop_opacity:0\n",
      "        stop:\n",
      "          offset:\"100%\"\n",
      "          style:\n",
      "            stop_color: rgb{0 0 255}\n",
      "            stop_opacity:1\n",
      "  ellipse:\n",
      "    cx:100 cy:50 rx:100 ry:50\n",
      "    style:\n",
      "        fill: url{\"#gradient\"}\n",
      "  path:\n",
      "    d: \"M150 0 L75 200 L225 200 Z\"\n",
      "  g:\n",
      "    transform: [\n",
      "        translate{90 30}\n",
      "        rotate{-30 10}\n",
      "        scale{0.9}]\n",
      "  text:\n",
      "    x:0 y:30 font_size:\"18px\" font_weight:\"bold\"\n",
      "    text_anchor:\"middle\"\n",
      "    \"Button\"\n",
      "'''\n",
      "values = loads(text)\n",
      "pprint(values)\n"
     ],
     "language": "python",
     "metadata": {},
     "outputs": [
      {
       "output_type": "stream",
       "stream": "stdout",
       "text": [
        "[element(u'svg', {u'xmlns': u'http://www.w3.org/2000/svg', u'viewBox': (0, 0, 300, 150)}, [sequence(u'defs', [element(u'radialGradient', {u'cy': u'50%', u'cx': u'50%', u'id': u'gradient'}, [element(u'stop', {u'offset': u'0%'}, [mapping(u'style', {u'stop_color': sequence(u'rgb', [200, 200, 200]), u'stop_opacity': 0})]), element(u'stop', {u'offset': u'100%'}, [mapping(u'style', {u'stop_color': sequence(u'rgb', [0, 0, 255]), u'stop_opacity': 1})])])]), element(u'ellipse', {u'cy': 50, u'cx': 100, u'rx': 100, u'ry': 50}, [mapping(u'style', {u'fill': sequence(u'url', [u'#gradient'])})]), mapping(u'path', {u'd': u'M150 0 L75 200 L225 200 Z'}), mapping(u'g', {u'transform': [sequence(u'translate', [90, 30]), sequence(u'rotate', [-30, 10]), sequence(u'scale', [0.9])]}), element(u'text', {u'y': 30, u'x': 0, u'font_size': u'18px', u'text_anchor': u'middle', u'font_weight': u'bold'}, [u'Button'])])]\n"
       ]
      }
     ],
     "prompt_number": 69
    },
    {
     "cell_type": "code",
     "collapsed": false,
     "input": [
      "print(dumps(values))"
     ],
     "language": "python",
     "metadata": {},
     "outputs": [
      {
       "output_type": "stream",
       "stream": "stdout",
       "text": [
        "svg{viewBox:(0 0 300 150) xmlns:\"http://www.w3.org/2000/svg\" defs{radialGradient{cx:\"50%\" cy:\"50%\" id:\"gradient\" stop{offset:\"0%\" style{stop_color:rgb{200 200 200} stop_opacity:0}} stop{offset:\"100%\" style{stop_color:rgb{0 0 255} stop_opacity:1}}}} ellipse{cx:100 cy:50 rx:100 ry:50 style{fill:url{\"#gradient\"}}} path{d:\"M150 0 L75 200 L225 200 Z\"} g{transform:[translate{90 30} rotate{-30 10} scale{0.9}]} text{font_size:\"18px\" font_weight:\"bold\" text_anchor:\"middle\" x:0 y:30 \"Button\"}}\n"
       ]
      }
     ],
     "prompt_number": 70
    },
    {
     "cell_type": "code",
     "collapsed": false,
     "input": [
      "print(dumps(values, pretty=1, nsize=4))"
     ],
     "language": "python",
     "metadata": {},
     "outputs": [
      {
       "output_type": "stream",
       "stream": "stdout",
       "text": [
        "svg {\n",
        "  viewBox: (0 0 300 150)\n",
        "  xmlns: \"http://www.w3.org/2000/svg\"\n",
        "  defs {\n",
        "    radialGradient {\n",
        "      cx:\"50%\" cy:\"50%\" id:\"gradient\"\n",
        "      stop {\n",
        "        offset:\"0%\"\n",
        "        style {\n",
        "          stop_color: rgb {\n",
        "            200 200 200}\n",
        "          stop_opacity: 0}}\n",
        "      stop {\n",
        "        offset:\"100%\"\n",
        "        style {\n",
        "          stop_color: rgb {\n",
        "            0 0 255}\n",
        "          stop_opacity: 1}}}}\n",
        "  ellipse {\n",
        "    cx:100 cy:50 rx:100 ry:50\n",
        "    style {\n",
        "      fill: url {\n",
        "        \"#gradient\"}}}\n",
        "  path {\n",
        "    d:\"M150 0 L75 200 L225 200 Z\"}\n",
        "  g {\n",
        "    transform: [\n",
        "      translate {\n",
        "        90 30}\n",
        "      rotate {\n",
        "        -30 10}\n",
        "      scale {\n",
        "        0.9}]}\n",
        "  text {\n",
        "    font_size: \"18px\"\n",
        "    font_weight: \"bold\"\n",
        "    text_anchor: \"middle\"\n",
        "    x: 0\n",
        "    y: 30\n",
        "    \"Button\"}}\n"
       ]
      }
     ],
     "prompt_number": 71
    },
    {
     "cell_type": "code",
     "collapsed": false,
     "input": [
      "print(dumps(values, pretty=2, nsize=4))"
     ],
     "language": "python",
     "metadata": {},
     "outputs": [
      {
       "output_type": "stream",
       "stream": "stdout",
       "text": [
        "svg:\n",
        "  viewBox: (0 0 300 150)\n",
        "  xmlns: \"http://www.w3.org/2000/svg\"\n",
        "  defs:\n",
        "    radialGradient:\n",
        "      cx:\"50%\" cy:\"50%\" id:\"gradient\"\n",
        "      stop:\n",
        "        offset:\"0%\"\n",
        "        style:\n",
        "          stop_color: rgb:\n",
        "            200 200 200\n",
        "          stop_opacity: 0\n",
        "      stop:\n",
        "        offset:\"100%\"\n",
        "        style:\n",
        "          stop_color: rgb:\n",
        "            0 0 255\n",
        "          stop_opacity: 1\n",
        "  ellipse:\n",
        "    cx:100 cy:50 rx:100 ry:50\n",
        "    style:\n",
        "      fill: url:\n",
        "        \"#gradient\"\n",
        "  path:\n",
        "    d:\"M150 0 L75 200 L225 200 Z\"\n",
        "  g:\n",
        "    transform: [\n",
        "      translate:\n",
        "        90 30\n",
        "      rotate:\n",
        "        -30 10\n",
        "      scale:\n",
        "        0.9]\n",
        "  text:\n",
        "    font_size: \"18px\"\n",
        "    font_weight: \"bold\"\n",
        "    text_anchor: \"middle\"\n",
        "    x: 0\n",
        "    y: 30\n",
        "    \"Button\"\n"
       ]
      }
     ],
     "prompt_number": 72
    },
    {
     "cell_type": "heading",
     "level": 2,
     "metadata": {},
     "source": [
      "Element tree"
     ]
    },
    {
     "cell_type": "code",
     "collapsed": false,
     "input": [
      "from xml.etree import ElementTree, cElementTree"
     ],
     "language": "python",
     "metadata": {},
     "outputs": [],
     "prompt_number": 73
    },
    {
     "cell_type": "markdown",
     "metadata": {},
     "source": [
      "Let's define function for dumping ``ElementTree`` structures according to ``AXON`` rules."
     ]
    },
    {
     "cell_type": "code",
     "collapsed": false,
     "input": [
      "@reduce(cElementTree.Element)\n",
      "@reduce(ElementTree.Element)\n",
      "def element_reduce(element):\n",
      "    children = element.getchildren()\n",
      "    if element.attrib:\n",
      "        if children:\n",
      "            return element.tag, element.attrib, children\n",
      "        else:\n",
      "            return element.tag, element.attrib\n",
      "    elif children:\n",
      "            return element.tag, children\n",
      "    else:\n",
      "        return element.tag\n",
      "        \n",
      "@reduce(cElementTree.ElementTree)\n",
      "@reduce(ElementTree.ElementTree)\n",
      "def etree_reduce(element):\n",
      "    return element_reduce(element.getroot())\n",
      "    \n",
      "    "
     ],
     "language": "python",
     "metadata": {},
     "outputs": [],
     "prompt_number": 74
    },
    {
     "cell_type": "code",
     "collapsed": false,
     "input": [
      "root = ElementTree.Element('persons')\n",
      "ElementTree.SubElement(root, 'person', {'name':'Alice', 'age':25})\n",
      "ElementTree.SubElement(root,'person', {'name':'Bob', 'age':33})\n",
      "etree = ElementTree.ElementTree(root)\n",
      "\n",
      "text = dumps([etree], pretty=1)\n",
      "print(text)"
     ],
     "language": "python",
     "metadata": {},
     "outputs": [
      {
       "output_type": "stream",
       "stream": "stdout",
       "text": [
        "persons {\n",
        "  person {\n",
        "    age: 25\n",
        "    name: \"Alice\"}\n",
        "  person {\n",
        "    age: 33\n",
        "    name: \"Bob\"}}\n"
       ]
      }
     ],
     "prompt_number": 75
    },
    {
     "cell_type": "code",
     "collapsed": false,
     "input": [
      "def update_attribs(d):\n",
      "    for key, val in d.items():\n",
      "        d[key] = unicode(val)\n",
      "\n",
      "class ElementTreeBuilder(GenericBuilder):\n",
      "    def empty(self, name):\n",
      "        return cElementTree.Element(name)\n",
      "    def mapping(self, name, attribs):\n",
      "        update_attribs(attribs)\n",
      "        return cElementTree.Element(name, attribs)\n",
      "    def sequence(self, name, children):\n",
      "        e = cElementTree.Element(name)\n",
      "        e.extend(children)\n",
      "        return e\n",
      "    def element(self, name, attribs, children):\n",
      "        update_attribs(attribs)\n",
      "        e = cElementTree.Element(name, attribs)\n",
      "        e.extend(children)\n",
      "        return e\n",
      "    "
     ],
     "language": "python",
     "metadata": {},
     "outputs": [],
     "prompt_number": 76
    },
    {
     "cell_type": "code",
     "collapsed": false,
     "input": [
      "register_builder('etree', ElementTreeBuilder())    "
     ],
     "language": "python",
     "metadata": {},
     "outputs": [],
     "prompt_number": 77
    },
    {
     "cell_type": "code",
     "collapsed": false,
     "input": [
      "vals = loads(text, mode='etree')"
     ],
     "language": "python",
     "metadata": {},
     "outputs": [],
     "prompt_number": 78
    },
    {
     "cell_type": "code",
     "collapsed": false,
     "input": [
      "cElementTree.dump(vals[0])"
     ],
     "language": "python",
     "metadata": {},
     "outputs": [
      {
       "output_type": "stream",
       "stream": "stdout",
       "text": [
        "<persons><person age=\"25\" name=\"Alice\" /><person age=\"33\" name=\"Bob\" /></persons>\n"
       ]
      }
     ],
     "prompt_number": 79
    },
    {
     "cell_type": "code",
     "collapsed": false,
     "input": [],
     "language": "python",
     "metadata": {},
     "outputs": [],
     "prompt_number": 79
    },
    {
     "cell_type": "code",
     "collapsed": false,
     "input": [
      "import IPython.core.display\n",
      "IPython.core.display.HTML(\"\"\"\n",
      "<style type=\"text/css\">\n",
      "\n",
      "div.input {\n",
      "width: 110ex; /* about 80 chars + buffer */\n",
      "}\n",
      "\n",
      "div.text_cell {\n",
      "width: 110ex /* instead of 100%, */\n",
      "}\n",
      "\n",
      "div.text_cell_render {\n",
      "/*font-family: \"Source Sans Pro\", \"Helvetica Neue\", Arial, Helvetica, Geneva, sans-serif;*/\n",
      "font-family: \"Charis SIL\", \"Times New Roman\", serif; \n",
      "line-height: 145%; /* added for some line spacing of text. */\n",
      "width: 110ex; /* instead of 'inherit' for shorter lines */\n",
      "font-size: 12pt\n",
      "}\n",
      "\n",
      "/* Set the size of the headers */\n",
      "div.text_cell_render h1 {\n",
      "font-family: \"Source Sans Pro\", \"Helvetica Neue\", Arial, Helvetica, Geneva, sans-serif;\n",
      "font-size: 18pt;\n",
      "color: #A00000;\n",
      "}\n",
      "\n",
      "div.text_cell_render h2 {\n",
      "font-family: \"Source Sans Pro\", \"Helvetica Neue\", Arial, Helvetica, Geneva, sans-serif;\n",
      "font-size: 14pt;\n",
      "color: #A00000;\n",
      "}\n",
      "\n",
      "div.text_cell_render h3 {\n",
      "font-family: \"Source Sans Pro\", \"Helvetica Neue\", Arial, Helvetica, Geneva, sans-serif;\n",
      "font-size: 13pt;\n",
      "color: #A00000;\n",
      "}\n",
      "\n",
      "em {\n",
      " color: #00A000;\n",
      "}\n",
      "\n",
      "code {\n",
      " font-family: Consolas, monospace;\n",
      " color: #0000A0;\n",
      " font-size: 11pt;\n",
      "}\n",
      "\n",
      ".CodeMirror {\n",
      " font-family: \"Consolas, monospace;\n",
      " font-size: 11pt;\n",
      "}\n",
      "\n",
      ".rendered_html ol {list-style:decimal; margin: 1em 2em;}\n",
      "</style>\n",
      "\"\"\")"
     ],
     "language": "python",
     "metadata": {},
     "outputs": [
      {
       "html": [
        "\n",
        "<style type=\"text/css\">\n",
        "\n",
        "div.input {\n",
        "width: 110ex; /* about 80 chars + buffer */\n",
        "}\n",
        "\n",
        "div.text_cell {\n",
        "width: 110ex /* instead of 100%, */\n",
        "}\n",
        "\n",
        "div.text_cell_render {\n",
        "/*font-family: \"Source Sans Pro\", \"Helvetica Neue\", Arial, Helvetica, Geneva, sans-serif;*/\n",
        "font-family: \"Charis SIL\", \"Times New Roman\", serif; \n",
        "line-height: 145%; /* added for some line spacing of text. */\n",
        "width: 110ex; /* instead of 'inherit' for shorter lines */\n",
        "font-size: 12pt\n",
        "}\n",
        "\n",
        "/* Set the size of the headers */\n",
        "div.text_cell_render h1 {\n",
        "font-family: \"Source Sans Pro\", \"Helvetica Neue\", Arial, Helvetica, Geneva, sans-serif;\n",
        "font-size: 18pt;\n",
        "color: #A00000;\n",
        "}\n",
        "\n",
        "div.text_cell_render h2 {\n",
        "font-family: \"Source Sans Pro\", \"Helvetica Neue\", Arial, Helvetica, Geneva, sans-serif;\n",
        "font-size: 14pt;\n",
        "color: #A00000;\n",
        "}\n",
        "\n",
        "div.text_cell_render h3 {\n",
        "font-family: \"Source Sans Pro\", \"Helvetica Neue\", Arial, Helvetica, Geneva, sans-serif;\n",
        "font-size: 13pt;\n",
        "color: #A00000;\n",
        "}\n",
        "\n",
        "em {\n",
        " color: #00A000;\n",
        "}\n",
        "\n",
        "code {\n",
        " font-family: Consolas, monospace;\n",
        " color: #0000A0;\n",
        " font-size: 11pt;\n",
        "}\n",
        "\n",
        ".CodeMirror {\n",
        " font-family: \"Consolas, monospace;\n",
        " font-size: 11pt;\n",
        "}\n",
        "\n",
        ".rendered_html ol {list-style:decimal; margin: 1em 2em;}\n",
        "</style>\n"
       ],
       "output_type": "pyout",
       "prompt_number": 80,
       "text": [
        "<IPython.core.display.HTML at 0x104eb7610>"
       ]
      }
     ],
     "prompt_number": 80
    },
    {
     "cell_type": "code",
     "collapsed": false,
     "input": [],
     "language": "python",
     "metadata": {},
     "outputs": [],
     "prompt_number": 80
    },
    {
     "cell_type": "code",
     "collapsed": false,
     "input": [],
     "language": "python",
     "metadata": {},
     "outputs": [],
     "prompt_number": 80
    },
    {
     "cell_type": "code",
     "collapsed": false,
     "input": [],
     "language": "python",
     "metadata": {},
     "outputs": [],
     "prompt_number": 80
    },
    {
     "cell_type": "code",
     "collapsed": false,
     "input": [],
     "language": "python",
     "metadata": {},
     "outputs": [],
     "prompt_number": 80
    }
   ],
   "metadata": {}
  }
 ]
}