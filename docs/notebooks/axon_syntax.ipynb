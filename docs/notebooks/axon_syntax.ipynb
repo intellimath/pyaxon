{
 "metadata": {
  "name": ""
 },
 "nbformat": 3,
 "nbformat_minor": 0,
 "worksheets": [
  {
   "cells": [
    {
     "cell_type": "heading",
     "level": 1,
     "metadata": {},
     "source": [
      "AXON: Syntax"
     ]
    },
    {
     "cell_type": "markdown",
     "metadata": {},
     "source": [
      "`AXON` message is *unicode* encoded *textual* representation of collection of **data items**.\n",
      "\n",
      "> `axon ::= data-item*`\n",
      "\n",
      "> <img src=\"files/figs/simpleon.png\"/>"
     ]
    },
    {
     "cell_type": "markdown",
     "metadata": {},
     "source": [
      "Each **data-item** is a value with optional **label**\n",
      "or a **reference** to the value specified by it's label.\n",
      "\n",
      "> `data-item ::= ('&' label)? value | '*' label`\n",
      "\n",
      "> <img src=\"files/figs/data-item.png\"/>\n",
      "\n",
      "> `label ::= ([A-Z] | [a-z] | [0-9] | '_' )+`\n",
      "\n",
      "> <img src=\"files/figs/label.png\"/>\n"
     ]
    },
    {
     "cell_type": "markdown",
     "metadata": {},
     "source": [
      "Each **value** is **atomic value** or **complex value**.\n",
      "\n",
      "> `value ::= complex-value | atomic-value`\n",
      "\n",
      "> <img src=\"files/figs/value.png\"/>"
     ]
    },
    {
     "cell_type": "markdown",
     "metadata": {},
     "source": [
      "**Complex value** is *anonymous* or *named*.\n",
      "\n",
      "> `complex-value ::= anonymous-complex-value | named-complex-value`\n",
      "\n",
      "> <img src=\"files/figs/complex-value.png\"/>\n"
     ]
    },
    {
     "cell_type": "markdown",
     "metadata": {},
     "source": [
      "**Anonymous complex value** is **dict**, **list** or **tuple**.\n",
      "\n",
      "> `anonymous-complex-value ::= dict | list | tuple`\n",
      "\n",
      "> <img src=\"files/figs/anonymous-complex-value.png\"/>"
     ]
    },
    {
     "cell_type": "markdown",
     "metadata": {},
     "source": [
      "**Dict** is unordered collection of `key : data-item` pairs.\n",
      "\n",
      "> `dict ::= '{' dict-item* '}'`\n",
      "\n",
      "> <img src=\"files/figs/dict.png\"/>\n",
      "\n",
      "> `dict-item ::= key ':' data-item`\n",
      "\n",
      "> <img src=\"files/figs/dict-item.png\"/>\n",
      "\n",
      "> `key ::= identifier | text`\n",
      "\n",
      "> <img src=\"files/figs/key.png\"/>\n",
      "\n",
      "One could interprete as a `dict` in `python` with string keys or\n",
      "as an `object` in `javascript`.\n"
     ]
    },
    {
     "cell_type": "markdown",
     "metadata": {},
     "source": [
      "**List** is just a list &ndash; ordered collection of any value.\n",
      "\n",
      "> `list ::= '[' data-item* ']'`\n",
      "\n",
      "> <img src=\"files/figs/list.png\"/>\n",
      "\n",
      "One could interprete it as `python`'s `list`."
     ]
    },
    {
     "cell_type": "markdown",
     "metadata": {},
     "source": [
      "**Tuple** is just a tuple/array &ndash; fixed ordered collection of any value.\n",
      "\n",
      "> `tuple ::= '(' data-item* ')'`\n",
      "\n",
      "> <img src=\"files/figs/tuple.png\"/>\n",
      "\n",
      "One could interprete it as `python`'s `tuple` or `javascript`'s `array`."
     ]
    },
    {
     "cell_type": "markdown",
     "metadata": {},
     "source": [
      "**Named complex value** is *named* **mapping**,\n",
      "**element**, **sequence**, **instance**, or **empty** value.\n",
      "\n",
      "> `named-complex-value ::= mapping | element | sequence | instance | empty`\n",
      "\n",
      "> <img src=\"files/figs/named-complex-value.png\"/>\n"
     ]
    },
    {
     "cell_type": "markdown",
     "metadata": {},
     "source": [
      "**Mapping** is a named *dict*, where key is a **name**,\n",
      "and value is the value of attribute.\n",
      "\n",
      "**free form:**\n",
      "\n",
      "> `mapping ::= name '{' data-attr+ '}'`\n",
      "\n",
      "> <img src=\"files/figs/mapping.png\"/>\n",
      "\n",
      "**indented form:**\n",
      "\n",
      "> `mapping  ::= name ':' ('newline+indent' data-attr+)+`\n",
      "\n",
      "> <img src=\"files/figs/mapping2.png\"/>\n",
      "\n",
      "Data **attribute** is a ``name:value`` pair:\n",
      "\n",
      "> `data-attr ::= name ':' data-item`\n",
      "\n",
      "> <img src=\"files/figs/data-attr.png\"/>\n",
      "\n",
      "**name** is an **identifier** or **string-key**.\n",
      "\n",
      "> `name ::= identifier | string-key`\n",
      "\n",
      "> <img src=\"files/figs/name.png\"/>\n",
      "\n",
      "One could interprete it as:\n",
      "\n",
      "* node in `XML` (name == tag) with attributes, but without value and subnodes,\n",
      "* object's instance with attributes when it's type is somewhat mapped to the name of the mapping, \n",
      "* attributed leaf of the tree.\n"
     ]
    },
    {
     "cell_type": "markdown",
     "metadata": {},
     "source": [
      "**Element** is a *named* **mapping** which is extended by additional collection of *child* values.\n",
      "\n",
      "**free form:**\n",
      "\n",
      "> `element ::= name '{' data-attr+ data-item+ '}'`\n",
      "\n",
      "> <img src=\"files/figs/element.png\"/>\n",
      "\n",
      "**indented form:**\n",
      "\n",
      "> `element  ::= name ':' ('newline+indent' data-attr+ )+ ('newline+indent' data-item+ )+`\n",
      "\n",
      "> <img src=\"files/figs/element2.png\"/>\n",
      "\n",
      "One could interprete it as \n",
      "\n",
      "* node in XML (name == tag) with attributes and subnodes,\n",
      "* attributed tree node with subnodes."
     ]
    },
    {
     "cell_type": "markdown",
     "metadata": {},
     "source": [
      "**Sequence** is a *named* **list**.\n",
      "\n",
      "**free form:**\n",
      "\n",
      "> `sequence ::= name '{' data-item+ '}'`\n",
      "\n",
      "> <img src=\"files/figs/sequence.png\"/>\n",
      "\n",
      "**indented form:**\n",
      "\n",
      "> `sequence ::= name ':' (( 'newline+indent' data-item+ )+ | 'newline+indent' '...' )`\n",
      "\n",
      "> <img src=\"files/figs/sequence2.png\"/>\n",
      "\n",
      "One could interprete it as node in XML (name == tag) with su nodes, but without any attribute.\n"
     ]
    },
    {
     "cell_type": "markdown",
     "metadata": {},
     "source": [
      "**Instance** is a *named* tuple which is extended by additional attributes dictionary.\n",
      "\n",
      "**free form:**\n",
      "\n",
      "> `instance ::= name '{' data-item+  data-attr+ '}'`\n",
      "\n",
      "> <img src=\"files/figs/instance.png\"/>\n",
      "\n",
      "**indented form:**\n",
      "\n",
      "> `instance ::= name ':' ( 'newline+indent' data-item+ )+ ( 'newline+indent' data-attr+ )+`\n",
      "\n",
      "> <img src=\"files/figs/instance2.png\"/>\n",
      "\n",
      "One could interprete it as:\n",
      "\n",
      "* XML node in a role of attributed named value,\n",
      "* as function call signature with an actual list of positional arguments and collection of keyword arguments,\n",
      "* an instance of a row/object which has several requiered field/attribute values and several optional field/attribute values\n",
      "that are specified explicitly by their names.\n"
     ]
    },
    {
     "cell_type": "markdown",
     "metadata": {},
     "source": [
      "**Empty** *named* complex value with no content.\n",
      "\n",
      "**free form:**\n",
      "\n",
      "> `empty ::= name '{' '}'`\n",
      "\n",
      "> <img src=\"files/figs/empty.png\"/>\n",
      "\n",
      "**indented form:**\n",
      "\n",
      "> `empty  ::= name ':' 'newline+indent' '...'`\n",
      "\n",
      "> <img src=\"files/figs/empty2.png\"/>\n"
     ]
    },
    {
     "cell_type": "markdown",
     "metadata": {},
     "source": [
      "There are can be any number of space symbols in complex values after and before\n",
      "symbols ``{``, ``}``, ``[``, ``]`` and ``:``.\n",
      "\n",
      "In indented form the content of named complex values is indented: each non-empty line of content have to be indented with same indentation level.\n"
     ]
    },
    {
     "cell_type": "markdown",
     "metadata": {},
     "source": [
      "**Identifier** starts with alphabetic unicode character or underscore ('_') and contains\n",
      "any number of alphanumeric unicode characters or underscore.\n",
      "\n",
      "> `identifier ::= ( 'unicode alphabetic char' | '_') ('unicode alphanumeric char' | '_')*`\n",
      "\n",
      "> <img src=\"files/figs/identifier.png\"/>"
     ]
    },
    {
     "cell_type": "markdown",
     "metadata": {},
     "source": [
      "**String key** is an unicode string enclosed in single quotes using backslash escaped.\n",
      "\n",
      "> `string-key ::=\n",
      "        \"'\" ( \" any unicode character except ' \"\n",
      "            | unicode-hex\n",
      "            | control-char\n",
      "            | \"\\'\" | '\\\\' ) \"'\"`\n",
      "\n",
      "> <img src=\"files/figs/string-key.png\"/>\n",
      "\n",
      "> `unicode-hex ::= ('\\u' | '\\U') '4 hex digits'`\n",
      "\n",
      "> <img src=\"files/figs/unicode-hex.png\"/>\n",
      "\n",
      "> `control-char ::= '\\n' | '\\r' | '\\t'`\n",
      "\n",
      "> <img src=\"files/figs/control-char.png\"/>\n"
     ]
    },
    {
     "cell_type": "markdown",
     "metadata": {},
     "source": [
      "Atomic value is a **number**, **unicode text**, **date/time**, and some **constants** value.\n",
      "\n",
      "> `atomic-value ::= number | text | date-time | constants`\n",
      "\n",
      "> <img src=\"files/figs/atomic-value.png\"/>"
     ]
    },
    {
     "cell_type": "markdown",
     "metadata": {},
     "source": [
      "**Number** is an **int**, **float**  or **decimal**.\n",
      "\n",
      "> `number ::= int | float | decimal`\n",
      "\n",
      "> <img src=\"files/figs/number.png\"/>"
     ]
    },
    {
     "cell_type": "markdown",
     "metadata": {},
     "source": [
      "**Int** is as usual.\n",
      "\n",
      "> `int ::= '-'? [0-9]+`\n",
      "\n",
      "> <img src=\"files/figs/int.png\"/>"
     ]
    },
    {
     "cell_type": "markdown",
     "metadata": {},
     "source": [
      "**Float** is as usual too.\n",
      "\n",
      "> `float ::= fixed-point exp? | int exp`\n",
      "\n",
      "> <img src=\"files/figs/float.png\"/>\n",
      "\n",
      "> `fixed-point ::= '-'? [0-9]+ '.' [0-9]* | '-'? '.' [0-9]+`\n",
      "\n",
      "> <img src=\"files/figs/fixed-point.png\"/>\n",
      "\n",
      "> `exp ::= ('E' | 'e') ('+' | '-')? [0-9]+`\n",
      "\n",
      "> <img src=\"files/figs/exp.png\"/>"
     ]
    },
    {
     "cell_type": "markdown",
     "metadata": {},
     "source": [
      "**Decimal** represents as **integer** or **float** with '$' suffix:\n",
      "\n",
      "> `decimal ::= (int | float) '$'`\n",
      "\n",
      "> <img src=\"files/figs/decimal.png\"/>\n",
      "\n",
      "It corresponds to `Decimal` datatype."
     ]
    },
    {
     "cell_type": "markdown",
     "metadata": {},
     "source": [
      "**Text** is a sequence of unicode characters enclosed in double quotes, using backslash escapes:\n",
      "\n",
      "> `text ::=\n",
      "        '\"' ( ' any unicode character except \" '\n",
      "            | unicode-hex\n",
      "            | control-char\n",
      "            | '\\\"' ) '\"'`\n",
      "\n",
      "> <img src=\"files/figs/text.png\"/>\n",
      "\n",
      "Note that text token can be a multiline.\n",
      "Character '\\\\' has one special meaning: it defines continuation of the line\n",
      "when the next character is a `newline` ('\\n') or `carriage return` ('\\r').\n"
     ]
    },
    {
     "cell_type": "markdown",
     "metadata": {},
     "source": [
      "> `date-time ::= date | time | datetime`\n",
      "\n",
      "> <img src=\"files/figs/date-time.png\"/>\n"
     ]
    },
    {
     "cell_type": "markdown",
     "metadata": {},
     "source": [
      "**Date** is ISO-like date.\n",
      "\n",
      "> `date ::= year '-' month '-' day`\n",
      "\n",
      "> <img src=\"files/figs/date.png\"/>\n",
      "\n",
      "> `year ::= 'unsigned int value: year > 0'`\n",
      "\n",
      "> <img src=\"files/figs/year.png\"/>\n",
      "\n",
      "> `month ::= 'unsigned int value: 1 <= month <= 12'`\n",
      "\n",
      "> <img src=\"files/figs/month.png\"/>\n",
      "\n",
      "> `day ::= 'unsigned int value: 1 <= day <= 31'`\n",
      "\n",
      "> <img src=\"files/figs/day.png\"/>\n"
     ]
    },
    {
     "cell_type": "markdown",
     "metadata": {},
     "source": [
      "**Time** is ISO-like time value with optional timezone offset.\n",
      "\n",
      "> `time ::= hours ':' minutes (':' seconds ('.' microseconds)? )? time-offset?`\n",
      "\n",
      "> <img src=\"files/figs/time.png\"/>\n",
      "\n",
      "> `hours ::= 'unsigned int value: 0 <= hours <= 23'`\n",
      "\n",
      "> <img src=\"files/figs/hours.png\"/>\n",
      "\n",
      "> `minutes ::= 'unsigned int value: 0 <= minutes <= 59'`\n",
      "\n",
      "> <img src=\"files/figs/minutes.png\"/>\n",
      "\n",
      "> `seconds ::= 'unsigned int value: 0 <= seconds <= 59'`\n",
      "\n",
      "> <img src=\"files/figs/seconds.png\"/>\n",
      "\n",
      "> `microseconds ::= 'unsigned int value: 0 <= microseconds <= 999999'`\n",
      "\n",
      "> <img src=\"files/figs/microseconds.png\"/>\n",
      "\n",
      "> `time-offset ::= ((+|-) hours (':' minutes)?)?`\n",
      "\n",
      "> <img src=\"files/figs/time-offset.png\"/>"
     ]
    },
    {
     "cell_type": "markdown",
     "metadata": {},
     "source": [
      "**Datetime** is ISO-like datetime value with optional timezone info in the form of time offset.\n",
      "\n",
      "> `datetime ::= date 'T' time time-offset?`\n",
      "\n",
      "> <img src=\"files/figs/datetime.png\"/>"
     ]
    },
    {
     "cell_type": "markdown",
     "metadata": {},
     "source": [
      "**Constants** are boolean constants *true*, *false`*, *null* constant, inifinities and NaNs.\n",
      "\n",
      "> `constant ::= 'null' |  'true' | 'false' | '-'? constant-infinity | constant-nan`\n",
      "\n",
      "> <img src=\"files/figs/constant.png\"/>\n",
      "\n",
      "> `constant-infinity ::= 'Infinity' | '\u221e'`\n",
      "\n",
      "> <img src=\"files/figs/constant-infinity.png\"/>\n",
      "\n",
      "Note that unicode character ``'\u221e'`` (#8734) can be used as an **Infinity** symbol.\n",
      "\n",
      "> `constant-nan ::= 'NaN' | '?'`\n",
      "\n",
      "> <img src=\"files/figs/constant-nan.png\"/>\n",
      "\n",
      "Note that ascii character ``'?'`` can be used as a **NaN** symbol."
     ]
    },
    {
     "cell_type": "markdown",
     "metadata": {},
     "source": [
      "All simple values are separated by space characters."
     ]
    },
    {
     "cell_type": "markdown",
     "metadata": {},
     "source": [
      "Binary sequences of bytes are represented in MIME Base64 encoding that is started with '|':\n",
      "\n",
      "> `binary-data ::= '|' 'Base64 encoded multiline ascii string'`\n",
      "\n",
      "> <img src=\"files/figs/binary-data.png\"/>\n"
     ]
    },
    {
     "cell_type": "markdown",
     "metadata": {},
     "source": [
      "`AXON` syntax is defined in [EBNF](http://en.wikipedia.org/wiki/Extended_Backus%E2%80%93Naur_Form) notation from [W3C](http://www.w3.org/TR/2004/REC-xml-20040204/#sec-notation). \n",
      "\n",
      "Railroad diagrams was generated by excelent [Railroad Diagram Generator](http://railroad.my28msec.com/rr/ui).\n"
     ]
    },
    {
     "cell_type": "markdown",
     "metadata": {},
     "source": [
      "\n"
     ]
    }
   ],
   "metadata": {}
  }
 ]
}