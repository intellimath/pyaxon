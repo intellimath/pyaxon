{
 "metadata": {
  "name": "axon_tutorial"
 },
 "nbformat": 3,
 "nbformat_minor": 0,
 "worksheets": [
  {
   "cells": [
    {
     "cell_type": "heading",
     "level": 1,
     "metadata": {},
     "source": [
      "AXON: Tutorial"
     ]
    },
    {
     "cell_type": "markdown",
     "metadata": {},
     "source": [
      "Let's import inventory for playing with ``AXON`` with ``python``."
     ]
    },
    {
     "cell_type": "code",
     "collapsed": false,
     "input": [
      "from __future__ import unicode_literals, print_function\n",
      "from pprint import pprint\n",
      "import axon\n",
      "import json\n",
      "from IPython.display import HTML, display, display_html\n",
      "\n",
      "def test_cv(text):\n",
      "    vals = loads(text)\n",
      "    text1 = dumps(vals)\n",
      "    text2 = dumps(vals, pretty=1)\n",
      "    text3 = dumps(vals, pretty=2)\n",
      "    template = '''\\\n",
      "    <table>\n",
      "    <tr><td colspan=2 style=\"background-color:#d0d0d0;\"><b>Compact form</b></td></tr>\n",
      "    <tr><td colspan=2><pre>%s</pre></td></tr>\n",
      "    <tr><td style=\"background-color:#d0d0d0;\"><b>Expression formatted</b></td>\n",
      "        <td style=\"background-color:#d0d0d0;\"><b>Statement indented<b></td></tr>\n",
      "    <tr><td><pre>%s</pre></td><td><pre>%s</pre></td></tr>\n",
      "    </table>\n",
      "    '''\n",
      "    return HTML(template % (text1, text2, text3))\n",
      "    \n",
      "def test_av(text):\n",
      "    vals = loads(text)\n",
      "    text1 = dumps(vals)\n",
      "    text2 = dumps(vals, pretty=1)\n",
      "    template = '''\\\n",
      "    <table>\n",
      "    <tr><tdstyle=\"background-color:#d0d0d0;\"><b>Compact form</b></td></tr>\n",
      "    <tr><td><pre>%s</pre></td></tr>\n",
      "    <tr><td style=\"background-color:#d0d0d0;\"><b>Expression formatted</b></td></tr>\n",
      "    <tr><td><pre>%s</pre></td></tr>\n",
      "    </table>\n",
      "    '''\n",
      "    return HTML(template % (text1, text2))\n"
     ],
     "language": "python",
     "metadata": {},
     "outputs": [],
     "prompt_number": 4
    },
    {
     "cell_type": "heading",
     "level": 2,
     "metadata": {},
     "source": [
      "JSON as subset of AXON"
     ]
    },
    {
     "cell_type": "markdown",
     "metadata": {},
     "source": [
      "``AXON`` could be consider as superset of ``JSON``."
     ]
    },
    {
     "cell_type": "markdown",
     "metadata": {},
     "source": [
      "Here is well known example of `JSON` message:"
     ]
    },
    {
     "cell_type": "code",
     "collapsed": false,
     "input": [
      "val = json.load(open(\"basic_sample.json\"))\n",
      "print(json.dumps(val, indent=2))"
     ],
     "language": "python",
     "metadata": {},
     "outputs": [
      {
       "output_type": "stream",
       "stream": "stdout",
       "text": [
        "{\n",
        "  \"lastName\": \"Smith\", \n",
        "  \"age\": 25, \n",
        "  \"phoneNumber\": [\n",
        "    {\n",
        "      \"type\": \"home\", \n",
        "      \"number\": \"212 555-1234\"\n",
        "    }, \n",
        "    {\n",
        "      \"type\": \"fax\", \n",
        "      \"number\": \"646 555-4567\"\n",
        "    }\n",
        "  ], \n",
        "  \"firstName\": \"John\", \n",
        "  \"address\": {\n",
        "    \"postalCode\": 10021, \n",
        "    \"city\": \"New York\", \n",
        "    \"streetAddress\": \"21 2nd Street\", \n",
        "    \"state\": \"NY\"\n",
        "  }\n",
        "}\n"
       ]
      }
     ],
     "prompt_number": 2
    },
    {
     "cell_type": "markdown",
     "metadata": {},
     "source": [
      "Here is direct translation to ``AXON`` format. It was obtained by removing all **,** and **\"** around keys that are identifiers:"
     ]
    },
    {
     "cell_type": "code",
     "collapsed": false,
     "input": [
      "print(axon.dumps([val], pretty=1))"
     ],
     "language": "python",
     "metadata": {},
     "outputs": [
      {
       "output_type": "stream",
       "stream": "stdout",
       "text": [
        "{ address: {\n",
        "    city: \"New York\"\n",
        "    postalCode: 10021\n",
        "    state: \"NY\"\n",
        "    streetAddress: \"21 2nd Street\"}\n",
        "  age: 25\n",
        "  firstName: \"John\"\n",
        "  lastName: \"Smith\"\n",
        "  phoneNumber: [\n",
        "    { number: \"212 555-1234\"\n",
        "      type: \"home\"}\n",
        "    { number: \"646 555-4567\"\n",
        "      type: \"fax\"}]}\n"
       ]
      }
     ],
     "prompt_number": 3
    },
    {
     "cell_type": "markdown",
     "metadata": {},
     "source": [
      "We'l call it *JSON style* of representation, which bases on compositions of *dicts* and *lists*."
     ]
    },
    {
     "cell_type": "markdown",
     "metadata": {},
     "source": [
      "For compatibility reasons there is a mode in ``pyaxon`` python library that allow using symbol ``','`` as a separator symbol between values in lists and dicts. In this case almost valid ``JSON`` message can be treated as ``AXON`` message:"
     ]
    },
    {
     "cell_type": "code",
     "collapsed": false,
     "input": [
      "val = axon.load(\"basic_sample.json\", json=1)\n",
      "print(axon.dumps(val, pretty=1))"
     ],
     "language": "python",
     "metadata": {},
     "outputs": [
      {
       "output_type": "stream",
       "stream": "stdout",
       "text": [
        "{ address: {\n",
        "    city: \"New York\"\n",
        "    postalCode: 10021\n",
        "    state: \"NY\"\n",
        "    streetAddress: \"21 2nd Street\"}\n",
        "  age: 25\n",
        "  firstName: \"John\"\n",
        "  lastName: \"Smith\"\n",
        "  phoneNumber: [\n",
        "    { number: \"212 555-1234\"\n",
        "      type: \"home\"}\n",
        "    { number: \"646 555-4567\"\n",
        "      type: \"fax\"}]}\n"
       ]
      }
     ],
     "prompt_number": 4
    },
    {
     "cell_type": "heading",
     "level": 2,
     "metadata": {},
     "source": [
      "AXON as better JSON"
     ]
    },
    {
     "cell_type": "markdown",
     "metadata": {},
     "source": [
      "``AXON`` support *decimal* numbers and *date*, *time*, *datetime* values.\n",
      "\n",
      "Let's consider ``AXON`` example &ndash; list of dicts containing decimal, date and time values:"
     ]
    },
    {
     "cell_type": "code",
     "collapsed": false,
     "input": [
      "print(open(\"better_json.axon\").read())"
     ],
     "language": "python",
     "metadata": {},
     "outputs": [
      {
       "output_type": "stream",
       "stream": "stdout",
       "text": [
        "{\n",
        "  date: 2012-12-01\n",
        "  time: 12:00\n",
        "  debet: 1230$\n",
        "  credit: 230$\n",
        "}\n",
        "{\n",
        "  date: 2012-12-10\n",
        "  time: 9:00\n",
        "  debet: 2130$\n",
        "  credit: 1020$\n",
        "}\n",
        "{\n",
        "  date: 2012-12-20\n",
        "  time: 15:00\n",
        "  debet: 230$\n",
        "  credit: 1200$\n",
        "}\n",
        "\n",
        "\n"
       ]
      }
     ],
     "prompt_number": 27
    },
    {
     "cell_type": "code",
     "collapsed": false,
     "input": [
      "vals = axon.load(\"better_json.axon\")\n",
      "display(HTML('<b>Python:</b>'))\n",
      "pprint(vals)\n",
      "display(HTML('<b>AXON:</b>'))\n",
      "print(axon.dumps(vals, pretty=1))"
     ],
     "language": "python",
     "metadata": {},
     "outputs": [
      {
       "html": [
        "<b>Python:</b>"
       ],
       "output_type": "display_data",
       "text": [
        "<IPython.core.display.HTML at 0x103f05e90>"
       ]
      },
      {
       "output_type": "stream",
       "stream": "stdout",
       "text": [
        "[{u'credit': Decimal('230'),\n",
        "  u'date': datetime.date(2012, 12, 1),\n",
        "  u'debet': Decimal('1230'),\n",
        "  u'time': datetime.time(12, 0)},\n",
        " {u'credit': Decimal('1020'),\n",
        "  u'date': datetime.date(2012, 12, 10),\n",
        "  u'debet': Decimal('2130'),\n",
        "  u'time': datetime.time(9, 0)},\n",
        " {u'credit': Decimal('1200'),\n",
        "  u'date': datetime.date(2012, 12, 20),\n",
        "  u'debet': Decimal('230'),\n",
        "  u'time': datetime.time(15, 0)}]\n"
       ]
      },
      {
       "html": [
        "<b>AXON:</b>"
       ],
       "output_type": "display_data",
       "text": [
        "<IPython.core.display.HTML at 0x103f05e90>"
       ]
      },
      {
       "output_type": "stream",
       "stream": "stdout",
       "text": [
        "{ credit: 230$\n",
        "  date: 2012-12-01\n",
        "  debet: 1230$\n",
        "  time: 12:00}\n",
        "{ credit: 1020$\n",
        "  date: 2012-12-10\n",
        "  debet: 2130$\n",
        "  time: 09:00}\n",
        "{ credit: 1200$\n",
        "  date: 2012-12-20\n",
        "  debet: 230$\n",
        "  time: 15:00}\n"
       ]
      }
     ],
     "prompt_number": 21
    },
    {
     "cell_type": "markdown",
     "metadata": {},
     "source": [
      "``AXON`` also supports **internal** *crossreference links* and *comments*. Let's consider short example"
     ]
    },
    {
     "cell_type": "code",
     "collapsed": false,
     "input": [
      "print(open(\"better_json_crossref.axon\").read())"
     ],
     "language": "python",
     "metadata": {},
     "outputs": [
      {
       "output_type": "stream",
       "stream": "stdout",
       "text": [
        "# first leaf with label 1\n",
        "&1 {\n",
        "  id: 1\n",
        "  value: \"A\"\n",
        "}\n",
        "# second leaf with label 2\n",
        "&2 {\n",
        "  id: 2\n",
        "  value: \"B\"\n",
        "}\n",
        "# node with childrens\n",
        "{\n",
        "  id: 3\n",
        "  children: [*1 *2] # refernces to leafs\n",
        "}\n",
        "\n",
        "\n"
       ]
      }
     ],
     "prompt_number": 2
    },
    {
     "cell_type": "code",
     "collapsed": false,
     "input": [
      "vals = axon.load(\"better_json_crossref.axon\")\n",
      "display(HTML('<b>Python:</b>'))\n",
      "pprint(vals)\n",
      "display(HTML('<b>AXON:</b>'))\n",
      "print(axon.dumps(vals, pretty=1, crossref=1))"
     ],
     "language": "python",
     "metadata": {},
     "outputs": [
      {
       "html": [
        "<b>Python:</b>"
       ],
       "output_type": "display_data",
       "text": [
        "<IPython.core.display.HTML at 0x10404cc10>"
       ]
      },
      {
       "output_type": "stream",
       "stream": "stdout",
       "text": [
        "[{u'id': 1, u'value': u'A'},\n",
        " {u'id': 2, u'value': u'B'},\n",
        " {u'children': [{u'id': 1, u'value': u'A'}, {u'id': 2, u'value': u'B'}],\n",
        "  u'id': 3}]\n"
       ]
      },
      {
       "html": [
        "<b>AXON:</b>"
       ],
       "output_type": "display_data",
       "text": [
        "<IPython.core.display.HTML at 0x10404cc10>"
       ]
      },
      {
       "output_type": "stream",
       "stream": "stdout",
       "text": [
        "&1 { id: 1\n",
        "  value: \"A\"}\n",
        "&2 { id: 2\n",
        "  value: \"B\"}\n",
        "{ children: [\n",
        "    *1\n",
        "    *2]\n",
        "  id: 3}\n"
       ]
      }
     ],
     "prompt_number": 11
    },
    {
     "cell_type": "heading",
     "level": 2,
     "metadata": {},
     "source": [
      " Extending JSON"
     ]
    },
    {
     "cell_type": "heading",
     "level": 3,
     "metadata": {},
     "source": [
      "Mapping as JSON object with a tag name"
     ]
    },
    {
     "cell_type": "markdown",
     "metadata": {},
     "source": [
      "Let's consider short example of JSON:\n",
      "\n",
      "    { \"tag1\": {\n",
      "        \"key1\": \"value1\", \n",
      "        \"key1\": \"value2\"}\n",
      "      },\n",
      "      \"tag2\": {\n",
      "        \"key1\": \"value3\", \n",
      "        \"key1\": \"value4\"}\n",
      "      }\n",
      "    }\n"
     ]
    },
    {
     "cell_type": "markdown",
     "metadata": {},
     "source": [
      "It's easy to see that `tag1` and `tag2` can be considered as tag names for objects. In that spirit ``AXON`` introduces **mapping** a.k.a. ``JSON`` object with a *tag name*:\n",
      "\n",
      "    tag1 {\n",
      "        key1: \"value1\" \n",
      "        key2: \"value2\"\n",
      "    }\n",
      "    tag2 {\n",
      "        key3: \"value3\" \n",
      "        key4: \"value4\"\n",
      "    }\n"
     ]
    },
    {
     "cell_type": "heading",
     "level": 3,
     "metadata": {},
     "source": [
      "Sequence as JSON array with a tag name"
     ]
    },
    {
     "cell_type": "markdown",
     "metadata": {},
     "source": [
      "Let's consider short example of JSON:\n",
      "\n",
      "    { \"tag\": [\n",
      "      {\n",
      "        \"key1\": \"value1\", \n",
      "        \"key2\": \"value2\"}\n",
      "      },\n",
      "      {\n",
      "        \"key1\": \"value3\", \n",
      "        \"key2\": \"value4\"}\n",
      "      }\n",
      "    ]}\n"
     ]
    },
    {
     "cell_type": "markdown",
     "metadata": {},
     "source": [
      "It's also easy to see in this example an array with a tag name. ``AXON`` introduces a **sequence** a.k.a ``JSON`` array with a tag name:\n",
      "\n",
      "    tag {\n",
      "      {\n",
      "        key1: \"value1\" \n",
      "        key2: \"value2\"\n",
      "      }\n",
      "      {\n",
      "        key1: \"value3\" \n",
      "        key2: \"value4\"\n",
      "      }\n",
      "    }\n"
     ]
    },
    {
     "cell_type": "heading",
     "level": 2,
     "metadata": {},
     "source": [
      "AXON and XML"
     ]
    },
    {
     "cell_type": "markdown",
     "metadata": {},
     "source": [
      "First basic example of ``JSON`` can be translated to ``AXON`` by following *XML style* of data representation when anonymous structures becames named and subelement is used instead of `key`:`value` or `attribute`:`value` value for some good reasons:"
     ]
    },
    {
     "cell_type": "code",
     "collapsed": false,
     "input": [
      "vals = axon.load(\"basic_sample.axon\")\n",
      "print(axon.dumps(vals, pretty=1, nsize=3))"
     ],
     "language": "python",
     "metadata": {},
     "outputs": [
      {
       "output_type": "stream",
       "stream": "stdout",
       "text": [
        "person {\n",
        "  age:25 firstName:\"John\" lastName:\"Smith\"\n",
        "  address {\n",
        "    city: \"New York\"\n",
        "    postalCode: 10021\n",
        "    state: \"NY\"\n",
        "    streetAddress: \"21 2nd Street\"}\n",
        "  phoneNumber {\n",
        "    number:\"212 555-1234\" type:\"home\"}\n",
        "  phoneNumber {\n",
        "    number:\"646 555-4567\" type:\"fax\"}}\n"
       ]
      }
     ],
     "prompt_number": 5
    },
    {
     "cell_type": "markdown",
     "metadata": {},
     "source": [
      "Here is it's ``XML`` version for comparison:\n",
      "\n",
      "    <person firstName=\"John\" lastName=\"Smith\" age=\"25\">\n",
      "        <address \n",
      "            streetAddress=\"21 2nd Street\" \n",
      "            city=\"New York\"\n",
      "            state=\"NY\"\n",
      "            postalCode=10021 />\n",
      "        <phoneNumber type=\"home\" number=\"212 555-1234\"/>\n",
      "        <phoneNumber type=\"fax\" number=\"646 555-4567\"/>\n",
      "    </person>\n"
     ]
    },
    {
     "cell_type": "markdown",
     "metadata": {},
     "source": [
      "By this way one can support *extensibility* of the representation as ``XML`` does when element is used instead of attribute. In the case of ``XML`` this kind of notation is verbose for representation of name/value pair:\n",
      "\n",
      "    <attr>value</attr>\n",
      "\n",
      "But in case of ``AXON`` it's not:\n",
      "\n",
      "    attr{value}"
     ]
    },
    {
     "cell_type": "heading",
     "level": 2,
     "metadata": {},
     "source": [
      "AXON, formatted and indented format"
     ]
    },
    {
     "cell_type": "markdown",
     "metadata": {},
     "source": [
      "Presented above ``AXON`` format is *expression based*. It has *compact* and *formatted* form.\n",
      "Compact form uses minimum amount of space:"
     ]
    },
    {
     "cell_type": "code",
     "collapsed": false,
     "input": [
      "print(axon.dumps(vals))"
     ],
     "language": "python",
     "metadata": {},
     "outputs": [
      {
       "output_type": "stream",
       "stream": "stdout",
       "text": [
        "person{age:25 firstName:\"John\" lastName:\"Smith\" address{city:\"New York\" postalCode:10021 state:\"NY\" streetAddress:\"21 2nd Street\"} phoneNumber{number:\"212 555-1234\" type:\"home\"} phoneNumber{number:\"646 555-4567\" type:\"fax\"}}\n"
       ]
      }
     ],
     "prompt_number": 6
    },
    {
     "cell_type": "markdown",
     "metadata": {},
     "source": [
      "Formatted form is for readability of expresson based format of representation:"
     ]
    },
    {
     "cell_type": "code",
     "collapsed": false,
     "input": [
      "print(axon.dumps(vals, pretty=1))"
     ],
     "language": "python",
     "metadata": {},
     "outputs": [
      {
       "output_type": "stream",
       "stream": "stdout",
       "text": [
        "person {\n",
        "  age: 25\n",
        "  firstName: \"John\"\n",
        "  lastName: \"Smith\"\n",
        "  address {\n",
        "    city: \"New York\"\n",
        "    postalCode: 10021\n",
        "    state: \"NY\"\n",
        "    streetAddress: \"21 2nd Street\"}\n",
        "  phoneNumber {\n",
        "    number: \"212 555-1234\"\n",
        "    type: \"home\"}\n",
        "  phoneNumber {\n",
        "    number: \"646 555-4567\"\n",
        "    type: \"fax\"}}\n"
       ]
      }
     ],
     "prompt_number": 7
    },
    {
     "cell_type": "markdown",
     "metadata": {},
     "source": [
      "Note that one free to use spaces and line breaks between tokens as he want. "
     ]
    },
    {
     "cell_type": "markdown",
     "metadata": {},
     "source": [
      "``AXON`` also supports ``Python`` inspired *statement based* indented format of the same message:"
     ]
    },
    {
     "cell_type": "code",
     "collapsed": false,
     "input": [
      "print(axon.dumps(vals, pretty=2))"
     ],
     "language": "python",
     "metadata": {},
     "outputs": [
      {
       "output_type": "stream",
       "stream": "stdout",
       "text": [
        "person:\n",
        "  age: 25\n",
        "  firstName: \"John\"\n",
        "  lastName: \"Smith\"\n",
        "  address:\n",
        "    city: \"New York\"\n",
        "    postalCode: 10021\n",
        "    state: \"NY\"\n",
        "    streetAddress: \"21 2nd Street\"\n",
        "  phoneNumber:\n",
        "    number: \"212 555-1234\"\n",
        "    type: \"home\"\n",
        "  phoneNumber:\n",
        "    number: \"646 555-4567\"\n",
        "    type: \"fax\"\n"
       ]
      }
     ],
     "prompt_number": 8
    },
    {
     "cell_type": "markdown",
     "metadata": {},
     "source": [
      "This type of notation is widely used in ``YAML``. In ``AXON`` the *same indentation level* uses to indicate bounds of nested parts of the named block of data."
     ]
    },
    {
     "cell_type": "heading",
     "level": 2,
     "metadata": {},
     "source": [
      "Mix all of them"
     ]
    },
    {
     "cell_type": "markdown",
     "metadata": {},
     "source": [
      "Let's consider ``JSON`` text:\n",
      "\n",
      "    # formatted form\n",
      "    {\"skillz\": {\n",
      "        \"web\": [\n",
      "            {\"name\": \"html\", \"years\": \"5\", \"level\": \"5\"},\n",
      "            {\"name\": \"css\", \"years\": \"3\", \"level\": \"5\"}\n",
      "        ],\n",
      "        \"database\": [\n",
      "            {\"name\": \"sql\", \"years\": \"7\", \"level\": \"4\"}\n",
      "        ]\n",
      "    }}\n",
      "    # compact form\n",
      "    {\"skillz\":{\"web\":[{\"name\":\"html\",\"years\":\"5\",\"level\":\"5\"},\n",
      "    {\"name\":\"css\",\"years\":\"3\",\"level\":\"5\"}],\n",
      "    {\"name\":\"sql\",\"years\": \"7\", \"level\": \"4\"}]}}\n",
      "\n",
      "and it's translation to ``XML``-style representation in ``AXON`` *formatted* form (equal indentation of inner content of complex values is just usefull convention which is not required by syntax of ``AXON``):\n",
      "\n",
      "    # formatted form\n",
      "    skills {\n",
      "        web {\n",
      "            html {years:5 level:5}\n",
      "            css {years:3 level:5}\n",
      "        }\n",
      "        database {\n",
      "            sql {years:7 level:4}\n",
      "        }\n",
      "    }\n",
      "    # compact form\n",
      "    skills{web{html{years:5 level:5}} database{sql{years:7 level:4}}}\n",
      "\n",
      "or in *indented* form (equal indentation of inner content of complex values is required by syntax of ``AXON``):\n",
      "\n",
      "    skills:\n",
      "        web:\n",
      "            html:\n",
      "                years: 5\n",
      "                level: 5\n",
      "            css:\n",
      "                years: 3\n",
      "                level: 5\n",
      "        database:\n",
      "            sql:\n",
      "                years: 7\n",
      "                level: 4\n",
      "\n",
      "\n",
      "One could see that ``XML``-style data representation has advantages over ``JSON``-style in some context. The reverse is also the case.\n",
      "\n",
      "Also one could see that formatted form of data representation has advantages over indented form in some context. The reverse is also the case.\n",
      "\n",
      "More of that: you can **mix** them as you want in handwritten ``AXON`` representation:\n",
      "\n",
      "    skillz {\n",
      "        web:\n",
      "            {name: \"html\"\n",
      "             years: 5 \n",
      "             level: 5}\n",
      "            {name: \"css\"\n",
      "             years: 3\n",
      "             level: 5}\n",
      "        database:\n",
      "            {name: \"sql\"\n",
      "             years: 7\n",
      "             level: 4}\n",
      "    }\n",
      "\n",
      "or\n",
      "\n",
      "    skillz:\n",
      "        web:\n",
      "            {name: \"html\"\n",
      "             years: 5 \n",
      "             level: 5}\n",
      "            {name: \"css\"\n",
      "             years: 3\n",
      "             level: 5}\n",
      "        database:\n",
      "            {name: \"sql\"\n",
      "             years: 7\n",
      "             level: 4}\n",
      "\n",
      "Reference implementation of ``AXON`` in ``python`` dosn't force you to choice one *style* or *form* of data representation over another. You can select them explicitly in ``dump`` call. But by default *compact* form of data representation is used.\n",
      "\n",
      "It's hoped that existance in ``AXON`` of formatted expression based and indented statement based representations will help to combine these two ways of data representation when it's reasonable."
     ]
    },
    {
     "cell_type": "heading",
     "level": 2,
     "metadata": {},
     "source": [
      "Compact, formatted and indented forms"
     ]
    },
    {
     "cell_type": "markdown",
     "metadata": {},
     "source": [
      "As one can see there are three forms of named complex values: *compact*, *formatted* and *indented*.\n",
      "\n",
      "*Compact* form uses only single space char between values and no space before and after ``{`` and ``}`` in order to eat minimum memory.\n",
      "\n",
      "*Formatted* form is just reformatted compact form for easy reading or writing. In this case additional space characters and line breaks are used.\n",
      "\n",
      "*Indented* form uses only indentation (no ``{}``) in order to mark boundaries of the named complex structure's content. In this case indentations are mandatory. If attribute or data item into the complex structure have to begin with a new line then it have to start at the same indentation level. This similar to syntax of ``Python`` statements and ``YAML`` notation for structured content.\n",
      "\n",
      "Dumping of data in ``AXON`` are always in compact form by default. Formatted and indented forms are matter of explicit choice and also matter of taste or other reasons.\n",
      "\n",
      "Loader of ``AXON`` text representation processes all of these forms."
     ]
    },
    {
     "cell_type": "markdown",
     "metadata": {},
     "source": [
      "For example, consider ``JSON``-style representation of complex structure in formatted form:\n",
      "\n",
      "    { store: {\n",
      "        book: [ \n",
      "          { category: \"reference\"\n",
      "            author: \"Nigel Rees\"\n",
      "            title: \"Sayings of the Century\"\n",
      "            price: 8.95\n",
      "          }\n",
      "          { category: \"fiction\"\n",
      "            author: \"Evelyn Waugh\"\n",
      "            title: \"Sword of Honour\"\n",
      "            price: 12.99\n",
      "          }\n",
      "          { category: \"fiction\"\n",
      "            author: \"Herman Melville\"\n",
      "            title: \"Moby Dick\"\n",
      "            isbn: \"0-553-21311-3\"\n",
      "            price: 8.99\n",
      "          }\n",
      "          { category: \"fiction\"\n",
      "            author: \"J. R. R. Tolkien\"\n",
      "            title: \"The Lord of the Rings\"\n",
      "            isbn: \"0-395-19395-8\"\n",
      "            price: 22.99\n",
      "          }\n",
      "        ]\n",
      "        bicycle: {\n",
      "            color: \"red\"\n",
      "            price: 19.95\n",
      "        }\n",
      "      }\n",
      "    }"
     ]
    },
    {
     "cell_type": "markdown",
     "metadata": {},
     "source": [
      "There is ``XML``-style representation of same structure in formatted form:\n",
      "\n",
      "    store {\n",
      "        book { \n",
      "            category: \"reference\"\n",
      "            author: \"Nigel Rees\"\n",
      "            title: \"Sayings of the Century\"\n",
      "            price: 8.95\n",
      "        }\n",
      "        book { \n",
      "            category: \"fiction\"\n",
      "            author: \"Evelyn Waugh\"\n",
      "            title: \"Sword of Honour\"\n",
      "            price: 12.99\n",
      "        }\n",
      "        book { \n",
      "            category: \"fiction\"\n",
      "            author: \"Herman Melville\"\n",
      "            title: \"Moby Dick\"\n",
      "            isbn: \"0-553-21311-3\"\n",
      "            price: 8.99\n",
      "        }\n",
      "        book { \n",
      "            category: \"fiction\"\n",
      "            author: \"J. R. R. Tolkien\"\n",
      "            title: \"The Lord of the Rings\"\n",
      "            isbn: \"0-395-19395-8\"\n",
      "            price: 22.99\n",
      "        }\n",
      "        bicycle {\n",
      "            color: \"red\"\n",
      "            price: 19.95\n",
      "        }\n",
      "    }"
     ]
    },
    {
     "cell_type": "markdown",
     "metadata": {},
     "source": [
      "and in indented form:\n",
      "\n",
      "    store:\n",
      "        book:\n",
      "            category: \"reference\"\n",
      "            author: \"Nigel Rees\"\n",
      "            title: \"Sayings of the Century\"\n",
      "            price: 8.95\n",
      "        book:\n",
      "            category: \"fiction\"\n",
      "            author: \"Evelyn Waugh\"\n",
      "            title: \"Sword of Honour\"\n",
      "            price: 12.99\n",
      "        book:\n",
      "            category: \"fiction\"\n",
      "            author: \"Herman Melville\"\n",
      "            title: \"Moby Dick\"\n",
      "            isbn: \"0-553-21311-3\"\n",
      "            price: 8.99\n",
      "        book:\n",
      "            category: \"fiction\"\n",
      "            author: \"J. R. R. Tolkien\"\n",
      "            title: \"The Lord of the Rings\"\n",
      "            isbn: \"0-395-19395-8\"\n",
      "            price: 22.99\n",
      "        bicycle:\n",
      "            color: \"red\"\n",
      "            price: 19.95\n"
     ]
    },
    {
     "cell_type": "markdown",
     "metadata": {},
     "source": [
      "Last there is compact form:\n",
      "\n",
      "    store{book{category:\"reference\" author:\"Nigel Rees\" title:\"Sayings of the Century\" price:8.95}\n",
      "    book{category:\"fiction\" author:\"Evelyn Waugh\" title:\"Sword of Honour\" price:12.99}\n",
      "    book{category:\"fiction\" author:\"Herman Melville\" title:\"Moby Dick\" isbn:\"0-553-21311-3\" price:8.99}\n",
      "    book{category:\"fiction\" author:\"J. R. R. Tolkien\" title:\"The Lord of the Rings\" isbn:\"0-395-19395-8\" price:22.99}\n",
      "    bicycle:{color:\"red\" price:19.95}}\n"
     ]
    },
    {
     "cell_type": "heading",
     "level": 2,
     "metadata": {},
     "source": [
      "Mappings: named JSON objects"
     ]
    },
    {
     "cell_type": "markdown",
     "metadata": {},
     "source": [
      "``AXON`` extend `JSON` by allowing using of *named* objects by introducing ``mappings``.\n",
      "\n",
      "``Mappings`` notation is very similar to notation of objects that used for *text format* of ``Google Protocol Buffers``."
     ]
    },
    {
     "cell_type": "markdown",
     "metadata": {},
     "source": [
      "For example:\n",
      "    \n",
      "    # expression formatted form\n",
      "    person {\n",
      "        name: \"John Hunt\"\n",
      "        age: 50\n",
      "        weight: 87.5\n",
      "    }\n",
      "\n",
      "    # statement form\n",
      "    person:\n",
      "        name: \"John Hunt\"\n",
      "        age: 50\n",
      "        weight: 87.5\n"
     ]
    },
    {
     "cell_type": "heading",
     "level": 2,
     "metadata": {},
     "source": [
      "Sequences: named JSON arrays"
     ]
    },
    {
     "cell_type": "markdown",
     "metadata": {},
     "source": [
      "``AXON`` also extend `JSON` by allowing using of *named* arrays. Note that `JSON` arrays are just *lists* in ``AXON``."
     ]
    },
    {
     "cell_type": "markdown",
     "metadata": {},
     "source": [
      "For example:\n",
      "    \n",
      "    # compact form\n",
      "    primes { 2 3 5 7 11 13 17 19 23 }\n",
      "    \n",
      "    # mixed form\n",
      "    people {\n",
      "        person:\n",
      "            name: \"John\" \n",
      "            age: 37\n",
      "            sex: \"male\"\n",
      "        person:\n",
      "            name: \"Ann\" \n",
      "            age: 27\n",
      "            sex: \"female\"\n",
      "        person:\n",
      "            name: \"Jane\" \n",
      "            age: 30\n",
      "            sex: \"female\"\n",
      "    }\n"
     ]
    },
    {
     "cell_type": "heading",
     "level": 2,
     "metadata": {},
     "source": [
      "Hierarchical Objects"
     ]
    },
    {
     "cell_type": "markdown",
     "metadata": {},
     "source": [
      "Hierarchical objects in ``AXON`` are objects, which contains sequence of child subobjects. They are represent attributed trees. So they can represent hierarchical data as well as `XML` can."
     ]
    },
    {
     "cell_type": "markdown",
     "metadata": {},
     "source": [
      "For example:\n",
      "\n",
      "    # compact form\n",
      "    tree{node{id:1 node{id:2 leaf{\"Class A\"}} node{id:3 leaf{\"Class B\"}}}}\n",
      "\n",
      "    # formatted expression\n",
      "    tree {\n",
      "       node {\n",
      "          id:1\n",
      "          node {\n",
      "             id:2\n",
      "             leaf { \"Class A\" }\n",
      "          }\n",
      "          node {\n",
      "             id:3\n",
      "             leaf { \"Class B\" }\n",
      "          }\n",
      "       }\n",
      "    }\n",
      "\n",
      "    # statement form\n",
      "    tree:\n",
      "        node:\n",
      "          id:1\n",
      "          node:\n",
      "             id:2\n",
      "             leaf:\n",
      "                \"Class A\"\n",
      "          node:\n",
      "             id:3\n",
      "             leaf:\n",
      "                \"Class B\"\n"
     ]
    },
    {
     "cell_type": "heading",
     "level": 2,
     "metadata": {},
     "source": [
      "AXON for relational data"
     ]
    },
    {
     "cell_type": "markdown",
     "metadata": {},
     "source": [
      "``AXON`` supports using of object references for representation of relational data."
     ]
    },
    {
     "cell_type": "markdown",
     "metadata": {},
     "source": [
      "For example:    \n",
      "\n",
      "    # formatted expression form\n",
      "    graph {\n",
      "        nodes: [\n",
      "            # &1, &2, &3, &4 are labels of the values\n",
      "            &1 node {1 1}\n",
      "            &2 node {1 2}\n",
      "            &3 node {2 2}\n",
      "            &4 node {2 1}\n",
      "        ]\n",
      "        edges: [\n",
      "            # *1, *2, *3, *4 are references of the values\n",
      "            edge {*1 *2}\n",
      "            edge {*1 *3}\n",
      "            edge {*2 *3}\n",
      "            edge {*1 *4}\n",
      "            edge {*3 *4}\n",
      "        ]\n",
      "    }\n",
      "\n",
      "    # statement form\n",
      "    graph:\n",
      "        nodes: [\n",
      "            # 1, 2, 3, 4 are labels of the values\n",
      "            &1 node {1 1}\n",
      "            &2 node {1 2}\n",
      "            &3 node {2 2}\n",
      "            &4 node {2 1}]\n",
      "        edges:\n",
      "            # *1, *2, *3, *4 are references of the values\n",
      "            edge {*1 *2}\n",
      "            edge {*1 *3}\n",
      "            edge {*2 *3}\n",
      "            edge {*1 *4}\n",
      "            edge {*3 *4}]\n"
     ]
    },
    {
     "cell_type": "heading",
     "level": 2,
     "metadata": {},
     "source": [
      "Simple data types"
     ]
    },
    {
     "cell_type": "markdown",
     "metadata": {},
     "source": [
      "There are several types of simple values: *number*, *unicode string*, *date/time/datetime*, *constant*."
     ]
    },
    {
     "cell_type": "heading",
     "level": 3,
     "metadata": {},
     "source": [
      "Numbers"
     ]
    },
    {
     "cell_type": "markdown",
     "metadata": {},
     "source": [
      "There are three types of number: *int*, *float* and *decimal*."
     ]
    },
    {
     "cell_type": "heading",
     "level": 4,
     "metadata": {},
     "source": [
      "Int"
     ]
    },
    {
     "cell_type": "markdown",
     "metadata": {},
     "source": [
      "Each integer value in ``AXON`` represents python `int` value."
     ]
    },
    {
     "cell_type": "code",
     "collapsed": false,
     "input": [
      "text = axon.dumps([17, 171717171717171717171717171717])\n",
      "print('dumped:', text)\n",
      "values = axon.loads(text)\n",
      "print('loaded:', values)"
     ],
     "language": "python",
     "metadata": {},
     "outputs": [
      {
       "output_type": "stream",
       "stream": "stdout",
       "text": [
        "dumped: 17 171717171717171717171717171717\n",
        "loaded: [17, 171717171717171717171717171717L]\n"
       ]
      }
     ],
     "prompt_number": 9
    },
    {
     "cell_type": "markdown",
     "metadata": {},
     "source": [
      "*Note*: In `Python2` there are two types of integer values: `int` and `long`. \"Small\" values in ``AXON`` are represented by `int` values and \"large\" values are represented by `long` values in `Python2`. In `Python3` there is single type of integer values:`int`. It's equivalent to `long` in `Python2`."
     ]
    },
    {
     "cell_type": "heading",
     "level": 4,
     "metadata": {},
     "source": [
      "Float"
     ]
    },
    {
     "cell_type": "markdown",
     "metadata": {},
     "source": [
      "Each *float* value in ``AXON`` represents `float` value in `Python`."
     ]
    },
    {
     "cell_type": "code",
     "collapsed": false,
     "input": [
      "text = axon.dumps([1.0, -2.1356e19])\n",
      "print('dumped:', repr(text))\n",
      "values = axon.loads(text)\n",
      "print('loaded:', values)"
     ],
     "language": "python",
     "metadata": {},
     "outputs": [
      {
       "output_type": "stream",
       "stream": "stdout",
       "text": [
        "dumped: u'1.0 -2.1356e+19'\n",
        "loaded: [1.0, -2.1356e+19]\n"
       ]
      }
     ],
     "prompt_number": 10
    },
    {
     "cell_type": "heading",
     "level": 4,
     "metadata": {},
     "source": [
      "Decimals"
     ]
    },
    {
     "cell_type": "markdown",
     "metadata": {},
     "source": [
      "Each *decimal* value in ``AXON`` representation converts to python `Decimal` value from `decimal` module (or `cdecimal` if available)."
     ]
    },
    {
     "cell_type": "code",
     "collapsed": false,
     "input": [
      "try:\n",
      "    from cdecimal import Decimal\n",
      "except:\n",
      "    from decimal import Decimal\n",
      "\n",
      "text = axon.dumps([Decimal('1.0'), Decimal('-2.1356e19')])\n",
      "print('dumped:', text)\n",
      "values = axon.loads(text)\n",
      "print('loaded:', values)"
     ],
     "language": "python",
     "metadata": {},
     "outputs": [
      {
       "output_type": "stream",
       "stream": "stdout",
       "text": [
        "dumped: 1.0$ -21.356E+18$\n",
        "loaded: [Decimal('1.0'), Decimal('-2.1356E+19')]\n"
       ]
      }
     ],
     "prompt_number": 11
    },
    {
     "cell_type": "heading",
     "level": 3,
     "metadata": {},
     "source": [
      "Constants"
     ]
    },
    {
     "cell_type": "heading",
     "level": 4,
     "metadata": {},
     "source": [
      "Boolean"
     ]
    },
    {
     "cell_type": "markdown",
     "metadata": {},
     "source": [
      "Each *boolean* value in ``AXON`` representation converts to python `bool` value."
     ]
    },
    {
     "cell_type": "code",
     "collapsed": false,
     "input": [
      "text = axon.dumps([True, False])\n",
      "print('dumped:', repr(text))\n",
      "values = axon.loads(text)\n",
      "print('loaded:', values)"
     ],
     "language": "python",
     "metadata": {},
     "outputs": [
      {
       "output_type": "stream",
       "stream": "stdout",
       "text": [
        "dumped: u'true false'\n",
        "loaded: [True, False]\n"
       ]
      }
     ],
     "prompt_number": 12
    },
    {
     "cell_type": "heading",
     "level": 4,
     "metadata": {},
     "source": [
      "Null"
     ]
    },
    {
     "cell_type": "markdown",
     "metadata": {},
     "source": [
      "Each *null* value in ``AXON`` representation converts to python `None`."
     ]
    },
    {
     "cell_type": "code",
     "collapsed": false,
     "input": [
      "text = axon.dumps([None])\n",
      "print('dumped:', text)\n",
      "values = axon.loads(text)\n",
      "print('loaded:', values)"
     ],
     "language": "python",
     "metadata": {},
     "outputs": [
      {
       "output_type": "stream",
       "stream": "stdout",
       "text": [
        "dumped: null\n",
        "loaded: [None]\n"
       ]
      }
     ],
     "prompt_number": 13
    },
    {
     "cell_type": "heading",
     "level": 4,
     "metadata": {},
     "source": [
      "Infinity, NaN"
     ]
    },
    {
     "cell_type": "code",
     "collapsed": false,
     "input": [
      "text = axon.dumps([float('nan'), float('inf'), float('-inf')])\n",
      "print('dumped:', repr(text))\n",
      "print(text)\n",
      "values = axon.loads(text)\n",
      "print('loaded:', values)"
     ],
     "language": "python",
     "metadata": {},
     "outputs": [
      {
       "output_type": "stream",
       "stream": "stdout",
       "text": [
        "dumped: u'? \\u221e -\\u221e'\n",
        "? \u221e -\u221e\n",
        "loaded: [nan, inf, -inf]\n"
       ]
      }
     ],
     "prompt_number": 14
    },
    {
     "cell_type": "heading",
     "level": 3,
     "metadata": {},
     "source": [
      "Unicode string"
     ]
    },
    {
     "cell_type": "code",
     "collapsed": false,
     "input": [
      "text = axon.dumps([\n",
      "    u\"symbol 'a'\",\n",
      "    u\"text in english\",\n",
      "    u\"\u0442\u0435\u043a\u0441\u0442 \u043d\u0430 \u0440\u0443\u0441\u0441\u043a\u043e\u043c \u044f\u0437\u044b\u043a\u0435\",\n",
      "    u\"\u4e2d\u6587\u6587\u672c\"\n",
      "])\n",
      "print('dumped:', text)\n",
      "values = axon.loads(text)\n",
      "print('loaded:', values)"
     ],
     "language": "python",
     "metadata": {},
     "outputs": [
      {
       "output_type": "stream",
       "stream": "stdout",
       "text": [
        "dumped: \"symbol 'a'\" \"text in english\" \"\u0442\u0435\u043a\u0441\u0442 \u043d\u0430 \u0440\u0443\u0441\u0441\u043a\u043e\u043c \u044f\u0437\u044b\u043a\u0435\" \"\u4e2d\u6587\u6587\u672c\"\n",
        "loaded: [u\"symbol 'a'\", u'text in english', u'\\u0442\\u0435\\u043a\\u0441\\u0442 \\u043d\\u0430 \\u0440\\u0443\\u0441\\u0441\\u043a\\u043e\\u043c \\u044f\\u0437\\u044b\\u043a\\u0435', u'\\u4e2d\\u6587\\u6587\\u672c']\n"
       ]
      }
     ],
     "prompt_number": 15
    },
    {
     "cell_type": "code",
     "collapsed": false,
     "input": [
      "text = axon.dumps([\n",
      "u\"\"\"one line text \\\n",
      "splited by symbol \\ at end \\\n",
      "of line\"\"\"])\n",
      "print('dumped:', text)\n",
      "values = axon.loads(text)\n",
      "print('loaded:', values)"
     ],
     "language": "python",
     "metadata": {},
     "outputs": [
      {
       "output_type": "stream",
       "stream": "stdout",
       "text": [
        "dumped: \"one line text splited by symbol \\ at end of line\"\n",
        "loaded: [u'one line text splited by symbol \\\\ at end of line']\n"
       ]
      }
     ],
     "prompt_number": 16
    },
    {
     "cell_type": "code",
     "collapsed": false,
     "input": [
      "text = axon.dumps([\n",
      "u\"\"\"first line\n",
      "   second line\n",
      "third line\"\"\"])\n",
      "print('dumped:', repr(text))\n",
      "values = axon.loads(text)\n",
      "print('loaded:', values)"
     ],
     "language": "python",
     "metadata": {},
     "outputs": [
      {
       "output_type": "stream",
       "stream": "stdout",
       "text": [
        "dumped: u'\"first line\\n   second line\\nthird line\"'\n",
        "loaded: [u'first line\\n   second line\\nthird line']\n"
       ]
      }
     ],
     "prompt_number": 17
    },
    {
     "cell_type": "heading",
     "level": 3,
     "metadata": {},
     "source": [
      "Dates/times"
     ]
    },
    {
     "cell_type": "markdown",
     "metadata": {},
     "source": [
      "*Date*, *time* and *datetime* value in ``AXON`` converts to python `date`, `time` and `datetime` objects. "
     ]
    },
    {
     "cell_type": "code",
     "collapsed": false,
     "input": [
      "from datetime import date, time, datetime\n",
      "text = axon.dumps([\n",
      "    date(2010,12,1),\n",
      "    time(12,0,30),\n",
      "    datetime(2010,12,1, 12,0,30,1230)\n",
      "])\n",
      "print('dumped:', repr(text))\n",
      "values = axon.loads(text)\n",
      "print('loaded:', values)"
     ],
     "language": "python",
     "metadata": {},
     "outputs": [
      {
       "output_type": "stream",
       "stream": "stdout",
       "text": [
        "dumped: u'2010-12-01 12:00:30 2010-12-01T12:00:30.001230'\n",
        "loaded: [datetime.date(2010, 12, 1), datetime.time(12, 0, 30), datetime.datetime(2010, 12, 1, 12, 0, 30, 1230)]\n"
       ]
      }
     ],
     "prompt_number": 18
    },
    {
     "cell_type": "markdown",
     "metadata": {},
     "source": [
      "There exists support of timezone by offset. If time/datetime object has timezone info then the instance of `TZOffset` is assigns to `.tzinfo` attribute."
     ]
    },
    {
     "cell_type": "code",
     "collapsed": false,
     "input": [
      "from datetime import date, time, datetime\n",
      "values = axon.loads(\"2012-12-31T12:59:00+12:00\")\n",
      "print(values)\n",
      "print(axon.dumps(values))"
     ],
     "language": "python",
     "metadata": {},
     "outputs": [
      {
       "output_type": "stream",
       "stream": "stdout",
       "text": [
        "[datetime.datetime(2012, 12, 31, 12, 59, tzinfo=<tz:+12>)]\n",
        "2012-12-31T12:59+12\n"
       ]
      }
     ],
     "prompt_number": 19
    },
    {
     "cell_type": "code",
     "collapsed": false,
     "input": [],
     "language": "python",
     "metadata": {},
     "outputs": [],
     "prompt_number": 19
    },
    {
     "cell_type": "code",
     "collapsed": false,
     "input": [],
     "language": "python",
     "metadata": {},
     "outputs": [],
     "prompt_number": 19
    },
    {
     "cell_type": "code",
     "collapsed": false,
     "input": [],
     "language": "python",
     "metadata": {},
     "outputs": [],
     "prompt_number": 19
    },
    {
     "cell_type": "code",
     "collapsed": false,
     "input": [
      "import IPython.core.display\n",
      "IPython.core.display.HTML(\"\"\"\n",
      "<style type=\"text/css\">\n",
      "\n",
      "div.input {\n",
      "width: 110ex; /* about 80 chars + buffer */\n",
      "}\n",
      "\n",
      "div.text_cell {\n",
      "width: 110ex /* instead of 100%, */\n",
      "}\n",
      "\n",
      "div.text_cell_render {\n",
      "/*font-family: \"Source Sans Pro\", \"Helvetica Neue\", Arial, Helvetica, Geneva, sans-serif;*/\n",
      "font-family: \"Charis SIL\", \"Times New Roman\", serif; \n",
      "line-height: 145%; /* added for some line spacing of text. */\n",
      "width: 110ex; /* instead of 'inherit' for shorter lines */\n",
      "font-size: 12pt\n",
      "}\n",
      "\n",
      "/* Set the size of the headers */\n",
      "div.text_cell_render h1 {\n",
      "font-family: \"Source Sans Pro\", \"Helvetica Neue\", Arial, Helvetica, Geneva, sans-serif;\n",
      "font-size: 18pt;\n",
      "color: #A00000;\n",
      "}\n",
      "\n",
      "div.text_cell_render h2 {\n",
      "font-family: \"Source Sans Pro\", \"Helvetica Neue\", Arial, Helvetica, Geneva, sans-serif;\n",
      "font-size: 14pt;\n",
      "color: #A00000;\n",
      "}\n",
      "\n",
      "div.text_cell_render h3 {\n",
      "font-family: \"Source Sans Pro\", \"Helvetica Neue\", Arial, Helvetica, Geneva, sans-serif;\n",
      "font-size: 13pt;\n",
      "color: #A00000;\n",
      "}\n",
      "\n",
      "div.text_cell_render h4 {\n",
      "font-family: \"Source Sans Pro\", \"Helvetica Neue\", Arial, Helvetica, Geneva, sans-serif;\n",
      "font-size: 12pt;\n",
      "color: #A00000;\n",
      "}\n",
      "\n",
      "em {\n",
      " color: #00A000;\n",
      "}\n",
      "\n",
      "code {\n",
      " font-family: Consolas, monospace;\n",
      " color: #0000A0;\n",
      " font-size: 11pt;\n",
      "}\n",
      "\n",
      "strong {\n",
      " color: #C00000;\n",
      "}\n",
      "\n",
      ".CodeMirror {\n",
      " font-family: \"Consolas, monospace;\n",
      " font-size: 11pt;\n",
      "}\n",
      "\n",
      ".rendered_html ol {list-style:decimal; margin: 1em 2em;}\n",
      "</style>\n",
      "\"\"\")\n"
     ],
     "language": "python",
     "metadata": {},
     "outputs": [
      {
       "html": [
        "\n",
        "<style type=\"text/css\">\n",
        "\n",
        "div.input {\n",
        "width: 110ex; /* about 80 chars + buffer */\n",
        "}\n",
        "\n",
        "div.text_cell {\n",
        "width: 110ex /* instead of 100%, */\n",
        "}\n",
        "\n",
        "div.text_cell_render {\n",
        "/*font-family: \"Source Sans Pro\", \"Helvetica Neue\", Arial, Helvetica, Geneva, sans-serif;*/\n",
        "font-family: \"Charis SIL\", \"Times New Roman\", serif; \n",
        "line-height: 145%; /* added for some line spacing of text. */\n",
        "width: 110ex; /* instead of 'inherit' for shorter lines */\n",
        "font-size: 12pt\n",
        "}\n",
        "\n",
        "/* Set the size of the headers */\n",
        "div.text_cell_render h1 {\n",
        "font-family: \"Source Sans Pro\", \"Helvetica Neue\", Arial, Helvetica, Geneva, sans-serif;\n",
        "font-size: 18pt;\n",
        "color: #A00000;\n",
        "}\n",
        "\n",
        "div.text_cell_render h2 {\n",
        "font-family: \"Source Sans Pro\", \"Helvetica Neue\", Arial, Helvetica, Geneva, sans-serif;\n",
        "font-size: 14pt;\n",
        "color: #A00000;\n",
        "}\n",
        "\n",
        "div.text_cell_render h3 {\n",
        "font-family: \"Source Sans Pro\", \"Helvetica Neue\", Arial, Helvetica, Geneva, sans-serif;\n",
        "font-size: 13pt;\n",
        "color: #A00000;\n",
        "}\n",
        "\n",
        "div.text_cell_render h4 {\n",
        "font-family: \"Source Sans Pro\", \"Helvetica Neue\", Arial, Helvetica, Geneva, sans-serif;\n",
        "font-size: 12pt;\n",
        "color: #A00000;\n",
        "}\n",
        "\n",
        "em {\n",
        " color: #00A000;\n",
        "}\n",
        "\n",
        "code {\n",
        " font-family: Consolas, monospace;\n",
        " color: #0000A0;\n",
        " font-size: 11pt;\n",
        "}\n",
        "\n",
        "strong {\n",
        " color: #C00000;\n",
        "}\n",
        "\n",
        ".CodeMirror {\n",
        " font-family: \"Consolas, monospace;\n",
        " font-size: 11pt;\n",
        "}\n",
        "\n",
        ".rendered_html ol {list-style:decimal; margin: 1em 2em;}\n",
        "</style>\n"
       ],
       "output_type": "pyout",
       "prompt_number": 14,
       "text": [
        "<IPython.core.display.HTML at 0x103445ed0>"
       ]
      }
     ],
     "prompt_number": 14
    },
    {
     "cell_type": "code",
     "collapsed": false,
     "input": [],
     "language": "python",
     "metadata": {},
     "outputs": [],
     "prompt_number": 20
    },
    {
     "cell_type": "code",
     "collapsed": false,
     "input": [],
     "language": "python",
     "metadata": {},
     "outputs": [],
     "prompt_number": 20
    },
    {
     "cell_type": "code",
     "collapsed": false,
     "input": [],
     "language": "python",
     "metadata": {},
     "outputs": [],
     "prompt_number": 20
    }
   ],
   "metadata": {}
  }
 ]
}