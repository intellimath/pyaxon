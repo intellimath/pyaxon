{
 "cells": [
  {
   "cell_type": "markdown",
   "metadata": {},
   "source": [
    "## AXON: Some benchmarks"
   ]
  },
  {
   "cell_type": "code",
   "execution_count": 13,
   "metadata": {
    "collapsed": false
   },
   "outputs": [
    {
     "name": "stdout",
     "output_type": "stream",
     "text": [
      "2.7.10 (v2.7.10:15c95b7d81dc, May 23 2015, 09:33:12) \n",
      "[GCC 4.2.1 (Apple Inc. build 5666) (dot 3)]\n"
     ]
    }
   ],
   "source": [
    "import json\n",
    "import axon\n",
    "\n",
    "try:\n",
    "    import yaml\n",
    "    use_yaml = 1\n",
    "except:\n",
    "    use_yaml = 0\n",
    "        \n",
    "import random\n",
    "import time\n",
    "import matplotlib.pyplot as plt\n",
    "%matplotlib inline\n",
    "import gc\n",
    "\n",
    "import sys; print(sys.version)"
   ]
  },
  {
   "cell_type": "code",
   "execution_count": 2,
   "metadata": {
    "collapsed": false
   },
   "outputs": [],
   "source": [
    "def random_string(n):\n",
    "    text = ''.join(chr(ord('a')+random.randint(1,20)) for i in range(20))\n",
    "    text = axon.as_unicode(text)\n",
    "    return text"
   ]
  },
  {
   "cell_type": "code",
   "execution_count": 3,
   "metadata": {
    "collapsed": false
   },
   "outputs": [],
   "source": [
    "yaml_times_dump = []\n",
    "json_times_dump = []\n",
    "axon_times_dump = []\n",
    "yaml_times_load = []\n",
    "json_times_load = []\n",
    "axon_times_load = []\n",
    "\n",
    "def make_test(data):\n",
    "    if type(data) == dict:\n",
    "        data = [data]\n",
    "\n",
    "    t0 = time.time()\n",
    "    axon_text = axon.dumps(data, sorted=0)\n",
    "    dt_axon_dump = time.time() - t0\n",
    "    axon_times_dump.append(dt_axon_dump)\n",
    "    \n",
    "    t0 = time.time()\n",
    "    v = axon.loads(axon_text)\n",
    "    dt_axon_load = time.time() - t0\n",
    "    axon_times_load.append(dt_axon_load)\n",
    "    \n",
    "    t0 = time.time()\n",
    "    json_text = json.dumps(data)\n",
    "    dt_json_dump = time.time() - t0\n",
    "    json_times_dump.append(dt_json_dump)\n",
    "\n",
    "    t0 = time.time()\n",
    "    v = json.loads(json_text)\n",
    "    dt_json_load = time.time() - t0\n",
    "    json_times_load.append(dt_json_load)\n",
    "\n",
    "    if use_yaml:\n",
    "        t0 = time.time()\n",
    "        yaml_text = yaml.dump(data, Dumper=yaml.CDumper)\n",
    "        dt_yaml_dump = time.time() - t0\n",
    "        yaml_times_dump.append(dt_yaml_dump)\n",
    "    \n",
    "        t0 = time.time()\n",
    "        v = yaml.load(json_text, Loader=yaml.CLoader)\n",
    "        dt_yaml_load = time.time() - t0\n",
    "        yaml_times_load.append(dt_yaml_load)\n",
    "    else:\n",
    "        dt_yaml_dump, dt_yaml_load = float('nan'), float('nan')\n",
    "    \n",
    "    print('Dump:: axon: %.3f json: %.3f yaml: %.3f' % (dt_axon_dump, dt_json_dump, dt_yaml_dump))\n",
    "    print('Load:: axon: %.3f json: %.3f yaml: %.3f' % (dt_axon_load, dt_json_load, dt_yaml_load))"
   ]
  },
  {
   "cell_type": "code",
   "execution_count": 4,
   "metadata": {
    "collapsed": false
   },
   "outputs": [
    {
     "name": "stdout",
     "output_type": "stream",
     "text": [
      "Dump:: axon: 0.088 json: 0.037 yaml: 2.171\n",
      "Load:: axon: 0.043 json: 0.042 yaml: 1.725\n"
     ]
    }
   ],
   "source": [
    "def test_1():\n",
    "    lst = []\n",
    "    for i in range(4000):\n",
    "        lst.append([\n",
    "            random_string(8), random.random(),\n",
    "            random_string(8), random.randint(1,99999),\n",
    "            random_string(8), random_string(32),\n",
    "            random_string(8), random.random(),\n",
    "            random_string(8), random.randint(1,99999),\n",
    "            random_string(8), random_string(32),\n",
    "            random_string(8), random.random(),\n",
    "            random_string(8), random.randint(1,99999),\n",
    "            random_string(8), random_string(32),\n",
    "            random_string(8), random.random(),\n",
    "            random_string(8), random.randint(1,99999),\n",
    "            random_string(8), random_string(32),\n",
    "        ])\n",
    "    return lst\n",
    "\n",
    "make_test(test_1())        "
   ]
  },
  {
   "cell_type": "code",
   "execution_count": 5,
   "metadata": {
    "collapsed": false
   },
   "outputs": [
    {
     "name": "stdout",
     "output_type": "stream",
     "text": [
      "Dump:: axon: 0.044 json: 0.040 yaml: 1.739\n",
      "Load:: axon: 0.029 json: 0.054 yaml: 1.742\n"
     ]
    }
   ],
   "source": [
    "def test_2():\n",
    "    lst = []\n",
    "    for i in range(4000):\n",
    "        lst.append({\n",
    "            random_string(8): random.random(),\n",
    "            random_string(8): random.randint(1,99999),\n",
    "            random_string(8): random_string(32),\n",
    "            random_string(8): random.random(),\n",
    "            random_string(8): random.randint(1,99999),\n",
    "            random_string(8): random_string(32),\n",
    "            random_string(8): random.random(),\n",
    "            random_string(8): random.randint(1,99999),\n",
    "            random_string(8): random_string(32),\n",
    "            random_string(8): random.random(),\n",
    "            random_string(8): random.randint(1,99999),\n",
    "            random_string(8): random_string(32),\n",
    "        })\n",
    "    return lst\n",
    "\n",
    "make_test(test_2())    "
   ]
  },
  {
   "cell_type": "code",
   "execution_count": 6,
   "metadata": {
    "collapsed": false
   },
   "outputs": [
    {
     "name": "stdout",
     "output_type": "stream",
     "text": [
      "Dump:: axon: 0.088 json: 0.077 yaml: 3.373\n",
      "Load:: axon: 0.085 json: 0.113 yaml: 3.228\n"
     ]
    }
   ],
   "source": [
    "def test_3():\n",
    "    d = {}\n",
    "    for j in range(100):\n",
    "        lst = []\n",
    "        for i in range(100):\n",
    "            lst.append({\n",
    "                random_string(8): random.random(),\n",
    "                random_string(8): random.randint(1,99999),\n",
    "                random_string(8): random_string(32),\n",
    "                random_string(8): random.random(),\n",
    "                random_string(8): random.randint(1,99999),\n",
    "                random_string(8): random_string(32),\n",
    "                random_string(8): random.random(),\n",
    "                random_string(8): random.randint(1,99999),\n",
    "                random_string(8): random_string(32),\n",
    "            })\n",
    "        d[random_string(8)] = lst\n",
    "    return d\n",
    "\n",
    "make_test(test_3()) "
   ]
  },
  {
   "cell_type": "code",
   "execution_count": 7,
   "metadata": {
    "collapsed": false
   },
   "outputs": [
    {
     "name": "stdout",
     "output_type": "stream",
     "text": [
      "Dump:: axon: 0.034 json: 0.028 yaml: 1.947\n",
      "Load:: axon: 0.032 json: 0.058 yaml: 1.640\n"
     ]
    }
   ],
   "source": [
    "def test_4():\n",
    "    lst = []\n",
    "    for i in range(4000):\n",
    "        lst.append([\n",
    "            random_string(8), random_string(32),\n",
    "            random_string(32), random_string(8),\n",
    "            random_string(8), random_string(32),\n",
    "            random_string(32), random_string(32),\n",
    "            random_string(8), random_string(8),\n",
    "            random_string(32), random_string(32),\n",
    "            random_string(8), random_string(8),\n",
    "            random_string(32), random_string(8),\n",
    "            random_string(8), random_string(32),\n",
    "            random_string(32), random_string(8),\n",
    "            random_string(8), random_string(8),\n",
    "            random_string(32), random_string(32),\n",
    "            random_string(8), random_string(8),\n",
    "            random_string(32), random_string(8),\n",
    "            random_string(8), random_string(32),\n",
    "        ])\n",
    "    return lst\n",
    "\n",
    "make_test(test_4()) "
   ]
  },
  {
   "cell_type": "code",
   "execution_count": 8,
   "metadata": {
    "collapsed": false
   },
   "outputs": [
    {
     "name": "stdout",
     "output_type": "stream",
     "text": [
      "Dump:: axon: 0.048 json: 0.026 yaml: 2.096\n",
      "Load:: axon: 0.036 json: 0.047 yaml: 1.624\n"
     ]
    }
   ],
   "source": [
    "def test_5():\n",
    "    lst = []\n",
    "    for i in range(5000):\n",
    "        lst.extend([\n",
    "            random_string(8), random_string(8),\n",
    "            random_string(32), random_string(8),\n",
    "            random_string(32), random_string(32),\n",
    "            random_string(8), random_string(8),\n",
    "            random_string(8), random_string(8),\n",
    "            random_string(32), random_string(8),\n",
    "            random_string(8), random_string(32),\n",
    "            random_string(32), random_string(8),\n",
    "            random_string(32), random_string(32),\n",
    "            random_string(8), random_string(8),\n",
    "            random_string(32), random_string(8),\n",
    "            random_string(32), random_string(32),\n",
    "        ])\n",
    "    return lst\n",
    "\n",
    "make_test(test_5()) "
   ]
  },
  {
   "cell_type": "code",
   "execution_count": 9,
   "metadata": {
    "collapsed": false
   },
   "outputs": [
    {
     "name": "stdout",
     "output_type": "stream",
     "text": [
      "Dump:: axon: 0.023 json: 0.013 yaml: 1.875\n",
      "Load:: axon: 0.026 json: 0.018 yaml: 2.071\n"
     ]
    }
   ],
   "source": [
    "def test_6():\n",
    "    lst = []\n",
    "    for i in range(5000):\n",
    "        lst.extend([\n",
    "            random.randint(1,99999), random.randint(1,99999),\n",
    "            random.randint(1,99999), random.randint(1,99999),\n",
    "            random.randint(1,99999), random.randint(1,99999),\n",
    "            random.randint(1,99999), random.randint(1,99999),\n",
    "            random.randint(1,99999), random.randint(1,99999),\n",
    "            random.randint(1,99999), random.randint(1,99999),\n",
    "            random.randint(1,99999), random.randint(1,99999),\n",
    "            random.randint(1,99999), random.randint(1,99999),\n",
    "            random.randint(1,99999), random.randint(1,99999),\n",
    "            random.randint(1,99999), random.randint(1,99999),\n",
    "            random.randint(1,99999), random.randint(1,99999),\n",
    "            random.randint(1,99999), random.randint(1,99999),\n",
    "        ])\n",
    "    lst = [lst]\n",
    "    return lst\n",
    "\n",
    "make_test(test_6()) "
   ]
  },
  {
   "cell_type": "code",
   "execution_count": 10,
   "metadata": {
    "collapsed": false
   },
   "outputs": [
    {
     "name": "stdout",
     "output_type": "stream",
     "text": [
      "Dump:: axon: 0.081 json: 0.143 yaml: 2.563\n",
      "Load:: axon: 0.040 json: 0.049 yaml: 2.350\n"
     ]
    }
   ],
   "source": [
    "def test_7():\n",
    "    lst = []\n",
    "    for i in range(5000):\n",
    "        lst.extend([\n",
    "            random.random(), random.random(),\n",
    "            random.random(), random.random(),\n",
    "            random.random(), random.random(),\n",
    "            random.random(), random.random(),\n",
    "            random.random(), random.random(),\n",
    "            random.random(), random.random(),\n",
    "            random.random(), random.random(),\n",
    "            random.random(), random.random(),\n",
    "            random.random(), random.random(),\n",
    "            random.random(), random.random(),\n",
    "            random.random(), random.random(),\n",
    "            random.random(), random.random(),\n",
    "            random.random(), random.random(),\n",
    "            random.random(), random.random(),\n",
    "        ])\n",
    "    lst = [lst]\n",
    "    return lst\n",
    "\n",
    "make_test(test_7())     "
   ]
  },
  {
   "cell_type": "code",
   "execution_count": 12,
   "metadata": {
    "collapsed": false
   },
   "outputs": [
    {
     "name": "stdout",
     "output_type": "stream",
     "text": [
      "Dumping:\n",
      "('axon:', ['0.088', '0.044', '0.088', '0.034', '0.048', '0.023', '0.081'])\n",
      "('json:', ['0.037', '0.040', '0.077', '0.028', '0.026', '0.013', '0.143'])\n",
      "('yaml:', ['2.171', '1.739', '3.373', '1.947', '2.096', '1.875', '2.563'])\n",
      "Loading:\n",
      "('axon:', ['0.043', '0.029', '0.085', '0.032', '0.036', '0.026', '0.040'])\n",
      "('json:', ['0.042', '0.054', '0.113', '0.058', '0.047', '0.018', '0.049'])\n",
      "('yaml:', ['1.725', '1.742', '3.228', '1.640', '1.624', '2.071', '2.350'])\n"
     ]
    },
    {
     "data": {
      "image/png": "[encoded data removed]",
      "text/plain": [
       "<matplotlib.figure.Figure at 0x10e18dc90>"
      ]
     },
     "metadata": {},
     "output_type": "display_data"
    }
   ],
   "source": [
    "def make_plot():\n",
    "    tests = range(1,len(axon_times_dump)+1)\n",
    "    plt.figure(figsize=(8.0, 10.0))\n",
    "    \n",
    "    plt.subplot(2,1,1)\n",
    "    plt.title('Dumping')\n",
    "    plt.plot(tests, axon_times_dump, label='axon', marker='o')\n",
    "    plt.plot(tests, json_times_dump, label='json', marker='o')\n",
    "    if use_yaml:\n",
    "        plt.plot(tests, yaml_times_dump, label='yaml', marker='o')\n",
    "    plt.legend()\n",
    "    plt.grid()\n",
    "    plt.semilogy()\n",
    "    plt.minorticks_on()\n",
    "    \n",
    "    plt.subplot(2,1,2)\n",
    "    plt.title('Loading')\n",
    "    plt.plot(tests, axon_times_load, label='axon', marker='o')\n",
    "    plt.plot(tests, json_times_load, label='json', marker='o')\n",
    "    if use_yaml:\n",
    "        plt.plot(tests, yaml_times_load, label='yaml', marker='o')\n",
    "    plt.legend()\n",
    "    plt.semilogy()\n",
    "    plt.grid()\n",
    "    plt.minorticks_on()\n",
    "\n",
    "print('Dumping:')\n",
    "print('axon:', [('%.3f' % t) for t in axon_times_dump])\n",
    "print('json:', [('%.3f' % t) for t in json_times_dump])\n",
    "if use_yaml:\n",
    "    print('yaml:', [('%.3f' % t) for t in yaml_times_dump])\n",
    "print('Loading:')\n",
    "print('axon:', [('%.3f' % t) for t in axon_times_load])\n",
    "print('json:', [('%.3f' % t) for t in json_times_load])\n",
    "if use_yaml:\n",
    "    print('yaml:', [('%.3f' % t) for t in yaml_times_load])\n",
    "make_plot()"
   ]
  },
  {
   "cell_type": "code",
   "execution_count": null,
   "metadata": {
    "collapsed": false
   },
   "outputs": [],
   "source": []
  },
  {
   "cell_type": "code",
   "execution_count": null,
   "metadata": {
    "collapsed": false
   },
   "outputs": [],
   "source": []
  }
 ],
 "metadata": {
  "kernelspec": {
   "display_name": "Python 2",
   "language": "python",
   "name": "python2"
  },
  "language_info": {
   "codemirror_mode": {
    "name": "ipython",
    "version": 2
   },
   "file_extension": ".py",
   "mimetype": "text/x-python",
   "name": "python",
   "nbconvert_exporter": "python",
   "pygments_lexer": "ipython2",
   "version": "2.7.10"
  }
 },
 "nbformat": 4,
 "nbformat_minor": 0
}
