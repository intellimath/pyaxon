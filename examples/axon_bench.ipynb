{
 "cells": [
  {
   "cell_type": "markdown",
   "metadata": {},
   "source": [
    "## AXON: Some benchmarks"
   ]
  },
  {
   "cell_type": "code",
   "execution_count": 1,
   "metadata": {
    "collapsed": false
   },
   "outputs": [],
   "source": [
    "import json\n",
    "import axon\n",
    "\n",
    "try:\n",
    "    import yaml\n",
    "    use_yaml = 1\n",
    "except:\n",
    "    use_yaml = 0\n",
    "    \n",
    "#use_yaml = 0    \n",
    "    \n",
    "import random\n",
    "import time\n",
    "import matplotlib.pyplot as plt\n",
    "%matplotlib inline\n",
    "import gc"
   ]
  },
  {
   "cell_type": "code",
   "execution_count": 2,
   "metadata": {
    "collapsed": false
   },
   "outputs": [],
   "source": [
    "def random_string(n):\n",
    "    text = ''.join(chr(ord('a')+random.randint(1,20)) for i in range(20))\n",
    "    text = axon.as_unicode(text)\n",
    "    return text"
   ]
  },
  {
   "cell_type": "code",
   "execution_count": 3,
   "metadata": {
    "collapsed": false
   },
   "outputs": [],
   "source": [
    "yaml_times_dump = []\n",
    "json_times_dump = []\n",
    "axon_times_dump = []\n",
    "yaml_times_load = []\n",
    "json_times_load = []\n",
    "axon_times_load = []\n",
    "\n",
    "def make_test(data):\n",
    "    if type(data) == dict:\n",
    "        data = [data]\n",
    "\n",
    "    t0 = time.time()\n",
    "    axon_text = axon.dumps(data, sorted=0)\n",
    "    dt_axon_dump = time.time() - t0\n",
    "    axon_times_dump.append(dt_axon_dump)\n",
    "    \n",
    "    t0 = time.time()\n",
    "    v = axon.loads(axon_text)\n",
    "    dt_axon_load = time.time() - t0\n",
    "    axon_times_load.append(dt_axon_load)\n",
    "    \n",
    "    t0 = time.time()\n",
    "    json_text = json.dumps(data)\n",
    "    dt_json_dump = time.time() - t0\n",
    "    json_times_dump.append(dt_json_dump)\n",
    "\n",
    "    t0 = time.time()\n",
    "    v = json.loads(json_text)\n",
    "    dt_json_load = time.time() - t0\n",
    "    json_times_load.append(dt_json_load)\n",
    "\n",
    "    if use_yaml:\n",
    "        t0 = time.time()\n",
    "        yaml_text = yaml.dump(data, Dumper=yaml.CDumper)\n",
    "        dt_yaml_dump = time.time() - t0\n",
    "        yaml_times_dump.append(dt_yaml_dump)\n",
    "    \n",
    "        t0 = time.time()\n",
    "        v = yaml.load(json_text, Loader=yaml.CLoader)\n",
    "        dt_yaml_load = time.time() - t0\n",
    "        yaml_times_load.append(dt_yaml_load)\n",
    "    else:\n",
    "        dt_yaml_dump, dt_yaml_load = float('nan'), float('nan')\n",
    "    \n",
    "    print('Dump:: axon: %.3f json: %.3f yaml: %.3f' % (dt_axon_dump, dt_json_dump, dt_yaml_dump))\n",
    "    print('Load:: axon: %.3f json: %.3f yaml: %.3f' % (dt_axon_load, dt_json_load, dt_yaml_load))"
   ]
  },
  {
   "cell_type": "code",
   "execution_count": 4,
   "metadata": {
    "collapsed": false
   },
   "outputs": [
    {
     "name": "stdout",
     "output_type": "stream",
     "text": [
      "Dump:: axon: 0.056 json: 0.051 yaml: 1.674\n",
      "Load:: axon: 0.057 json: 0.038 yaml: 1.492\n"
     ]
    }
   ],
   "source": [
    "def test_1():\n",
    "    lst = []\n",
    "    for i in range(4000):\n",
    "        lst.append([\n",
    "            random_string(8), random.random(),\n",
    "            random_string(8), random.randint(1,99999),\n",
    "            random_string(8), random_string(32),\n",
    "            random_string(8), random.random(),\n",
    "            random_string(8), random.randint(1,99999),\n",
    "            random_string(8), random_string(32),\n",
    "            random_string(8), random.random(),\n",
    "            random_string(8), random.randint(1,99999),\n",
    "            random_string(8), random_string(32),\n",
    "            random_string(8), random.random(),\n",
    "            random_string(8), random.randint(1,99999),\n",
    "            random_string(8), random_string(32),\n",
    "        ])\n",
    "    return lst\n",
    "\n",
    "make_test(test_1())        "
   ]
  },
  {
   "cell_type": "code",
   "execution_count": 5,
   "metadata": {
    "collapsed": false
   },
   "outputs": [
    {
     "name": "stdout",
     "output_type": "stream",
     "text": [
      "Dump:: axon: 0.057 json: 0.065 yaml: 1.640\n",
      "Load:: axon: 0.048 json: 0.050 yaml: 1.873\n"
     ]
    }
   ],
   "source": [
    "def test_2():\n",
    "    lst = []\n",
    "    for i in range(4000):\n",
    "        lst.append({\n",
    "            random_string(8): random.random(),\n",
    "            random_string(8): random.randint(1,99999),\n",
    "            random_string(8): random_string(32),\n",
    "            random_string(8): random.random(),\n",
    "            random_string(8): random.randint(1,99999),\n",
    "            random_string(8): random_string(32),\n",
    "            random_string(8): random.random(),\n",
    "            random_string(8): random.randint(1,99999),\n",
    "            random_string(8): random_string(32),\n",
    "            random_string(8): random.random(),\n",
    "            random_string(8): random.randint(1,99999),\n",
    "            random_string(8): random_string(32),\n",
    "        })\n",
    "    return lst\n",
    "\n",
    "make_test(test_2())    "
   ]
  },
  {
   "cell_type": "code",
   "execution_count": 6,
   "metadata": {
    "collapsed": false
   },
   "outputs": [
    {
     "name": "stdout",
     "output_type": "stream",
     "text": [
      "Dump:: axon: 0.098 json: 0.096 yaml: 2.967\n",
      "Load:: axon: 0.097 json: 0.087 yaml: 3.489\n"
     ]
    }
   ],
   "source": [
    "def test_3():\n",
    "    d = {}\n",
    "    for j in range(100):\n",
    "        lst = []\n",
    "        for i in range(100):\n",
    "            lst.append({\n",
    "                random_string(8): random.random(),\n",
    "                random_string(8): random.randint(1,99999),\n",
    "                random_string(8): random_string(32),\n",
    "                random_string(8): random.random(),\n",
    "                random_string(8): random.randint(1,99999),\n",
    "                random_string(8): random_string(32),\n",
    "                random_string(8): random.random(),\n",
    "                random_string(8): random.randint(1,99999),\n",
    "                random_string(8): random_string(32),\n",
    "            })\n",
    "        d[random_string(8)] = lst\n",
    "    return d\n",
    "\n",
    "make_test(test_3()) "
   ]
  },
  {
   "cell_type": "code",
   "execution_count": 7,
   "metadata": {
    "collapsed": false
   },
   "outputs": [
    {
     "name": "stdout",
     "output_type": "stream",
     "text": [
      "Dump:: axon: 0.042 json: 0.030 yaml: 1.324\n",
      "Load:: axon: 0.038 json: 0.026 yaml: 1.388\n"
     ]
    }
   ],
   "source": [
    "def test_4():\n",
    "    lst = []\n",
    "    for i in range(4000):\n",
    "        lst.append([\n",
    "            random_string(8), random_string(32),\n",
    "            random_string(32), random_string(8),\n",
    "            random_string(8), random_string(32),\n",
    "            random_string(32), random_string(32),\n",
    "            random_string(8), random_string(8),\n",
    "            random_string(32), random_string(32),\n",
    "            random_string(8), random_string(8),\n",
    "            random_string(32), random_string(8),\n",
    "            random_string(8), random_string(32),\n",
    "            random_string(32), random_string(8),\n",
    "            random_string(8), random_string(8),\n",
    "            random_string(32), random_string(32),\n",
    "            random_string(8), random_string(8),\n",
    "            random_string(32), random_string(8),\n",
    "            random_string(8), random_string(32),\n",
    "        ])\n",
    "    return lst\n",
    "\n",
    "make_test(test_4()) "
   ]
  },
  {
   "cell_type": "code",
   "execution_count": 8,
   "metadata": {
    "collapsed": false
   },
   "outputs": [
    {
     "name": "stdout",
     "output_type": "stream",
     "text": [
      "Dump:: axon: 0.057 json: 0.033 yaml: 1.589\n",
      "Load:: axon: 0.053 json: 0.023 yaml: 1.260\n"
     ]
    }
   ],
   "source": [
    "def test_5():\n",
    "    lst = []\n",
    "    for i in range(5000):\n",
    "        lst.extend([\n",
    "            random_string(8), random_string(8),\n",
    "            random_string(32), random_string(8),\n",
    "            random_string(32), random_string(32),\n",
    "            random_string(8), random_string(8),\n",
    "            random_string(8), random_string(8),\n",
    "            random_string(32), random_string(8),\n",
    "            random_string(8), random_string(32),\n",
    "            random_string(32), random_string(8),\n",
    "            random_string(32), random_string(32),\n",
    "            random_string(8), random_string(8),\n",
    "            random_string(32), random_string(8),\n",
    "            random_string(32), random_string(32),\n",
    "        ])\n",
    "    return lst\n",
    "\n",
    "make_test(test_5()) "
   ]
  },
  {
   "cell_type": "code",
   "execution_count": 9,
   "metadata": {
    "collapsed": false
   },
   "outputs": [
    {
     "name": "stdout",
     "output_type": "stream",
     "text": [
      "Dump:: axon: 0.021 json: 0.021 yaml: 1.722\n",
      "Load:: axon: 0.027 json: 0.014 yaml: 1.938\n"
     ]
    }
   ],
   "source": [
    "def test_6():\n",
    "    lst = []\n",
    "    for i in range(5000):\n",
    "        lst.extend([\n",
    "            random.randint(1,99999), random.randint(1,99999),\n",
    "            random.randint(1,99999), random.randint(1,99999),\n",
    "            random.randint(1,99999), random.randint(1,99999),\n",
    "            random.randint(1,99999), random.randint(1,99999),\n",
    "            random.randint(1,99999), random.randint(1,99999),\n",
    "            random.randint(1,99999), random.randint(1,99999),\n",
    "            random.randint(1,99999), random.randint(1,99999),\n",
    "            random.randint(1,99999), random.randint(1,99999),\n",
    "            random.randint(1,99999), random.randint(1,99999),\n",
    "            random.randint(1,99999), random.randint(1,99999),\n",
    "            random.randint(1,99999), random.randint(1,99999),\n",
    "            random.randint(1,99999), random.randint(1,99999),\n",
    "        ])\n",
    "    lst = [lst]\n",
    "    return lst\n",
    "\n",
    "make_test(test_6()) "
   ]
  },
  {
   "cell_type": "code",
   "execution_count": 10,
   "metadata": {
    "collapsed": false
   },
   "outputs": [
    {
     "name": "stdout",
     "output_type": "stream",
     "text": [
      "Dump:: axon: 0.156 json: 0.157 yaml: 2.344\n",
      "Load:: axon: 0.085 json: 0.061 yaml: 2.522\n"
     ]
    }
   ],
   "source": [
    "def test_7():\n",
    "    lst = []\n",
    "    for i in range(5000):\n",
    "        lst.extend([\n",
    "            random.random(), random.random(),\n",
    "            random.random(), random.random(),\n",
    "            random.random(), random.random(),\n",
    "            random.random(), random.random(),\n",
    "            random.random(), random.random(),\n",
    "            random.random(), random.random(),\n",
    "            random.random(), random.random(),\n",
    "            random.random(), random.random(),\n",
    "            random.random(), random.random(),\n",
    "            random.random(), random.random(),\n",
    "            random.random(), random.random(),\n",
    "            random.random(), random.random(),\n",
    "            random.random(), random.random(),\n",
    "            random.random(), random.random(),\n",
    "        ])\n",
    "    lst = [lst]\n",
    "    return lst\n",
    "\n",
    "make_test(test_7())     "
   ]
  },
  {
   "cell_type": "code",
   "execution_count": 13,
   "metadata": {
    "collapsed": false
   },
   "outputs": [
    {
     "name": "stdout",
     "output_type": "stream",
     "text": [
      "Dumping:\n",
      "axon: 0.056 0.057 0.098 0.042 0.057 0.021 0.156\n",
      "json: 0.051 0.065 0.096 0.030 0.033 0.021 0.157\n",
      "yaml: 1.674 1.640 2.967 1.324 1.589 1.722 2.344\n",
      "Loading:\n",
      "axon: 0.057 0.048 0.097 0.038 0.053 0.027 0.085\n",
      "json: 0.038 0.050 0.087 0.026 0.023 0.014 0.061\n",
      "yaml: 1.492 1.873 3.489 1.388 1.260 1.938 2.522\n"
     ]
    },
    {
     "data": {
      "image/png": "[encoded data removed]",
      "text/plain": [
       "<matplotlib.figure.Figure at 0x106b3f9b0>"
      ]
     },
     "metadata": {},
     "output_type": "display_data"
    }
   ],
   "source": [
    "def make_plot():\n",
    "    tests = range(1,len(axon_times_dump)+1)\n",
    "    plt.figure(figsize=(8.0, 10.0))\n",
    "    \n",
    "    plt.subplot(2,1,1)\n",
    "    plt.title('Dumping')\n",
    "    plt.plot(tests, axon_times_dump, label='axon', marker='o')\n",
    "    plt.plot(tests, json_times_dump, label='json', marker='o')\n",
    "    if use_yaml:\n",
    "        plt.plot(tests, yaml_times_dump, label='yaml', marker='o')\n",
    "    plt.legend()\n",
    "    plt.grid()\n",
    "    plt.semilogy()\n",
    "    plt.minorticks_on()\n",
    "    \n",
    "    plt.subplot(2,1,2)\n",
    "    plt.title('Loading')\n",
    "    plt.plot(tests, axon_times_load, label='axon', marker='o')\n",
    "    plt.plot(tests, json_times_load, label='json', marker='o')\n",
    "    if use_yaml:\n",
    "        plt.plot(tests, yaml_times_load, label='yaml', marker='o')\n",
    "    plt.legend()\n",
    "    plt.semilogy()\n",
    "    plt.grid()\n",
    "    plt.minorticks_on()\n",
    "\n",
    "print('Dumping:')\n",
    "print('axon:', *[('%.3f' % t) for t in axon_times_dump])\n",
    "print('json:', *[('%.3f' % t) for t in json_times_dump])\n",
    "if use_yaml:\n",
    "    print('yaml:', *[('%.3f' % t) for t in yaml_times_dump])\n",
    "print('Loading:')\n",
    "print('axon:', *[('%.3f' % t) for t in axon_times_load])\n",
    "print('json:', *[('%.3f' % t) for t in json_times_load])\n",
    "if use_yaml:\n",
    "    print('yaml:', *[('%.3f' % t) for t in yaml_times_load])\n",
    "make_plot()"
   ]
  },
  {
   "cell_type": "code",
   "execution_count": null,
   "metadata": {
    "collapsed": false
   },
   "outputs": [],
   "source": []
  },
  {
   "cell_type": "code",
   "execution_count": null,
   "metadata": {
    "collapsed": false
   },
   "outputs": [],
   "source": []
  }
 ],
 "metadata": {
  "kernelspec": {
   "display_name": "Python 3",
   "language": "python",
   "name": "python3"
  },
  "language_info": {
   "codemirror_mode": {
    "name": "ipython",
    "version": 3
   },
   "file_extension": ".py",
   "mimetype": "text/x-python",
   "name": "python",
   "nbconvert_exporter": "python",
   "pygments_lexer": "ipython3",
   "version": "3.4.3"
  }
 },
 "nbformat": 4,
 "nbformat_minor": 0
}
