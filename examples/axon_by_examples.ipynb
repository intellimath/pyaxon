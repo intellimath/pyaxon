{
 "cells": [
  {
   "cell_type": "markdown",
   "metadata": {},
   "source": [
    "# AXON by examples"
   ]
  },
  {
   "cell_type": "markdown",
   "metadata": {},
   "source": [
    "Since 0.8 [pyaxon](https://pypi.pythob.org/pypi/pyaxon) [python](http://www.python.org) library has function `display_html(values)`. It produces tabbed html view of representations of `values` (iterable of objects) in `AXON` in *compact*, *formatted with* and *without braces* forms. This allows to present pretty examples of representations in `AXON`."
   ]
  },
  {
   "cell_type": "markdown",
   "metadata": {},
   "source": [
    "Each example contains three parts:\n",
    "\n",
    "1. loading of objects from text in `AXON`;\n",
    "2. `pprint`'ing of the loaded objects;\n",
    "3. presenting three forms of representations in `AXON` of the objects."
   ]
  },
  {
   "cell_type": "markdown",
   "metadata": {},
   "source": [
    "First import  module `axon`."
   ]
  },
  {
   "cell_type": "code",
   "execution_count": 1,
   "metadata": {
    "collapsed": true
   },
   "outputs": [],
   "source": [
    "import axon\n",
    "from pprint import pprint"
   ]
  },
  {
   "cell_type": "markdown",
   "metadata": {},
   "source": [
    "### List"
   ]
  },
  {
   "cell_type": "markdown",
   "metadata": {},
   "source": [
    "This example of lists of atomic values."
   ]
  },
  {
   "cell_type": "code",
   "execution_count": 2,
   "metadata": {
    "collapsed": false
   },
   "outputs": [
    {
     "name": "stdout",
     "output_type": "stream",
     "text": [
      "[[1,\n",
      "  3.14,\n",
      "  Decimal('1000'),\n",
      "  'abc абв',\n",
      "  datetime.date(2015, 12, 1),\n",
      "  datetime.time(12, 0, tzinfo=datetime.timezone(datetime.timedelta(-1, 75600))),\n",
      "  datetime.datetime(2015, 12, 1, 12, 0, tzinfo=datetime.timezone(datetime.timedelta(0, 10800))),\n",
      "  nan,\n",
      "  inf]]\n"
     ]
    },
    {
     "name": "stderr",
     "output_type": "stream",
     "text": [
      ":0: FutureWarning: IPython widgets are experimental and may change in the future.\n"
     ]
    }
   ],
   "source": [
    "text = \"\"\"\n",
    "[1 3.14 1000D \"abc абв\" 2015-12-01 12:00-03:00 2015-12-01T12:00+03:00 ? ∞]\n",
    "\"\"\"\n",
    "vals = axon.loads(text)\n",
    "pprint(vals)\n",
    "axon.display_html(vals)"
   ]
  },
  {
   "cell_type": "markdown",
   "metadata": {
    "collapsed": true
   },
   "source": [
    "### Dict"
   ]
  },
  {
   "cell_type": "code",
   "execution_count": 3,
   "metadata": {
    "collapsed": false
   },
   "outputs": [
    {
     "name": "stdout",
     "output_type": "stream",
     "text": [
      "[{'age': 32, 'name': 'Alex'}]\n"
     ]
    }
   ],
   "source": [
    "text = \"\"\"\n",
    "{name:\"Alex\" age:32}\n",
    "\"\"\"\n",
    "vals = axon.loads(text)\n",
    "pprint(vals)\n",
    "axon.display_html(vals)"
   ]
  },
  {
   "cell_type": "markdown",
   "metadata": {},
   "source": [
    "### Ordered dict"
   ]
  },
  {
   "cell_type": "code",
   "execution_count": 4,
   "metadata": {
    "collapsed": false
   },
   "outputs": [
    {
     "name": "stdout",
     "output_type": "stream",
     "text": [
      "[OrderedDict([('name', 'Alex'), ('age', 32)])]\n"
     ]
    }
   ],
   "source": [
    "text = \"\"\"\n",
    "[name:\"Alex\" age:32]\n",
    "\"\"\"\n",
    "vals = axon.loads(text)\n",
    "pprint(vals)\n",
    "axon.display_html(vals)"
   ]
  },
  {
   "cell_type": "markdown",
   "metadata": {},
   "source": [
    "### Tuple"
   ]
  },
  {
   "cell_type": "code",
   "execution_count": 5,
   "metadata": {
    "collapsed": false
   },
   "outputs": [
    {
     "name": "stdout",
     "output_type": "stream",
     "text": [
      "[(1, datetime.date(2005, 6, 15), datetime.time(11, 0), Decimal('4500'), 0.75)]\n"
     ]
    }
   ],
   "source": [
    "text = \"\"\"\n",
    "(1 2005-06-15 11:00 4500d 0.75)\n",
    "\"\"\"\n",
    "vals = axon.loads(text)\n",
    "pprint(vals)\n",
    "axon.display_html(vals)"
   ]
  },
  {
   "cell_type": "markdown",
   "metadata": {},
   "source": [
    "### Node"
   ]
  },
  {
   "cell_type": "code",
   "execution_count": 6,
   "metadata": {
    "collapsed": false
   },
   "outputs": [
    {
     "name": "stdout",
     "output_type": "stream",
     "text": [
      "[person{name: 'Alex', age: 34}]\n"
     ]
    }
   ],
   "source": [
    "text = \"\"\"\n",
    "person {name:\"Alex\" age:34}\n",
    "\"\"\"\n",
    "vals = axon.loads(text)\n",
    "pprint(vals)\n",
    "axon.display_html(vals)"
   ]
  },
  {
   "cell_type": "markdown",
   "metadata": {},
   "source": [
    "### Nodes mapped to objects"
   ]
  },
  {
   "cell_type": "code",
   "execution_count": 7,
   "metadata": {
    "collapsed": false
   },
   "outputs": [
    {
     "name": "stdout",
     "output_type": "stream",
     "text": [
      "[Person(name='Alex', age=34)]\n"
     ]
    }
   ],
   "source": [
    "class Person:\n",
    "    __slots__ = ('name', 'age')\n",
    "    def __init__(self, name, age):\n",
    "        self.name = name\n",
    "        self.age = age\n",
    "    def __repr__(self):\n",
    "        return \"Person(name=%r, age=%r)\" % (self.name, self.age)\n",
    "\n",
    "@axon.factory(\"person\")\n",
    "def person_factory(attrs, vals):\n",
    "    return Person(**attrs)\n",
    "\n",
    "@axon.reduce(Person)\n",
    "def person_reduce(p):\n",
    "    return axon.node(\"person\", axon.odict([(\"name\", p.name), (\"age\", p.age)]))\n",
    "\n",
    "text = \"\"\"\n",
    "person {name:\"Alex\" age:34}\n",
    "\"\"\"\n",
    "vals = axon.loads(text, mode=\"strict\")\n",
    "pprint(vals)\n",
    "axon.display_html(vals)"
   ]
  },
  {
   "cell_type": "markdown",
   "metadata": {},
   "source": [
    "### Node with subnodes"
   ]
  },
  {
   "cell_type": "code",
   "execution_count": 8,
   "metadata": {
    "collapsed": false
   },
   "outputs": [
    {
     "name": "stdout",
     "output_type": "stream",
     "text": [
      "[tree{node{id: 1 leaf{id: 2, val: 'abc'}, leaf{id: 3, val: 'def'}}, leaf{id: 4, val: 'ghi'}}]\n"
     ]
    }
   ],
   "source": [
    "text = \"\"\"\n",
    "tree {\n",
    "    node {\n",
    "        id: 1\n",
    "        leaf {\n",
    "            id: 2\n",
    "            val: \"abc\"\n",
    "        }\n",
    "        leaf {\n",
    "            id: 3\n",
    "            val: \"def\"\n",
    "        }\n",
    "    }\n",
    "    leaf {\n",
    "        id: 4\n",
    "        val: \"ghi\"\n",
    "    }\n",
    "}\n",
    "\"\"\"\n",
    "vals = axon.loads(text)\n",
    "pprint(vals)\n",
    "axon.display_html(vals)"
   ]
  },
  {
   "cell_type": "markdown",
   "metadata": {},
   "source": [
    "### Node with references"
   ]
  },
  {
   "cell_type": "markdown",
   "metadata": {},
   "source": [
    "Graph with list of attributed nodes and list of attributed edges."
   ]
  },
  {
   "cell_type": "code",
   "execution_count": 9,
   "metadata": {
    "collapsed": false
   },
   "outputs": [
    {
     "name": "stdout",
     "output_type": "stream",
     "text": [
      "[graph{nodes: [node{id: 1, val: 4}, node{id: 2, val: 7}, node{id: 3, val: 2}, node{id: 4, val: 5}], edges: [edge{val: 12 node{id: 1, val: 4}, node{id: 2, val: 7}}, edge{val: 8 node{id: 1, val: 4}, node{id: 4, val: 5}}, edge{val: -2 node{id: 2, val: 7}, node{id: 3, val: 2}}, edge{val: 5 node{id: 3, val: 2}, node{id: 4, val: 5}}]}]\n"
     ]
    }
   ],
   "source": [
    "text = \"\"\"\n",
    "graph {\n",
    "    nodes: [\n",
    "       &n1 node {id:1 val:4}\n",
    "       &n2 node {id:2 val:7}\n",
    "       &n3 node {id:3 val:2}\n",
    "       &n4 node {id:4 val:5}\n",
    "    ]\n",
    "    edges: [\n",
    "        edge {val:12 *n1 *n2}\n",
    "        edge {val:8 *n1 *n4}\n",
    "        edge {val:-2 *n2 *n3}\n",
    "        edge {val:5 *n3 *n4}\n",
    "    ]\n",
    "}\n",
    "\"\"\"\n",
    "vals = axon.loads(text)\n",
    "pprint(vals)\n",
    "axon.display_html(vals)"
   ]
  },
  {
   "cell_type": "markdown",
   "metadata": {},
   "source": [
    "### Stream of objects"
   ]
  },
  {
   "cell_type": "code",
   "execution_count": 10,
   "metadata": {
    "collapsed": false
   },
   "outputs": [
    {
     "name": "stdout",
     "output_type": "stream",
     "text": [
      "[[1, datetime.date(2015, 12, 1), datetime.time(12, 0)],\n",
      " (1, datetime.date(2005, 6, 15), datetime.time(11, 0), Decimal('4500'), 0.75),\n",
      " {'age': 32, 'name': 'Alex'},\n",
      " OrderedDict([('name', 'Alex'), ('age', 32)]),\n",
      " person{name: 'Alex', age: 34}]\n"
     ]
    }
   ],
   "source": [
    "text = \"\"\"\n",
    "[1 2015-12-01 12:00]\n",
    "(1 2005-06-15 11:00 4500d 0.75)\n",
    "{name:\"Alex\" age:32}\n",
    "[name:\"Alex\" age:32]\n",
    "person {name:\"Alex\" age:34}\n",
    "\"\"\"\n",
    "vals = axon.loads(text)\n",
    "pprint(vals)\n",
    "axon.display_html(vals)"
   ]
  },
  {
   "cell_type": "markdown",
   "metadata": {},
   "source": [
    "### Stream of key:val pairs "
   ]
  },
  {
   "cell_type": "code",
   "execution_count": 11,
   "metadata": {
    "collapsed": false
   },
   "outputs": [
    {
     "name": "stdout",
     "output_type": "stream",
     "text": [
      "list : [1, datetime.date(2015, 12, 1), datetime.time(12, 0)]\n",
      "dict : (1, datetime.date(2005, 6, 15), datetime.time(11, 0), Decimal('4500'), 0.75)\n",
      "tuple : {'name': 'Alex', 'age': 32}\n",
      "odict : OrderedDict([('name', 'Alex'), ('age', 32)])\n",
      "node : person{name: 'Alex', age: 34}\n"
     ]
    }
   ],
   "source": [
    "text = \"\"\"\n",
    "list: [1 2015-12-01 12:00]\n",
    "dict: (1 2005-06-15 11:00 4500d 0.75)\n",
    "tuple: {name:\"Alex\" age:32}\n",
    "odict: [name:\"Alex\" age:32]\n",
    "node: person {name:\"Alex\" age:34}\n",
    "\"\"\"\n",
    "vals = axon.loads(text)\n",
    "for key, val in vals:\n",
    "    print(key, ':', val)\n",
    "axon.display_html(vals)"
   ]
  },
  {
   "cell_type": "code",
   "execution_count": null,
   "metadata": {
    "collapsed": true
   },
   "outputs": [],
   "source": []
  }
 ],
 "metadata": {
  "kernelspec": {
   "display_name": "Python 3",
   "language": "python",
   "name": "python3"
  },
  "language_info": {
   "codemirror_mode": {
    "name": "ipython",
    "version": 3
   },
   "file_extension": ".py",
   "mimetype": "text/x-python",
   "name": "python",
   "nbconvert_exporter": "python",
   "pygments_lexer": "ipython3",
   "version": "3.4.3"
  }
 },
 "nbformat": 4,
 "nbformat_minor": 0
}
