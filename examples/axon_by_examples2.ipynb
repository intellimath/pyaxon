{
 "cells": [
  {
   "cell_type": "markdown",
   "metadata": {},
   "source": [
    "# AXON by examples"
   ]
  },
  {
   "cell_type": "code",
   "execution_count": 1,
   "metadata": {
    "collapsed": true
   },
   "outputs": [],
   "source": [
    "import axon\n",
    "\n",
    "line = '\\n'+32*'-'"
   ]
  },
  {
   "cell_type": "markdown",
   "metadata": {},
   "source": [
    "### Sequence of key:value pairs"
   ]
  },
  {
   "cell_type": "code",
   "execution_count": 25,
   "metadata": {
    "collapsed": false
   },
   "outputs": [
    {
     "name": "stdout",
     "output_type": "stream",
     "text": [
      "OrderedDict([('RU', 'Moscow'), ('US', 'Washington'), ('GB', 'London')]) \n",
      "--------------------------------\n",
      "RU:\"Moscow\"\n",
      "US:\"Washington\"\n",
      "GB:\"London\"\n"
     ]
    }
   ],
   "source": [
    "vals = axon.loads(\"\"\"\n",
    "RU: \"Moscow\"\n",
    "US: \"Washington\"\n",
    "GB: \"London\"\n",
    "\"\"\")\n",
    "print(vals, line)\n",
    "print(axon.dumps(vals))"
   ]
  },
  {
   "cell_type": "markdown",
   "metadata": {},
   "source": [
    "### Sequence of ordered dicts"
   ]
  },
  {
   "cell_type": "code",
   "execution_count": 26,
   "metadata": {
    "collapsed": false
   },
   "outputs": [
    {
     "name": "stdout",
     "output_type": "stream",
     "text": [
      "[OrderedDict([('RU', 'Moscow'), ('FR', 'Paris')]), OrderedDict([('CN', 'Beijin'), ('JP', 'Tokio')]), OrderedDict([('US', 'Washington'), ('CA', 'Ottava')])] \n",
      "--------------------------------\n",
      "[RU:\"Moscow\" FR:\"Paris\"]\n",
      "[CN:\"Beijin\" JP:\"Tokio\"]\n",
      "[US:\"Washington\" CA:\"Ottava\"] \n",
      "--------------------------------\n",
      "[ FR: \"Paris\"\n",
      "  RU: \"Moscow\"]\n",
      "[ CN: \"Beijin\"\n",
      "  JP: \"Tokio\"]\n",
      "[ CA: \"Ottava\"\n",
      "  US: \"Washington\"]\n"
     ]
    }
   ],
   "source": [
    "vals = axon.loads(\"\"\"\n",
    "[RU:\"Moscow\" FR:\"Paris\"]\n",
    "[CN:\"Beijin\" JP:\"Tokio\"]\n",
    "[US:\"Washington\" CA:\"Ottava\"]\n",
    "\"\"\")\n",
    "print(vals, line)\n",
    "print(axon.dumps(vals), line)\n",
    "print(axon.dumps(vals, pretty=1))"
   ]
  },
  {
   "cell_type": "markdown",
   "metadata": {},
   "source": [
    "### Sequence of dicts"
   ]
  },
  {
   "cell_type": "code",
   "execution_count": 27,
   "metadata": {
    "collapsed": false
   },
   "outputs": [
    {
     "name": "stdout",
     "output_type": "stream",
     "text": [
      "[{'RU': 'Moscow', 'FR': 'Paris'}, {'JP': 'Tokio', 'CN': 'Beigin'}, {'US': 'Washington', 'CA': 'Ottava'}] \n",
      "--------------------------------\n",
      "{FR:\"Paris\" RU:\"Moscow\"}\n",
      "{CN:\"Beigin\" JP:\"Tokio\"}\n",
      "{CA:\"Ottava\" US:\"Washington\"} \n",
      "--------------------------------\n",
      "{ FR: \"Paris\"\n",
      "  RU: \"Moscow\"}\n",
      "{ CN: \"Beigin\"\n",
      "  JP: \"Tokio\"}\n",
      "{ CA: \"Ottava\"\n",
      "  US: \"Washington\"}\n"
     ]
    }
   ],
   "source": [
    "vals = axon.loads(\"\"\"\n",
    "{RU:\"Moscow\" FR:\"Paris\"}\n",
    "{CN:\"Beigin\" JP:\"Tokio\"}\n",
    "{US:\"Washington\" CA:\"Ottava\"}\n",
    "\"\"\")\n",
    "print(vals, line)\n",
    "print(axon.dumps(vals, sorted=1), line)\n",
    "print(axon.dumps(vals, sorted=1, pretty=1))"
   ]
  },
  {
   "cell_type": "markdown",
   "metadata": {},
   "source": [
    "### Sequence of tuples"
   ]
  },
  {
   "cell_type": "code",
   "execution_count": 28,
   "metadata": {
    "collapsed": false,
    "scrolled": true
   },
   "outputs": [
    {
     "name": "stdout",
     "output_type": "stream",
     "text": [
      "[('RU', 'Moscow'), ('US', 'Washington'), ('GB', 'London')] \n",
      "--------------------------------\n",
      "(\"RU\" \"Moscow\")\n",
      "(\"US\" \"Washington\")\n",
      "(\"GB\" \"London\")\n"
     ]
    }
   ],
   "source": [
    "vals = axon.loads(\"\"\"\n",
    "(\"RU\" \"Moscow\")\n",
    "(\"US\" \"Washington\")\n",
    "(\"GB\" \"London\")\n",
    "\"\"\")\n",
    "print(vals, line)\n",
    "print(axon.dumps(vals))"
   ]
  },
  {
   "cell_type": "markdown",
   "metadata": {},
   "source": [
    "### Sequence of lists"
   ]
  },
  {
   "cell_type": "code",
   "execution_count": 29,
   "metadata": {
    "collapsed": false,
    "scrolled": true
   },
   "outputs": [
    {
     "name": "stdout",
     "output_type": "stream",
     "text": [
      "[['RU', 'Moscow'], ['US', 'Washington'], ['GB', 'London']] \n",
      "--------------------------------\n",
      "[\"RU\" \"Moscow\"]\n",
      "[\"US\" \"Washington\"]\n",
      "[\"GB\" \"London\"]\n"
     ]
    }
   ],
   "source": [
    "vals = axon.loads(\"\"\"\n",
    "[\"RU\" \"Moscow\"]\n",
    "[\"US\" \"Washington\"]\n",
    "[\"GB\" \"London\"]\n",
    "\"\"\")\n",
    "print(vals, line)\n",
    "print(axon.dumps(vals))"
   ]
  },
  {
   "cell_type": "markdown",
   "metadata": {},
   "source": [
    "### List of atomic values"
   ]
  },
  {
   "cell_type": "code",
   "execution_count": 30,
   "metadata": {
    "collapsed": false
   },
   "outputs": [
    {
     "name": "stdout",
     "output_type": "stream",
     "text": [
      "[[1, 3.14, Decimal('1000'), 'abc абв', datetime.date(2015, 12, 1), datetime.time(12, 0, tzinfo=datetime.timezone(datetime.timedelta(-1, 75600))), datetime.datetime(2015, 12, 1, 12, 0, tzinfo=datetime.timezone(datetime.timedelta(0, 10800))), nan, inf]] \n",
      "--------------------------------\n",
      "[1 3.14 1000D \"abc абв\" 2015-12-01 12:00-03 2015-12-01T12:00+03 ? ∞]\n"
     ]
    }
   ],
   "source": [
    "vals = axon.loads(\"\"\"\n",
    "[1 3.14 1000D \"abc абв\" 2015-12-01 12:00-03:00 2015-12-01T12:00+03:00 ? ∞]\n",
    "\"\"\")\n",
    "print(vals, line)\n",
    "print(axon.dumps(vals))"
   ]
  },
  {
   "cell_type": "markdown",
   "metadata": {
    "collapsed": true
   },
   "source": [
    "### List of nodes"
   ]
  },
  {
   "cell_type": "code",
   "execution_count": 31,
   "metadata": {
    "collapsed": false
   },
   "outputs": [
    {
     "name": "stdout",
     "output_type": "stream",
     "text": [
      "[country{id: 'RU', capital: 'Moscow'}, country{id: 'USA', capital: 'Washington'}, country{id: 'GB', capital: 'London'}] \n",
      "--------------------------------\n",
      "country{id:\"RU\" capital:\"Moscow\"}\n",
      "country{id:\"USA\" capital:\"Washington\"}\n",
      "country{id:\"GB\" capital:\"London\"} \n",
      "--------------------------------\n",
      "country\n",
      "  id: \"RU\"\n",
      "  capital: \"Moscow\"\n",
      "country\n",
      "  id: \"USA\"\n",
      "  capital: \"Washington\"\n",
      "country\n",
      "  id: \"GB\"\n",
      "  capital: \"London\" \n",
      "--------------------------------\n",
      "country {\n",
      "  id: \"RU\"\n",
      "  capital: \"Moscow\"}\n",
      "country {\n",
      "  id: \"USA\"\n",
      "  capital: \"Washington\"}\n",
      "country {\n",
      "  id: \"GB\"\n",
      "  capital: \"London\"}\n"
     ]
    }
   ],
   "source": [
    "vals = axon.loads(\"\"\"\n",
    "country{id:\"RU\" capital:\"Moscow\"}\n",
    "country{id:\"USA\" capital:\"Washington\"}\n",
    "country{id:\"GB\" capital:\"London\"}\n",
    "\"\"\")\n",
    "print(vals, line)\n",
    "print(axon.dumps(vals), line)\n",
    "print(axon.dumps(vals, pretty=1), line)\n",
    "print(axon.dumps(vals, pretty=1, braces=1))"
   ]
  },
  {
   "cell_type": "markdown",
   "metadata": {},
   "source": [
    "### Sequence of objects"
   ]
  },
  {
   "cell_type": "code",
   "execution_count": 35,
   "metadata": {
    "collapsed": false
   },
   "outputs": [
    {
     "name": "stdout",
     "output_type": "stream",
     "text": [
      "[Country(id='RU', capital='Moscow'), Country(id='USA', capital='Washington'), Country(id='GB', capital='London')] \n",
      "--------------------------------\n",
      "country{id:\"RU\" capital:\"Moscow\"}\n",
      "country{id:\"USA\" capital:\"Washington\"}\n",
      "country{id:\"GB\" capital:\"London\"} \n",
      "--------------------------------\n",
      "country {\n",
      "  id: \"RU\"\n",
      "  capital: \"Moscow\"}\n",
      "country {\n",
      "  id: \"USA\"\n",
      "  capital: \"Washington\"}\n",
      "country {\n",
      "  id: \"GB\"\n",
      "  capital: \"London\"}\n"
     ]
    }
   ],
   "source": [
    "class Country:\n",
    "    def __init__(self, id, capital):\n",
    "        self.id = id\n",
    "        self.capital = capital\n",
    "    def __repr__(self):\n",
    "        return \"Country(id='{}', capital='{}')\".format(self.id, self.capital)\n",
    "\n",
    "@axon.reduce(Country)\n",
    "def reduce_country(ob):\n",
    "    return axon.node(\"country\", axon.odict([(\"id\",ob.id), (\"capital\",ob.capital)]))\n",
    "\n",
    "@axon.factory(\"country\")\n",
    "def factory_country(map, seq):\n",
    "    return Country(map[\"id\"], map[\"capital\"])\n",
    "\n",
    "vals = axon.loads(\"\"\"\n",
    "country\n",
    "  id:\"RU\"\n",
    "  capital:\"Moscow\"\n",
    "country\n",
    "  id:\"USA\"\n",
    "  capital:\"Washington\"\n",
    "country\n",
    "  id:\"GB\"\n",
    "  capital:\"London\"\n",
    "\"\"\", mode='strict')\n",
    "print(vals, line)\n",
    "print(axon.dumps(vals), line)\n",
    "print(axon.dumps(vals, pretty=1, braces=1))"
   ]
  },
  {
   "cell_type": "code",
   "execution_count": null,
   "metadata": {
    "collapsed": true
   },
   "outputs": [],
   "source": []
  }
 ],
 "metadata": {
  "kernelspec": {
   "display_name": "Python 3",
   "language": "python",
   "name": "python3"
  },
  "language_info": {
   "codemirror_mode": {
    "name": "ipython",
    "version": 3
   },
   "file_extension": ".py",
   "mimetype": "text/x-python",
   "name": "python",
   "nbconvert_exporter": "python",
   "pygments_lexer": "ipython3",
   "version": "3.5.2"
  }
 },
 "nbformat": 4,
 "nbformat_minor": 0
}
