{
 "cells": [
  {
   "cell_type": "markdown",
   "metadata": {},
   "source": [
    "# Что такое AXON. Примеры использования."
   ]
  },
  {
   "cell_type": "code",
   "execution_count": 1,
   "metadata": {
    "collapsed": false
   },
   "outputs": [],
   "source": [
    "import axon\n",
    "from pprint import pprint\n",
    "from collections import namedtuple\n",
    "import io"
   ]
  },
  {
   "cell_type": "markdown",
   "metadata": {},
   "source": [
    "Данная статья является продолжением [Что такое AXON](https://habrahabr.ru/post/304516/). Если первая статья была посвящена знакомству с нотацией `AXON`, то это посвящена вариантам использования на основе библиотеки [pyaxon](http://pypi.python.org/pypi/pyaxon)."
   ]
  },
  {
   "cell_type": "markdown",
   "metadata": {},
   "source": [
    "## Загрузка объектов из потока"
   ]
  },
  {
   "cell_type": "markdown",
   "metadata": {},
   "source": [
    "Сообщение в нотации `AXON` это поток объектов или поток пар `ключ`:`объект` в текстовом формате. Это позволяет не загружать предварительно в память весь поток, но загружать объекты из потока по очереди.\n",
    "\n",
    "Для этого имеются две функции [iload](http://intellimath.bitbucket.org/axon/api.html#functions) для итеративной загрузки из файла и [iloads](http://intellimath.bitbucket.org/axon/api.html#functions) для итеративной загрузки из текста. \n",
    "\n",
    "Две другие функции [load](http://intellimath.bitbucket.org/axon/api.html#functions) и [load](http://intellimath.bitbucket.org/axon/api.html#functions) &ndash; для полной загрузки объектов из файла и из текста, соответственно. В результате получается список закруженных объектов (`list`) или словарь (`ordered dict`)."
   ]
  },
  {
   "cell_type": "markdown",
   "metadata": {},
   "source": [
    "### Поток пар key:value"
   ]
  },
  {
   "cell_type": "code",
   "execution_count": 2,
   "metadata": {
    "collapsed": false
   },
   "outputs": [
    {
     "name": "stdout",
     "output_type": "stream",
     "text": [
      "('RU', {'capital': 'Москва'})\n",
      "('US', {'capital': 'Вашингтон'})\n",
      "('GB', {'capital': 'Берлин'})\n"
     ]
    }
   ],
   "source": [
    "text = \"\"\"\n",
    "RU: {capital:\"Москва\"}\n",
    "US: {capital:\"Вашингтон\"}\n",
    "GB: {capital:\"Берлин\"}\n",
    "\"\"\" \n",
    "for val in axon.iloads(text):\n",
    "    print(val)"
   ]
  },
  {
   "cell_type": "markdown",
   "metadata": {},
   "source": [
    "### Поток словарей (dict)"
   ]
  },
  {
   "cell_type": "code",
   "execution_count": 3,
   "metadata": {
    "collapsed": false
   },
   "outputs": [
    {
     "name": "stdout",
     "output_type": "stream",
     "text": [
      "{'FR': 'Paris', 'RU': 'Moscow'}\n",
      "{'JP': 'Tokio', 'CN': 'Beigin'}\n",
      "{'CA': 'Ottava', 'US': 'Washington'}\n"
     ]
    }
   ],
   "source": [
    "text = \"\"\"\n",
    "{FR:\"Paris\" RU:\"Moscow\"}\n",
    "{CN:\"Beigin\" JP:\"Tokio\"}\n",
    "{US:\"Washington\" CA:\"Ottava\"}\n",
    "\"\"\"\n",
    "for val in axon.iloads(text):\n",
    "    print(val)"
   ]
  },
  {
   "cell_type": "markdown",
   "metadata": {},
   "source": [
    "### Поток словарей (ordered dict)"
   ]
  },
  {
   "cell_type": "code",
   "execution_count": 4,
   "metadata": {
    "collapsed": false
   },
   "outputs": [
    {
     "name": "stdout",
     "output_type": "stream",
     "text": [
      "OrderedDict([('RU', 'Москва'), ('FR', 'Париж')])\n",
      "OrderedDict([('CN', 'Пекин'), ('JP', 'Токио')])\n",
      "OrderedDict([('US', 'Вашингтон'), ('CA', 'Оттава')])\n"
     ]
    }
   ],
   "source": [
    "text = \"\"\"\n",
    "# последовательность словарей\n",
    "# с сохранением порядка ключей\n",
    "[RU:\"Москва\" FR:\"Париж\"]\n",
    "[CN:\"Пекин\" JP:\"Токио\"]\n",
    "[US:\"Вашингтон\" CA:\"Оттава\"]\n",
    "\"\"\"\n",
    "for val in axon.iloads(text):\n",
    "    print(val)"
   ]
  },
  {
   "cell_type": "markdown",
   "metadata": {},
   "source": [
    "### Поток кортежей (tuple)"
   ]
  },
  {
   "cell_type": "code",
   "execution_count": 5,
   "metadata": {
    "collapsed": false,
    "scrolled": true
   },
   "outputs": [
    {
     "name": "stdout",
     "output_type": "stream",
     "text": [
      "('RU', 'Moscow')\n",
      "('US', 'Washington')\n",
      "('GB', 'London')\n"
     ]
    }
   ],
   "source": [
    "text = \"\"\"\n",
    "# кортежи экономят память в python,\n",
    "# если мутируемость не нужна\n",
    "(\"RU\" \"Moscow\")\n",
    "(\"US\" \"Washington\")\n",
    "(\"GB\" \"London\")\n",
    "\"\"\"\n",
    "for val in axon.iloads(text):\n",
    "    print(val)"
   ]
  },
  {
   "cell_type": "markdown",
   "metadata": {},
   "source": [
    "### Поток списков (list)"
   ]
  },
  {
   "cell_type": "code",
   "execution_count": 6,
   "metadata": {
    "collapsed": false,
    "scrolled": true
   },
   "outputs": [
    {
     "name": "stdout",
     "output_type": "stream",
     "text": [
      "['RU', 'Moscow']\n",
      "['US', 'Washington']\n",
      "['GB', 'London']\n"
     ]
    }
   ],
   "source": [
    "text = \"\"\"\n",
    "[\"RU\" \"Moscow\"]\n",
    "[\"US\" \"Washington\"]\n",
    "[\"GB\" \"London\"]\n",
    "\"\"\"\n",
    "for val in axon.iloads(text):\n",
    "    print(val)"
   ]
  },
  {
   "cell_type": "markdown",
   "metadata": {
    "collapsed": true
   },
   "source": [
    "### Поток элементов/объектов"
   ]
  },
  {
   "cell_type": "code",
   "execution_count": 7,
   "metadata": {
    "collapsed": false
   },
   "outputs": [
    {
     "name": "stdout",
     "output_type": "stream",
     "text": [
      "country{id: 'RU', capital: 'Moscow'}\n",
      "country{id: 'USA', capital: 'Washington'}\n",
      "country{id: 'GB', capital: 'London'}\n"
     ]
    }
   ],
   "source": [
    "text = \"\"\"\n",
    "# это AXON без форматирования\n",
    "country{id:\"RU\" capital:\"Moscow\"}\n",
    "country{id:\"USA\" capital:\"Washington\"}\n",
    "country{id:\"GB\" capital:\"London\"}\n",
    "\"\"\"\n",
    "for val in axon.iloads(text):\n",
    "    print(val)"
   ]
  },
  {
   "cell_type": "markdown",
   "metadata": {},
   "source": [
    "Если вместо элементов нужны объекты определенного типа, то нужно зарегистрировать фабричные функции:"
   ]
  },
  {
   "cell_type": "code",
   "execution_count": 8,
   "metadata": {
    "collapsed": false
   },
   "outputs": [
    {
     "name": "stdout",
     "output_type": "stream",
     "text": [
      "Country(id='RU', capital='Moscow')\n",
      "Country(id='USA', capital='Washington')\n",
      "Country(id='GB', capital='London')\n"
     ]
    }
   ],
   "source": [
    "Country = namedtuple(\"Country\", \"id capital\")\n",
    "\n",
    "@axon.factory(\"country\")\n",
    "def factory_country(attrs, vals):\n",
    "    return Country(**attrs)\n",
    "\n",
    "text = \"\"\"\n",
    "# это AXON без форматирования\n",
    "country{id:\"RU\" capital:\"Moscow\"}\n",
    "country{id:\"USA\" capital:\"Washington\"}\n",
    "country{id:\"GB\" capital:\"London\"}\n",
    "\"\"\"\n",
    "for val in axon.iloads(text, mode='strict'):\n",
    "    print(val)"
   ]
  },
  {
   "cell_type": "markdown",
   "metadata": {},
   "source": [
    "Для того чтобы обратно преобразовать в `AXON` необходимо зарегистрировать функции для редуцирования:"
   ]
  },
  {
   "cell_type": "code",
   "execution_count": 9,
   "metadata": {
    "collapsed": false
   },
   "outputs": [
    {
     "name": "stdout",
     "output_type": "stream",
     "text": [
      "country{id:\"RU\" capital:\"Moscow\"}\n",
      "country{id:\"USA\" capital:\"Washington\"}\n",
      "country{id:\"GB\" capital:\"London\"}\n"
     ]
    }
   ],
   "source": [
    "@axon.reduce(Country)\n",
    "def reduce_Country(ob):\n",
    "    return axon.node(\"country\", {'id':ob.id, 'capital':ob.capital})\n",
    "\n",
    "vals = axon.loads(text, mode='strict')\n",
    "print(axon.dumps(vals))                "
   ]
  },
  {
   "cell_type": "markdown",
   "metadata": {
    "collapsed": true
   },
   "source": [
    "## Метки и ссылки"
   ]
  },
  {
   "cell_type": "markdown",
   "metadata": {},
   "source": [
    "Проблема копирования объектов возникает при загрузке объектов с зависимостями. Для примера рассмотрим пример с обычным графом."
   ]
  },
  {
   "cell_type": "code",
   "execution_count": 10,
   "metadata": {
    "collapsed": false
   },
   "outputs": [],
   "source": [
    "text = \"\"\"\n",
    "graph {\n",
    "    nodes: [\n",
    "       &n1 node {id:1 val:4}\n",
    "       &n2 node {id:2 val:7}\n",
    "       &n3 node {id:3 val:2}\n",
    "       &n4 node {id:4 val:5}\n",
    "    ]\n",
    "    edges: [\n",
    "        edge {val:12 *n1 *n2}\n",
    "        edge {val:8 *n1 *n4}\n",
    "        edge {val:-2 *n2 *n3}\n",
    "        edge {val:5 *n3 *n4}\n",
    "    ]\n",
    "}\n",
    "\"\"\""
   ]
  },
  {
   "cell_type": "markdown",
   "metadata": {},
   "source": [
    "Метки объектов имеют префикс `&`, а ссылки префикс `*`."
   ]
  },
  {
   "cell_type": "code",
   "execution_count": 11,
   "metadata": {
    "collapsed": false
   },
   "outputs": [],
   "source": [
    "vals = axon.loads(text)"
   ]
  },
  {
   "cell_type": "markdown",
   "metadata": {},
   "source": [
    "Убеждаемся, что копирования не происходит:"
   ]
  },
  {
   "cell_type": "code",
   "execution_count": 12,
   "metadata": {
    "collapsed": false
   },
   "outputs": [
    {
     "name": "stdout",
     "output_type": "stream",
     "text": [
      "True\n",
      "True\n",
      "True\n",
      "True\n"
     ]
    }
   ],
   "source": [
    "graph = vals[0]\n",
    "nodes, edges = graph.nodes, graph.edges\n",
    "print(id(nodes[0]) == id(edges[0][0]) == id(edges[1][0]))\n",
    "print(id(nodes[1]) == id(edges[0][1]) == id(edges[2][0]))\n",
    "print(id(nodes[2]) == id(edges[2][1]) == id(edges[3][0]))\n",
    "print(id(nodes[3]) == id(edges[1][1]) == id(edges[3][1]))"
   ]
  },
  {
   "cell_type": "code",
   "execution_count": 13,
   "metadata": {
    "collapsed": false
   },
   "outputs": [
    {
     "name": "stdout",
     "output_type": "stream",
     "text": [
      "Дамп в компактной форме:\n",
      "=======================\n",
      "graph{nodes:[node{id:1 val:4} node{id:2 val:7} node{id:3 val:2} node{id:4 val:5}] edges:[edge{val:12 node{id:1 val:4} node{id:2 val:7}} edge{val:8 node{id:1 val:4} node{id:4 val:5}} edge{val:-2 node{id:2 val:7} node{id:3 val:2}} edge{val:5 node{id:3 val:2} node{id:4 val:5}}]}\n"
     ]
    }
   ],
   "source": [
    "print(\"Дамп в компактной форме:\")\n",
    "print(\"=======================\")\n",
    "print(axon.dumps(vals))"
   ]
  },
  {
   "cell_type": "markdown",
   "metadata": {},
   "source": [
    "### XML -> AXON"
   ]
  },
  {
   "cell_type": "markdown",
   "metadata": {},
   "source": [
    "Пусть нужно загрузить сторонние данные из `XML` документа и вставить в `AXON`. Для работы возьмем библиотеку [xml.etree](https://docs.python.org/3/library/xml.etree.elementtree.html) из стандартной библиотеки `python`."
   ]
  },
  {
   "cell_type": "code",
   "execution_count": 14,
   "metadata": {
    "collapsed": true
   },
   "outputs": [],
   "source": [
    "from xml.etree import ElementTree"
   ]
  },
  {
   "cell_type": "markdown",
   "metadata": {},
   "source": [
    "Зарегистрируем функции для редуцирования при преобразования в AXON формат."
   ]
  },
  {
   "cell_type": "code",
   "execution_count": 15,
   "metadata": {
    "collapsed": false
   },
   "outputs": [],
   "source": [
    "@axon.reduce(ElementTree.Element)\n",
    "def element_reduce(elem):\n",
    "    children = elem.getchildren()\n",
    "    if elem.attrib:\n",
    "        if children:\n",
    "            return axon.node(elem.tag, elem.attrib, children)\n",
    "        else:\n",
    "            return axon.node(elem.tag, elem.attrib, None)\n",
    "    elif children:\n",
    "            return axon.node(elem.tag, None, children)\n",
    "    else:\n",
    "        return axon.node(elem.tag)\n",
    "        \n",
    "@axon.reduce(ElementTree.ElementTree)\n",
    "def etree_reduce(element):\n",
    "    return element_reduce(element.getroot())"
   ]
  },
  {
   "cell_type": "markdown",
   "metadata": {},
   "source": [
    "Возьмем XML документ (без пространств имен)."
   ]
  },
  {
   "cell_type": "code",
   "execution_count": 16,
   "metadata": {
    "collapsed": false
   },
   "outputs": [],
   "source": [
    "xml_doc = \"\"\"\n",
    "<persons>\n",
    "<person firstname=\"Елена\" lastname=\"Иванова\" />\n",
    "<person firstname=\"Анна\" lastname=\"Сидорова\" />\n",
    "</persons>\n",
    "\"\"\"\n",
    "xml = ElementTree.fromstring(xml_doc)"
   ]
  },
  {
   "cell_type": "code",
   "execution_count": 17,
   "metadata": {
    "collapsed": true
   },
   "outputs": [],
   "source": [
    "axon_text = \"\"\"\n",
    "person {firstname:\"Иван\" lastname:\"Иванов\"}\n",
    "person {firstname:\"Николай\" lastname:\"Сидоров\"}\n",
    "\"\"\""
   ]
  },
  {
   "cell_type": "markdown",
   "metadata": {},
   "source": [
    "Загружаем и объединяем:"
   ]
  },
  {
   "cell_type": "code",
   "execution_count": 18,
   "metadata": {
    "collapsed": false
   },
   "outputs": [
    {
     "name": "stdout",
     "output_type": "stream",
     "text": [
      "person{firstname:\"Иван\" lastname:\"Иванов\"}\n",
      "person{firstname:\"Николай\" lastname:\"Сидоров\"}\n",
      "person{firstname:\"Елена\" lastname:\"Иванова\"}\n",
      "person{firstname:\"Анна\" lastname:\"Сидорова\"}\n"
     ]
    }
   ],
   "source": [
    "vals = axon.loads(axon_text)\n",
    "vals.extend(xml.getchildren())\n",
    "axon_text2 = axon.dumps(vals)\n",
    "print(axon_text2)"
   ]
  },
  {
   "cell_type": "markdown",
   "metadata": {},
   "source": [
    "Можно загрузить из `AXON` в `XML`. Для этого зарегистрируем построитель объектов. Изначально в библиотеке имеются три построителя: \n",
    "\n",
    "* `safe` (безопасный в том смысле, что для представления используются только встроенные типы), \n",
    "* `strict` (используются только зарегистрированные пользователем фабричные функции, иначе генерируется исключение) и\n",
    "* `mixed` (как в `strict`, только если нет зарегистрированной фабричной функции, то используются встроенные объекты)."
   ]
  },
  {
   "cell_type": "code",
   "execution_count": 19,
   "metadata": {
    "collapsed": true
   },
   "outputs": [],
   "source": [
    "def update_attribs(d):\n",
    "    for key, val in d.items():\n",
    "        d[key] = str(val)\n",
    "\n",
    "class ElementTreeBuilder(axon.Builder):\n",
    "    def node(self, name, attrs, vals):\n",
    "        if attrs:\n",
    "            attrs = dict(attrs)\n",
    "            update_attribs(attrs)\n",
    "        else:\n",
    "            attrs = {}\n",
    "        e = ElementTree.Element(name, attrs)\n",
    "        if vals:\n",
    "            e.extend(vals)\n",
    "        return e\n",
    "\n",
    "axon.register_builder('etree', ElementTreeBuilder())    "
   ]
  },
  {
   "cell_type": "markdown",
   "metadata": {},
   "source": [
    "Теперь можно загрузить и получить дерево `XML` документа."
   ]
  },
  {
   "cell_type": "code",
   "execution_count": 20,
   "metadata": {
    "collapsed": false
   },
   "outputs": [
    {
     "name": "stdout",
     "output_type": "stream",
     "text": [
      "<persons><person firstname=\"Иван\" lastname=\"Иванов\" /><person firstname=\"Николай\" lastname=\"Сидоров\" /><person firstname=\"Елена\" lastname=\"Иванова\" /><person firstname=\"Анна\" lastname=\"Сидорова\" /></persons>\n"
     ]
    }
   ],
   "source": [
    "vals = axon.loads(axon_text2, mode='etree')\n",
    "root = ElementTree.Element(\"persons\")\n",
    "root.extend(vals)\n",
    "ElementTree.dump(root)"
   ]
  },
  {
   "cell_type": "markdown",
   "metadata": {
    "collapsed": true
   },
   "source": [
    "## Сравнение производительности"
   ]
  },
  {
   "cell_type": "markdown",
   "metadata": {},
   "source": [
    "### AXON и JSON"
   ]
  },
  {
   "cell_type": "markdown",
   "metadata": {},
   "source": [
    "Скорость загрузки/дампа для `AXON` ожидаемо ниже чем для `AXON`, так как структура объектной нотации `AXON` сложнее `JSON`.\n"
   ]
  },
  {
   "cell_type": "markdown",
   "metadata": {},
   "source": [
    "Для теста используется файл из 69933 записей (`list` of `dict`s). Запись имеет вид:\n",
    "\n",
    "``` json\n",
    "{\"auc\":233524008,\"item\":98799,\"owner\":\"???\",\"ownerRealm\":\"???\",\"bid\":8500000,\"buyout\":8500000,\"quantity\":1,\"timeLeft\":\"VERY_LONG\",\"rand\":0,\"seed\":1639860480}\n",
    "```"
   ]
  },
  {
   "cell_type": "code",
   "execution_count": 21,
   "metadata": {
    "collapsed": true
   },
   "outputs": [],
   "source": [
    "import json "
   ]
  },
  {
   "cell_type": "code",
   "execution_count": 22,
   "metadata": {
    "collapsed": false
   },
   "outputs": [],
   "source": [
    "# fp = io.open('data/auctions.json', 'rt')\n",
    "# vals = json.load(fp)\n",
    "# fp.close()\n",
    "# axon.dump('data/auctions.axon', vals)"
   ]
  },
  {
   "cell_type": "code",
   "execution_count": 23,
   "metadata": {
    "collapsed": false
   },
   "outputs": [],
   "source": [
    "def load_and_iterate_json(path):\n",
    "    fp = io.open(path, 'rt')\n",
    "    vals = json.load(fp)\n",
    "    print(len(vals))\n",
    "    fp.close()\n",
    "    for val in vals:\n",
    "        pass\n",
    "    \n",
    "def iload_and_iterate_axon(path):\n",
    "     for val in axon.iload(path):\n",
    "         pass    \n",
    "    \n",
    "def load_and_iterate_axon(path):\n",
    "    vals = axon.load(path)\n",
    "    for val in vals:\n",
    "        pass\n"
   ]
  },
  {
   "cell_type": "code",
   "execution_count": 24,
   "metadata": {
    "collapsed": false
   },
   "outputs": [
    {
     "name": "stdout",
     "output_type": "stream",
     "text": [
      "69933\n",
      "CPU times: user 302 ms, sys: 54.8 ms, total: 357 ms\n",
      "Wall time: 586 ms\n",
      "CPU times: user 425 ms, sys: 55.2 ms, total: 480 ms\n",
      "Wall time: 516 ms\n",
      "CPU times: user 381 ms, sys: 6.77 ms, total: 388 ms\n",
      "Wall time: 389 ms\n"
     ]
    }
   ],
   "source": [
    "%time load_and_iterate_json('data/auctions.json')\n",
    "%time load_and_iterate_axon('data/auctions.axon')\n",
    "%time iload_and_iterate_axon('data/auctions.axon')"
   ]
  },
  {
   "cell_type": "code",
   "execution_count": 25,
   "metadata": {
    "collapsed": false
   },
   "outputs": [],
   "source": [
    "import random\n",
    "test_vals_1 = []\n",
    "for i in range(100000):\n",
    "    test_vals_1.append([random.randint(0, 1000000), random.random(), random.randint(0, 1000000), random.random()])\n",
    "    \n",
    "fp = io.open('data/test_1.json', 'wt')    \n",
    "json.dump(test_vals_1, fp)\n",
    "fp.close()\n",
    "axon.dump('data/test_1.axon', test_vals_1)\n"
   ]
  },
  {
   "cell_type": "code",
   "execution_count": 26,
   "metadata": {
    "collapsed": false
   },
   "outputs": [
    {
     "name": "stdout",
     "output_type": "stream",
     "text": [
      "100000\n",
      "CPU times: user 194 ms, sys: 20.6 ms, total: 215 ms\n",
      "Wall time: 215 ms\n",
      "CPU times: user 290 ms, sys: 14 ms, total: 304 ms\n",
      "Wall time: 302 ms\n",
      "CPU times: user 292 ms, sys: 3.9 ms, total: 296 ms\n",
      "Wall time: 296 ms\n"
     ]
    }
   ],
   "source": [
    "%time load_and_iterate_json('data/test_1.json')\n",
    "%time load_and_iterate_axon('data/test_1.axon')\n",
    "%time iload_and_iterate_axon('data/test_1.axon')"
   ]
  },
  {
   "cell_type": "code",
   "execution_count": 27,
   "metadata": {
    "collapsed": true
   },
   "outputs": [],
   "source": [
    "import random\n",
    "test_vals_2 = []\n",
    "for i in range(100000):\n",
    "    test_vals_2.append({'a':random.randint(0, 1000000), 'b':random.random(), 'c':random.randint(0, 1000000), 'd':random.random()})\n",
    "    \n",
    "fp = io.open('data/test_2.json', 'wt')    \n",
    "json.dump(test_vals_2, fp)\n",
    "fp.close()\n",
    "axon.dump('data/test_2.axon', test_vals_2)\n"
   ]
  },
  {
   "cell_type": "code",
   "execution_count": 28,
   "metadata": {
    "collapsed": false
   },
   "outputs": [
    {
     "name": "stdout",
     "output_type": "stream",
     "text": [
      "100000\n",
      "CPU times: user 199 ms, sys: 35.6 ms, total: 235 ms\n",
      "Wall time: 237 ms\n",
      "CPU times: user 290 ms, sys: 21.1 ms, total: 311 ms\n",
      "Wall time: 311 ms\n",
      "CPU times: user 305 ms, sys: 4.78 ms, total: 310 ms\n",
      "Wall time: 310 ms\n"
     ]
    }
   ],
   "source": [
    "%time load_and_iterate_json('data/test_2.json')\n",
    "%time load_and_iterate_axon('data/test_2.axon')\n",
    "%time iload_and_iterate_axon('data/test_2.axon')"
   ]
  },
  {
   "cell_type": "code",
   "execution_count": null,
   "metadata": {
    "collapsed": true
   },
   "outputs": [],
   "source": []
  }
 ],
 "metadata": {
  "kernelspec": {
   "display_name": "Python 3",
   "language": "python",
   "name": "python3"
  },
  "language_info": {
   "codemirror_mode": {
    "name": "ipython",
    "version": 3
   },
   "file_extension": ".py",
   "mimetype": "text/x-python",
   "name": "python",
   "nbconvert_exporter": "python",
   "pygments_lexer": "ipython3",
   "version": "3.5.2"
  },
  "widgets": {
   "state": {},
   "version": "1.1.2"
  }
 },
 "nbformat": 4,
 "nbformat_minor": 0
}
