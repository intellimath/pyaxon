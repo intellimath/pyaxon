{
 "metadata": {
  "name": "",
  "signature": "sha256:68cce398214888fe514ffdeb26a7f916ca1c05a48360a6c08e511abc38ca6179"
 },
 "nbformat": 3,
 "nbformat_minor": 0,
 "worksheets": [
  {
   "cells": [
    {
     "cell_type": "heading",
     "level": 1,
     "metadata": {},
     "source": [
      "AXON data model"
     ]
    },
    {
     "cell_type": "markdown",
     "metadata": {},
     "source": [
      "AXON data model can be considered as unification of data models of JSON and XML. "
     ]
    },
    {
     "cell_type": "markdown",
     "metadata": {},
     "source": [
      "Data model of AXON includes several types of objects:\n",
      "\n",
      "* *dictionaries*\n",
      "* *lists* and *tuples*\n",
      "* *mappings* and *elements*\n",
      "* *sequences* and *instances*\n",
      "\n",
      "Each kind of objects corresponds to specific way of composition of values."
     ]
    },
    {
     "cell_type": "markdown",
     "metadata": {},
     "source": [
      "AXON message is a collection of data *items*.\n",
      "\n",
      "Data **item** is *atomic value*, *complex value* or *reference* to the value (atomic or complex).\n",
      "\n",
      "**Atomic value** is *integer* values, *float* value, *decimal* value, *date*/*time*/*datetime* value, *boolean* value or constant.\n",
      "\n",
      "**Complex value** is *named value* or *anonimous value*.\n",
      "\n",
      "**Anonimous value** is *dictionary*, *list* or *tuple*.\n",
      "\n",
      "**Named value** is *mapping*, *element*, *sequence* or *instance*. Each named value has a *name*."
     ]
    },
    {
     "cell_type": "heading",
     "level": 2,
     "metadata": {},
     "source": [
      "Anonimous values"
     ]
    },
    {
     "cell_type": "heading",
     "level": 3,
     "metadata": {},
     "source": [
      "Dictionary"
     ]
    },
    {
     "cell_type": "markdown",
     "metadata": {},
     "source": [
      "**Dictionary** is a unordered collection of *key*:*data item* pairs, where *key* is an unicode string, enclosed in double quotes or identifier name. Members of the dictionary are accesses by keys."
     ]
    },
    {
     "cell_type": "heading",
     "level": 3,
     "metadata": {},
     "source": [
      "List"
     ]
    },
    {
     "cell_type": "markdown",
     "metadata": {},
     "source": [
      "**List** is a oredered collection of data *items*. Members of the list are accessed by integer index."
     ]
    },
    {
     "cell_type": "heading",
     "level": 3,
     "metadata": {},
     "source": [
      "Tuple"
     ]
    },
    {
     "cell_type": "markdown",
     "metadata": {},
     "source": [
      "**Tuple** is fixed ordered collection of data items. Members of the tuple are accessed by integer index."
     ]
    },
    {
     "cell_type": "heading",
     "level": 2,
     "metadata": {},
     "source": [
      "Named complex value"
     ]
    },
    {
     "cell_type": "heading",
     "level": 3,
     "metadata": {},
     "source": [
      "Mapping"
     ]
    },
    {
     "cell_type": "markdown",
     "metadata": {},
     "source": [
      "**Mapping** is a named unordered collection of the *name*:*data item* pairs."
     ]
    },
    {
     "cell_type": "heading",
     "level": 3,
     "metadata": {},
     "source": [
      "Element"
     ]
    },
    {
     "cell_type": "markdown",
     "metadata": {},
     "source": [
      "**Element** is a *mapping* with a nested/child *list*."
     ]
    },
    {
     "cell_type": "heading",
     "level": 3,
     "metadata": {},
     "source": [
      "Sequences"
     ]
    },
    {
     "cell_type": "markdown",
     "metadata": {},
     "source": [
      "**Sequence** is a named lists."
     ]
    },
    {
     "cell_type": "heading",
     "level": 3,
     "metadata": {},
     "source": [
      "Instance"
     ]
    },
    {
     "cell_type": "markdown",
     "metadata": {},
     "source": [
      "**Instance** is a named tuple with a dictionary."
     ]
    },
    {
     "cell_type": "code",
     "collapsed": false,
     "input": [],
     "language": "python",
     "metadata": {},
     "outputs": []
    }
   ],
   "metadata": {}
  }
 ]
}