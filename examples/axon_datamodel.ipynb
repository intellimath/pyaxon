{
 "cells": [
  {
   "cell_type": "markdown",
   "metadata": {},
   "source": [
    "# AXON data model"
   ]
  },
  {
   "cell_type": "markdown",
   "metadata": {},
   "source": [
    "AXON data model can be considered as unification of data models of JSON and XML. "
   ]
  },
  {
   "cell_type": "markdown",
   "metadata": {},
   "source": [
    "Data model of AXON includes several types of objects:\n",
    "\n",
    "* *dictionaries*\n",
    "* *lists* and *tuples*\n",
    "* *nodes*\n",
    "\n",
    "Each kind of objects corresponds to specific way of composition of values."
   ]
  },
  {
   "cell_type": "markdown",
   "metadata": {},
   "source": [
    "AXON message is a collection of data *items*.\n",
    "\n",
    "Data **item** is *atomic value*, *complex value* or *reference* to the value (atomic or complex).\n",
    "\n",
    "**Atomic value** is *integer* values, *float* value, *decimal* value, *date*/*time*/*datetime* value, *boolean* value or constant.\n",
    "\n",
    "**Complex value** is *named value* or *anonimous value*.\n",
    "\n",
    "**Anonimous value** is *dictionary*, *list* or *tuple*.\n",
    "\n",
    "**Named value** is *node*. Each named value has a *name*."
   ]
  },
  {
   "cell_type": "markdown",
   "metadata": {},
   "source": [
    "## Anonimous values"
   ]
  },
  {
   "cell_type": "markdown",
   "metadata": {},
   "source": [
    "### Dictionary"
   ]
  },
  {
   "cell_type": "markdown",
   "metadata": {},
   "source": [
    "**Dictionary** is a unordered collection of *key*:*data item* pairs, where *key* is an unicode string, enclosed in double quotes or identifier name. Members of the dictionary are accesses by keys."
   ]
  },
  {
   "cell_type": "markdown",
   "metadata": {},
   "source": [
    "### List"
   ]
  },
  {
   "cell_type": "markdown",
   "metadata": {},
   "source": [
    "**List** is a oredered collection of data *items*. Members of the list are accessed by integer index."
   ]
  },
  {
   "cell_type": "markdown",
   "metadata": {},
   "source": [
    "### Tuple"
   ]
  },
  {
   "cell_type": "markdown",
   "metadata": {},
   "source": [
    "**Tuple** is fixed ordered collection of data items. Members of the tuple are accessed by integer index."
   ]
  },
  {
   "cell_type": "markdown",
   "metadata": {},
   "source": [
    "## Named complex value"
   ]
  },
  {
   "cell_type": "markdown",
   "metadata": {},
   "source": [
    "### Node"
   ]
  },
  {
   "cell_type": "markdown",
   "metadata": {},
   "source": [
    "**Node** is a *mapping* with a nested/child *list* of values."
   ]
  },
  {
   "cell_type": "code",
   "execution_count": null,
   "metadata": {
    "collapsed": false
   },
   "outputs": [],
   "source": []
  }
 ],
 "metadata": {
  "kernelspec": {
   "display_name": "Python 3",
   "language": "python",
   "name": "python3"
  },
  "language_info": {
   "codemirror_mode": {
    "name": "ipython",
    "version": 3
   },
   "file_extension": ".py",
   "mimetype": "text/x-python",
   "name": "python",
   "nbconvert_exporter": "python",
   "pygments_lexer": "ipython3",
   "version": "3.4.3"
  }
 },
 "nbformat": 4,
 "nbformat_minor": 0
}
