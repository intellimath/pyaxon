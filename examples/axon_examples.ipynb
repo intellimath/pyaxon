{
 "cells": [
  {
   "cell_type": "markdown",
   "metadata": {},
   "source": [
    "# AXON: Examples"
   ]
  },
  {
   "cell_type": "code",
   "execution_count": 1,
   "metadata": {
    "collapsed": false
   },
   "outputs": [],
   "source": [
    "import axon\n",
    "\n",
    "from datetime import date, time, datetime\n",
    "from pprint import pprint\n",
    "\n",
    "try:\n",
    "    from cdecimal import Decimal  \n",
    "except:\n",
    "    from decimal import Decimal"
   ]
  },
  {
   "cell_type": "markdown",
   "metadata": {},
   "source": [
    "## Simple values"
   ]
  },
  {
   "cell_type": "markdown",
   "metadata": {},
   "source": [
    "### Integer values"
   ]
  },
  {
   "cell_type": "code",
   "execution_count": 2,
   "metadata": {
    "collapsed": false
   },
   "outputs": [
    {
     "name": "stdout",
     "output_type": "stream",
     "text": [
      "[0, 1, -1, 32768, -9223372036854775807]\n"
     ]
    },
    {
     "name": "stderr",
     "output_type": "stream",
     "text": [
      ":0: FutureWarning: IPython widgets are experimental and may change in the future.\n"
     ]
    }
   ],
   "source": [
    "vs = axon.loads('''\n",
    "0\n",
    "1\n",
    "-1\n",
    "32768\n",
    "-9223372036854775807''')\n",
    "pprint(vs)\n",
    "axon.display_html(vs)"
   ]
  },
  {
   "cell_type": "code",
   "execution_count": 3,
   "metadata": {
    "collapsed": false
   },
   "outputs": [
    {
     "name": "stdout",
     "output_type": "stream",
     "text": [
      "[340282366920938463463374607431768211456,\n",
      " -340282366920938463463374607431768211456]\n"
     ]
    }
   ],
   "source": [
    "vs = axon.loads('''\n",
    "340282366920938463463374607431768211456\n",
    "-340282366920938463463374607431768211456''') # long int value =/-2**128\n",
    "pprint(vs)\n",
    "axon.display_html(vs)"
   ]
  },
  {
   "cell_type": "markdown",
   "metadata": {},
   "source": [
    "### Float values"
   ]
  },
  {
   "cell_type": "code",
   "execution_count": 4,
   "metadata": {
    "collapsed": false
   },
   "outputs": [
    {
     "name": "stdout",
     "output_type": "stream",
     "text": [
      "[0.0, 0.0, 1.0, -1.0, -0.0, 3.141528, 141.0, -0.0141]\n"
     ]
    }
   ],
   "source": [
    "vs = axon.loads('''\n",
    "0.\n",
    "0.0\n",
    "1.0\n",
    "-1.0\n",
    "-0.0\n",
    "3.141528\n",
    "1.41e2\n",
    "-1.41e-2''')\n",
    "pprint(vs)\n",
    "axon.display_html(vs)"
   ]
  },
  {
   "cell_type": "code",
   "execution_count": 5,
   "metadata": {
    "collapsed": false
   },
   "outputs": [
    {
     "name": "stdout",
     "output_type": "stream",
     "text": [
      "invalid float number\n"
     ]
    }
   ],
   "source": [
    "try:\n",
    "    vs = axon.loads('.12')\n",
    "except axon.AxonError:\n",
    "    print('invalid float number')"
   ]
  },
  {
   "cell_type": "code",
   "execution_count": 6,
   "metadata": {
    "collapsed": false
   },
   "outputs": [
    {
     "name": "stdout",
     "output_type": "stream",
     "text": [
      "[inf, -inf, nan]\n"
     ]
    }
   ],
   "source": [
    "vs = axon.loads('''\n",
    "∞\n",
    "-∞\n",
    "?\n",
    "''')\n",
    "pprint(vs)\n",
    "axon.display_html(vs)"
   ]
  },
  {
   "cell_type": "code",
   "execution_count": 7,
   "metadata": {
    "collapsed": false
   },
   "outputs": [
    {
     "name": "stdout",
     "output_type": "stream",
     "text": [
      "invalid float number\n"
     ]
    }
   ],
   "source": [
    "try:\n",
    "    vs = axon.loads('.')\n",
    "except axon.AxonError:\n",
    "    print('invalid float number')"
   ]
  },
  {
   "cell_type": "markdown",
   "metadata": {},
   "source": [
    "### Decimal values"
   ]
  },
  {
   "cell_type": "code",
   "execution_count": 8,
   "metadata": {
    "collapsed": false
   },
   "outputs": [
    {
     "name": "stdout",
     "output_type": "stream",
     "text": [
      "[Decimal('0'),\n",
      " Decimal('1'),\n",
      " Decimal('-1'),\n",
      " Decimal('0'),\n",
      " Decimal('0.0'),\n",
      " Decimal('1.0'),\n",
      " Decimal('-1.0'),\n",
      " Decimal('-0.0'),\n",
      " Decimal('3.141528'),\n",
      " Decimal('141'),\n",
      " Decimal('-0.0141')]\n"
     ]
    }
   ],
   "source": [
    "vs = axon.loads('''\n",
    "0D\n",
    "1d\n",
    "-1D\n",
    "0.d\n",
    "0.0d\n",
    "1.0D\n",
    "-1.0D\n",
    "-0.0D\n",
    "3.141528D\n",
    "1.41e2d\n",
    "-1.41e-2d''')\n",
    "pprint(vs)\n",
    "axon.display_html(vs)"
   ]
  },
  {
   "cell_type": "code",
   "execution_count": 9,
   "metadata": {
    "collapsed": false
   },
   "outputs": [
    {
     "name": "stdout",
     "output_type": "stream",
     "text": [
      "[Decimal('NaN'), Decimal('Infinity'), Decimal('-Infinity')]\n"
     ]
    }
   ],
   "source": [
    "vs = axon.loads('''\n",
    "?D\n",
    "∞D\n",
    "-∞D''')\n",
    "pprint(vs)\n",
    "axon.display_html(vs)"
   ]
  },
  {
   "cell_type": "markdown",
   "metadata": {},
   "source": [
    "### Unicode text"
   ]
  },
  {
   "cell_type": "code",
   "execution_count": 10,
   "metadata": {
    "collapsed": false
   },
   "outputs": [
    {
     "name": "stdout",
     "output_type": "stream",
     "text": [
      "['any unicode text\\nwith line breaks\\nand control symbols \\t\\n']\n"
     ]
    }
   ],
   "source": [
    "vs = axon.loads('''\"any unicode text\n",
    "with line breaks\n",
    "and control symbols \\t\\n\"''')\n",
    "pprint(vs)\n",
    "axon.display_html(vs)"
   ]
  },
  {
   "cell_type": "code",
   "execution_count": 11,
   "metadata": {
    "collapsed": false
   },
   "outputs": [
    {
     "name": "stdout",
     "output_type": "stream",
     "text": [
      "['text line splited into chunks']\n"
     ]
    }
   ],
   "source": [
    "vs = axon.loads('''\"text line \\\n",
    "splited \\\n",
    "into chunks\"''')\n",
    "pprint(vs)\n",
    "axon.display_html(vs)"
   ]
  },
  {
   "cell_type": "markdown",
   "metadata": {},
   "source": [
    "### Date/Time values"
   ]
  },
  {
   "cell_type": "code",
   "execution_count": 12,
   "metadata": {
    "collapsed": false
   },
   "outputs": [
    {
     "name": "stdout",
     "output_type": "stream",
     "text": [
      "[datetime.date(2012, 12, 31),\n",
      " datetime.time(12, 30),\n",
      " datetime.time(12, 30, 59),\n",
      " datetime.time(12, 30, 59, 150000),\n",
      " datetime.time(12, 30, 59, tzinfo=datetime.timezone(datetime.timedelta(0, 10800))),\n",
      " datetime.datetime(2012, 12, 31, 12, 30, 59, 15000, tzinfo=datetime.timezone(datetime.timedelta(-1, 72000)))]\n"
     ]
    }
   ],
   "source": [
    "vs = axon.loads('''\n",
    "2012-12-31\n",
    "12:30\n",
    "12:30:59\n",
    "12:30:59.150000\n",
    "12:30:59+03\n",
    "2012-12-31T12:30:59.015000-04''')\n",
    "pprint(vs)\n",
    "axon.display_html(vs)"
   ]
  },
  {
   "cell_type": "markdown",
   "metadata": {},
   "source": [
    "## Anonymous complex objects"
   ]
  },
  {
   "cell_type": "markdown",
   "metadata": {},
   "source": [
    "### Simply lines of data"
   ]
  },
  {
   "cell_type": "code",
   "execution_count": 13,
   "metadata": {
    "collapsed": false
   },
   "outputs": [
    {
     "name": "stdout",
     "output_type": "stream",
     "text": [
      "[[1, 'a', True, datetime.date(2007, 12, 20), datetime.time(9, 0)],\n",
      " [2, 'b', False, datetime.date(2007, 12, 20), datetime.time(15, 0)],\n",
      " [3, 'c', False, datetime.date(2007, 12, 20), datetime.time(0, 0)]]\n"
     ]
    }
   ],
   "source": [
    "text = '''\n",
    "# No Sym Flag Date Time\n",
    "[1 \"a\" true 2007-12-20 9:00]\n",
    "[2 \"b\" false 2007-12-20 15:00]\n",
    "[3 \"c\" false 2007-12-20 00:00]\n",
    "'''\n",
    "vs = axon.loads(text)\n",
    "pprint(vs)\n",
    "axon.display_html(vs)"
   ]
  },
  {
   "cell_type": "markdown",
   "metadata": {},
   "source": [
    "### Simply dicts"
   ]
  },
  {
   "cell_type": "code",
   "execution_count": 14,
   "metadata": {
    "collapsed": false
   },
   "outputs": [
    {
     "name": "stdout",
     "output_type": "stream",
     "text": [
      "[{'a': 1, 'b': 2.0, 'c': Decimal('3000')},\n",
      " {'a': 100, 'b': 200.5, 'c': Decimal('30'), 'd': None}]\n"
     ]
    }
   ],
   "source": [
    "text = u'''\n",
    "{\"a\":1 \"b\":2.0 \"c\":3000D}\n",
    "{\"a\":100 \"b\":200.5 \"c\":30D \"d\":null}\n",
    "'''\n",
    "vs = axon.loads(text)\n",
    "pprint(vs)\n",
    "axon.display_html(vs)"
   ]
  },
  {
   "cell_type": "markdown",
   "metadata": {},
   "source": [
    "### Simply tuples"
   ]
  },
  {
   "cell_type": "code",
   "execution_count": 15,
   "metadata": {
    "collapsed": false
   },
   "outputs": [
    {
     "name": "stdout",
     "output_type": "stream",
     "text": [
      "[(datetime.date(2013, 1, 1), datetime.time(12, 30)),\n",
      " (datetime.date(2013, 1, 2), datetime.time(13, 0)),\n",
      " (datetime.date(2013, 1, 3), datetime.time(14, 30))]\n"
     ]
    }
   ],
   "source": [
    "text = u'''\n",
    "(2013-01-01 12:30) \n",
    "(2013-01-02 13:00)\n",
    "(2013-01-03 14:30)\n",
    "'''\n",
    "vs = axon.loads(text)\n",
    "pprint(vs)\n",
    "axon.display_html(vs)"
   ]
  },
  {
   "cell_type": "markdown",
   "metadata": {},
   "source": [
    "### Simply dicts of lists"
   ]
  },
  {
   "cell_type": "code",
   "execution_count": 16,
   "metadata": {
    "collapsed": false
   },
   "outputs": [
    {
     "name": "stdout",
     "output_type": "stream",
     "text": [
      "[{'a': [0, 1, 2],\n",
      "  'b': [0.0, 1.0, 2.0],\n",
      "  'c': [Decimal('0'), Decimal('1.0')],\n",
      "  'd': [True]},\n",
      " {'a': [100, 200, 300],\n",
      "  'b': [100.0, 200.0, 300.0],\n",
      "  'c': [Decimal('10'), Decimal('20')],\n",
      "  's': [False]}]\n"
     ]
    }
   ],
   "source": [
    "text = u'''\n",
    "{ a: [0 1 2] \n",
    "  b: [0. 1.0 2.0] \n",
    "  c: [0.D 1.0D] \n",
    "  d: [true] }\n",
    "{ a: [100 200 300] \n",
    "  b: [100. 200. 300.] \n",
    "  c: [10D 20D] \n",
    "  s: [false] }\n",
    "'''\n",
    "vs = axon.loads(text)\n",
    "pprint(vs)\n",
    "axon.display_html(vs)"
   ]
  },
  {
   "cell_type": "markdown",
   "metadata": {},
   "source": [
    "## Named complex objects"
   ]
  },
  {
   "cell_type": "markdown",
   "metadata": {},
   "source": [
    "### Simply named dicts of tuples"
   ]
  },
  {
   "cell_type": "code",
   "execution_count": 17,
   "metadata": {
    "collapsed": false
   },
   "outputs": [
    {
     "name": "stdout",
     "output_type": "stream",
     "text": [
      "[rectangle{left_top: (-1.0, 1.0), left_bottom: (-1.0, -1.0), right_top: (1.0, 1.0), right_bottom: (1.0, -1.0)},\n",
      " rectangle{left_top: (-2.0, 2.0), left_bottom: (-2.0, -1.0), right_top: (1.0, 2.0), right_bottom: (1.0, -1.0)}]\n"
     ]
    }
   ],
   "source": [
    "text = u'''\n",
    "rectangle {\n",
    "    left_top: (-1.0 1.0)\n",
    "    left_bottom: (-1.0 -1.0)\n",
    "    right_top: (1.0 1.0)\n",
    "    right_bottom: (1.0 -1.0)\n",
    "}\n",
    "rectangle {\n",
    "    left_top: (-2.0 2.0)\n",
    "    left_bottom: (-2.0 -1.0)\n",
    "    right_top: (1.0 2.0)\n",
    "    right_bottom: (1.0 -1.0)\n",
    "}\n",
    "'''\n",
    "vs = axon.loads(text)\n",
    "pprint(vs)\n",
    "axon.display_html(vs)"
   ]
  },
  {
   "cell_type": "code",
   "execution_count": 18,
   "metadata": {
    "collapsed": false
   },
   "outputs": [
    {
     "name": "stdout",
     "output_type": "stream",
     "text": [
      "rectangle{left_top: (-1.0, 1.0), left_bottom: (-1.0, -1.0), right_top: (1.0, 1.0), right_bottom: (1.0, -1.0)}\n",
      "rectangle{left_top: (-2.0, 2.0), left_bottom: (-2.0, -1.0), right_top: (1.0, 2.0), right_bottom: (1.0, -1.0)}\n",
      "rectangle OrderedDict([('left_top', (-1.0, 1.0)), ('left_bottom', (-1.0, -1.0)), ('right_top', (1.0, 1.0)), ('right_bottom', (1.0, -1.0))])\n",
      "(-1.0, -1.0) (1.0, 1.0)\n"
     ]
    }
   ],
   "source": [
    "v1, v2 = vs\n",
    "print(v1)\n",
    "print(v2)\n",
    "print(v1.__tag__, v1.__attrs__)\n",
    "print(v1.left_bottom, v1.right_top)"
   ]
  },
  {
   "cell_type": "markdown",
   "metadata": {},
   "source": [
    "### Simply named lists of tuples"
   ]
  },
  {
   "cell_type": "code",
   "execution_count": 19,
   "metadata": {
    "collapsed": false
   },
   "outputs": [
    {
     "name": "stdout",
     "output_type": "stream",
     "text": [
      "[rectangle{(-1.0, 1.0), (-1.0, -1.0), (1.0, -1.0), (1.0, 1.0)},\n",
      " rectangle{(-2.0, 2.0), (-2.0, -1.0), (1.0, -1.0), (1.0, 2.0)}]\n"
     ]
    }
   ],
   "source": [
    "text = u'''\n",
    "rectangle {\n",
    "    (-1.0 1.0) \n",
    "    (-1.0 -1.0)\n",
    "    (1.0 -1.0)\n",
    "    (1.0 1.0)\n",
    "}\n",
    "rectangle {\n",
    "    (-2.0 2.0)\n",
    "    (-2.0 -1.0)\n",
    "    (1.0 -1.0)\n",
    "    (1.0 2.0)\n",
    "}\n",
    "'''\n",
    "vs = axon.loads(text)\n",
    "pprint(vs)\n",
    "axon.display_html(vs)"
   ]
  },
  {
   "cell_type": "code",
   "execution_count": 20,
   "metadata": {
    "collapsed": false
   },
   "outputs": [
    {
     "name": "stdout",
     "output_type": "stream",
     "text": [
      "rectangle{(-1.0, 1.0), (-1.0, -1.0), (1.0, -1.0), (1.0, 1.0)}\n",
      "rectangle{(-2.0, 2.0), (-2.0, -1.0), (1.0, -1.0), (1.0, 2.0)}\n",
      "rectangle [(-1.0, 1.0), (-1.0, -1.0), (1.0, -1.0), (1.0, 1.0)]\n"
     ]
    }
   ],
   "source": [
    "print(vs[0])\n",
    "print(vs[1])\n",
    "print(vs[0].__tag__, vs[0].__vals__)"
   ]
  },
  {
   "cell_type": "markdown",
   "metadata": {},
   "source": [
    "### Simple file system: attributed tree"
   ]
  },
  {
   "cell_type": "code",
   "execution_count": 21,
   "metadata": {
    "collapsed": false
   },
   "outputs": [
    {
     "name": "stdout",
     "output_type": "stream",
     "text": [
      "[folder{name: '/' folder{name: 'Library' file{name: 'book.pdf'}, file{name: 'README'}, folder{name: 'Temp'}}, folder{name: 'Desktop' file{name: 'Notes.txt'}, file{name: 'Recipes.txt'}}}]\n"
     ]
    }
   ],
   "source": [
    "text = u'''\n",
    "folder {\n",
    "  name: \"/\"\n",
    "  folder {\n",
    "    name: \"Library\"\n",
    "    file {name: \"book.pdf\"}\n",
    "    file {name: \"README\"}\n",
    "    folder {\n",
    "      name: \"Temp\"\n",
    "    }\n",
    "  }\n",
    "  folder {\n",
    "    name: \"Desktop\"\n",
    "    file {name: \"Notes.txt\"}\n",
    "    file {name: \"Recipes.txt\"}\n",
    "  }\n",
    "}\n",
    "'''\n",
    "vs = axon.loads(text)\n",
    "pprint(vs)\n",
    "axon.display_html(vs)"
   ]
  },
  {
   "cell_type": "code",
   "execution_count": 22,
   "metadata": {
    "collapsed": false
   },
   "outputs": [
    {
     "name": "stdout",
     "output_type": "stream",
     "text": [
      "folder\n",
      "folder folder\n",
      "file file\n",
      "folder OrderedDict([('name', 'Desktop')]) [file{name: 'Notes.txt'}, file{name: 'Recipes.txt'}]\n"
     ]
    }
   ],
   "source": [
    "val = vs[0]\n",
    "print(val.__tag__)\n",
    "print(val[0].__tag__, val[1].__tag__)\n",
    "print(val[0][0].__tag__, val[1][0].__tag__)\n",
    "print(val[1].__tag__, val[1].__attrs__, val[1].__vals__)"
   ]
  },
  {
   "cell_type": "markdown",
   "metadata": {},
   "source": [
    "### Network of connected units"
   ]
  },
  {
   "cell_type": "code",
   "execution_count": 23,
   "metadata": {
    "collapsed": false
   },
   "outputs": [
    {
     "name": "stdout",
     "output_type": "stream",
     "text": [
      "[network{nodes{node{label: 'x1'}, node{label: 'x2'}, node{label: 'x3'}, node{label: 'u1'}, node{label: 'u2'}, node{label: 'y'}}, units{unit{out: (node{label: 'u1'},), inp: (node{label: 'x1'}, node{label: 'x2'}, node{label: 'x3'}), weights: (1.0, 0.5, 0.5)}, unit{out: (node{label: 'u2'},), inp: (node{label: 'x1'}, node{label: 'x2'}), weights: (1.0, 1.5)}, unit{out: (node{label: 'y'},), inp: (node{label: 'u1'}, node{label: 'u2'}), weights: (0.5, -1.0)}}}]\n"
     ]
    }
   ],
   "source": [
    "text = u'''\n",
    "network {\n",
    "    nodes {\n",
    "        &x1 node {label:\"x1\"}\n",
    "        &x2 node {label:\"x2\"}\n",
    "        &x3 node {label:\"x3\"}\n",
    "        &u1 node {label:\"u1\"}\n",
    "        &u2 node {label:\"u2\"}\n",
    "        &y node {label:\"y\"}\n",
    "    }\n",
    "    units {\n",
    "        unit {out:(*u1) inp:(*x1 *x2 *x3) weights:(1.0 0.5 0.5)}\n",
    "        unit {out:(*u2) inp:(*x1 *x2) weights:(1.0 1.5)}\n",
    "        unit {out:(*y) inp:(*u1 *u2) weights:(0.5 -1.0)}\n",
    "    }\n",
    "}\n",
    "'''\n",
    "vs = axon.loads(text)\n",
    "pprint(vs)\n",
    "axon.display_html(vs)"
   ]
  },
  {
   "cell_type": "code",
   "execution_count": 24,
   "metadata": {
    "collapsed": false
   },
   "outputs": [
    {
     "name": "stdout",
     "output_type": "stream",
     "text": [
      "Same objects here:\n",
      "True\n",
      "True\n"
     ]
    }
   ],
   "source": [
    "val = vs[0]\n",
    "print('Same objects here:')\n",
    "print(val[0][0] is val[1][0].inp[0])\n",
    "print(val[0][-1] is val[1][-1].out[0])"
   ]
  },
  {
   "cell_type": "markdown",
   "metadata": {},
   "source": [
    "### XML-style representation with collections of elements with same name"
   ]
  },
  {
   "cell_type": "code",
   "execution_count": 25,
   "metadata": {
    "collapsed": false
   },
   "outputs": [
    {
     "name": "stdout",
     "output_type": "stream",
     "text": [
      "[network{nodes{node{label: 'x1'}, node{label: 'x2'}, node{label: 'x3'}, node{label: 'u1'}, node{label: 'u2'}, node{label: 'y'}}, units{unit{out: (node{label: 'u1'},), inp: (node{label: 'x1'}, node{label: 'x2'}, node{label: 'x3'}), weights: (1.0, 0.5, 0.5)}, unit{out: (node{label: 'u2'},), inp: (node{label: 'x1'}, node{label: 'x2'}), weights: (1.0, 1.5)}, unit{out: (node{label: 'y'},), inp: (node{label: 'u1'}, node{label: 'u2'}), weights: (0.5, -1.0)}}}]\n"
     ]
    }
   ],
   "source": [
    "text = u'''\n",
    "network {\n",
    "    nodes {\n",
    "        &x1 node {label:\"x1\"}\n",
    "        &x2 node {label:\"x2\"}\n",
    "        &x3 node {label:\"x3\"}\n",
    "        &u1 node {label:\"u1\"}\n",
    "        &u2 node {label:\"u2\"}\n",
    "        &y  node {label:\"y\"}\n",
    "    }\n",
    "    units {\n",
    "        unit {out:(*u1) inp:(*x1 *x2 *x3) weights:(1.0 0.5 0.5)}\n",
    "        unit {out:(*u2) inp:(*x1 *x2) weights:(1.0 1.5)}\n",
    "        unit {out:(*y) inp:(*u1 *u2) weights:(0.5 -1.0)}\n",
    "    }\n",
    "}\n",
    "'''\n",
    "vs = axon.loads(text)\n",
    "pprint(vs)\n",
    "axon.display_html(vs)"
   ]
  },
  {
   "cell_type": "code",
   "execution_count": 26,
   "metadata": {
    "collapsed": false
   },
   "outputs": [
    {
     "name": "stdout",
     "output_type": "stream",
     "text": [
      "True\n",
      "True\n"
     ]
    }
   ],
   "source": [
    "val = vs[0]\n",
    "print(val[0][0] is val[1][0].inp[0])\n",
    "print(val[0][-1] is val[1][-1].out[0])"
   ]
  },
  {
   "cell_type": "markdown",
   "metadata": {},
   "source": [
    "### Mapping named complex values to types"
   ]
  },
  {
   "cell_type": "code",
   "execution_count": 27,
   "metadata": {
    "collapsed": false
   },
   "outputs": [],
   "source": [
    "import numpy as np\n",
    "\n",
    "@axon.factory('ndarray')\n",
    "def create_array(mapping, sequence):\n",
    "    shape = mapping.get('shape', None)\n",
    "    dtype = mapping['dtype']\n",
    "    if type(dtype) is list:\n",
    "        dtype = [(str(n), str(t)) for n, t in dtype]\n",
    "    a = np.array(sequence, dtype=dtype)\n",
    "    if shape is not None:\n",
    "        a.shape = shape\n",
    "    return a\n",
    "\n",
    "@axon.reduce(np.ndarray)\n",
    "def reduce_array(a):\n",
    "    signes = {'<', '=', '>', '!'}\n",
    "    if len(a.dtype.descr) > 1:\n",
    "        dtype = [\n",
    "            (axon.as_unicode(n), (axon.as_unicode(t[1:]) \\\n",
    "                             if t[0] in signes \\\n",
    "                             else axon.as_unicode(t)))\n",
    "            for n, t in a.dtype.descr]\n",
    "        return axon.Node('ndarray', {'dtype':dtype}, a.tolist())\n",
    "    else:\n",
    "        dtype_str = a.dtype.str\n",
    "        dtype_str = axon.as_unicode(dtype_str[1:]) \\\n",
    "                if dtype_str[0] in signes \\\n",
    "                else axon.as_unicode(dtype_str)\n",
    "        return axon.Node('ndarray', {'shape': a.shape, 'dtype':dtype_str}, a.tolist())\n",
    "\n",
    "axon.dump_as_str(np.int8)\n",
    "axon.dump_as_str(np.int16)\n",
    "axon.dump_as_str(np.int32)\n",
    "axon.dump_as_str(np.int64)\n",
    "axon.dump_as_str(np.float16)\n",
    "axon.dump_as_str(np.float32)\n",
    "axon.dump_as_str(np.float64)\n",
    "axon.dump_as_str(np.float128)\n",
    "axon.dump_as_str(np.int_)\n",
    "axon.dump_as_str(np.float_)\n",
    "axon.dump_as_str(np.double)\n"
   ]
  },
  {
   "cell_type": "code",
   "execution_count": 28,
   "metadata": {
    "collapsed": false
   },
   "outputs": [],
   "source": [
    "a = np.array([[1, 2], [3, 4], [5, 6]])\n",
    "axon.display_html([a])"
   ]
  },
  {
   "cell_type": "code",
   "execution_count": 29,
   "metadata": {
    "collapsed": false
   },
   "outputs": [
    {
     "name": "stdout",
     "output_type": "stream",
     "text": [
      "[[ True  True]\n",
      " [ True  True]\n",
      " [ True  True]]\n",
      "True\n"
     ]
    }
   ],
   "source": [
    "b = axon.loads(axon.dumps([a]), mode='strict')[0]\n",
    "print(b == a)\n",
    "print(a.dtype == b.dtype)"
   ]
  },
  {
   "cell_type": "code",
   "execution_count": 30,
   "metadata": {
    "collapsed": false
   },
   "outputs": [],
   "source": [
    "a = np.array(\n",
    "        [(1, 2, 3.0), (3, 4, 5.0), (4, 5, 6.0)], \n",
    "        dtype=[('x', int), ('y', int), ('z', float)])\n",
    "axon.display_html([a])"
   ]
  },
  {
   "cell_type": "code",
   "execution_count": 31,
   "metadata": {
    "collapsed": false
   },
   "outputs": [
    {
     "name": "stdout",
     "output_type": "stream",
     "text": [
      "[ True  True  True]\n",
      "True\n"
     ]
    }
   ],
   "source": [
    "b = axon.loads(axon.dumps([a]), mode='strict')[0]\n",
    "print(b == a)\n",
    "print(a.dtype == b.dtype)"
   ]
  },
  {
   "cell_type": "markdown",
   "metadata": {},
   "source": [
    "## Documents"
   ]
  },
  {
   "cell_type": "markdown",
   "metadata": {},
   "source": [
    "### HTML document as data"
   ]
  },
  {
   "cell_type": "code",
   "execution_count": 32,
   "metadata": {
    "collapsed": false
   },
   "outputs": [
    {
     "name": "stdout",
     "output_type": "stream",
     "text": [
      "html{head{meta: {'charset': 'utf-8'}, title: 'Sample html page'}, body{form{name: 'test', method: 'post', action: 'result.html' p{b{'Your name:'}, br{}, input{type: 'text', size: '40'}}, p{b{'What is your browser:'}, input{type: 'radio', name: 'browser', value: 'ie'}, 'Internet Explorer', br{}, input{type: 'radio', name: 'browser', value: 'opera'}, 'Opera', br{}, input{type: 'radio', name: 'browser', value: 'firefox'}, 'Firefox', br{}}, p{input{type: 'submit', value: 'Send'}}}}}\n"
     ]
    }
   ],
   "source": [
    "html_as_data = '''\n",
    "html {\n",
    "  head {\n",
    "    meta: {charset: \"utf-8\"}\n",
    "    title: \"Sample html page\"\n",
    "  }\n",
    "  body {\n",
    "\n",
    "  form {\n",
    "    name:\"test\" method:\"post\" action:\"result.html\"\n",
    "    p {\n",
    "      b { \"Your name:\" } br{}\n",
    "      input { type:\"text\" size:\"40\" }\n",
    "    }\n",
    "    p { \n",
    "      b { \"What is your browser:\" } \n",
    "      input { type:\"radio\" name:\"browser\" value:\"ie\" } \"Internet Explorer\" br{}\n",
    "      input { type:\"radio\" name:\"browser\" value:\"opera\" } \"Opera\" br{}\n",
    "      input { type:\"radio\" name:\"browser\" value:\"firefox\" } \"Firefox\" br{}\n",
    "    }\n",
    "    p {\n",
    "      input { type:\"submit\" value:\"Send\" }\n",
    "    }\n",
    "  }\n",
    "  }\n",
    "}\n",
    "'''\n",
    "vs = axon.loads(html_as_data)[0]\n",
    "pprint(vs)\n",
    "axon.display_html(vs)"
   ]
  },
  {
   "cell_type": "markdown",
   "metadata": {},
   "source": [
    "### SVG example"
   ]
  },
  {
   "cell_type": "code",
   "execution_count": 33,
   "metadata": {
    "collapsed": false
   },
   "outputs": [
    {
     "name": "stdout",
     "output_type": "stream",
     "text": [
      "[svg{xmlns: 'http://www.w3.org/2000/svg', viewBox: (0, 0, 300, 150) defs{radialGradient{id: 'gradient', cx: '50%', cy: '50%' stop{offset: '0%' style{stop_color: rgb{200, 200, 200}, stop_opacity: 0}}, stop{offset: '100%' style{stop_color: rgb{0, 0, 255}, stop_opacity: 1}}}}, ellipse{cx: 100, cy: 50, rx: 100, ry: 50 style{fill: url{'#gradient'}}}, path{d: 'M150 0 L75 200 L225 200 Z'}, g{transform: [translate{90, 30}, rotate{-30, 10}, scale{0.9}]}, text{x: 0, y: 30, font_size: '18px', font_weight: 'bold', text_anchor: 'middle' 'Button'}}]\n"
     ]
    }
   ],
   "source": [
    "text = '''\n",
    "svg\n",
    "  xmlns:\"http://www.w3.org/2000/svg\" \n",
    "  viewBox:(0 0 300 150)\n",
    "  defs\n",
    "    radialGradient\n",
    "        id: \"gradient\"\n",
    "        cx: \"50%\" cy: \"50%\"\n",
    "        stop\n",
    "          offset:\"0%\" \n",
    "          style\n",
    "            stop_color: rgb{200 200 200} \n",
    "            stop_opacity:0\n",
    "        stop\n",
    "          offset:\"100%\"\n",
    "          style\n",
    "            stop_color: rgb{0 0 255}\n",
    "            stop_opacity:1\n",
    "  ellipse\n",
    "    cx:100 cy:50 rx:100 ry:50\n",
    "    style\n",
    "        fill: url{\"#gradient\"}\n",
    "  path\n",
    "    d: \"M150 0 L75 200 L225 200 Z\"\n",
    "  g\n",
    "    transform: [\n",
    "        translate{90 30}\n",
    "        rotate{-30 10}\n",
    "        scale{0.9}]\n",
    "  text\n",
    "    x:0 y:30 font_size:\"18px\" font_weight:\"bold\"\n",
    "    text_anchor:\"middle\"\n",
    "    \"Button\"\n",
    "'''\n",
    "vs = axon.loads(text)\n",
    "pprint(vs)\n",
    "axon.display_html(vs)"
   ]
  },
  {
   "cell_type": "markdown",
   "metadata": {},
   "source": [
    "## Element tree"
   ]
  },
  {
   "cell_type": "code",
   "execution_count": 34,
   "metadata": {
    "collapsed": false
   },
   "outputs": [],
   "source": [
    "from xml.etree import ElementTree, cElementTree"
   ]
  },
  {
   "cell_type": "markdown",
   "metadata": {},
   "source": [
    "Let's define function for dumping ``ElementTree`` structures according to ``AXON`` rules."
   ]
  },
  {
   "cell_type": "code",
   "execution_count": 35,
   "metadata": {
    "collapsed": false
   },
   "outputs": [],
   "source": [
    "@axon.reduce(cElementTree.Element)\n",
    "@axon.reduce(ElementTree.Element)\n",
    "def element_reduce(elem):\n",
    "    children = elem.getchildren()\n",
    "    if elem.attrib:\n",
    "        if children:\n",
    "            return axon.Node(elem.tag, elem.attrib, children)\n",
    "        else:\n",
    "            return axon.Node(elem.tag, elem.attrib)\n",
    "    elif children:\n",
    "            return axon.Node(elem.tag, None, children)\n",
    "    else:\n",
    "        return axon.Node(elem.tag)\n",
    "        \n",
    "@axon.reduce(cElementTree.ElementTree)\n",
    "@axon.reduce(ElementTree.ElementTree)\n",
    "def etree_reduce(element):\n",
    "    return element_reduce(element.getroot())\n",
    "    \n",
    "    "
   ]
  },
  {
   "cell_type": "code",
   "execution_count": 36,
   "metadata": {
    "collapsed": false,
    "scrolled": false
   },
   "outputs": [
    {
     "name": "stdout",
     "output_type": "stream",
     "text": [
      "<persons><person age=\"25\" name=\"Alice\" /><person age=\"33\" name=\"Bob\" /></persons>\n"
     ]
    }
   ],
   "source": [
    "root = ElementTree.Element('persons')\n",
    "ElementTree.SubElement(root, 'person', {'name':'Alice', 'age':\"25\"})\n",
    "ElementTree.SubElement(root,'person', {'name':'Bob', 'age':\"33\"})\n",
    "etree = ElementTree.ElementTree(root)\n",
    "\n",
    "ElementTree.dump(etree)\n",
    "axon.display_html([etree])"
   ]
  },
  {
   "cell_type": "code",
   "execution_count": 37,
   "metadata": {
    "collapsed": false
   },
   "outputs": [],
   "source": [
    "def update_attribs(d):\n",
    "    for key, val in d.items():\n",
    "        d[key] = str(val)\n",
    "\n",
    "class ElementTreeBuilder(axon.Builder):\n",
    "    def node(self, name, attrs, vals):\n",
    "        if attrs:\n",
    "            attrs = dict(attrs)\n",
    "            update_attribs(attrs)\n",
    "        else:\n",
    "            attrs = {}\n",
    "        e = cElementTree.Element(name, attrs)\n",
    "        if vals:\n",
    "            e.extend(vals)\n",
    "        return e\n",
    "\n",
    "axon.register_builder('etree', ElementTreeBuilder())    "
   ]
  },
  {
   "cell_type": "code",
   "execution_count": 38,
   "metadata": {
    "collapsed": false
   },
   "outputs": [
    {
     "name": "stdout",
     "output_type": "stream",
     "text": [
      "<persons><person age=\"25\" name=\"Alice\" /><person age=\"33\" name=\"Bob\" /></persons>\n"
     ]
    }
   ],
   "source": [
    "text = axon.dumps([etree])\n",
    "vals = axon.loads(text, mode='etree')\n",
    "ElementTree.dump(vals[0])"
   ]
  },
  {
   "cell_type": "code",
   "execution_count": null,
   "metadata": {
    "collapsed": true
   },
   "outputs": [],
   "source": []
  }
 ],
 "metadata": {
  "kernelspec": {
   "display_name": "Python 3",
   "language": "python",
   "name": "python3"
  },
  "language_info": {
   "codemirror_mode": {
    "name": "ipython",
    "version": 3
   },
   "file_extension": ".py",
   "mimetype": "text/x-python",
   "name": "python",
   "nbconvert_exporter": "python",
   "pygments_lexer": "ipython3",
   "version": "3.5.2"
  },
  "widgets": {
   "state": {},
   "version": "1.1.2"
  }
 },
 "nbformat": 4,
 "nbformat_minor": 0
}
