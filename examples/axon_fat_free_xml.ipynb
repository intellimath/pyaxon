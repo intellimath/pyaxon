{
 "cells": [
  {
   "cell_type": "markdown",
   "metadata": {},
   "source": [
    "In this post we will consider one advantage of [AXON](http://intellimath.bitbucket.org/axon) (see also early [posts](http://intellimath.bitbucket.org/blog/categories/axon.html)). It allows to resolve problems that arises when someone will try to translate `XML` to `JSON`. The root of this problem is in incompatibility of data models of `XML` and `JSON`. `XML` reprsents *attributed trees with tagged nodes*, but `JSON` represents compositions of *arrays* and *associative arrays*. This makes convertion difficult. You have to translate `XML` to fatty `JSON` (with convensions) in order to save initial structure of `XML` or have to reorganize initial structure in order to produce more optimal `JSON`. In last case inverse transformation is not possible without of losses."
   ]
  },
  {
   "cell_type": "markdown",
   "metadata": {},
   "source": [
    "Well knowing disadvantage of `XML` is it's verbosity. `JSON` usually is considered as fat free alternative to `XML`. let's consider example:"
   ]
  },
  {
   "cell_type": "markdown",
   "metadata": {},
   "source": [
    "``` xml\n",
    "<person>\n",
    "  <name>John Smith</name>\n",
    "  <age>25</age>\n",
    "  <address type=\"home\">\n",
    "     <street>21 2nd Street</street>\n",
    "     <city>New York</city>\n",
    "     <state>NY</state>\n",
    "  </address>\n",
    "  <address type=\"current\">\n",
    "     <street>1410 NE Campus Parkway</street>\n",
    "     <city>Seattle</city>\n",
    "     <state>WA</state>\n",
    "  </address>\n",
    "  <phone type=\"home\">212-555-1234</phone>\n",
    "  <phone type=\"fax\">646-555-4567</phone>\n",
    "</person>\n",
    "```"
   ]
  },
  {
   "cell_type": "markdown",
   "metadata": {},
   "source": [
    "Here is `JSON` alternative:"
   ]
  },
  {
   "cell_type": "markdown",
   "metadata": {},
   "source": [
    "``` javascript\n",
    "{\"person\": {\n",
    "  \"name\": \"John Smith\",\n",
    "  \"age\": 25,\n",
    "  \"address\": [\n",
    "    {\"type\": \"home\",\n",
    "     \"street\": \"21 2nd Street\",\n",
    "     \"city\": \"New York\",\n",
    "     \"state\": \"NY\"\n",
    "    },\n",
    "    {\"type\": \"current\",\n",
    "     \"street\": \"1410 NE Campus Parkway\",\n",
    "     \"city\": \"Seattle\",\n",
    "     \"state\": \"WA\"\n",
    "    }\n",
    "  ],\n",
    "  \"phone\": [ \n",
    "    {\"type\": \"home\", \"number\": \"212-555-1234\"},\n",
    "    {\"type\": \"fax\", \"number\": \"646-555-4567\"}\n",
    "  ]\n",
    "}}\n",
    "```"
   ]
  },
  {
   "cell_type": "markdown",
   "metadata": {},
   "source": [
    "`AXON` allows direct translation of XML that saves it's *element*/*attribute* structure:"
   ]
  },
  {
   "cell_type": "markdown",
   "metadata": {},
   "source": [
    "``` javascript\n",
    "person {\n",
    "  name {\"John Smith\"}\n",
    "  age {25}\n",
    "  address {\n",
    "     type: \"home\"\n",
    "     street {\"21 2nd Street\"}\n",
    "     city {\"New York\"}\n",
    "     state {\"NY\"}\n",
    "  }\n",
    "  address { \n",
    "     type: \"current\"\n",
    "     street {\"1410 NE Campus Parkway\"}\n",
    "     city {\"Seattle\"}\n",
    "     state {\"WA\"}\n",
    "  }\n",
    "  phone {type:\"home\" \"212-555-1234\"}\n",
    "  phone {type:\"fax\" \"646-555-4567\"}\n",
    "}\n",
    "```"
   ]
  },
  {
   "cell_type": "markdown",
   "metadata": {},
   "source": [
    "`AXON` representation can be built from `XML` one in 4 steps:\n",
    "\n",
    "1. Replace **&lt;tag&gt;** with **tag {**\n",
    "2. Replace **&lt;/tag&gt;** with **}**\n",
    "3. Replace **attr=value** with **attr: value**\n",
    "4. Remove character **,** or replace it with one space character\n",
    "\n",
    "The result of such transformation is equivalent to original `XML`. One can also consider it as *fat free form* of `XML`."
   ]
  },
  {
   "cell_type": "markdown",
   "metadata": {},
   "source": [
    "Let's now illustrate this feature of `AXON` using `pyaxon` package."
   ]
  },
  {
   "cell_type": "code",
   "execution_count": 1,
   "metadata": {
    "collapsed": false
   },
   "outputs": [],
   "source": [
    "from __future__ import unicode_literals, print_function\n",
    "from axon.api import loads, dumps\n",
    "from axon.objects import node, attribute, Attribute, Node\n",
    "from axon.objects import Builder, register_builder\n",
    "from axon import dump_as_str, as_unicode, factory, reduce\n",
    "from xml.etree import ElementTree\n",
    "import json\n",
    "from io import StringIO"
   ]
  },
  {
   "cell_type": "markdown",
   "metadata": {},
   "source": [
    "There are reduce functions for `ElementTree.Element` and `ElementTree.ElementTree` types from `xml.etree` package. These functions will used for dumping `ElementTree` into `AXON` text."
   ]
  },
  {
   "cell_type": "code",
   "execution_count": 2,
   "metadata": {
    "collapsed": false
   },
   "outputs": [],
   "source": [
    "@reduce(ElementTree.Element)\n",
    "def element_reduce(elem):\n",
    "    children = elem.getchildren()\n",
    "    children = children[:]\n",
    "    if elem.text and elem.text.strip():\n",
    "        children.append(elem.text)\n",
    "    return node(elem.tag, elem.attrib, children)\n",
    "        \n",
    "@reduce(ElementTree.ElementTree)\n",
    "def etree_reduce(element):\n",
    "    return element_reduce(element.getroot())"
   ]
  },
  {
   "cell_type": "markdown",
   "metadata": {},
   "source": [
    "There is the class `ElementTreeBuilder` for construction of `ElementTree` from `AXON` text."
   ]
  },
  {
   "cell_type": "code",
   "execution_count": 3,
   "metadata": {
    "collapsed": false
   },
   "outputs": [],
   "source": [
    "class ElementTreeBuilder(Builder):\n",
    "    def node(self, name, attrs, vals):\n",
    "        str_type = type(u'')\n",
    "        if type(vals[-1]) is str_type:\n",
    "            text = vals.pop(-1)\n",
    "        else:\n",
    "            text = None\n",
    "        attribs = {}\n",
    "        children = []\n",
    "        if attrs:\n",
    "            for name, val in attrs.items():\n",
    "                attribs[name] = val\n",
    "        if vals:\n",
    "            for val in vals:\n",
    "                children.append(val)\n",
    "        e = ElementTree.Element(name, attribs)\n",
    "        if children:\n",
    "            e.extend(children)\n",
    "        if text:\n",
    "            e.text = text\n",
    "        return e  "
   ]
  },
  {
   "cell_type": "markdown",
   "metadata": {},
   "source": [
    "Let's register `ElementTree` builder with name `etree`. This is new value for `mode` parameter in `load`/`loads` functions."
   ]
  },
  {
   "cell_type": "code",
   "execution_count": 4,
   "metadata": {
    "collapsed": false
   },
   "outputs": [],
   "source": [
    "register_builder('etree', ElementTreeBuilder())  "
   ]
  },
  {
   "cell_type": "markdown",
   "metadata": {},
   "source": [
    "Let's consider `XML` text:"
   ]
  },
  {
   "cell_type": "code",
   "execution_count": 5,
   "metadata": {
    "collapsed": false
   },
   "outputs": [],
   "source": [
    "xml_text = u\"\"\"\n",
    "<person>\n",
    "  <name>John Smith</name>\n",
    "  <age>25</age>\n",
    "  <address type=\"home\">\n",
    "     <street>21 2nd Street</street>\n",
    "     <city>New York</city>\n",
    "     <state>NY</state>\n",
    "  </address>\n",
    "  <address type=\"current\">\n",
    "     <street>1410 NE Campus Parkway</street>\n",
    "     <city>Seattle</city>\n",
    "     <state>WA</state>\n",
    "  </address>\n",
    "  <phone type=\"home\">212-555-1234</phone>\n",
    "  <phone type=\"fax\">646-555-4567</phone>\n",
    "</person>\n",
    "\"\"\""
   ]
  },
  {
   "cell_type": "markdown",
   "metadata": {},
   "source": [
    "Let's parse it into `ElementTree` that represents `XML` document."
   ]
  },
  {
   "cell_type": "code",
   "execution_count": 6,
   "metadata": {
    "collapsed": false
   },
   "outputs": [
    {
     "name": "stdout",
     "output_type": "stream",
     "text": [
      "<person>\n",
      "  <name>John Smith</name>\n",
      "  <age>25</age>\n",
      "  <address type=\"home\">\n",
      "     <street>21 2nd Street</street>\n",
      "     <city>New York</city>\n",
      "     <state>NY</state>\n",
      "  </address>\n",
      "  <address type=\"current\">\n",
      "     <street>1410 NE Campus Parkway</street>\n",
      "     <city>Seattle</city>\n",
      "     <state>WA</state>\n",
      "  </address>\n",
      "  <phone type=\"home\">212-555-1234</phone>\n",
      "  <phone type=\"fax\">646-555-4567</phone>\n",
      "</person>\n"
     ]
    }
   ],
   "source": [
    "tree = ElementTree.parse(StringIO(xml_text))\n",
    "ElementTree.dump(tree)"
   ]
  },
  {
   "cell_type": "code",
   "execution_count": 7,
   "metadata": {
    "collapsed": false
   },
   "outputs": [
    {
     "name": "stdout",
     "output_type": "stream",
     "text": [
      "<person>\n",
      "  <name>John Smith</name>\n",
      "  <age>25</age>\n",
      "  <address type=\"home\">\n",
      "     <street>21 2nd Street</street>\n",
      "     <city>New York</city>\n",
      "     <state>NY</state>\n",
      "  </address>\n",
      "  <address type=\"current\">\n",
      "     <street>1410 NE Campus Parkway</street>\n",
      "     <city>Seattle</city>\n",
      "     <state>WA</state>\n",
      "  </address>\n",
      "  <phone type=\"home\">212-555-1234</phone>\n",
      "  <phone type=\"fax\">646-555-4567</phone>\n",
      "</person>\n"
     ]
    }
   ],
   "source": [
    "ElementTree.dump(tree)"
   ]
  },
  {
   "cell_type": "markdown",
   "metadata": {},
   "source": [
    "Here we dumping `ElementTree` object into `AXON` text."
   ]
  },
  {
   "cell_type": "code",
   "execution_count": 8,
   "metadata": {
    "collapsed": false
   },
   "outputs": [
    {
     "name": "stdout",
     "output_type": "stream",
     "text": [
      "person {\n",
      "  name {\"John Smith\"}\n",
      "  age {\"25\"}\n",
      "  address {\n",
      "    type: \"home\"\n",
      "    street {\"21 2nd Street\"}\n",
      "    city {\"New York\"}\n",
      "    state {\"NY\"}}\n",
      "  address {\n",
      "    type: \"current\"\n",
      "    street {\"1410 NE Campus Parkway\"}\n",
      "    city {\"Seattle\"}\n",
      "    state {\"WA\"}}\n",
      "  phone {\n",
      "    type: \"home\"\n",
      "    \"212-555-1234\"}\n",
      "  phone {\n",
      "    type: \"fax\"\n",
      "    \"646-555-4567\"}}\n"
     ]
    }
   ],
   "source": [
    "axon_text = dumps([tree], pretty=1, braces=1)\n",
    "print(axon_text)"
   ]
  },
  {
   "cell_type": "markdown",
   "metadata": {},
   "source": [
    "And load again from `AXON` text into `ElementTree` object:"
   ]
  },
  {
   "cell_type": "code",
   "execution_count": 9,
   "metadata": {
    "collapsed": false
   },
   "outputs": [],
   "source": [
    "xml_tree = loads(axon_text, mode='etree')[0]"
   ]
  },
  {
   "cell_type": "code",
   "execution_count": 10,
   "metadata": {
    "collapsed": false
   },
   "outputs": [
    {
     "name": "stdout",
     "output_type": "stream",
     "text": [
      "<Element 'person' at 0x104e0a598>\n",
      "<person><name>John Smith</name><age>25</age><type type=\"home\"><street>21 2nd Street</street><city>New York</city><state>NY</state></type><type type=\"current\"><street>1410 NE Campus Parkway</street><city>Seattle</city><state>WA</state></type><type type=\"home\">212-555-1234</type><type type=\"fax\">646-555-4567</type></person>\n"
     ]
    }
   ],
   "source": [
    "print(xml_tree)\n",
    "ElementTree.dump(xml_tree)"
   ]
  },
  {
   "cell_type": "markdown",
   "metadata": {},
   "source": [
    "There is `AXON` compact representation for comparison:"
   ]
  },
  {
   "cell_type": "code",
   "execution_count": 11,
   "metadata": {
    "collapsed": false
   },
   "outputs": [
    {
     "name": "stdout",
     "output_type": "stream",
     "text": [
      "person{name{\"John Smith\"} age{\"25\"} type{type:\"home\" street{\"21 2nd Street\"} city{\"New York\"} state{\"NY\"}} type{type:\"current\" street{\"1410 NE Campus Parkway\"} city{\"Seattle\"} state{\"WA\"}} type{type:\"home\" \"212-555-1234\"} type{type:\"fax\" \"646-555-4567\"}}\n"
     ]
    }
   ],
   "source": [
    "axon_compact_text = dumps([xml_tree], braces=1)\n",
    "print(axon_compact_text)"
   ]
  },
  {
   "cell_type": "markdown",
   "metadata": {},
   "source": [
    "There is `JSON` representation for comparison too:"
   ]
  },
  {
   "cell_type": "code",
   "execution_count": 12,
   "metadata": {
    "collapsed": false
   },
   "outputs": [
    {
     "data": {
      "text/plain": [
       "'{\"person\": {\"phone\": [{\"number\": \"212-555-1234\", \"type\": \"home\"}, {\"number\": \"646-555-4567\", \"type\": \"fax\"}], \"name\": \"John Smith\", \"address\": [{\"street\": \"21 2nd Street\", \"state\": \"NY\", \"type\": \"home\", \"city\": \"New York\"}, {\"street\": \"1410 NE Campus Parkway\", \"state\": \"WA\", \"type\": \"current\", \"city\": \"Seattle\"}], \"age\": 25}}'"
      ]
     },
     "execution_count": 12,
     "metadata": {},
     "output_type": "execute_result"
    }
   ],
   "source": [
    "json_text = u\"\"\"\n",
    "{\"person\": {\n",
    "  \"name\": \"John Smith\",\n",
    "  \"age\": 25,\n",
    "  \"address\": [\n",
    "    {\"type\": \"home\",\n",
    "     \"street\": \"21 2nd Street\",\n",
    "     \"city\": \"New York\",\n",
    "     \"state\": \"NY\"\n",
    "    },\n",
    "    {\"type\": \"current\",\n",
    "     \"street\": \"1410 NE Campus Parkway\",\n",
    "     \"city\": \"Seattle\",\n",
    "     \"state\": \"WA\"\n",
    "    }\n",
    "  ],\n",
    "  \"phone\": [ \n",
    "    {\"type\": \"home\", \"number\": \"212-555-1234\"},\n",
    "    {\"type\": \"fax\", \"number\": \"646-555-4567\"}\n",
    "  ]\n",
    "}}\n",
    "\"\"\"\n",
    "json.dumps(json.loads(json_text))"
   ]
  },
  {
   "cell_type": "code",
   "execution_count": null,
   "metadata": {
    "collapsed": false
   },
   "outputs": [],
   "source": []
  },
  {
   "cell_type": "code",
   "execution_count": null,
   "metadata": {
    "collapsed": false
   },
   "outputs": [],
   "source": []
  },
  {
   "cell_type": "code",
   "execution_count": null,
   "metadata": {
    "collapsed": false
   },
   "outputs": [],
   "source": []
  },
  {
   "cell_type": "code",
   "execution_count": null,
   "metadata": {
    "collapsed": false
   },
   "outputs": [],
   "source": []
  }
 ],
 "metadata": {
  "kernelspec": {
   "display_name": "Python 3",
   "language": "python",
   "name": "python3"
  },
  "language_info": {
   "codemirror_mode": {
    "name": "ipython",
    "version": 3
   },
   "file_extension": ".py",
   "mimetype": "text/x-python",
   "name": "python",
   "nbconvert_exporter": "python",
   "pygments_lexer": "ipython3",
   "version": "3.5.1"
  }
 },
 "nbformat": 4,
 "nbformat_minor": 0
}
