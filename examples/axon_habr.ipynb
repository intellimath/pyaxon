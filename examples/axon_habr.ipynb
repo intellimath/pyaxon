{
 "cells": [
  {
   "cell_type": "code",
   "execution_count": 2,
   "metadata": {
    "collapsed": true
   },
   "outputs": [],
   "source": [
    "import axon\n",
    "from collections import namedtuple"
   ]
  },
  {
   "cell_type": "code",
   "execution_count": 13,
   "metadata": {
    "collapsed": false
   },
   "outputs": [
    {
     "name": "stdout",
     "output_type": "stream",
     "text": [
      "Person(name='Иванов', age=30)\n"
     ]
    }
   ],
   "source": [
    "text = \"\"\"\n",
    "person { name:\"Иванов\" age:30 }\n",
    "\"\"\"\n",
    "Person = namedtuple(\"Person\", \"name age\")\n",
    "\n",
    "@axon.factory(\"person\")\n",
    "def Person_factory(attrs, vals):\n",
    "    return Person(**attrs)\n",
    "\n",
    "\n",
    "vals = axon.loads(text, mode=\"strict\")\n",
    "print(vals[0])"
   ]
  },
  {
   "cell_type": "code",
   "execution_count": 15,
   "metadata": {
    "collapsed": false
   },
   "outputs": [
    {
     "name": "stdout",
     "output_type": "stream",
     "text": [
      "[[Person(name='Иванов', age=30), Person(name='Сидоров', age=33)]]\n"
     ]
    }
   ],
   "source": [
    "text2 = \"\"\"\n",
    "persons {\n",
    "   {name: \"Иванов\" age: 30}\n",
    "   {name:  \"Сидоров\" age:33}\n",
    "}\n",
    "\"\"\"\n",
    "\n",
    "@axon.factory(\"persons\")\n",
    "def persons_factory(attra, vals):\n",
    "    return [Person(**val) for val in vals]\n",
    "\n",
    "\n",
    "vals = axon.loads(text2, mode=\"strict\")\n",
    "print(vals)"
   ]
  },
  {
   "cell_type": "code",
   "execution_count": null,
   "metadata": {
    "collapsed": true
   },
   "outputs": [],
   "source": []
  }
 ],
 "metadata": {
  "kernelspec": {
   "display_name": "Python 3",
   "language": "python",
   "name": "python3"
  },
  "language_info": {
   "codemirror_mode": {
    "name": "ipython",
    "version": 3
   },
   "file_extension": ".py",
   "mimetype": "text/x-python",
   "name": "python",
   "nbconvert_exporter": "python",
   "pygments_lexer": "ipython3",
   "version": "3.5.2"
  }
 },
 "nbformat": 4,
 "nbformat_minor": 0
}
