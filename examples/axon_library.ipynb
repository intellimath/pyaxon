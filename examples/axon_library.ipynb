{
 "cells": [
  {
   "cell_type": "markdown",
   "metadata": {},
   "source": [
    "# pyaxon: python library fo AXON"
   ]
  },
  {
   "cell_type": "markdown",
   "metadata": {},
   "source": [
    "There is ``pyaxon`` library. It's reference implementation of `AXON` in ``Python``. \n",
    "\n",
    "It's resonable fast. It has almost similar performance as the `json` module from the standard library."
   ]
  },
  {
   "cell_type": "markdown",
   "metadata": {},
   "source": [
    "In `pyaxon` library:\n",
    "\n",
    "  * *Dict* corresponds to `dict` type.\n",
    "  * *List* corresponds to `list` type.\n",
    "  * *Tuple* corresponds to `tuple` type.\n",
    "\n",
    "In `safe` mode:\n",
    "\n",
    "  * *Mapping* corresponds to the class `Mapping` with a name and attribute access (`obj.attr`).\n",
    "  * *Sequence* corresponds to the class `Sequence` with a name and index access to values (`seq[index]`).\n",
    "  * *Element* corresponds to the class `Element` with a name, attribute access (`elem.attr`) and index access to child values (`elem[index]`).\n",
    "  * *Instance* corresponds to the class `Instance` with a name, index access (`constr[index]`) and attribute access (`constr.attr`) to other  values.\n",
    "  * *Empty* corresponds to the class `Empty` with a name.\n",
    "\n",
    "In `unsafe` mode all objects are created by `callable(name, dict, [list])`, `callable(name, list, [dict])` or `callable(name)`, where `name` is the name of named complex value:\n",
    "\n",
    "  * *Mapping* corresponds to the objects created by `callable(name, dict)`, where `dict` is a python *dict*.\n",
    "  * *Sequence* corresponds to the objects created by `callable(name, list)`, where `list` is a python *list*\n",
    "  * *Element* corresponds to the objects created by `callable(name, dict, list)`, where `dict` is a python *dict*, `list` is a python *list*.\n",
    "  * *Instance* corresponds to the objects created by `callable(name, tuple, dict)`, where `tuple` is a python *tuple*, `dict` is a python *dict*.\n",
    "\n",
    "There are decorators for registering functions for mapping names to callables for object creation.\n"
   ]
  },
  {
   "cell_type": "markdown",
   "metadata": {},
   "source": [
    "First let's get inventory:\n",
    "\n",
    "* function ``loads`` convert unicode string in ``AXON`` to list of values.\n",
    "* function ``iloads`` is an iterator version of ``loads``.\n",
    "* function ``dumps`` convert sequence of values to unicode string in `AXON`.\n",
    "* function ``load`` load `AXON` text from the file and convert it to the list of values.\n",
    "* function ``iload`` is an iterator version of `load`.\n",
    "* function ``dump`` convert sequence of values to `AXON` text and save it to the file.\n"
   ]
  },
  {
   "cell_type": "code",
   "execution_count": 1,
   "metadata": {
    "collapsed": false
   },
   "outputs": [],
   "source": [
    "from __future__ import print_function, unicode_literals\n",
    "from axon import loads, dumps\n",
    "\n",
    "# pretty printing of python objects\n",
    "from pprint import pprint\n",
    "\n",
    "# ipython tools for pretty of images and html\n",
    "from IPython.display import HTML, display_pretty, display"
   ]
  },
  {
   "cell_type": "markdown",
   "metadata": {},
   "source": [
    "## JSON as subset of SimpleON"
   ]
  },
  {
   "cell_type": "markdown",
   "metadata": {},
   "source": [
    "Any `JSON` message can be used in `AXON`. \n",
    "There is argument `allow_comma = True` or `allow_comma = 1` in `loads` function for this purpose.\n",
    "\n",
    "`JSON` *object* corresponds to a *dict* and `JSON` *array* corresponds to a *list* in `AXON` correspondently. "
   ]
  },
  {
   "cell_type": "code",
   "execution_count": 2,
   "metadata": {
    "collapsed": false
   },
   "outputs": [
    {
     "data": {
      "text/html": [
       "<b>Python object:</b>"
      ],
      "text/plain": [
       "<IPython.core.display.HTML object>"
      ]
     },
     "metadata": {},
     "output_type": "display_data"
    },
    {
     "data": {
      "text/plain": [
       "{'array': [{'id': 1, 'val': 1.1},\n",
       "  {'id': 2, 'val': 2.2},\n",
       "  {'id': 3, 'val': 3.3}],\n",
       " 'numbers': [1, 1.0],\n",
       " 'object': {'a': 1, 'b': 2, 'c': 3},\n",
       " 'text': 'JSON is subset of AXON'}"
      ]
     },
     "metadata": {},
     "output_type": "display_data"
    },
    {
     "data": {
      "text/html": [
       "<b>Compact dump:</b>"
      ],
      "text/plain": [
       "<IPython.core.display.HTML object>"
      ]
     },
     "metadata": {},
     "output_type": "display_data"
    },
    {
     "name": "stdout",
     "output_type": "stream",
     "text": [
      "{array:[{id:1 val:1.1} {id:2 val:2.2} {id:3 val:3.3}] numbers:[1 1.0] object:{a:1 b:2 c:3} text:\"JSON is subset of AXON\"}\n"
     ]
    },
    {
     "data": {
      "text/html": [
       "<b>Pretty dump:</b>"
      ],
      "text/plain": [
       "<IPython.core.display.HTML object>"
      ]
     },
     "metadata": {},
     "output_type": "display_data"
    },
    {
     "name": "stdout",
     "output_type": "stream",
     "text": [
      "{ array: [\n",
      "    { id: 1\n",
      "      val: 1.1}\n",
      "    { id: 2\n",
      "      val: 2.2}\n",
      "    { id: 3\n",
      "      val: 3.3}]\n",
      "  numbers: [1 1.0]\n",
      "  object: {\n",
      "    a: 1\n",
      "    b: 2\n",
      "    c: 3}\n",
      "  text: \"JSON is subset of AXON\"}\n"
     ]
    }
   ],
   "source": [
    "msg = '''{\n",
    "  \"text\": \"JSON is subset of AXON\",\n",
    "  \"numbers\": [1, 1.0], \n",
    "  \"array\": [\n",
    "     {\"id\": 1, \"val\": 1.1}, \n",
    "     {\"id\": 2, \"val\": 2.2},\n",
    "     {\"id\": 3, \"val\": 3.3}\n",
    "  ], \n",
    "  \"object\": {\"a\": 1, \"b\": 2, \"c\":3} \n",
    "}'''\n",
    "ob = loads(msg, json=1)[0]\n",
    "display(HTML(\"<b>Python object:</b>\"))\n",
    "display_pretty(ob)\n",
    "display(HTML(\"<b>Compact dump:</b>\"))\n",
    "print(dumps([ob]))\n",
    "display(HTML(\"<b>Pretty dump:</b>\"))\n",
    "print(dumps([ob], pretty=1))"
   ]
  },
  {
   "cell_type": "markdown",
   "metadata": {},
   "source": [
    "But `AXON` allow you to completely delete all *comma* symbols between values and *double quotes* from keys if the key is a valid identifier:"
   ]
  },
  {
   "cell_type": "code",
   "execution_count": 3,
   "metadata": {
    "collapsed": false
   },
   "outputs": [
    {
     "data": {
      "text/html": [
       "<b>Python object:</b>"
      ],
      "text/plain": [
       "<IPython.core.display.HTML object>"
      ]
     },
     "metadata": {},
     "output_type": "display_data"
    },
    {
     "name": "stdout",
     "output_type": "stream",
     "text": [
      "{'array': [{'id': 1, 'val': 1.1},\n",
      "           {'id': 2, 'val': 2.2},\n",
      "           {'id': 3, 'val': 3.3}],\n",
      " 'numbers': [1, 1.0],\n",
      " 'object': {'a': 1, 'b': 2, 'c': 3},\n",
      " 'text': 'This SimpleON version of JSON message'}\n"
     ]
    },
    {
     "data": {
      "text/html": [
       "<b>Compact dump:</b>"
      ],
      "text/plain": [
       "<IPython.core.display.HTML object>"
      ]
     },
     "metadata": {},
     "output_type": "display_data"
    },
    {
     "name": "stdout",
     "output_type": "stream",
     "text": [
      "{array:[{id:1 val:1.1} {id:2 val:2.2} {id:3 val:3.3}] numbers:[1 1.0] object:{a:1 b:2 c:3} text:\"This SimpleON version of JSON message\"}\n"
     ]
    },
    {
     "data": {
      "text/html": [
       "<b>Pretty dump:</b>"
      ],
      "text/plain": [
       "<IPython.core.display.HTML object>"
      ]
     },
     "metadata": {},
     "output_type": "display_data"
    },
    {
     "name": "stdout",
     "output_type": "stream",
     "text": [
      "{ array: [\n",
      "    { id: 1\n",
      "      val: 1.1}\n",
      "    { id: 2\n",
      "      val: 2.2}\n",
      "    { id: 3\n",
      "      val: 3.3}]\n",
      "  numbers: [1 1.0]\n",
      "  object: {\n",
      "    a: 1\n",
      "    b: 2\n",
      "    c: 3}\n",
      "  text: \"This SimpleON version of JSON message\"}\n"
     ]
    }
   ],
   "source": [
    "msg = '''{\n",
    "  text: \"This SimpleON version of JSON message\" \n",
    "  numbers: [1 1.0]\n",
    "  array: [\n",
    "     {id:1 val:1.1} \n",
    "     {id:2 val:2.2}\n",
    "     {id:3 val:3.3}\n",
    "  ]\n",
    "  object: {a:1 b:2 c:3} \n",
    "}'''\n",
    "ob = loads(msg)[0]\n",
    "display(HTML(\"<b>Python object:</b>\"))\n",
    "pprint(ob)\n",
    "display(HTML(\"<b>Compact dump:</b>\"))\n",
    "print(dumps([ob]))\n",
    "display(HTML(\"<b>Pretty dump:</b>\"))\n",
    "print(dumps([ob], pretty=1))"
   ]
  },
  {
   "cell_type": "markdown",
   "metadata": {},
   "source": [
    "## Mappings: named JSON objects"
   ]
  },
  {
   "cell_type": "markdown",
   "metadata": {},
   "source": [
    "`AXON` extend `JSON` by allowing using of *named* objects. Note that `JSON` objects are just *dicts* in `AXON`."
   ]
  },
  {
   "cell_type": "code",
   "execution_count": 4,
   "metadata": {
    "collapsed": false
   },
   "outputs": [
    {
     "name": "stdout",
     "output_type": "stream",
     "text": [
      "[observation{date:datetime.date(2010, 12, 1) time:datetime.time(12, 30) T:32.5 R:2.5}, observation{date:datetime.date(2010, 12, 2) time:datetime.time(12, 30) T:30.5 R:4.5}]\n",
      "### Compact form\n",
      " observation{date:2010-12-01 time:12:30 T:32.5 R:2.5}\n",
      "observation{date:2010-12-02 time:12:30 T:30.5 R:4.5}\n",
      "### Formatted form\n",
      " observation {\n",
      "  date: 2010-12-01\n",
      "  time: 12:30\n",
      "  T: 32.5\n",
      "  R: 2.5}\n",
      "observation {\n",
      "  date: 2010-12-02\n",
      "  time: 12:30\n",
      "  T: 30.5\n",
      "  R: 4.5}\n"
     ]
    }
   ],
   "source": [
    "msg = '''\n",
    "observation {\n",
    "   date: 2010-12-01\n",
    "   time: 12:30\n",
    "   T: 32.5\n",
    "   R: 2.5\n",
    "}\n",
    "observation {\n",
    "   date: 2010-12-02\n",
    "   time: 12:30\n",
    "   T: 30.5\n",
    "   R: 4.5\n",
    "}\n",
    "'''\n",
    "obs = loads(msg)\n",
    "print(obs)\n",
    "# compact form\n",
    "print('### Compact form\\n', dumps(obs))\n",
    "# formatted form\n",
    "print('### Formatted form\\n', dumps(obs, pretty=1, braces=1))"
   ]
  },
  {
   "cell_type": "markdown",
   "metadata": {},
   "source": [
    "``AXON`` also support indented (``YAML``-like) form of named objects:"
   ]
  },
  {
   "cell_type": "code",
   "execution_count": 5,
   "metadata": {
    "collapsed": false
   },
   "outputs": [
    {
     "name": "stdout",
     "output_type": "stream",
     "text": [
      "### Indented form\n",
      " observation\n",
      "  date: 2010-12-01\n",
      "  time: 12:30\n",
      "  T: 32.5\n",
      "  R: 2.5\n",
      "observation\n",
      "  date: 2010-12-02\n",
      "  time: 12:30\n",
      "  T: 30.5\n",
      "  R: 4.5\n"
     ]
    }
   ],
   "source": [
    "# indented form\n",
    "print('### Indented form\\n', dumps(obs, pretty=1))"
   ]
  },
  {
   "cell_type": "markdown",
   "metadata": {},
   "source": [
    "*Mappings* are supposed to support attribute access (`ob.a.attr`)."
   ]
  },
  {
   "cell_type": "code",
   "execution_count": 6,
   "metadata": {
    "collapsed": false
   },
   "outputs": [
    {
     "name": "stdout",
     "output_type": "stream",
     "text": [
      "2010-12-01 12:30:00 32.5 2.5\n"
     ]
    }
   ],
   "source": [
    "ob = obs[0]\n",
    "print(ob.date, ob.time, ob.T, ob.R)"
   ]
  },
  {
   "cell_type": "markdown",
   "metadata": {},
   "source": [
    "## Sequences: named JSON arrays"
   ]
  },
  {
   "cell_type": "markdown",
   "metadata": {},
   "source": [
    "`AXON` also extend `JSON` by allowing using of *named* arrays. Note that `JSON` arrays are just *lists* in `AXON`."
   ]
  },
  {
   "cell_type": "code",
   "execution_count": 7,
   "metadata": {
    "collapsed": false
   },
   "outputs": [
    {
     "name": "stdout",
     "output_type": "stream",
     "text": [
      "### Compact form\n",
      " container{item{id:1 value:1.2} \"just string\" item{id:2 value:3.4} 100 container{item{id:3 value:5.2} 3.141528 item{id:4 value:7.4}} 177}\n",
      "### Formatted form\n",
      " container {\n",
      "  item {\n",
      "    id: 1\n",
      "    value: 1.2}\n",
      "  \"just string\"\n",
      "  item {\n",
      "    id: 2\n",
      "    value: 3.4}\n",
      "  100\n",
      "  container {\n",
      "    item {\n",
      "      id: 3\n",
      "      value: 5.2}\n",
      "    3.141528\n",
      "    item {\n",
      "      id: 4\n",
      "      value: 7.4}}\n",
      "  177}\n",
      "### Indented form\n",
      " container\n",
      "  item\n",
      "    id: 1\n",
      "    value: 1.2\n",
      "  \"just string\"\n",
      "  item\n",
      "    id: 2\n",
      "    value: 3.4\n",
      "  100\n",
      "  container\n",
      "    item\n",
      "      id: 3\n",
      "      value: 5.2\n",
      "    3.141528\n",
      "    item\n",
      "      id: 4\n",
      "      value: 7.4\n",
      "  177\n"
     ]
    }
   ],
   "source": [
    "msg = '''\n",
    "container {\n",
    "   item {id:1 value:1.2}\n",
    "   \"just string\"\n",
    "   item {id:2 value:3.4}\n",
    "   100 \n",
    "   container {\n",
    "       item {id:3 value:5.2}\n",
    "       3.141528\n",
    "       item {id:4 value:7.4}\n",
    "   }\n",
    "   177\n",
    "}\n",
    "'''\n",
    "ob = loads(msg)[0]\n",
    "# compact form\n",
    "print(\"### Compact form\\n\", dumps([ob]))\n",
    "# formatted form\n",
    "print(\"### Formatted form\\n\", dumps([ob], pretty=1, braces=1))\n",
    "# indented form\n",
    "print(\"### Indented form\\n\", dumps([ob], pretty=1))"
   ]
  },
  {
   "cell_type": "markdown",
   "metadata": {},
   "source": [
    "*Sequences* support index access (`ob[idx]`)."
   ]
  },
  {
   "cell_type": "code",
   "execution_count": 8,
   "metadata": {
    "collapsed": false
   },
   "outputs": [
    {
     "name": "stdout",
     "output_type": "stream",
     "text": [
      "item{id:1 value:1.2}\n",
      "just string\n",
      "item{id:4 value:7.4}\n"
     ]
    }
   ],
   "source": [
    "print(ob[0])\n",
    "print(ob[1])\n",
    "print(ob[4][-1])"
   ]
  },
  {
   "cell_type": "markdown",
   "metadata": {},
   "source": [
    "## Hierarchical Objects"
   ]
  },
  {
   "cell_type": "markdown",
   "metadata": {},
   "source": [
    "Hierarchical objects in `AXON` are objects, which contains sequence of child subobjects. They are represent attributed trees. So they can represent hierarchical data as well as `XML` can."
   ]
  },
  {
   "cell_type": "code",
   "execution_count": 9,
   "metadata": {
    "collapsed": false
   },
   "outputs": [
    {
     "name": "stdout",
     "output_type": "stream",
     "text": [
      "tree{node{id:1 node{id:2 leaf{\"Class A\"}} node{id:3 leaf{\"Class B\"}}}}\n",
      "tree\n",
      "  node\n",
      "    id: 1\n",
      "    node\n",
      "      id: 2\n",
      "      leaf\n",
      "        \"Class A\"\n",
      "    node\n",
      "      id: 3\n",
      "      leaf\n",
      "        \"Class B\"\n"
     ]
    }
   ],
   "source": [
    "msg = '''\n",
    "tree {\n",
    "   node {\n",
    "      id:1\n",
    "      node {\n",
    "         id:2\n",
    "         leaf { \"Class A\" }\n",
    "      }\n",
    "      node {\n",
    "         id:3\n",
    "         leaf { \"Class B\" }\n",
    "      }\n",
    "   }\n",
    "}\n",
    "'''\n",
    "ob = loads(msg)[0]\n",
    "print(dumps([ob]))\n",
    "print(dumps([ob], pretty=1))\n"
   ]
  },
  {
   "cell_type": "markdown",
   "metadata": {},
   "source": [
    "Here is fragment of `OSM XML`"
   ]
  },
  {
   "cell_type": "code",
   "execution_count": 10,
   "metadata": {
    "collapsed": false
   },
   "outputs": [
    {
     "name": "stdout",
     "output_type": "stream",
     "text": [
      "Compact form:\n",
      "osm{version:\"0.6\" generator:\"CGImap 0.0.2\" bounds{minlat:54.088958 minlon:12.248757 maxlat:54.09139 maxlon:12.25248} node{id:298884269 lat:54.0901746 lon:12.2482632 user:\"SvenHRO\" uid:46882 visible:$true version:1 changeset:676636 timestamp:2008-09-21T21:37:45} node{id:261728686 lat:54.0906309 lon:12.2441924 user:\"PikoWinter\" uid:36744 visible:$true version:1 changeset:323878 timestamp:2008-05-03T13:39:23} node{id:1831881213 version:1 changeset:12370172 lat:54.0900666 lon:12.2539381 user:lafkor{uid:75625 visible:$true timestamp:2012-07-20T09:43:19 tag{k:\"name\" v:\"Neu Broderstorf\"} tag{k:\"traffic_sign\" v:\"city_limit\"}}} node{id:298884272 lat:54.0901447 lon:12.2516513 user:\"SvenHRO\" uid:46882 visible:$true version:1 changeset:676636 timestamp:2008-09-21T21:37:45} way{id:26659127 user:\"Masch\" uid:55988 visible:$true version:5 changeset:4142606 timestamp:2010-03-16T11:47:08 nd{ref:\"292403538\"} nd{ref:\"298884289\"} nd{ref:\"261728686\"} tag{k:\"highway\" v:\"unclassified\"} tag{k:\"name\" v:\"Pastower Straße\"}} relation{id:56688 user:\"kmvar\" uid:56190 visible:$true version:28 changeset:6947637 timestamp:2011-01-12T14:23:49 member{type:\"node\" ref:294942404 role:\"\"} member{type:\"node\" ref:364933006 role:\"\"} member{type:\"way\" ref:4579143 role:\"\"} member{type:\"node\" ref:249673494 role:\"\"} tag{k:\"name\" v:\"Küstenbus Linie 123\"} tag{k:\"network\" v:\"VVW\"} tag{k:\"operator\" v:\"Regionalverkehr Küste\"} tag{k:\"ref\" v:\"123\"} tag{k:\"route\" v:\"bus\"} tag{k:\"type\" v:\"route\"}}}\n",
      "\n",
      "Pretty form:\n",
      "osm\n",
      "  version: \"0.6\"\n",
      "  generator: \"CGImap 0.0.2\"\n",
      "  bounds\n",
      "    minlat: 54.088958\n",
      "    minlon: 12.248757\n",
      "    maxlat: 54.09139\n",
      "    maxlon: 12.25248\n",
      "  node\n",
      "    id: 298884269\n",
      "    lat: 54.0901746\n",
      "    lon: 12.2482632\n",
      "    user: \"SvenHRO\"\n",
      "    uid: 46882\n",
      "    visible: $true\n",
      "    version: 1\n",
      "    changeset: 676636\n",
      "    timestamp: 2008-09-21T21:37:45\n",
      "  node\n",
      "    id: 261728686\n",
      "    lat: 54.0906309\n",
      "    lon: 12.2441924\n",
      "    user: \"PikoWinter\"\n",
      "    uid: 36744\n",
      "    visible: $true\n",
      "    version: 1\n",
      "    changeset: 323878\n",
      "    timestamp: 2008-05-03T13:39:23\n",
      "  node\n",
      "    id: 1831881213\n",
      "    version: 1\n",
      "    changeset: 12370172\n",
      "    lat: 54.0900666\n",
      "    lon: 12.2539381\n",
      "    user: lafkor\n",
      "      uid: 75625\n",
      "      visible: $true\n",
      "      timestamp: 2012-07-20T09:43:19\n",
      "      tag\n",
      "        k: \"name\"\n",
      "        v: \"Neu Broderstorf\"\n",
      "      tag\n",
      "        k: \"traffic_sign\"\n",
      "        v: \"city_limit\"\n",
      "  node\n",
      "    id: 298884272\n",
      "    lat: 54.0901447\n",
      "    lon: 12.2516513\n",
      "    user: \"SvenHRO\"\n",
      "    uid: 46882\n",
      "    visible: $true\n",
      "    version: 1\n",
      "    changeset: 676636\n",
      "    timestamp: 2008-09-21T21:37:45\n",
      "  way\n",
      "    id: 26659127\n",
      "    user: \"Masch\"\n",
      "    uid: 55988\n",
      "    visible: $true\n",
      "    version: 5\n",
      "    changeset: 4142606\n",
      "    timestamp: 2010-03-16T11:47:08\n",
      "    nd\n",
      "      ref: \"292403538\"\n",
      "    nd\n",
      "      ref: \"298884289\"\n",
      "    nd\n",
      "      ref: \"261728686\"\n",
      "    tag\n",
      "      k: \"highway\"\n",
      "      v: \"unclassified\"\n",
      "    tag\n",
      "      k: \"name\"\n",
      "      v: \"Pastower Straße\"\n",
      "  relation\n",
      "    id: 56688\n",
      "    user: \"kmvar\"\n",
      "    uid: 56190\n",
      "    visible: $true\n",
      "    version: 28\n",
      "    changeset: 6947637\n",
      "    timestamp: 2011-01-12T14:23:49\n",
      "    member\n",
      "      type: \"node\"\n",
      "      ref: 294942404\n",
      "      role: \"\"\n",
      "    member\n",
      "      type: \"node\"\n",
      "      ref: 364933006\n",
      "      role: \"\"\n",
      "    member\n",
      "      type: \"way\"\n",
      "      ref: 4579143\n",
      "      role: \"\"\n",
      "    member\n",
      "      type: \"node\"\n",
      "      ref: 249673494\n",
      "      role: \"\"\n",
      "    tag\n",
      "      k: \"name\"\n",
      "      v: \"Küstenbus Linie 123\"\n",
      "    tag\n",
      "      k: \"network\"\n",
      "      v: \"VVW\"\n",
      "    tag\n",
      "      k: \"operator\"\n",
      "      v: \"Regionalverkehr Küste\"\n",
      "    tag\n",
      "      k: \"ref\"\n",
      "      v: \"123\"\n",
      "    tag\n",
      "      k: \"route\"\n",
      "      v: \"bus\"\n",
      "    tag\n",
      "      k: \"type\"\n",
      "      v: \"route\"\n"
     ]
    }
   ],
   "source": [
    "msg = '''\n",
    "osm {\n",
    "  version:\"0.6\" generator:\"CGImap 0.0.2\"\n",
    "  bounds {\n",
    "    minlat:54.0889580 minlon:12.2487570 \n",
    "    maxlat:54.0913900 maxlon:12.2524800}\n",
    "  node {\n",
    "    id:298884269 lat:54.0901746 lon:12.2482632 user:\"SvenHRO\"\n",
    "    uid:46882 visible:$true version:1 changeset:676636 \n",
    "    timestamp:2008-09-21T21:37:45}\n",
    "  node {\n",
    "    id:261728686 lat:54.0906309 lon:12.2441924 user:\"PikoWinter\" \n",
    "    uid:36744 visible:$true version:1 changeset:323878 \n",
    "    timestamp:2008-05-03T13:39:23}\n",
    "  node {\n",
    "    id:1831881213 version:1 changeset:12370172 lat:54.0900666 \n",
    "    lon:12.2539381 user:lafkor\n",
    "    uid:75625 visible:$true timestamp:2012-07-20T09:43:19\n",
    "    tag {k:\"name\" v:\"Neu Broderstorf\"}\n",
    "    tag {k:\"traffic_sign\" v:\"city_limit\"}\n",
    "  }\n",
    "  node {\n",
    "    id:298884272 lat:54.0901447 lon:12.2516513 user:\"SvenHRO\" uid:46882 visible:$true version:1 changeset:676636 timestamp:2008-09-21T21:37:45}\n",
    "  way {\n",
    "    id:26659127 user:\"Masch\" uid:55988 visible:$true version:5 changeset:4142606 timestamp:2010-03-16T11:47:08\n",
    "    nd {ref:\"292403538\"}\n",
    "    nd {ref:\"298884289\"}\n",
    "    nd {ref:\"261728686\"}\n",
    "    tag {k:\"highway\" v:\"unclassified\"}\n",
    "    tag {k:\"name\" v:\"Pastower Straße\"}\n",
    "  }\n",
    "  relation {\n",
    "    id:56688 user:\"kmvar\" uid:56190 visible:$true version:28 \n",
    "    changeset:6947637 timestamp:2011-01-12T14:23:49\n",
    "    member {type:\"node\" ref:294942404 role:\"\"}\n",
    "    member {type:\"node\" ref:364933006 role:\"\"}\n",
    "    member {type:\"way\" ref:4579143 role:\"\"}\n",
    "    member {type:\"node\" ref:249673494 role:\"\"}\n",
    "    tag {k:\"name\" v:\"Küstenbus Linie 123\"}\n",
    "    tag {k:\"network\" v:\"VVW\"}\n",
    "    tag {k:\"operator\" v:\"Regionalverkehr Küste\"}\n",
    "    tag {k:\"ref\" v:\"123\"}\n",
    "    tag {k:\"route\" v:\"bus\"}\n",
    "    tag {k:\"type\" v:\"route\"}\n",
    "  }\n",
    "}'''\n",
    "ob = loads(msg)[0]\n",
    "print(\"Compact form:\")\n",
    "print(dumps([ob]))\n",
    "print(\"\\nPretty form:\")\n",
    "print(dumps([ob], pretty=1))\n"
   ]
  },
  {
   "cell_type": "markdown",
   "metadata": {},
   "source": [
    "### AXON for relational data"
   ]
  },
  {
   "cell_type": "markdown",
   "metadata": {},
   "source": [
    "`AXON` supports using of object references for representation of relational data."
   ]
  },
  {
   "cell_type": "code",
   "execution_count": 11,
   "metadata": {
    "collapsed": false
   },
   "outputs": [
    {
     "data": {
      "text/html": [
       "<b>Graph object</b>"
      ],
      "text/plain": [
       "<IPython.core.display.HTML object>"
      ]
     },
     "metadata": {},
     "output_type": "display_data"
    },
    {
     "name": "stdout",
     "output_type": "stream",
     "text": [
      "Graph: {'nodes': [Node: {'y': 1, 'x': 1}, Node: {'y': 2, 'x': 1}, Node: {'y': 2, 'x': 2}, Node: {'y': 1, 'x': 2}], 'edges': [Edge: {'p1': Node: {'y': 1, 'x': 1}, 'p2': Node: {'y': 2, 'x': 1}}, Edge: {'p1': Node: {'y': 1, 'x': 1}, 'p2': Node: {'y': 2, 'x': 2}}, Edge: {'p1': Node: {'y': 2, 'x': 1}, 'p2': Node: {'y': 2, 'x': 2}}, Edge: {'p1': Node: {'y': 1, 'x': 1}, 'p2': Node: {'y': 1, 'x': 2}}, Edge: {'p1': Node: {'y': 2, 'x': 2}, 'p2': Node: {'y': 1, 'x': 2}}]}\n"
     ]
    },
    {
     "data": {
      "text/html": [
       "<b>Compact flow dump</b>"
      ],
      "text/plain": [
       "<IPython.core.display.HTML object>"
      ]
     },
     "metadata": {},
     "output_type": "display_data"
    },
    {
     "name": "stdout",
     "output_type": "stream",
     "text": [
      "graph{nodes:[&3 node{1 1} &1 node{1 2} &4 node{2 2} &2 node{2 1}] edges:[edge{*3 *1} edge{*3 *4} edge{*1 *4} edge{*3 *2} edge{*4 *2}]}\n"
     ]
    },
    {
     "data": {
      "text/html": [
       "<b>Formatted dump</b>"
      ],
      "text/plain": [
       "<IPython.core.display.HTML object>"
      ]
     },
     "metadata": {},
     "output_type": "display_data"
    },
    {
     "name": "stdout",
     "output_type": "stream",
     "text": [
      "graph\n",
      "  nodes: [\n",
      "    &3 node\n",
      "      1 1\n",
      "    &1 node\n",
      "      1 2\n",
      "    &4 node\n",
      "      2 2\n",
      "    &2 node\n",
      "      2 1]\n",
      "  edges: [\n",
      "    edge\n",
      "      *3 *1\n",
      "    edge\n",
      "      *3 *4\n",
      "    edge\n",
      "      *1 *4\n",
      "    edge\n",
      "      *3 *2\n",
      "    edge\n",
      "      *4 *2]\n"
     ]
    }
   ],
   "source": [
    "from axon.utils import factory, reduce\n",
    "import axon\n",
    "\n",
    "class Base(object):\n",
    "\n",
    "    def __str__(self):\n",
    "        return '%s: ' % self.__class__.__name__ + repr(self.__dict__)\n",
    "        \n",
    "    __repr__ = __str__\n",
    "\n",
    "class Graph(Base):\n",
    "    def __init__(self, nodes=None, edges=None):\n",
    "        self.nodes = list(nodes) if nodes else []\n",
    "        self.edges = list(edges) if edges else []\n",
    "            \n",
    "            \n",
    "class Node(Base):\n",
    "    def __init__(self, x, y):\n",
    "        self.x = x\n",
    "        self.y = y\n",
    "\n",
    "class Edge(Base):\n",
    "    def __init__(self, p1, p2):\n",
    "        self.p1 = p1\n",
    "        self.p2 = p2\n",
    "        \n",
    "        \n",
    "@factory('graph')\n",
    "def create_graph(attrs, vals):\n",
    "    return Graph(**dict(attrs))\n",
    "\n",
    "@factory('node')\n",
    "def create_node(attrs, args):\n",
    "    return Node(*args)\n",
    "\n",
    "@factory('edge')\n",
    "def create_edge(attrs, args):\n",
    "    return Edge(*args)\n",
    "\n",
    "@reduce(Graph)\n",
    "def reduce_graph(graph):\n",
    "    return axon.node(u'graph', {'nodes': graph.nodes, 'edges': graph.edges}, None)\n",
    "\n",
    "@reduce(Node)\n",
    "def reduce_node(node):\n",
    "    return axon.node(u'node', None, [node.x, node.y])\n",
    "\n",
    "@reduce(Edge)\n",
    "def reduce_edge(edge):\n",
    "    return axon.node(u'edge', None, [edge.p1, edge.p2])\n",
    "\n",
    "text = \"\"\"\n",
    "graph {\n",
    "    nodes: [\n",
    "        &1 node {1 1}\n",
    "        &2 node {1 2}\n",
    "        &3 node {2 2}\n",
    "        &4 node {2 1}\n",
    "    ]\n",
    "    edges: [\n",
    "        edge {*1 *2}\n",
    "        edge {*1 *3}\n",
    "        edge {*2 *3}\n",
    "        edge {*1 *4}\n",
    "        edge {*3 *4}\n",
    "    ]\n",
    "}\n",
    "\"\"\"\n",
    "obs = loads(text, mode='strict')[0]\n",
    "display(HTML(u'<b>Graph object</b>'))\n",
    "print(obs)\n",
    "display(HTML(u'<b>Compact flow dump</b>'))\n",
    "print(dumps([obs], crossref=1, sorted=0))\n",
    "display(HTML(u'<b>Formatted dump</b>'))\n",
    "print(dumps([obs], pretty=1, crossref=1, hsize=5, sorted=0))\n",
    "\n",
    "#print(id(obs.nodes[0]), id(obs.nodes[1]), id(obs.edges[0].p1), id(obs.edges[0].p2))\n"
   ]
  },
  {
   "cell_type": "code",
   "execution_count": null,
   "metadata": {
    "collapsed": false
   },
   "outputs": [],
   "source": []
  }
 ],
 "metadata": {
  "kernelspec": {
   "display_name": "Python 3",
   "language": "python",
   "name": "python3"
  },
  "language_info": {
   "codemirror_mode": {
    "name": "ipython",
    "version": 3
   },
   "file_extension": ".py",
   "mimetype": "text/x-python",
   "name": "python",
   "nbconvert_exporter": "python",
   "pygments_lexer": "ipython3",
   "version": "3.4.3"
  }
 },
 "nbformat": 4,
 "nbformat_minor": 0
}
