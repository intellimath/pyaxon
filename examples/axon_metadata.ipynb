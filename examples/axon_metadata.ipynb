{
 "cells": [
  {
   "cell_type": "code",
   "execution_count": 1,
   "metadata": {
    "collapsed": true
   },
   "outputs": [],
   "source": [
    "import axon"
   ]
  },
  {
   "cell_type": "code",
   "execution_count": 2,
   "metadata": {
    "collapsed": false
   },
   "outputs": [
    {
     "name": "stdout",
     "output_type": "stream",
     "text": [
      "{@:'name', @type:'test', 'a': 1, 'b': 2, 'c': 3} {'': 'name', 'type': 'test'}\n",
      "{@:\"name\" @type:\"test\" a:1 b:2 c:3}\n",
      "{ @: \"name\"\n",
      "  @type: \"test\"\n",
      "  a: 1\n",
      "  b: 2\n",
      "  c: 3}\n"
     ]
    }
   ],
   "source": [
    "vals = axon.loads('''{@: \"name\" \n",
    "@type: \"test\" \n",
    "a:1 b:2 c:3}''')\n",
    "print(vals[0], vals[0].__metadata__)\n",
    "text = axon.dumps(vals)\n",
    "print(text)\n",
    "text = axon.dumps(vals, pretty=1)\n",
    "print(text)"
   ]
  },
  {
   "cell_type": "code",
   "execution_count": 3,
   "metadata": {
    "collapsed": false
   },
   "outputs": [
    {
     "name": "stdout",
     "output_type": "stream",
     "text": [
      "[@:'name', @type:'test', 1, 2, 3] {'': 'name', 'type': 'test'}\n",
      "[@:\"name\" @type:\"test\" 1 2 3]\n",
      "[ @: \"name\"\n",
      "  @type: \"test\"\n",
      "  1 2 3]\n"
     ]
    }
   ],
   "source": [
    "vals = axon.loads('''[@: \"name\" \n",
    "@type: \"test\" \n",
    "1 2 3]''')\n",
    "print(vals[0], vals[0].__metadata__)\n",
    "text = axon.dumps(vals)\n",
    "print(text)\n",
    "text = axon.dumps(vals, pretty=1)\n",
    "print(text)"
   ]
  },
  {
   "cell_type": "code",
   "execution_count": null,
   "metadata": {
    "collapsed": true
   },
   "outputs": [],
   "source": []
  }
 ],
 "metadata": {
  "kernelspec": {
   "display_name": "Python 3",
   "language": "python",
   "name": "python3"
  },
  "language_info": {
   "codemirror_mode": {
    "name": "ipython",
    "version": 3
   },
   "file_extension": ".py",
   "mimetype": "text/x-python",
   "name": "python",
   "nbconvert_exporter": "python",
   "pygments_lexer": "ipython3",
   "version": "3.4.3"
  }
 },
 "nbformat": 4,
 "nbformat_minor": 0
}
