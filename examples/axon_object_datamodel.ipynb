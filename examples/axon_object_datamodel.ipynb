{
 "cells": [
  {
   "cell_type": "markdown",
   "metadata": {},
   "source": [
    "This post continue [series](http://intellimath.bitbucket.org/blog/categories/axon.html) about [AXON](http://intellimath.bitbucket.org/axon) and [pyaxon](http://pypi.python.org/pypi/pyaxon). Now we consider AXON datamodel and some realted aspects of object serialization."
   ]
  },
  {
   "cell_type": "markdown",
   "metadata": {},
   "source": [
    "AXON datamodel bases on composition of several data construction patterns. It reflects both JSON and XML datamodels."
   ]
  },
  {
   "cell_type": "markdown",
   "metadata": {},
   "source": [
    "AXON datamodel has two rules of composition that reflects JSON datamodel:\n",
    "\n",
    "* if *values* $D_1,\\dots,D_n$ belong to AXON datamodel then the *list* $[D_1,\\dots,D_n]$ belongs to AXON datamodel;\n",
    "* if *values* $D_1,\\dots,D_n$ belong to AXON datamodel then for any sequence of *string keys* $k_1,\\dots,k_n$ the *dictionary* $\\{k_1\\colon D_1,\\dots,k_2\\colon D_n\\}$ belongs to AXON datamodel.\n",
    "\n",
    "In addition AXON datamodel has a rule of composition for construction of tuples &mdash; fixed sequence of values:\n",
    "\n",
    "* if *values* $D_1,\\dots,D_n$ belong to AXON datamodel then the *tuple* $(D_1,\\dots,D_n)$ belongs to AXON datamodel.\n"
   ]
  },
  {
   "cell_type": "markdown",
   "metadata": {},
   "source": [
    "AXON datamodel also has three rules of composition that reflects XML infoset datamodel:\n",
    "\n",
    "* if *values* $D_1,\\dots,D_n$ belong to AXON datamodel then for any *name* $\\text{N}$ the *named sequence* $\\text{N}\\{D_1,\\dots,D_n\\}$ belongs to AXON datamodel;\n",
    "* if *values* $D_1,\\dots,D_n$ belong to AXON datamodel then for any sequence of *attribute names* $a_1,\\dots,a_n$ and any *name* $\\text{N}$ the *named mapping* $\\text{N}\\{a_1\\colon D_1,\\dots,a_n\\colon D_n\\}$ belongs to AXON datamodel;\n",
    "* *values* if $D_1,\\dots,D_n$ and $E_1,\\dots,E_m$ belong to AXON datamodel then for any *name* $\\text{N}$ and sequence of *attribute names* $a_1,\\dots,a_n$ the *named element* $\\text{N}\\{a_1\\colon D_1,\\dots,a_n\\colon D_n,\\ E_1,\\dots,E_m \\}$ belongs to AXON datamodel.\n",
    "\n",
    "First rule allows to construct structures (*named sequences*) similar to XML element without attributes. Second rule allows to construct structures (*named mappings*) similar to XML element without of subelements. Third rule allows to construct structures (*named elements*) similar XML element both with attributes and subelements. Unlike XML, in AXON attribute's value can be an arbitrary value."
   ]
  },
  {
   "cell_type": "markdown",
   "metadata": {},
   "source": [
    "AXON datamodel has yet another rule of composition that reflects concept of *named tuple*, which contain fixed number of values and may contain also *optional* values specified by their *attribute name*:\n",
    "res, which are composed by several rules:\n",
    "\n",
    "* if *values* $D_1,\\dots,D_n$ and $E_1,\\dots,E_m$ belong to AXON datamodel then for any name $\\text{N}$ and sequence of *attribute names* $a_1,\\dots,a_n$ the *named instance* $\\text{N}\\{E_1,\\dots,E_m,\\ a_1\\colon D_1,\\dots,a_n\\colon D_n \\}$ belongs to AXON datamodel.\n",
    "\n",
    "Last rule is for symmetry; it useful for representation of data rows with fixed fields and optional fields specified by their names."
   ]
  },
  {
   "cell_type": "markdown",
   "metadata": {},
   "source": [
    "AXON named complex values can be mapped to objects by their names. [pyaxon](http://pypi.python.org/pypi/pyaxon) module supports protocol for loading and dumping."
   ]
  },
  {
   "cell_type": "markdown",
   "metadata": {},
   "source": [
    "AXON lists, dicts and tuples are mapped to python's list, dicts and tuples."
   ]
  },
  {
   "cell_type": "markdown",
   "metadata": {},
   "source": [
    "### Loading protocol"
   ]
  },
  {
   "cell_type": "markdown",
   "metadata": {},
   "source": [
    "For named complex values one can define a class with base class `GenericBuilder`, which has four methods:\n",
    "\n",
    "* `sequence(name, list)`;\n",
    "* `mapping(name, dict)`;\n",
    "* `element(name, dict, list)`;\n",
    "* `instance(name, list, dict)`.\n"
   ]
  },
  {
   "cell_type": "markdown",
   "metadata": {},
   "source": [
    "During loading these methods are called according to next rules that corresponds to last four above rules of composition:\n",
    "\n",
    "* for objects $D_1,\\dots,D_n$ and name $\\text{N}$ object is constructed by calling of the method `sequence(` $\\text{N}$, $[D_1,\\dots,D_n]$ `)`;\n",
    "* for objects $D_1,\\dots,D_n$, names $a_1,\\dots,a_n$ and name $\\text{N}$ object is constructed by calling of the method `mapping(` $\\text{N}$, $\\{a_1\\colon D_1,\\dots,a_n\\colon D_n\\}$ `)`;\n",
    "* for objects $D_1,\\dots,D_n$ and $E_1,\\dots,E_m$, name $\\text{N}$ and names $a_1,\\dots,a_n$ object is constructed by calling of the method `element(` $\\text{N}$, $\\{a_1\\colon D_1,\\dots,a_n\\colon D_n\\}, [E_1,\\dots,E_m]$ `)`;\n",
    "* for objects $D_1,\\dots,D_n$ and $E_1,\\dots,E_m$, name $\\text{N}$ and names $a_1,\\dots,a_n$ object is constructed by calling of the method `instance(` $\\text{N}$, $[E_1,\\dots,E_m]$, $\\{a_1\\colon D_1,\\dots,a_n\\colon D_n\\}$ `)`.\n"
   ]
  },
  {
   "cell_type": "markdown",
   "metadata": {},
   "source": [
    "### Dumping protocol"
   ]
  },
  {
   "cell_type": "markdown",
   "metadata": {},
   "source": [
    "There is a protocol for dumping python objects. In order to dump the class `C` instances one have to do the following:\n",
    "\n",
    "* define function that takes instance `o` of the class `C` and returns instance of `Empty`, `Sequence`, `Mapping`, `Element` or `Instance`;\n",
    "* register them using builtin `reduce` function."
   ]
  },
  {
   "cell_type": "markdown",
   "metadata": {},
   "source": [
    "Empty"
   ]
  },
  {
   "cell_type": "code",
   "execution_count": 1,
   "metadata": {
    "collapsed": false
   },
   "outputs": [],
   "source": [
    "from __future__ import print_function, unicode_literals\n",
    "from axon.api import loads, dumps\n",
    "\n",
    "# pretty printing of python objects\n",
    "from pprint import pprint\n",
    "\n",
    "# ipython tools for pretty of images and html\n",
    "from IPython.display import HTML, display"
   ]
  }
 ],
 "metadata": {
  "kernelspec": {
   "display_name": "Python 3",
   "language": "python",
   "name": "python3"
  },
  "language_info": {
   "codemirror_mode": {
    "name": "ipython",
    "version": 3
   },
   "file_extension": ".py",
   "mimetype": "text/x-python",
   "name": "python",
   "nbconvert_exporter": "python",
   "pygments_lexer": "ipython3",
   "version": "3.4.3"
  }
 },
 "nbformat": 4,
 "nbformat_minor": 0
}
