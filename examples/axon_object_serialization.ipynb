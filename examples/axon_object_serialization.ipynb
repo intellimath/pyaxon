{
 "metadata": {
  "name": "",
  "signature": "sha256:b76343971fd940e1d2cd83617781ed0a3580a71d625fe698e10719fcda6f879d"
 },
 "nbformat": 3,
 "nbformat_minor": 0,
 "worksheets": [
  {
   "cells": [
    {
     "cell_type": "markdown",
     "metadata": {},
     "source": [
      "This post continue [series](http://intellimath.bitbucket.org/blog/categories/axon.html) about [AXON](http://intellimath.bitbucket.org/axon) and [pyaxon](http://pypi.python.org/pypi/pyaxon). Now we consider some examples of object serialization/deserialization.\n",
      "\n",
      "<!-- TEASER_END -->\n"
     ]
    },
    {
     "cell_type": "code",
     "collapsed": false,
     "input": [
      "from __future__ import print_function, unicode_literals\n",
      "from axon.api import loads, dumps\n",
      "from IPython.display import HTML, display"
     ],
     "language": "python",
     "metadata": {},
     "outputs": [],
     "prompt_number": 1
    },
    {
     "cell_type": "heading",
     "level": 3,
     "metadata": {},
     "source": [
      "Simple graph example"
     ]
    },
    {
     "cell_type": "markdown",
     "metadata": {},
     "source": [
      "Below is AXON text that represents a graph by the way of definition of sequences of nodes and edges. Each node has a reference label and each edge specifies left and right nodes by its reference labels. Using native support of references in AXON makes such representation straightforward."
     ]
    },
    {
     "cell_type": "code",
     "collapsed": false,
     "input": [
      "text = \"\"\"\n",
      "graph {\n",
      "    nodes: [\n",
      "        &1 node {x:1 y:1}\n",
      "        &2 node {x:1 y:2}\n",
      "        &3 node {x:2 y:2}\n",
      "    ]\n",
      "    edges: [\n",
      "        edge {*1 *2}\n",
      "        edge {*1 *3}\n",
      "        edge {*2 *3}\n",
      "    ]\n",
      "}\n",
      "\"\"\""
     ],
     "language": "python",
     "metadata": {},
     "outputs": [],
     "prompt_number": 2
    },
    {
     "cell_type": "markdown",
     "metadata": {},
     "source": [
      "Bellow we define `Graph`, `Node`, `Edge` classes."
     ]
    },
    {
     "cell_type": "code",
     "collapsed": false,
     "input": [
      "class Base(object):\n",
      "    #\n",
      "    def __str__(self):\n",
      "        return '%s: %r' % (self.__class__.__name__, self.__dict__)\n",
      "    #\n",
      "    __repr__ = __str__\n",
      "\n",
      "class Graph(Base):\n",
      "    def __init__(self, nodes=None, edges=None):\n",
      "        self.nodes = list(nodes) if nodes else []\n",
      "        self.edges = list(edges) if edges else []\n",
      "\n",
      "class Node(Base):\n",
      "    def __init__(self, x, y):\n",
      "        self.x = x\n",
      "        self.y = y\n",
      "        \n",
      "class Edge(Base):\n",
      "    def __init__(self, p1, p2):\n",
      "        self.left = p1\n",
      "        self.right = p2\n"
     ],
     "language": "python",
     "metadata": {},
     "outputs": [],
     "prompt_number": 3
    },
    {
     "cell_type": "markdown",
     "metadata": {},
     "source": [
      "Then we define and register `reduce`/`factory` for dumping/loading."
     ]
    },
    {
     "cell_type": "code",
     "collapsed": false,
     "input": [
      "from axon.utils import factory, reduce\n",
      "from axon import element, mapping, sequence, instance\n",
      "\n",
      "@reduce(Edge)\n",
      "def reduce_edge(edge):\n",
      "    return sequence('edge', [edge.left, edge.right])\n",
      "\n",
      "@factory('graph')\n",
      "def create_graph(args):\n",
      "    return Graph(**args)\n",
      "\n",
      "@factory('node')\n",
      "def create_node(args):\n",
      "    return Node(**args)\n",
      "\n",
      "@factory('edge')\n",
      "def create_edge(args):\n",
      "    return Edge(*args)\n",
      "\n",
      "@reduce(Graph)\n",
      "def reduce_graph(graph):\n",
      "    return element('graph', {'nodes': graph.nodes, 'edges': graph.edges})\n",
      "\n",
      "@reduce(Node)\n",
      "def reduce_node(node):\n",
      "    return mapping('node', {'x': node.x, 'y': node.y})\n"
     ],
     "language": "python",
     "metadata": {},
     "outputs": [],
     "prompt_number": 4
    },
    {
     "cell_type": "markdown",
     "metadata": {},
     "source": [
      "Now we can load AXON message with graph definition into `Graph` object and dump it."
     ]
    },
    {
     "cell_type": "code",
     "collapsed": false,
     "input": [
      "g = loads(text, mode='strict')\n",
      "display(HTML(u'<b>Graph object:</b>'))\n",
      "print(g[0])\n",
      "display(HTML(u'<b>Compact dump:</b>'))\n",
      "print(dumps(g, crossref=1))\n",
      "display(HTML(u'<b>Formatted dump without braces:</b>'))\n",
      "print(dumps(g, pretty=1, crossref=1, hsize=4))\n",
      "display(HTML(u'<b>Formatted dump with braces:</b>'))\n",
      "print(dumps(g, pretty=1, braces=1, crossref=1, hsize=4))"
     ],
     "language": "python",
     "metadata": {},
     "outputs": [
      {
       "html": [
        "<b>Graph object:</b>"
       ],
       "metadata": {},
       "output_type": "display_data",
       "text": [
        "<IPython.core.display.HTML at 0x105eb5890>"
       ]
      },
      {
       "output_type": "stream",
       "stream": "stdout",
       "text": [
        "Graph: {'nodes': [Node: {'y': 1, 'x': 1}, Node: {'y': 2, 'x': 1}, Node: {'y': 2, 'x': 2}], 'edges': [Edge: {'right': Node: {'y': 2, 'x': 1}, 'left': Node: {'y': 1, 'x': 1}}, Edge: {'right': Node: {'y': 2, 'x': 2}, 'left': Node: {'y': 1, 'x': 1}}, Edge: {'right': Node: {'y': 2, 'x': 2}, 'left': Node: {'y': 2, 'x': 1}}]}\n"
       ]
      },
      {
       "html": [
        "<b>Compact dump:</b>"
       ],
       "metadata": {},
       "output_type": "display_data",
       "text": [
        "<IPython.core.display.HTML at 0x105e98c50>"
       ]
      },
      {
       "output_type": "stream",
       "stream": "stdout",
       "text": [
        "graph{edges:[edge{&1 node{x:1 y:1} &2 node{x:1 y:2}} edge{*1 &3 node{x:2 y:2}} edge{*2 *3}] nodes:[*1 *2 *3]}\n"
       ]
      },
      {
       "html": [
        "<b>Formatted dump without braces:</b>"
       ],
       "metadata": {},
       "output_type": "display_data",
       "text": [
        "<IPython.core.display.HTML at 0x105eb06d0>"
       ]
      },
      {
       "output_type": "stream",
       "stream": "stdout",
       "text": [
        "graph:\n",
        "  edges: [\n",
        "    edge:\n",
        "      &1 node:\n",
        "        x: 1 y: 1\n",
        "      &2 node:\n",
        "        x: 1 y: 2\n",
        "    edge:\n",
        "      *1\n",
        "      &3 node:\n",
        "        x: 2 y: 2\n",
        "    edge:\n",
        "      *2 *3]\n",
        "  nodes: [\n",
        "    *1 *2 *3]\n"
       ]
      },
      {
       "html": [
        "<b>Formatted dump with braces:</b>"
       ],
       "metadata": {},
       "output_type": "display_data",
       "text": [
        "<IPython.core.display.HTML at 0x105eb5c90>"
       ]
      },
      {
       "output_type": "stream",
       "stream": "stdout",
       "text": [
        "graph {\n",
        "  edges: [\n",
        "    edge {\n",
        "      &1 node {\n",
        "        x: 1 y: 1}\n",
        "      &2 node {\n",
        "        x: 1 y: 2}}\n",
        "    edge {\n",
        "      *1\n",
        "      &3 node {\n",
        "        x: 2 y: 2}}\n",
        "    edge {\n",
        "      *2 *3}]\n",
        "  nodes: [\n",
        "    *1 *2 *3]}\n"
       ]
      }
     ],
     "prompt_number": 5
    },
    {
     "cell_type": "heading",
     "level": 3,
     "metadata": {},
     "source": [
      "Numpy arrays"
     ]
    },
    {
     "cell_type": "markdown",
     "metadata": {},
     "source": [
      "Below we consider example of transformation of numpy array objects to/from AXON text. Let's define and register `reduce`/`factory` functions."
     ]
    },
    {
     "cell_type": "code",
     "collapsed": false,
     "input": [
      "from axon import dump_as_str, as_unicode, factory, reduce\n",
      "import numpy as np\n",
      "\n",
      "@factory('ndarray')\n",
      "def create_array(mapping, sequence):\n",
      "    shape = mapping.get('shape', None)\n",
      "    dtype = mapping['dtype']\n",
      "    if type(dtype) is list:\n",
      "        dtype = [(str(n), str(t)) for n, t in dtype]\n",
      "    a = np.array(sequence, dtype=dtype)\n",
      "    if shape is not None:\n",
      "        a.shape = shape\n",
      "    return a\n",
      "\n",
      "@reduce(np.ndarray)\n",
      "def reduce_array(a):\n",
      "    signes = {'<', '=', '>', '!'}\n",
      "    if len(a.dtype.descr) > 1:\n",
      "        dtype = [\n",
      "            (as_unicode(n), (as_unicode(t[1:]) \\\n",
      "                             if t[0] in signes \\\n",
      "                             else as_unicode(t)))\n",
      "            for n, t in a.dtype.descr]\n",
      "        return element('ndarray', {'dtype':dtype}, a.tolist())\n",
      "    else:\n",
      "        dtype_str = a.dtype.str\n",
      "        dtype_str = as_unicode(dtype_str[1:]) \\\n",
      "                if dtype_str[0] in signes \\\n",
      "                else as_unicode(dtype_str)\n",
      "        return element('ndarray', {'shape': a.shape, 'dtype':unicode(dtype_str)}, a.tolist())\n",
      "\n",
      "dump_as_str(np.int8)\n",
      "dump_as_str(np.int16)\n",
      "dump_as_str(np.int32)\n",
      "dump_as_str(np.int64)\n",
      "dump_as_str(np.float16)\n",
      "dump_as_str(np.float32)\n",
      "dump_as_str(np.float64)\n",
      "dump_as_str(np.float128)\n",
      "dump_as_str(np.int_)\n",
      "dump_as_str(np.float_)\n",
      "dump_as_str(np.double)"
     ],
     "language": "python",
     "metadata": {},
     "outputs": [],
     "prompt_number": 6
    },
    {
     "cell_type": "code",
     "collapsed": false,
     "input": [
      "a = np.array([[1, 2, 3], [3, 4, 5], [5, 6, 7]])\n",
      "display(HTML('<b>Compact form:</b>'))\n",
      "text = dumps([a])\n",
      "print(text)\n",
      "\n",
      "b = loads(text, mode=\"strict\")[0]\n",
      "display(HTML('<b>Formatted form with braces:</b>'))\n",
      "text = dumps([a], pretty=1, braces=1, hsize=4)\n",
      "print(text)\n",
      "\n",
      "display(HTML('<b>Formatted form with braces:</b>'))\n",
      "text = dumps([a], pretty=1, hsize=4)\n",
      "print(text)\n",
      "b = loads(text, mode=\"strict\")[0]"
     ],
     "language": "python",
     "metadata": {},
     "outputs": [
      {
       "html": [
        "<b>Compact form:</b>"
       ],
       "metadata": {},
       "output_type": "display_data",
       "text": [
        "<IPython.core.display.HTML at 0x105ea9210>"
       ]
      },
      {
       "output_type": "stream",
       "stream": "stdout",
       "text": [
        "ndarray{dtype:\"i8\" shape:(3 3) [1 2 3] [3 4 5] [5 6 7]}\n"
       ]
      },
      {
       "html": [
        "<b>Formatted form with braces:</b>"
       ],
       "metadata": {},
       "output_type": "display_data",
       "text": [
        "<IPython.core.display.HTML at 0x1059d6950>"
       ]
      },
      {
       "output_type": "stream",
       "stream": "stdout",
       "text": [
        "ndarray {\n",
        "  dtype: \"i8\"\n",
        "  shape: (\n",
        "    3 3)\n",
        "  [ 1 2 3]\n",
        "  [ 3 4 5]\n",
        "  [ 5 6 7]}\n"
       ]
      },
      {
       "html": [
        "<b>Formatted form with braces:</b>"
       ],
       "metadata": {},
       "output_type": "display_data",
       "text": [
        "<IPython.core.display.HTML at 0x105ea9390>"
       ]
      },
      {
       "output_type": "stream",
       "stream": "stdout",
       "text": [
        "ndarray:\n",
        "  dtype: \"i8\"\n",
        "  shape: (\n",
        "    3 3)\n",
        "  [ 1 2 3]\n",
        "  [ 3 4 5]\n",
        "  [ 5 6 7]\n"
       ]
      }
     ],
     "prompt_number": 7
    },
    {
     "cell_type": "code",
     "collapsed": false,
     "input": [
      "a = np.array(\n",
      "        [(1, 2, 3.0), (3, 4, 5.0), (4, 5, 6.0)], \n",
      "        dtype=[(b'x', int), (b'y', int), (b'z', float)])\n",
      "text = dumps([a])\n",
      "print('val=', text)\n",
      "b = loads(text, mode=\"strict\")[0]\n",
      "print('val=', repr(b))\n",
      "\n",
      "display(HTML('<b>Formatted form</b>:'))\n",
      "text = dumps([a])\n",
      "print('val=', text)\n",
      "display(HTML('<b>Formatted form</b>:'))\n",
      "text = dumps([a], pretty=1, braces=1, hsize=3)\n",
      "print('val=', text)\n",
      "display(HTML('<b>Indented form:</b>'))\n",
      "text = dumps([a], pretty=1, hsize=3)\n",
      "print('val=', text)\n"
     ],
     "language": "python",
     "metadata": {},
     "outputs": [
      {
       "output_type": "stream",
       "stream": "stdout",
       "text": [
        "val= ndarray{dtype:[(\"x\" \"i8\") (\"y\" \"i8\") (\"z\" \"f8\")] (1 2 3.0) (3 4 5.0) (4 5 6.0)}\n",
        "val= array([(1, 2, 3.0), (3, 4, 5.0), (4, 5, 6.0)], \n",
        "      dtype=[('x', '<i8'), ('y', '<i8'), ('z', '<f8')])\n"
       ]
      },
      {
       "html": [
        "<b>Formatted form</b>:"
       ],
       "metadata": {},
       "output_type": "display_data",
       "text": [
        "<IPython.core.display.HTML at 0x105ea9910>"
       ]
      },
      {
       "output_type": "stream",
       "stream": "stdout",
       "text": [
        "val= ndarray{dtype:[(\"x\" \"i8\") (\"y\" \"i8\") (\"z\" \"f8\")] (1 2 3.0) (3 4 5.0) (4 5 6.0)}\n"
       ]
      },
      {
       "html": [
        "<b>Formatted form</b>:"
       ],
       "metadata": {},
       "output_type": "display_data",
       "text": [
        "<IPython.core.display.HTML at 0x105ea9a50>"
       ]
      },
      {
       "output_type": "stream",
       "stream": "stdout",
       "text": [
        "val= ndarray {\n",
        "  dtype: [\n",
        "    ( \"x\" \"i8\")\n",
        "    ( \"y\" \"i8\")\n",
        "    ( \"z\" \"f8\")]\n",
        "  ( 1 2 3.0)\n",
        "  ( 3 4 5.0)\n",
        "  ( 4 5 6.0)}\n"
       ]
      },
      {
       "html": [
        "<b>Indented form:</b>"
       ],
       "metadata": {},
       "output_type": "display_data",
       "text": [
        "<IPython.core.display.HTML at 0x1059d6490>"
       ]
      },
      {
       "output_type": "stream",
       "stream": "stdout",
       "text": [
        "val= ndarray:\n",
        "  dtype: [\n",
        "    ( \"x\" \"i8\")\n",
        "    ( \"y\" \"i8\")\n",
        "    ( \"z\" \"f8\")]\n",
        "  ( 1 2 3.0)\n",
        "  ( 3 4 5.0)\n",
        "  ( 4 5 6.0)\n"
       ]
      }
     ],
     "prompt_number": 8
    },
    {
     "cell_type": "code",
     "collapsed": false,
     "input": [],
     "language": "python",
     "metadata": {},
     "outputs": [],
     "prompt_number": 8
    }
   ],
   "metadata": {}
  }
 ]
}