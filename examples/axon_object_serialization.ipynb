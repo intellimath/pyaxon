{
 "cells": [
  {
   "cell_type": "markdown",
   "metadata": {},
   "source": [
    "This post continue [series](http://intellimath.bitbucket.org/blog/categories/axon.html) about [AXON](http://intellimath.bitbucket.org/axon) and [pyaxon](http://pypi.python.org/pypi/pyaxon). Now we consider some examples of object serialization/deserialization.\n",
    "\n",
    "<!-- TEASER_END -->\n"
   ]
  },
  {
   "cell_type": "code",
   "execution_count": 1,
   "metadata": {
    "collapsed": false
   },
   "outputs": [],
   "source": [
    "from __future__ import print_function, unicode_literals\n",
    "from axon.api import loads, dumps\n",
    "from IPython.display import HTML, display"
   ]
  },
  {
   "cell_type": "markdown",
   "metadata": {},
   "source": [
    "### Simple graph example"
   ]
  },
  {
   "cell_type": "markdown",
   "metadata": {},
   "source": [
    "Below is AXON text that represents a graph by the way of definition of sequences of nodes and edges. Each node has a reference label and each edge specifies left and right nodes by its reference labels. Using native support of references in AXON makes such representation straightforward."
   ]
  },
  {
   "cell_type": "code",
   "execution_count": 2,
   "metadata": {
    "collapsed": false
   },
   "outputs": [],
   "source": [
    "text = \"\"\"\n",
    "graph {\n",
    "    nodes: [\n",
    "        &1 node {x:1 y:1}\n",
    "        &2 node {x:1 y:2}\n",
    "        &3 node {x:2 y:2}\n",
    "    ]\n",
    "    edges: [\n",
    "        edge {*1 *2}\n",
    "        edge {*1 *3}\n",
    "        edge {*2 *3}\n",
    "    ]\n",
    "}\n",
    "\"\"\""
   ]
  },
  {
   "cell_type": "markdown",
   "metadata": {},
   "source": [
    "Bellow we define `Graph`, `Node`, `Edge` classes."
   ]
  },
  {
   "cell_type": "code",
   "execution_count": 3,
   "metadata": {
    "collapsed": false
   },
   "outputs": [],
   "source": [
    "class Base(object):\n",
    "    #\n",
    "    def __str__(self):\n",
    "        return '%s: %r' % (self.__class__.__name__, self.__dict__)\n",
    "    #\n",
    "    __repr__ = __str__\n",
    "\n",
    "class Graph(Base):\n",
    "    def __init__(self, nodes=None, edges=None):\n",
    "        self.nodes = list(nodes) if nodes else []\n",
    "        self.edges = list(edges) if edges else []\n",
    "\n",
    "class Node(Base):\n",
    "    def __init__(self, x, y):\n",
    "        self.x = x\n",
    "        self.y = y\n",
    "        \n",
    "class Edge(Base):\n",
    "    def __init__(self, p1, p2):\n",
    "        self.left = p1\n",
    "        self.right = p2\n"
   ]
  },
  {
   "cell_type": "markdown",
   "metadata": {},
   "source": [
    "Then we define and register `reduce`/`factory` for dumping/loading."
   ]
  },
  {
   "cell_type": "code",
   "execution_count": 4,
   "metadata": {
    "collapsed": false
   },
   "outputs": [],
   "source": [
    "from axon.utils import factory, reduce\n",
    "import axon\n",
    "\n",
    "@factory('graph')\n",
    "def create_graph(attrs, args):\n",
    "    return Graph(**attrs)\n",
    "\n",
    "@factory('node')\n",
    "def create_node(attrs, args):\n",
    "    return Node(**attrs)\n",
    "\n",
    "@factory('edge')\n",
    "def create_edge(attrs, args):\n",
    "    return Edge(*args)\n",
    "\n",
    "@reduce(Graph)\n",
    "def reduce_graph(graph):\n",
    "    return axon.node('graph', {'nodes': graph.nodes, 'edges': graph.edges})\n",
    "\n",
    "@reduce(Node)\n",
    "def reduce_node(node):\n",
    "    return axon.node('node', {'x': node.x, 'y': node.y})\n",
    "\n",
    "@reduce(Edge)\n",
    "def reduce_edge(edge):\n",
    "    return axon.node('edge', None, [edge.left, edge.right])\n"
   ]
  },
  {
   "cell_type": "markdown",
   "metadata": {},
   "source": [
    "Now we can load AXON message with graph definition into `Graph` object and dump it."
   ]
  },
  {
   "cell_type": "code",
   "execution_count": 5,
   "metadata": {
    "collapsed": false
   },
   "outputs": [
    {
     "data": {
      "text/html": [
       "<b>Graph object:</b>"
      ],
      "text/plain": [
       "<IPython.core.display.HTML object>"
      ]
     },
     "metadata": {},
     "output_type": "display_data"
    },
    {
     "name": "stdout",
     "output_type": "stream",
     "text": [
      "Graph: {'edges': [Edge: {'left': Node: {'x': 1, 'y': 1}, 'right': Node: {'x': 1, 'y': 2}}, Edge: {'left': Node: {'x': 1, 'y': 1}, 'right': Node: {'x': 2, 'y': 2}}, Edge: {'left': Node: {'x': 1, 'y': 2}, 'right': Node: {'x': 2, 'y': 2}}], 'nodes': [Node: {'x': 1, 'y': 1}, Node: {'x': 1, 'y': 2}, Node: {'x': 2, 'y': 2}]}\n"
     ]
    },
    {
     "data": {
      "text/html": [
       "<b>Compact dump:</b>"
      ],
      "text/plain": [
       "<IPython.core.display.HTML object>"
      ]
     },
     "metadata": {},
     "output_type": "display_data"
    },
    {
     "name": "stdout",
     "output_type": "stream",
     "text": [
      "graph{edges:[edge{&2 node{x:1 y:1} &1 node{x:1 y:2}} edge{*2 &3 node{x:2 y:2}} edge{*1 *3}] nodes:[*2 *1 *3]}\n"
     ]
    },
    {
     "data": {
      "text/html": [
       "<b>Formatted dump without braces:</b>"
      ],
      "text/plain": [
       "<IPython.core.display.HTML object>"
      ]
     },
     "metadata": {},
     "output_type": "display_data"
    },
    {
     "name": "stdout",
     "output_type": "stream",
     "text": [
      "graph\n",
      "  edges: [\n",
      "    edge\n",
      "      &2 node\n",
      "        x: 1\n",
      "        y: 1\n",
      "      &1 node\n",
      "        x: 1\n",
      "        y: 2\n",
      "    edge\n",
      "      *2\n",
      "      &3 node\n",
      "        x: 2\n",
      "        y: 2\n",
      "    edge\n",
      "      *1 *3]\n",
      "  nodes: [*2 *1 *3]\n"
     ]
    },
    {
     "data": {
      "text/html": [
       "<b>Formatted dump with braces:</b>"
      ],
      "text/plain": [
       "<IPython.core.display.HTML object>"
      ]
     },
     "metadata": {},
     "output_type": "display_data"
    },
    {
     "name": "stdout",
     "output_type": "stream",
     "text": [
      "graph {\n",
      "  edges: [\n",
      "    edge {\n",
      "      &2 node {\n",
      "        x: 1\n",
      "        y: 1}\n",
      "      &1 node {\n",
      "        x: 1\n",
      "        y: 2}}\n",
      "    edge {\n",
      "      *2\n",
      "      &3 node {\n",
      "        x: 2\n",
      "        y: 2}}\n",
      "    edge {*1 *3}]\n",
      "  nodes: [*2 *1 *3]}\n"
     ]
    }
   ],
   "source": [
    "g = loads(text, mode='strict')\n",
    "display(HTML(u'<b>Graph object:</b>'))\n",
    "print(g[0])\n",
    "display(HTML(u'<b>Compact dump:</b>'))\n",
    "print(dumps(g, crossref=1))\n",
    "display(HTML(u'<b>Formatted dump without braces:</b>'))\n",
    "print(dumps(g, pretty=1, crossref=1, hsize=4))\n",
    "display(HTML(u'<b>Formatted dump with braces:</b>'))\n",
    "print(dumps(g, pretty=1, braces=1, crossref=1, hsize=4))"
   ]
  },
  {
   "cell_type": "markdown",
   "metadata": {},
   "source": [
    "### Numpy arrays"
   ]
  },
  {
   "cell_type": "markdown",
   "metadata": {},
   "source": [
    "Below we consider example of transformation of numpy array objects to/from AXON text. Let's define and register `reduce`/`factory` functions."
   ]
  },
  {
   "cell_type": "code",
   "execution_count": 6,
   "metadata": {
    "collapsed": false
   },
   "outputs": [],
   "source": [
    "from axon import dump_as_str, as_unicode, factory, reduce\n",
    "import numpy as np\n",
    "\n",
    "@factory('ndarray')\n",
    "def create_array(mapping, sequence):\n",
    "    shape = mapping.get('shape', None)\n",
    "    dtype = mapping['dtype']\n",
    "    if type(dtype) is list:\n",
    "        dtype = [(str(n), str(t)) for n, t in dtype]\n",
    "    a = np.array(sequence, dtype=dtype)\n",
    "    if shape is not None:\n",
    "        a.shape = shape\n",
    "    return a\n",
    "\n",
    "@reduce(np.ndarray)\n",
    "def reduce_array(a):\n",
    "    signes = {'<', '=', '>', '!'}\n",
    "    if len(a.dtype.descr) > 1:\n",
    "        dtype = [\n",
    "            (as_unicode(n), (as_unicode(t[1:]) \\\n",
    "                             if t[0] in signes \\\n",
    "                             else as_unicode(t)))\n",
    "            for n, t in a.dtype.descr]\n",
    "        return axon.node('ndarray', {'dtype':dtype}, a.tolist())\n",
    "    else:\n",
    "        dtype_str = a.dtype.str\n",
    "        dtype_str = as_unicode(dtype_str[1:]) \\\n",
    "                if dtype_str[0] in signes \\\n",
    "                else as_unicode(dtype_str)\n",
    "        return axon.node('ndarray', {'shape': a.shape, 'dtype':as_unicode(dtype_str)}, a.tolist())\n",
    "\n",
    "dump_as_str(np.int8)\n",
    "dump_as_str(np.int16)\n",
    "dump_as_str(np.int32)\n",
    "dump_as_str(np.int64)\n",
    "dump_as_str(np.float16)\n",
    "dump_as_str(np.float32)\n",
    "dump_as_str(np.float64)\n",
    "dump_as_str(np.float128)\n",
    "dump_as_str(np.int_)\n",
    "dump_as_str(np.float_)\n",
    "dump_as_str(np.double)"
   ]
  },
  {
   "cell_type": "code",
   "execution_count": 7,
   "metadata": {
    "collapsed": false
   },
   "outputs": [
    {
     "data": {
      "text/html": [
       "<b>Compact form:</b>"
      ],
      "text/plain": [
       "<IPython.core.display.HTML object>"
      ]
     },
     "metadata": {},
     "output_type": "display_data"
    },
    {
     "name": "stdout",
     "output_type": "stream",
     "text": [
      "ndarray{dtype:\"i8\" shape:(3 3) [1 2 3] [3 4 5] [5 6 7]}\n"
     ]
    },
    {
     "data": {
      "text/html": [
       "<b>Formatted form with braces:</b>"
      ],
      "text/plain": [
       "<IPython.core.display.HTML object>"
      ]
     },
     "metadata": {},
     "output_type": "display_data"
    },
    {
     "name": "stdout",
     "output_type": "stream",
     "text": [
      "ndarray {\n",
      "  dtype: \"i8\"\n",
      "  shape: (3 3)\n",
      "  [1 2 3]\n",
      "  [3 4 5]\n",
      "  [5 6 7]}\n"
     ]
    },
    {
     "data": {
      "text/html": [
       "<b>Formatted form with braces:</b>"
      ],
      "text/plain": [
       "<IPython.core.display.HTML object>"
      ]
     },
     "metadata": {},
     "output_type": "display_data"
    },
    {
     "name": "stdout",
     "output_type": "stream",
     "text": [
      "ndarray\n",
      "  dtype: \"i8\"\n",
      "  shape: (3 3)\n",
      "  [1 2 3]\n",
      "  [3 4 5]\n",
      "  [5 6 7]\n"
     ]
    }
   ],
   "source": [
    "a = np.array([[1, 2, 3], [3, 4, 5], [5, 6, 7]])\n",
    "display(HTML('<b>Compact form:</b>'))\n",
    "text = dumps([a])\n",
    "print(text)\n",
    "\n",
    "b = loads(text, mode=\"strict\")[0]\n",
    "display(HTML('<b>Formatted form with braces:</b>'))\n",
    "text = dumps([a], pretty=1, braces=1, hsize=4)\n",
    "print(text)\n",
    "\n",
    "display(HTML('<b>Formatted form with braces:</b>'))\n",
    "text = dumps([a], pretty=1, hsize=4)\n",
    "print(text)\n",
    "b = loads(text, mode=\"strict\")[0]"
   ]
  },
  {
   "cell_type": "code",
   "execution_count": 8,
   "metadata": {
    "collapsed": false
   },
   "outputs": [
    {
     "name": "stdout",
     "output_type": "stream",
     "text": [
      "val= ndarray{dtype:[(\"x\" \"i8\") (\"y\" \"i8\") (\"z\" \"f8\")] (1 2 3.0) (3 4 5.0) (4 5 6.0)}\n",
      "val= array([(1, 2, 3.0), (3, 4, 5.0), (4, 5, 6.0)], \n",
      "      dtype=[('x', '<i8'), ('y', '<i8'), ('z', '<f8')])\n"
     ]
    },
    {
     "data": {
      "text/html": [
       "<b>Formatted form</b>:"
      ],
      "text/plain": [
       "<IPython.core.display.HTML object>"
      ]
     },
     "metadata": {},
     "output_type": "display_data"
    },
    {
     "name": "stdout",
     "output_type": "stream",
     "text": [
      "val= ndarray{dtype:[(\"x\" \"i8\") (\"y\" \"i8\") (\"z\" \"f8\")] (1 2 3.0) (3 4 5.0) (4 5 6.0)}\n"
     ]
    },
    {
     "data": {
      "text/html": [
       "<b>Formatted form</b>:"
      ],
      "text/plain": [
       "<IPython.core.display.HTML object>"
      ]
     },
     "metadata": {},
     "output_type": "display_data"
    },
    {
     "name": "stdout",
     "output_type": "stream",
     "text": [
      "val= ndarray {\n",
      "  dtype: [\n",
      "    (\"x\" \"i8\")\n",
      "    (\"y\" \"i8\")\n",
      "    (\"z\" \"f8\")]\n",
      "  (1 2 3.0)\n",
      "  (3 4 5.0)\n",
      "  (4 5 6.0)}\n"
     ]
    },
    {
     "data": {
      "text/html": [
       "<b>Indented form:</b>"
      ],
      "text/plain": [
       "<IPython.core.display.HTML object>"
      ]
     },
     "metadata": {},
     "output_type": "display_data"
    },
    {
     "name": "stdout",
     "output_type": "stream",
     "text": [
      "val= ndarray\n",
      "  dtype: [\n",
      "    (\"x\" \"i8\")\n",
      "    (\"y\" \"i8\")\n",
      "    (\"z\" \"f8\")]\n",
      "  (1 2 3.0)\n",
      "  (3 4 5.0)\n",
      "  (4 5 6.0)\n"
     ]
    }
   ],
   "source": [
    "a = np.array(\n",
    "        [(1, 2, 3.0), (3, 4, 5.0), (4, 5, 6.0)], \n",
    "        dtype=[('x', int), ('y', int), ('z', float)])\n",
    "text = dumps([a])\n",
    "print('val=', text)\n",
    "b = loads(text, mode=\"strict\")[0]\n",
    "print('val=', repr(b))\n",
    "\n",
    "display(HTML('<b>Formatted form</b>:'))\n",
    "text = dumps([a])\n",
    "print('val=', text)\n",
    "display(HTML('<b>Formatted form</b>:'))\n",
    "text = dumps([a], pretty=1, braces=1, hsize=3)\n",
    "print('val=', text)\n",
    "display(HTML('<b>Indented form:</b>'))\n",
    "text = dumps([a], pretty=1, hsize=3)\n",
    "print('val=', text)\n"
   ]
  },
  {
   "cell_type": "code",
   "execution_count": null,
   "metadata": {
    "collapsed": false
   },
   "outputs": [],
   "source": []
  }
 ],
 "metadata": {
  "kernelspec": {
   "display_name": "Python 3",
   "language": "python",
   "name": "python3"
  },
  "language_info": {
   "codemirror_mode": {
    "name": "ipython",
    "version": 3
   },
   "file_extension": ".py",
   "mimetype": "text/x-python",
   "name": "python",
   "nbconvert_exporter": "python",
   "pygments_lexer": "ipython3",
   "version": "3.4.3"
  }
 },
 "nbformat": 4,
 "nbformat_minor": 0
}
