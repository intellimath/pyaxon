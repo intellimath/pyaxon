{
 "cells": [
  {
   "cell_type": "markdown",
   "metadata": {},
   "source": [
    "# AXON: Data Patterns"
   ]
  },
  {
   "cell_type": "code",
   "execution_count": 1,
   "metadata": {
    "collapsed": false
   },
   "outputs": [],
   "source": [
    "from __future__ import unicode_literals, print_function\n",
    "from axon.api import loads, dumps"
   ]
  },
  {
   "cell_type": "markdown",
   "metadata": {},
   "source": [
    "``AXON`` represents data with the help of compositions of several patterns of structuring and notation of data."
   ]
  },
  {
   "cell_type": "markdown",
   "metadata": {},
   "source": [
    "## Data Structures"
   ]
  },
  {
   "cell_type": "markdown",
   "metadata": {},
   "source": [
    "There are *atomic values* at the bottom level: *unicode strings*, *integers*, *floats*, *decimals*, *dates/times*, *boolean* and *binary data* in `base64` encoding.\n",
    "\n",
    "Complex data structures represented in ``AXON`` as compositions of *anonymous* and *named* data structures."
   ]
  },
  {
   "cell_type": "markdown",
   "metadata": {},
   "source": [
    "*Anonymous* data structure is *dict*, *ordered dict*, *list*, *tuple*:\n",
    "\n",
    "  * **dict** is *unordered* collection of `key`:`value` pairs.\n",
    "  * **ordered dict** is *ordered* collection of `key`:`value` pairs.\n",
    "  * **list** is ordered collection of values.\n",
    "  * **tuple** is fixed ordered collection of values."
   ]
  },
  {
   "cell_type": "markdown",
   "metadata": {},
   "source": [
    "*Named* data structure is a *node*. It has a *name*, can have oredered collection of *attributes* (`name`:`value` pairs) and can have oredered collection of *values*."
   ]
  },
  {
   "cell_type": "markdown",
   "metadata": {},
   "source": [
    "``AXON`` uses three kind of syntax for notation of named complex data:\n",
    "\n",
    "* *compact* form with *{}*\n",
    "* *fromatted* form with *{}*\n",
    "* *formatted* form without *{}*"
   ]
  },
  {
   "cell_type": "markdown",
   "metadata": {},
   "source": [
    "**Examples**\n",
    "\n",
    "* compact form with braces:\n",
    "\n",
    "``` javascript\n",
    "person {name:\"Andrew\" age:27}\n",
    "collection{item{id:1 val:12} item{id:2 val:24} item{id:3 val:48}\n",
    "```\n",
    "\n",
    "* fromatted form with braces:\n",
    "\n",
    "``` javascript\n",
    "person {\n",
    "    name: \"Andrew\"\n",
    "    age: 27\n",
    "}\n",
    "collection {\n",
    "    item {\n",
    "        id: 1\n",
    "        val: 12 }\n",
    "    item {\n",
    "        id: 2\n",
    "        val: 24}\n",
    "    item {\n",
    "        id: 3\n",
    "        val: 48}\n",
    "```\n",
    "\n",
    "* formatted form without braces:\n",
    "\n",
    "``` yaml\n",
    "person\n",
    "    name: \"Matthew\"\n",
    "    age: 27\n",
    "\n",
    "collection\n",
    "    item\n",
    "        id: 1\n",
    "        val: 12\n",
    "    item\n",
    "        id: 2\n",
    "        val: 24\n",
    "    item\n",
    "        id: 3\n",
    "        val: 48\n",
    "```"
   ]
  },
  {
   "cell_type": "markdown",
   "metadata": {},
   "source": [
    "## Anonymous complex values"
   ]
  },
  {
   "cell_type": "markdown",
   "metadata": {},
   "source": [
    "There are two pattern that used both in `JSON` and `AXON`. These are **list** (**array** in `JSON`) and **dict** (**object** in `JSON`).\n",
    "\n",
    "Additional **tuple** is supposed to represent *n-tuples* of values: pairs, triples, quads, ...\n",
    "In contrast to **list**, **tuple** is a *fixed ordered collection* of values."
   ]
  },
  {
   "cell_type": "markdown",
   "metadata": {},
   "source": [
    "### List"
   ]
  },
  {
   "cell_type": "markdown",
   "metadata": {},
   "source": [
    "**List** represents a sequence of values. Just as `list` in `Python`, but without comma (*','*): values in the list are separeted by space characters (`' '`, `'\\t'`, `'\\n'`, `'\\r'`).\n",
    "\n",
    "For example:\n",
    "\n",
    "    []\n",
    "    [1 2 3]\n",
    "    [\"one\"\n",
    "     \"two\"\n",
    "     \"three\"]"
   ]
  },
  {
   "cell_type": "markdown",
   "metadata": {},
   "source": [
    "### Dict"
   ]
  },
  {
   "cell_type": "markdown",
   "metadata": {},
   "source": [
    "**Dict** represents an unordered collection of *key* : *value* pairs. Just as *dict* in **python** and *associative array* in **javascript**, but also without comma (*','*): `key:value` pairs in the dict are separeted by space characters Keys are always *strings* or *identifiers*.\n",
    "\n",
    "For example:\n",
    "\n",
    "    {}\n",
    "    {\"one\":1 \"two\":2 \"three\":3}\n",
    "    {one: 1 two: 2 three: 3}\n",
    "    {\n",
    "      one: 1\n",
    "      two: 2\n",
    "      three: 3\n",
    "    }\n"
   ]
  },
  {
   "cell_type": "markdown",
   "metadata": {},
   "source": [
    "### Tuple"
   ]
  },
  {
   "cell_type": "markdown",
   "metadata": {},
   "source": [
    "**Tuple** represents *n-tuples* of values. Just like in `python` too, but without comma between values: values are separated by space characters. For example:\n",
    "\n",
    "    ()\n",
    "    (1 2 3)\n",
    "    (\"one\"\n",
    "     \"two\"\n",
    "     \"three\")"
   ]
  },
  {
   "cell_type": "markdown",
   "metadata": {},
   "source": [
    "## Named complex values"
   ]
  },
  {
   "cell_type": "markdown",
   "metadata": {},
   "source": [
    "All named complex values has both *expression* based and *statement* based notation."
   ]
  },
  {
   "cell_type": "markdown",
   "metadata": {},
   "source": [
    "### Node"
   ]
  },
  {
   "cell_type": "markdown",
   "metadata": {},
   "source": [
    "*Node* is an analog of `XML` `Element` in [XML Infoset model](www.w3.com/xml/infoset).\n",
    "\n",
    "For example:\n",
    "\n",
    "```\n",
    "# compact expression form\n",
    "color {r:64 g:32 b:16}\n",
    "# formatted expression form\n",
    "color {\n",
    "    r: 64\n",
    "    g: 32\n",
    "    b: 16\n",
    "}\n",
    "# statement form\n",
    "color\n",
    "    r: 64\n",
    "    g: 32\n",
    "    b: 16\n",
    "```"
   ]
  },
  {
   "cell_type": "code",
   "execution_count": null,
   "metadata": {
    "collapsed": false
   },
   "outputs": [],
   "source": []
  }
 ],
 "metadata": {
  "kernelspec": {
   "display_name": "Python 3",
   "language": "python",
   "name": "python3"
  },
  "language_info": {
   "codemirror_mode": {
    "name": "ipython",
    "version": 3
   },
   "file_extension": ".py",
   "mimetype": "text/x-python",
   "name": "python",
   "nbconvert_exporter": "python",
   "pygments_lexer": "ipython3",
   "version": "3.4.3"
  }
 },
 "nbformat": 4,
 "nbformat_minor": 0
}
