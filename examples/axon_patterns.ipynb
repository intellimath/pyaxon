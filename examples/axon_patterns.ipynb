{
 "metadata": {
  "name": ""
 },
 "nbformat": 3,
 "nbformat_minor": 0,
 "worksheets": [
  {
   "cells": [
    {
     "cell_type": "heading",
     "level": 1,
     "metadata": {},
     "source": [
      "AXON: Data Patterns"
     ]
    },
    {
     "cell_type": "code",
     "collapsed": false,
     "input": [
      "from __future__ import unicode_literals, print_function\n",
      "from axon.api import loads, dumps"
     ],
     "language": "python",
     "metadata": {},
     "outputs": [],
     "prompt_number": 1
    },
    {
     "cell_type": "markdown",
     "metadata": {},
     "source": [
      "``AXON`` represents data with the help of compositions of several patterns of structuring and notation of data."
     ]
    },
    {
     "cell_type": "heading",
     "level": 2,
     "metadata": {},
     "source": [
      "Data Structures"
     ]
    },
    {
     "cell_type": "markdown",
     "metadata": {},
     "source": [
      "There are *atomic values* at the bottom level: *unicode strings*, *integers*, *floats*, *decimals*, *dates/times*, *boolean* and *binary data* in `base64` encoding.\n",
      "\n",
      "Complex data structures represented in ``AXON`` as compositions of *anonymous* and *named* data structures."
     ]
    },
    {
     "cell_type": "markdown",
     "metadata": {},
     "source": [
      "*Anonymous* data structures are *dicts*, *lists*, *tuples* and *sets*:\n",
      "\n",
      "  * **dict** is unordered collection of `key`:`value` pairs.\n",
      "  * **list** is ordered collection of values.\n",
      "  * **tuple** is fixed ordered collection of values."
     ]
    },
    {
     "cell_type": "markdown",
     "metadata": {},
     "source": [
      "``AXON`` bases on two notions: **value** and **named value**. The last is a **value** with a **name**.\n",
      "\n",
      "There are two kind of named values: *attributes* and *named complex values*. Attributes are always \"lives\" inside of named complex values."
     ]
    },
    {
     "cell_type": "markdown",
     "metadata": {},
     "source": [
      "*Named* data structures has a ``name``. There are several kind of them:\n",
      "\n",
      "  * **empty** is a named structure.\n",
      "  * **mapping** is a named **dict**, where `key:value` pairs are considered as attributes.\n",
      "  * **sequence** is a named **list**. \n",
      "  * **element** is a **mapping** with additional **list** of child values. \n",
      "  * **instance** is named **tuple** with additional **dict** of optional named values. "
     ]
    },
    {
     "cell_type": "markdown",
     "metadata": {},
     "source": [
      "``AXON`` uses two kind of syntax for notation of named complex data:\n",
      "\n",
      "* *expression* form\n",
      "* *statement* form"
     ]
    },
    {
     "cell_type": "markdown",
     "metadata": {},
     "source": [
      "In *expression* form `{` and `}` are used as markers for begining and ending of complex structure's contents (as that used in ``JSON``).\n",
      "\n",
      "    # compact form\n",
      "    person {name:\"Andrew\" age:27}\n",
      "    # formatted form\n",
      "    person {\n",
      "        name: \"Andrew\"\n",
      "        age: 27\n",
      "    }\n",
      "\n",
      "    # compact form\n",
      "    collection{item{id:1 val:12} item{id:2 val:24} item{id:3 val:48}\n",
      "    # formatted form\n",
      "    collection {\n",
      "        item {\n",
      "            id: 1\n",
      "            val: 12 }\n",
      "        item {\n",
      "            id: 2\n",
      "            val: 24}\n",
      "        item {\n",
      "            id: 3\n",
      "            val: 48}\n",
      "\n",
      "> Spaces and line breaks are free."
     ]
    },
    {
     "cell_type": "markdown",
     "metadata": {},
     "source": [
      "In *statement* form the *same indentation* uses for defining contents boundaries of the named complex structure (as in `Python` and `YAML`):\n",
      "\n",
      "    person:\n",
      "        name: \"Matthew\"\n",
      "        age: 27\n",
      "\n",
      "    collection:\n",
      "        item:\n",
      "            id: 1\n",
      "            val: 12\n",
      "        item:\n",
      "            id: 2\n",
      "            val: 24\n",
      "        item:\n",
      "            id: 3\n",
      "            val: 48\n",
      "\n",
      "> Same indentation level of the inner content of complex value is required."
     ]
    },
    {
     "cell_type": "heading",
     "level": 2,
     "metadata": {},
     "source": [
      "Anonymous complex values"
     ]
    },
    {
     "cell_type": "markdown",
     "metadata": {},
     "source": [
      "There are two pattern that used both in `JSON` and `XON`. These are **list** (**array** in `JSON`) and **dict** (**object** in `JSON`).\n",
      "\n",
      "Additional **tuple** is supposed to represent *n-tuples* of values: pairs, triples, quads, ...\n",
      "In contrast to **list**, **tuple** is a *fixed ordered set* of values."
     ]
    },
    {
     "cell_type": "heading",
     "level": 3,
     "metadata": {},
     "source": [
      "List"
     ]
    },
    {
     "cell_type": "markdown",
     "metadata": {},
     "source": [
      "**List** represents a sequence of values. Just as `list` in `Python`, but without comma (*','*): values in the list are separeted by space characters (`' '`, `'\\t'`, `'\\n'`, `'\\r'`).\n",
      "\n",
      "For example:\n",
      "\n",
      "    []\n",
      "    [1 2 3]\n",
      "    [\"one\"\n",
      "     \"two\"\n",
      "     \"three\"]"
     ]
    },
    {
     "cell_type": "heading",
     "level": 3,
     "metadata": {},
     "source": [
      "Dict"
     ]
    },
    {
     "cell_type": "markdown",
     "metadata": {},
     "source": [
      "**Dict** represents an unordered collection of *key* : *value* pairs. Just as *dict* in **python** and *associative array* in **javascript**, but also without comma (*','*): `key:value` pairs in the dict are separeted by space characters Keys are always *strings* or *identifiers*.\n",
      "\n",
      "For example:\n",
      "\n",
      "    {}\n",
      "    {\"one\":1 \"two\":2 \"three\":3}\n",
      "    {one: 1 two: 2 three: 3}\n",
      "    {\n",
      "      one: 1\n",
      "      two: 2\n",
      "      three: 3\n",
      "    }\n"
     ]
    },
    {
     "cell_type": "heading",
     "level": 3,
     "metadata": {},
     "source": [
      "Tuple"
     ]
    },
    {
     "cell_type": "markdown",
     "metadata": {},
     "source": [
      "**Tuple** represents *n-tuples* of values. Just like in `python` too, but without comma between values: values are separated by space characters. For example:\n",
      "\n",
      "    ()\n",
      "    (1 2 3)\n",
      "    (\"one\"\n",
      "     \"two\"\n",
      "     \"three\")"
     ]
    },
    {
     "cell_type": "heading",
     "level": 2,
     "metadata": {},
     "source": [
      "Named complex values"
     ]
    },
    {
     "cell_type": "markdown",
     "metadata": {},
     "source": [
      "All named complex values has both *expression* based and *statement* based notation."
     ]
    },
    {
     "cell_type": "heading",
     "level": 3,
     "metadata": {},
     "source": [
      "Mapping"
     ]
    },
    {
     "cell_type": "markdown",
     "metadata": {},
     "source": [
      "*Mapping* is a named **dict**, where keys are considered as attribute names. Just as a class instance in ``python`` language, where name is a class name and dict is an instance's ``__dict__`` that contains instance attributes. It's also can be considered as *element* node in ``XML`` that contains only attributes and contains no subnodes. It useful for representation both data and document oriented data structures.\n",
      "\n",
      "For example:\n",
      "\n",
      "    # compact expression form\n",
      "    color {r:64 g:32 b:16}\n",
      "\n",
      "    # formatted expression form\n",
      "    color {\n",
      "        r: 64\n",
      "        g: 32\n",
      "        b: 16\n",
      "    }\n",
      "\n",
      "    # statement form\n",
      "    color:\n",
      "        r: 64\n",
      "        g: 32\n",
      "        b: 16\n"
     ]
    },
    {
     "cell_type": "heading",
     "level": 3,
     "metadata": {},
     "source": [
      "Element"
     ]
    },
    {
     "cell_type": "markdown",
     "metadata": {},
     "source": [
      "**Element** is a **mapping** with child list of any values. Just as an *element* node  in ``XML`` that contains both attributes and subnodes. It useful for representation hierarchical and  document oriented data structures.\n",
      "\n",
      "For example:\n",
      "\n",
      "    # expression compact form\n",
      "    node{id:1 node{id:2 val:\"abc\"} node{id:3 val:\"def\"} node{id:4 val:\"xyz\"}}\n",
      "\n",
      "    # expression formatted form\n",
      "    node {\n",
      "        id: 1\n",
      "        node {\n",
      "            id: 2\n",
      "            val: \"abc\"\n",
      "        }\n",
      "        node {\n",
      "            id: 3\n",
      "            val: \"def\"\n",
      "        }\n",
      "        node {\n",
      "            id: 4\n",
      "            val: \"xyz\"\n",
      "        }\n",
      "    }\n",
      "\n",
      "    # statement form\n",
      "    node:\n",
      "        id: 1\n",
      "        node:\n",
      "            id: 2\n",
      "            val: \"abc\"\n",
      "        node:\n",
      "            id: 3\n",
      "            val: \"def\"\n",
      "        node:\n",
      "            id: 4\n",
      "            val: \"xyz\"\n"
     ]
    },
    {
     "cell_type": "heading",
     "level": 3,
     "metadata": {},
     "source": [
      "Sequence"
     ]
    },
    {
     "cell_type": "markdown",
     "metadata": {},
     "source": [
      "**Sequence** is a named list of any values. Just as *element* node in ``XML`` tha contains only subnodes and contains no attributes.\n",
      "\n",
      "For example:\n",
      "\n",
      "    # expression compact form\n",
      "    record{id{1} date{2013-12-31} time{12:30} f1{12.2} f2{2.5} f3{-0.2}}\n",
      "\n",
      "    # expression formatted form\n",
      "    record {\n",
      "        id {1}\n",
      "        date {2013-12-31}\n",
      "        time {12:30}\n",
      "        f1 { 12.2 }\n",
      "        f2 { 2.5 }\n",
      "        f3 { -0.2 }\n",
      "    }\n",
      "\n",
      "    # mixed statement/expression form\n",
      "    record:\n",
      "        id {1}\n",
      "        date {2013-12-31}\n",
      "        time {12:30}\n",
      "        f1 { 12.2 }\n",
      "        f2 { 2.5 }\n",
      "        f3 { -0.2 }\n"
     ]
    },
    {
     "cell_type": "heading",
     "level": 3,
     "metadata": {},
     "source": [
      "Instance"
     ]
    },
    {
     "cell_type": "markdown",
     "metadata": {},
     "source": [
      "**Instance** is a named tuple with child list of values. Just as famous `namedtuple` from `python` language, database *row* with required and optional fields when required fields are specified by values and optional field values are specified by the name and the value."
     ]
    },
    {
     "cell_type": "markdown",
     "metadata": {},
     "source": [
      "For example:\n",
      "\n",
      "    # expression compact form\n",
      "    table{\n",
      "    row{1 2003-12-31 12:30 p1:1.0 p2:2.0}\n",
      "    row{2 2003-12-31 16:30 p1:1.0 p3:-2.0}\n",
      "    row{3 2003-12-31 21:30 p2:1.5}}\n",
      "\n",
      "    # expression formatted form\n",
      "    table {\n",
      "        row { 1 2003-12-31 12:30 p1:1.0 p2:2.0 }\n",
      "        row { 2 2003-12-31 16:30 p1:1.0 p3:-2.0 }\n",
      "        row { 3 2003-12-31 21:30 p2:1.5 }\n",
      "    }\n",
      "\n",
      "    # statement form\n",
      "    table:\n",
      "        row:\n",
      "            1 2003-12-31 12:30 p1:1.0 p2:2.0\n",
      "        row:\n",
      "            2 2003-12-31 16:30 p1:1.0 p3:-2.0\n",
      "        row:\n",
      "            3 2003-12-31 21:30 p2:1.5\n"
     ]
    },
    {
     "cell_type": "code",
     "collapsed": false,
     "input": [],
     "language": "python",
     "metadata": {},
     "outputs": [],
     "prompt_number": 1
    }
   ],
   "metadata": {}
  }
 ]
}