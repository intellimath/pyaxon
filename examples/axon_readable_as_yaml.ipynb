{
 "cells": [
  {
   "cell_type": "markdown",
   "metadata": {},
   "source": [
    "# Isn't AXON as readable as YAML?"
   ]
  },
  {
   "cell_type": "markdown",
   "metadata": {},
   "source": [
    "Let's consider example of `YAML` formatted configuration file:\n",
    "\n",
    "``` yaml\n",
    "application: myapp\n",
    "version: alpha-001\n",
    "runtime: python27\n",
    "api_version: 1\n",
    "threadsafe: true\n",
    "\n",
    "# url handlers\n",
    "handlers:\n",
    "- url: /\n",
    "  script: home.app\n",
    "\n",
    "- url: /index\\.html\n",
    "  script: home.app\n",
    "\n",
    "- url: /stylesheets\n",
    "  static_dir: stylesheets\n",
    "\n",
    "- url: /(.*\\.(gif|png|jpg))\n",
    "  static_files: static/\\1\n",
    "  upload: static/.*\\.(gif|png|jpg)\n",
    "\n",
    "- url: /admin/.*\n",
    "  script: admin.app\n",
    "  login: admin\n",
    "\n",
    "- url: /.*\n",
    "  script: not_found.app\n",
    "```"
   ]
  },
  {
   "cell_type": "code",
   "execution_count": 1,
   "metadata": {
    "collapsed": false
   },
   "outputs": [
    {
     "name": "stdout",
     "output_type": "stream",
     "text": [
      "['/', '/index\\\\.html', '/stylesheets', '/(.*\\\\.(gif|png|jpg))', '/admin/.*', '/.*']\n"
     ]
    }
   ],
   "source": [
    "# print all urls\n",
    "import yaml\n",
    "import io\n",
    "val = yaml.safe_load(io.open(\"example_config.yaml\", \"rt\"))\n",
    "print([entry[\"url\"] for entry in val[\"handlers\"]])"
   ]
  },
  {
   "cell_type": "markdown",
   "metadata": {},
   "source": [
    "In [AXON](http://intellimath.bitbucket.org/axon) it will be formatted as:\n",
    "\n",
    "``` yaml\n",
    "application: \"myapp\"\n",
    "version: \"alpha-001\"\n",
    "runtime: \"python27\"\n",
    "api_version: 1\n",
    "threadsafe: true\n",
    "\n",
    "# url handlers\n",
    "handlers: [\n",
    "  { url: \"/\"\n",
    "    script: \"home.app\" }\n",
    "    \n",
    "  { url: \"/index\\.html\"\n",
    "    script: \"home.app\" }\n",
    "    \n",
    "  { url: \"/stylesheets\"\n",
    "    static_dir: \"stylesheets\" }\n",
    "    \n",
    "  { url: \"/(.*\\.(gif|png|jpg))\"\n",
    "    static_files: \"static/\\1\"\n",
    "    upload: \"static/.*\\.(gif|png|jpg)\" }\n",
    "    \n",
    "  { url: \"/admin/.*\"\n",
    "    script: \"admin.app\"\n",
    "    login: \"admin\" }\n",
    "    \n",
    "  { url: \"/.*\"\n",
    "    script: \"not_found.app\" }\n",
    "]\n",
    "```"
   ]
  },
  {
   "cell_type": "code",
   "execution_count": 2,
   "metadata": {
    "collapsed": false
   },
   "outputs": [
    {
     "name": "stdout",
     "output_type": "stream",
     "text": [
      "['/', '/index\\\\.html', '/stylesheets', '/(.*\\\\.(gif|png|jpg))', '/admin/.*', '/.*']\n"
     ]
    }
   ],
   "source": [
    "# print all urls\n",
    "import axon\n",
    "val = axon.load(\"example_config1.axon\")\n",
    "print([entry[\"url\"] for entry in val[\"handlers\"]])"
   ]
  },
  {
   "cell_type": "markdown",
   "metadata": {
    "collapsed": true
   },
   "source": [
    "With `AXON` it can be also presented in the following form:\n",
    "\n",
    "``` yaml\n",
    "_\n",
    "  application: \"myapp\"\n",
    "  version: \"alpha-001\"\n",
    "  runtime: \"python27\"\n",
    "  api_version: 1\n",
    "  threadsafe: true\n",
    "\n",
    "  # url handlers\n",
    "  handlers\n",
    "    _\n",
    "      url: \"/\"\n",
    "      script: \"home.app\" \n",
    "    _\n",
    "      url: \"/index\\.html\"\n",
    "      script: \"home.app\"\n",
    "    _\n",
    "      url: \"/stylesheets\"\n",
    "      static_dir: \"stylesheets\"\n",
    "    _\n",
    "      url: \"/(.*\\.(gif|png|jpg))\"\n",
    "      static_files: \"static\\1\"\n",
    "      upload: \"static/.*\\.(gif|png|jpg)\"\n",
    "    _\n",
    "      url: \"/admin/.*\"\n",
    "      script: \"admin.app\"\n",
    "      login: \"admin\"\n",
    "    _\n",
    "      url: \"/.*\"\n",
    "      script: \"not_found.app\"\n",
    "```"
   ]
  },
  {
   "cell_type": "code",
   "execution_count": 3,
   "metadata": {
    "collapsed": false
   },
   "outputs": [
    {
     "name": "stdout",
     "output_type": "stream",
     "text": [
      "['/', '/index\\\\.html', '/stylesheets', '/(.*\\\\.(gif|png|jpg))', '/admin/.*', '/.*']\n"
     ]
    }
   ],
   "source": [
    "# print all urls\n",
    "vals = axon.load(\"example_config2.axon\")\n",
    "print([entry.url for entry in vals[0].handlers])"
   ]
  },
  {
   "cell_type": "markdown",
   "metadata": {},
   "source": [
    "Isn't configuration file in `AXON` as readable as in `YAML`?"
   ]
  },
  {
   "cell_type": "code",
   "execution_count": null,
   "metadata": {
    "collapsed": true
   },
   "outputs": [],
   "source": []
  }
 ],
 "metadata": {
  "kernelspec": {
   "display_name": "Python 3",
   "language": "python",
   "name": "python3"
  },
  "language_info": {
   "codemirror_mode": {
    "name": "ipython",
    "version": 3
   },
   "file_extension": ".py",
   "mimetype": "text/x-python",
   "name": "python",
   "nbconvert_exporter": "python",
   "pygments_lexer": "ipython3",
   "version": "3.4.3"
  }
 },
 "nbformat": 4,
 "nbformat_minor": 0
}
