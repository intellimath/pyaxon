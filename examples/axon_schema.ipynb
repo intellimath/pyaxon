{
 "cells": [
  {
   "cell_type": "code",
   "execution_count": 1,
   "metadata": {
    "collapsed": true
   },
   "outputs": [],
   "source": [
    "import axon"
   ]
  },
  {
   "cell_type": "code",
   "execution_count": 3,
   "metadata": {
    "collapsed": false
   },
   "outputs": [],
   "source": [
    "#@axon.schema(\"person\")\n",
    "class SchemaPerson:\n",
    "    #\n",
    "    def mapping_factory(self, attrs):\n",
    "        return Person(\n",
    "                schema_profile.factory(attrs[\"profile\"]),\n",
    "                [schema_post.factory(p) for p in attrs[\"posts\"]])\n",
    "    #\n",
    "    def reduce(self, obj):\n",
    "        return axon.mapping(\"person\", \n",
    "                    {\"profile\":schema_profile.reduce(obj.profile), \n",
    "                     \"posts\":[schema_post.reduce(p) for p in obj.posts]})\n",
    "    \n",
    "                            \n",
    "#@axon.schema(\"post\")\n",
    "class SchemaPost:\n",
    "    #\n",
    "    def factory(self, args):\n",
    "        return Post(*args)\n",
    "    #\n",
    "    def validate(self, post, context):\n",
    "        return post[\"date\"].year > 1900\n",
    "    #\n",
    "    def reduce(self, obj):\n",
    "        return {\"to\":obj.to, \"text\":obj.text, \"date\":obj.date, \"time\":obj.time}\n",
    "    #\n",
    "\n",
    "#@axon.schema(\"profile\")\n",
    "class SchemaProfile:\n",
    "    #\n",
    "    def factory(self, name, age):\n",
    "        return Profile(name, age)\n",
    "    #\n",
    "    def reduce(self, obj):\n",
    "        return {\"name\": obj.name, \"age\":obj.age}\n",
    "    #\n",
    "\n",
    "                    "
   ]
  },
  {
   "cell_type": "code",
   "execution_count": 4,
   "metadata": {
    "collapsed": true
   },
   "outputs": [],
   "source": [
    "text = \"\"\"\n",
    "person {\n",
    "    profile: {\n",
    "        name: \"Alex\"\n",
    "        age: 27    \n",
    "    }\n",
    "    posts: [\n",
    "        {to:\"Frank\" text:\"Hello Frank\" date:2015-04-20 time:12:23:24}\n",
    "        {to:\"Henry\" text:\"How are you\" date:2015-04-20 time:12:26:38}\n",
    "    ]\n",
    "}\n",
    "\"\"\""
   ]
  },
  {
   "cell_type": "code",
   "execution_count": null,
   "metadata": {
    "collapsed": true
   },
   "outputs": [],
   "source": []
  }
 ],
 "metadata": {
  "kernelspec": {
   "display_name": "Python 3",
   "language": "python",
   "name": "python3"
  },
  "language_info": {
   "codemirror_mode": {
    "name": "ipython",
    "version": 3
   },
   "file_extension": ".py",
   "mimetype": "text/x-python",
   "name": "python",
   "nbconvert_exporter": "python",
   "pygments_lexer": "ipython3",
   "version": "3.4.3"
  }
 },
 "nbformat": 4,
 "nbformat_minor": 0
}
