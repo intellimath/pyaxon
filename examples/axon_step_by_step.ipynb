{
 "cells": [
  {
   "cell_type": "markdown",
   "metadata": {},
   "source": [
    "# AXON: Step by step"
   ]
  },
  {
   "cell_type": "code",
   "execution_count": 8,
   "metadata": {
    "collapsed": true
   },
   "outputs": [],
   "source": [
    "import axon\n",
    "from pprint import pprint"
   ]
  },
  {
   "cell_type": "markdown",
   "metadata": {},
   "source": [
    "Load top-level lis of objects:"
   ]
  },
  {
   "cell_type": "code",
   "execution_count": 13,
   "metadata": {
    "collapsed": false
   },
   "outputs": [
    {
     "name": "stdout",
     "output_type": "stream",
     "text": [
      "[{'blue': 64, 'green': 32, 'red': 0},\n",
      " {'blue': 0, 'green': 64, 'red': 32},\n",
      " {'blue': 32, 'green': 0, 'red': 64}]\n",
      "{ blue: 64\n",
      "  green: 32\n",
      "  red: 0}\n",
      "{ blue: 0\n",
      "  green: 64\n",
      "  red: 32}\n",
      "{ blue: 32\n",
      "  green: 0\n",
      "  red: 64}\n"
     ]
    }
   ],
   "source": [
    "text = \"\"\"\n",
    "{red:0 green:32 blue:64}\n",
    "{red:32 green:64 blue:0}\n",
    "{red:64 green:0 blue:32}\n",
    "\"\"\"\n",
    "vals = axon.loads(text)\n",
    "pprint(vals)\n",
    "print(axon.dumps(vals, pretty=1))"
   ]
  },
  {
   "cell_type": "markdown",
   "metadata": {},
   "source": [
    "Load top-level ordered map:"
   ]
  },
  {
   "cell_type": "code",
   "execution_count": 14,
   "metadata": {
    "collapsed": false
   },
   "outputs": [
    {
     "name": "stdout",
     "output_type": "stream",
     "text": [
      "OrderedDict([('a', [1, 2, 3]), ('b', [4, 5, 6]), ('c', [7, 8, 9])])\n",
      "a: [1 2 3]\n",
      "b: [4 5 6]\n",
      "c: [7 8 9]\n"
     ]
    }
   ],
   "source": [
    "text = \"\"\"\n",
    "a: [1 2 3]\n",
    "b: [4 5 6]\n",
    "c: [7 8 9]\n",
    "\"\"\"\n",
    "vals = axon.loads(text)\n",
    "pprint(vals)\n",
    "print(axon.dumps(vals, pretty=1))"
   ]
  },
  {
   "cell_type": "markdown",
   "metadata": {},
   "source": [
    "Load `JSON`-like objects:"
   ]
  },
  {
   "cell_type": "code",
   "execution_count": 16,
   "metadata": {
    "collapsed": false
   },
   "outputs": [
    {
     "name": "stdout",
     "output_type": "stream",
     "text": [
      "{'bool': (True, False),\n",
      " 'decimal': [Decimal('10000'),\n",
      "             Decimal('3.141528'),\n",
      "             Decimal('-0'),\n",
      "             Decimal('NaN'),\n",
      "             Decimal('Infinity'),\n",
      "             Decimal('-Infinity')],\n",
      " 'dict': {'blue': 0, 'green': 32, 'red': 10},\n",
      " 'float': [3.141528, 0, nan, inf, -inf],\n",
      " 'int': [0, 1000, 123456789123456789123456789],\n",
      " 'list': [1, 2, 3],\n",
      " 'node': message{from: 'nick', to: 'mark' 'Hello'},\n",
      " 'odict': OrderedDict([('red', 10), ('green', 32), ('blue', 0)])}\n",
      "{ bool: (true false)\n",
      "  decimal: [10000D 3.141528D -0D ?D ∞D -∞D]\n",
      "  dict: {\n",
      "    blue: 0\n",
      "    green: 32\n",
      "    red: 10}\n",
      "  float: [3.141528 0 ? ∞ -∞]\n",
      "  int: [0 1000 123456789123456789123456789]\n",
      "  list: [1 2 3]\n",
      "  node: message\n",
      "    from: \"nick\"\n",
      "    to: \"mark\"\n",
      "    \"Hello\"\n",
      "  odict: [\n",
      "    blue: 0\n",
      "    green: 32\n",
      "    red: 10]}\n"
     ]
    }
   ],
   "source": [
    "text = \"\"\"\n",
    "{\n",
    "  int: [0 1000 123456789123456789123456789]\n",
    "  float: [3.141528 -0 ? ∞ -∞]\n",
    "  decimal: [10000D 3.141528D -0D ?D ∞D -∞D]\n",
    "  bool: (true false)\n",
    "  dict: {red:10 green:32 blue:0}\n",
    "  odict: [red:10 green:32 blue:0]\n",
    "  list: [1 2 3]\n",
    "  node: message {from:\"nick\" to:\"mark\" \"Hello\"}\n",
    "}\n",
    "\"\"\"\n",
    "vals = axon.loads(text)\n",
    "val = vals[0]\n",
    "pprint(val)\n",
    "print(axon.dumps(vals, pretty=1))"
   ]
  },
  {
   "cell_type": "code",
   "execution_count": null,
   "metadata": {
    "collapsed": true
   },
   "outputs": [],
   "source": []
  }
 ],
 "metadata": {
  "kernelspec": {
   "display_name": "Python 3",
   "language": "python",
   "name": "python3"
  },
  "language_info": {
   "codemirror_mode": {
    "name": "ipython",
    "version": 3
   },
   "file_extension": ".py",
   "mimetype": "text/x-python",
   "name": "python",
   "nbconvert_exporter": "python",
   "pygments_lexer": "ipython3",
   "version": "3.4.3"
  }
 },
 "nbformat": 4,
 "nbformat_minor": 0
}
