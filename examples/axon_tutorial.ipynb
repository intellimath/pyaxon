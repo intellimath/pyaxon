{
 "cells": [
  {
   "cell_type": "markdown",
   "metadata": {},
   "source": [
    "# AXON: Tutorial"
   ]
  },
  {
   "cell_type": "markdown",
   "metadata": {},
   "source": [
    "Let's import inventory for playing with ``AXON`` with ``python``."
   ]
  },
  {
   "cell_type": "code",
   "execution_count": 1,
   "metadata": {
    "collapsed": false
   },
   "outputs": [],
   "source": [
    "from __future__ import unicode_literals, print_function, division\n",
    "from pprint import pprint\n",
    "import axon\n",
    "import json\n",
    "import xml.etree as etree\n",
    "from IPython.display import HTML, display, display_html"
   ]
  },
  {
   "cell_type": "markdown",
   "metadata": {},
   "source": [
    "## JSON is subset of AXON"
   ]
  },
  {
   "cell_type": "markdown",
   "metadata": {},
   "source": [
    "Here is well known example of `JSON` message:"
   ]
  },
  {
   "cell_type": "code",
   "execution_count": 2,
   "metadata": {
    "collapsed": false
   },
   "outputs": [
    {
     "name": "stdout",
     "output_type": "stream",
     "text": [
      "{\r\n",
      "  \"firstName\": \"John\",\r\n",
      "  \"lastName\": \"Smith\",\r\n",
      "  \"age\": 25,\r\n",
      "  \"address\": {\r\n",
      "     \"streetAddress\": \"21 2nd Street\",\r\n",
      "     \"city\": \"New York\",\r\n",
      "     \"state\": \"NY\",\r\n",
      "     \"postalCode\": 10021\r\n",
      "  },\r\n",
      "  \"phoneNumber\": [\r\n",
      "     { \"type\": \"home\",\r\n",
      "       \"number\": \"212 555-1234\"\r\n",
      "     },\r\n",
      "     { \"type\": \"fax\",\r\n",
      "       \"number\": \"646 555-4567\"\r\n",
      "     }\r\n",
      "  ]\r\n",
      "}\r\n"
     ]
    }
   ],
   "source": [
    "!cat basic_sample.json"
   ]
  },
  {
   "cell_type": "code",
   "execution_count": 3,
   "metadata": {
    "collapsed": false
   },
   "outputs": [],
   "source": [
    "json_vals= json.load(open(\"basic_sample.json\"))\n",
    "vals = axon.load(\"basic_sample.json\", json=1)"
   ]
  },
  {
   "cell_type": "markdown",
   "metadata": {},
   "source": [
    "One can see that content of ``json_vals`` and ``axon_vals`` are equal."
   ]
  },
  {
   "cell_type": "code",
   "execution_count": 4,
   "metadata": {
    "collapsed": false
   },
   "outputs": [
    {
     "name": "stdout",
     "output_type": "stream",
     "text": [
      "{'firstName': 'John', 'phoneNumber': [{'number': '212 555-1234', 'type': 'home'}, {'number': '646 555-4567', 'type': 'fax'}], 'address': {'postalCode': 10021, 'streetAddress': '21 2nd Street', 'city': 'New York', 'state': 'NY'}, 'lastName': 'Smith', 'age': 25}\n",
      "{'firstName': 'John', 'phoneNumber': [{'number': '212 555-1234', 'type': 'home'}, {'number': '646 555-4567', 'type': 'fax'}], 'address': {'postalCode': 10021, 'streetAddress': '21 2nd Street', 'city': 'New York', 'state': 'NY'}, 'lastName': 'Smith', 'age': 25}\n"
     ]
    }
   ],
   "source": [
    "print(json_vals)\n",
    "print(vals[0])\n",
    "assert str(json_vals) == str(vals[0])"
   ]
  },
  {
   "cell_type": "markdown",
   "metadata": {},
   "source": [
    "``AXON`` supports more readable and compact form. Any ``JSON`` message can be translated to this form by removing of all ``,`` and ``\"`` around keys that are identifiers:"
   ]
  },
  {
   "cell_type": "code",
   "execution_count": 5,
   "metadata": {
    "collapsed": false
   },
   "outputs": [
    {
     "name": "stdout",
     "output_type": "stream",
     "text": [
      "{ address: {\n",
      "    city: \"New York\"\n",
      "    postalCode: 10021\n",
      "    state: \"NY\"\n",
      "    streetAddress: \"21 2nd Street\"}\n",
      "  age: 25\n",
      "  firstName: \"John\"\n",
      "  lastName: \"Smith\"\n",
      "  phoneNumber: [\n",
      "    { number: \"212 555-1234\"\n",
      "      type: \"home\"}\n",
      "    { number: \"646 555-4567\"\n",
      "      type: \"fax\"}]}\n"
     ]
    }
   ],
   "source": [
    "print(axon.dumps(vals, pretty=1))"
   ]
  },
  {
   "cell_type": "markdown",
   "metadata": {},
   "source": [
    "We'l call these forms as *JSON style* of notation, which bases on compositions of *dicts* and *lists*."
   ]
  },
  {
   "cell_type": "markdown",
   "metadata": {},
   "source": [
    "> For compatibility reasons there is a mode in ``pyaxon`` python library that allow using symbol ``','`` as a separator symbol between values in lists and dicts. In this case almost valid ``JSON`` message can be loaded as well as ``AXON`` message:"
   ]
  },
  {
   "cell_type": "markdown",
   "metadata": {},
   "source": [
    "## AXON as better JSON"
   ]
  },
  {
   "cell_type": "markdown",
   "metadata": {},
   "source": [
    "``AXON`` supports *decimal* numbers, *date/time/datetime* values and *comments*.\n",
    "\n",
    "Let's consider ``AXON`` example &ndash; list of dicts containing decimal, date and time values:"
   ]
  },
  {
   "cell_type": "code",
   "execution_count": 6,
   "metadata": {
    "collapsed": false
   },
   "outputs": [
    {
     "name": "stdout",
     "output_type": "stream",
     "text": [
      "{\r\n",
      "  # first comment\r\n",
      "  date: 2012-12-01\r\n",
      "  time: 12:00\r\n",
      "  debet: 1230$\r\n",
      "  credit: 230$\r\n",
      "}\r\n",
      "{\r\n",
      "  # second comment\r\n",
      "  date: 2012-12-10\r\n",
      "  time: 9:00\r\n",
      "  debet: 2130$\r\n",
      "  credit: 1020$\r\n",
      "}\r\n",
      "{\r\n",
      "  # third comment\r\n",
      "  date: 2012-12-20\r\n",
      "  time: 15:00\r\n",
      "  debet: 230$\r\n",
      "  credit: 1200$\r\n",
      "}\r\n",
      "\r\n"
     ]
    }
   ],
   "source": [
    "!cat better_json.axon"
   ]
  },
  {
   "cell_type": "code",
   "execution_count": 7,
   "metadata": {
    "collapsed": false
   },
   "outputs": [
    {
     "name": "stdout",
     "output_type": "stream",
     "text": [
      "[{'credit': Decimal('230'),\n",
      "  'date': datetime.date(2012, 12, 1),\n",
      "  'debet': Decimal('1230'),\n",
      "  'time': datetime.time(12, 0)},\n",
      " {'credit': Decimal('1020'),\n",
      "  'date': datetime.date(2012, 12, 10),\n",
      "  'debet': Decimal('2130'),\n",
      "  'time': datetime.time(9, 0)},\n",
      " {'credit': Decimal('1200'),\n",
      "  'date': datetime.date(2012, 12, 20),\n",
      "  'debet': Decimal('230'),\n",
      "  'time': datetime.time(15, 0)}]\n"
     ]
    }
   ],
   "source": [
    "vals = axon.load(\"better_json.axon\")\n",
    "pprint(vals)"
   ]
  },
  {
   "cell_type": "markdown",
   "metadata": {},
   "source": [
    "There is compact dump:"
   ]
  },
  {
   "cell_type": "code",
   "execution_count": 8,
   "metadata": {
    "collapsed": false
   },
   "outputs": [
    {
     "name": "stdout",
     "output_type": "stream",
     "text": [
      "{credit:230D date:2012-12-01 debet:1230D time:12:00}\n",
      "{credit:1020D date:2012-12-10 debet:2130D time:09:00}\n",
      "{credit:1200D date:2012-12-20 debet:230D time:15:00}\n"
     ]
    }
   ],
   "source": [
    "print(axon.dumps(vals))"
   ]
  },
  {
   "cell_type": "markdown",
   "metadata": {},
   "source": [
    "There is a dump into formatted form:"
   ]
  },
  {
   "cell_type": "code",
   "execution_count": 9,
   "metadata": {
    "collapsed": false
   },
   "outputs": [
    {
     "name": "stdout",
     "output_type": "stream",
     "text": [
      "{ credit: 230D\n",
      "  date: 2012-12-01\n",
      "  debet: 1230D\n",
      "  time: 12:00}\n",
      "{ credit: 1020D\n",
      "  date: 2012-12-10\n",
      "  debet: 2130D\n",
      "  time: 09:00}\n",
      "{ credit: 1200D\n",
      "  date: 2012-12-20\n",
      "  debet: 230D\n",
      "  time: 15:00}\n"
     ]
    }
   ],
   "source": [
    "print(axon.dumps(vals, pretty=1))"
   ]
  },
  {
   "cell_type": "markdown",
   "metadata": {},
   "source": [
    "There is also parameter ``hsize``. It specifies maximum number of simple data items in a line:"
   ]
  },
  {
   "cell_type": "code",
   "execution_count": 10,
   "metadata": {
    "collapsed": false
   },
   "outputs": [
    {
     "name": "stdout",
     "output_type": "stream",
     "text": [
      "{ credit: 230D\n",
      "  date: 2012-12-01\n",
      "  debet: 1230D\n",
      "  time: 12:00}\n",
      "{ credit: 1020D\n",
      "  date: 2012-12-10\n",
      "  debet: 2130D\n",
      "  time: 09:00}\n",
      "{ credit: 1200D\n",
      "  date: 2012-12-20\n",
      "  debet: 230D\n",
      "  time: 15:00}\n"
     ]
    }
   ],
   "source": [
    "print(axon.dumps(vals, pretty=1, hsize=2))"
   ]
  },
  {
   "cell_type": "markdown",
   "metadata": {},
   "source": [
    "``AXON`` also supports  *reference links* between values in the message. Here is an simple example:"
   ]
  },
  {
   "cell_type": "code",
   "execution_count": 11,
   "metadata": {
    "collapsed": false
   },
   "outputs": [
    {
     "name": "stdout",
     "output_type": "stream",
     "text": [
      "# first leaf with label 1\r\n",
      "&1 {\r\n",
      "  id: 1\r\n",
      "  value: \"A\"\r\n",
      "}\r\n",
      "# second leaf with label 2\r\n",
      "&2 {\r\n",
      "  id: 2\r\n",
      "  value: \"B\"\r\n",
      "}\r\n",
      "# node with childrens\r\n",
      "{\r\n",
      "  id: 3\r\n",
      "  children: [*1 *2]\r\n",
      "}\r\n",
      "\r\n"
     ]
    }
   ],
   "source": [
    "!cat better_json_crossref.axon"
   ]
  },
  {
   "cell_type": "code",
   "execution_count": 12,
   "metadata": {
    "collapsed": false
   },
   "outputs": [
    {
     "name": "stdout",
     "output_type": "stream",
     "text": [
      "[{'id': 1, 'value': 'A'},\n",
      " {'id': 2, 'value': 'B'},\n",
      " {'children': [{'id': 1, 'value': 'A'}, {'id': 2, 'value': 'B'}], 'id': 3}]\n"
     ]
    }
   ],
   "source": [
    "vals = axon.load(\"better_json_crossref.axon\")\n",
    "assert vals[-1]['children'][0] is vals[0]\n",
    "assert vals[-1]['children'][1] is vals[1]\n",
    "pprint(vals)"
   ]
  },
  {
   "cell_type": "code",
   "execution_count": 13,
   "metadata": {
    "collapsed": false
   },
   "outputs": [
    {
     "name": "stdout",
     "output_type": "stream",
     "text": [
      "&1 { id: 1\n",
      "  value: \"A\"}\n",
      "&2 { id: 2\n",
      "  value: \"B\"}\n",
      "{ children: [*1 *2]\n",
      "  id: 3}\n"
     ]
    }
   ],
   "source": [
    "print(axon.dumps(vals, pretty=1, crossref=1, hsize=2))"
   ]
  },
  {
   "cell_type": "markdown",
   "metadata": {},
   "source": [
    "## AXON extends JSON and makes things that XML can"
   ]
  },
  {
   "cell_type": "markdown",
   "metadata": {},
   "source": [
    "### Mapping as sort of named JSON object"
   ]
  },
  {
   "cell_type": "markdown",
   "metadata": {},
   "source": [
    "Let's consider short fragment of ``JSON``:\n",
    "\n",
    "``` json\n",
    "\"name\": {\n",
    "    \"key_1\": \"value_1\", \n",
    "    \"key_2\": \"value_2\"\n",
    "}\n",
    "```    \n",
    "      \n",
    "It can be translated as a value of the attribute ``name`` of some object. But it also can be translated as an object that is constructed from the value \n",
    "\n",
    "``` json\n",
    "{\n",
    "    \"key_1\": \"value_1\", \n",
    "    \"key_2\": \"value_2\"\n",
    "}\n",
    "```\n",
    "\n",
    "using some factory function that corresponds to the tag ``name``.\n",
    "\n",
    "For this kind of use cases there are *mappings* in ``AXON``:\n",
    "\n",
    "``` javascript\n",
    "name {\n",
    "    key_1: \"value_1\" \n",
    "    key_2: \"value_2\"\n",
    "}\n",
    "```    \n",
    "\n",
    "It's also usefull for notation of the object whose type/class is mapped to the ``name``.\n",
    "\n",
    "This kind of notation may be also considered as direct translation of the ``XML`` notation:\n",
    "\n",
    "``` xml\n",
    "<name \n",
    "    key_1=\"value_1\"\n",
    "    key_2=\"value_2\" />\n",
    "```\n",
    "    "
   ]
  },
  {
   "cell_type": "markdown",
   "metadata": {},
   "source": [
    "### Sequence as a sort of named JSON array"
   ]
  },
  {
   "cell_type": "markdown",
   "metadata": {},
   "source": [
    "Let's consider another short fragment of JSON:\n",
    "\n",
    "``` json\n",
    "\"name\": [\n",
    "    «value_1»,\n",
    "    «value_2»\n",
    "]\n",
    "```"
   ]
  },
  {
   "cell_type": "markdown",
   "metadata": {},
   "source": [
    "Some times this form is used for notation of the container of some type that corresponds to the tag ``name``.\n",
    "For this kind of use cases there are *sequences* in AXON:\n",
    "\n",
    "``` javascript\n",
    "tag {\n",
    "    «value_1»\n",
    "    «value_2»\n",
    "}\n",
    "```"
   ]
  },
  {
   "cell_type": "markdown",
   "metadata": {},
   "source": [
    "This kind of notation in ``AXON`` can be considered as translation of the following ``XML`` pattern:\n",
    "\n",
    "``` xml\n",
    "<tag>\n",
    "    «value_1»\n",
    "    «value_2»\n",
    "</tag>\n",
    "```"
   ]
  },
  {
   "cell_type": "markdown",
   "metadata": {},
   "source": [
    "## AXON and XML"
   ]
  },
  {
   "cell_type": "markdown",
   "metadata": {},
   "source": [
    "First basic example of ``JSON`` can be translated to ``AXON`` by following *XML style* of data representation when anonymous structures becames named and subelement is used instead of `key`:`value` or `attribute`:`value` value for some good reasons:"
   ]
  },
  {
   "cell_type": "code",
   "execution_count": 14,
   "metadata": {
    "collapsed": false
   },
   "outputs": [
    {
     "name": "stdout",
     "output_type": "stream",
     "text": [
      "person\n",
      "  firstName: \"John\"\n",
      "  lastName: \"Smith\"\n",
      "  age: 25\n",
      "  address\n",
      "    streetAddress: \"21 2nd Street\"\n",
      "    city: \"New York\"\n",
      "    state: \"NY\"\n",
      "    postalCode: 10021\n",
      "  phoneNumber\n",
      "    type: \"home\"\n",
      "    number: \"212 555-1234\"\n",
      "  phoneNumber\n",
      "    type: \"fax\"\n",
      "    number: \"646 555-4567\"\n"
     ]
    }
   ],
   "source": [
    "vals = axon.load(\"basic_sample.axon\")\n",
    "print(axon.dumps(vals, pretty=1))"
   ]
  },
  {
   "cell_type": "markdown",
   "metadata": {},
   "source": [
    "Here is it's ``XML`` version for comparison:\n",
    "\n",
    "    <person firstName=\"John\" lastName=\"Smith\" age=\"25\">\n",
    "        <address \n",
    "            streetAddress=\"21 2nd Street\" \n",
    "            city=\"New York\"\n",
    "            state=\"NY\"\n",
    "            postalCode=10021 />\n",
    "        <phoneNumber type=\"home\" number=\"212 555-1234\"/>\n",
    "        <phoneNumber type=\"fax\" number=\"646 555-4567\"/>\n",
    "    </person>\n"
   ]
  },
  {
   "cell_type": "markdown",
   "metadata": {},
   "source": [
    "By this way one can support *extensibility* of the representation as ``XML`` does when element is used instead of attribute. In case of ``XML`` this kind of notation is verbose for representation of name/value pair:\n",
    "\n",
    "    <attr>value</attr>\n",
    "\n",
    "But in case of ``AXON`` it isn't:\n",
    "\n",
    "    attr{value}"
   ]
  },
  {
   "cell_type": "markdown",
   "metadata": {},
   "source": [
    "So any ``XML`` element \n",
    "\n",
    "``` xml\n",
    "<ename\n",
    "  attr_1=\"value_m\"\n",
    "  ...\n",
    "  attr_m=\"value_m\">\n",
    "  <subename_1>...</subename_1>\n",
    "  ...\n",
    "  <subename_N>...</subename_N>\n",
    "</ename>\n",
    "```"
   ]
  },
  {
   "cell_type": "markdown",
   "metadata": {},
   "source": [
    "can be easily translated to ``AXON`` notation as follows:\n",
    "\n",
    "``` javascript\n",
    "ename {\n",
    "  attr_1:\"value_m\"\n",
    "  ...\n",
    "  attr_m:\"value_m\"\n",
    "  subename_1 {...}\n",
    "  ...\n",
    "  subename_N {...}\n",
    "}\n",
    "\n",
    "```"
   ]
  },
  {
   "cell_type": "markdown",
   "metadata": {},
   "source": [
    "## AXON formatted and indented form"
   ]
  },
  {
   "cell_type": "markdown",
   "metadata": {},
   "source": [
    "Presented above ``AXON`` forms of messages are *expression based*. It has *compact* and *formatted* form.\n",
    "Compact form uses minimum amount of space:"
   ]
  },
  {
   "cell_type": "code",
   "execution_count": 15,
   "metadata": {
    "collapsed": false
   },
   "outputs": [
    {
     "name": "stdout",
     "output_type": "stream",
     "text": [
      "person{firstName:\"John\" lastName:\"Smith\" age:25 address{streetAddress:\"21 2nd Street\" city:\"New York\" state:\"NY\" postalCode:10021} phoneNumber{type:\"home\" number:\"212 555-1234\"} phoneNumber{type:\"fax\" number:\"646 555-4567\"}}\n"
     ]
    }
   ],
   "source": [
    "print(axon.dumps(vals))"
   ]
  },
  {
   "cell_type": "markdown",
   "metadata": {},
   "source": [
    "Compact form of notation usually as small as many binary serialization formats in the cases when objects contains mostly strings and a few of numbers. "
   ]
  },
  {
   "cell_type": "markdown",
   "metadata": {},
   "source": [
    "Formatted form is used for readability of expresson based format of representation:"
   ]
  },
  {
   "cell_type": "code",
   "execution_count": 16,
   "metadata": {
    "collapsed": false
   },
   "outputs": [
    {
     "name": "stdout",
     "output_type": "stream",
     "text": [
      "person {\n",
      "  firstName: \"John\"\n",
      "  lastName: \"Smith\"\n",
      "  age: 25\n",
      "  address {\n",
      "    streetAddress: \"21 2nd Street\"\n",
      "    city: \"New York\"\n",
      "    state: \"NY\"\n",
      "    postalCode: 10021}\n",
      "  phoneNumber {\n",
      "    type: \"home\"\n",
      "    number: \"212 555-1234\"}\n",
      "  phoneNumber {\n",
      "    type: \"fax\"\n",
      "    number: \"646 555-4567\"}}\n"
     ]
    }
   ],
   "source": [
    "print(axon.dumps(vals, pretty=1, braces=1))"
   ]
  },
  {
   "cell_type": "markdown",
   "metadata": {},
   "source": [
    "Note that one free to use spaces and line breaks between tokens as he want. "
   ]
  },
  {
   "cell_type": "markdown",
   "metadata": {},
   "source": [
    "``AXON`` also supports ``Python`` inspired *statement based* indented format of the same message:"
   ]
  },
  {
   "cell_type": "code",
   "execution_count": 17,
   "metadata": {
    "collapsed": false
   },
   "outputs": [
    {
     "name": "stdout",
     "output_type": "stream",
     "text": [
      "person\n",
      "  firstName: \"John\"\n",
      "  lastName: \"Smith\"\n",
      "  age: 25\n",
      "  address\n",
      "    streetAddress: \"21 2nd Street\"\n",
      "    city: \"New York\"\n",
      "    state: \"NY\"\n",
      "    postalCode: 10021\n",
      "  phoneNumber\n",
      "    type: \"home\"\n",
      "    number: \"212 555-1234\"\n",
      "  phoneNumber\n",
      "    type: \"fax\"\n",
      "    number: \"646 555-4567\"\n"
     ]
    }
   ],
   "source": [
    "print(axon.dumps(vals, pretty=1))"
   ]
  },
  {
   "cell_type": "markdown",
   "metadata": {},
   "source": [
    "This type of notation is widely used in ``YAML``. In ``AXON`` the *same indentation level* uses to indicate bounds of nested parts of the named block of data."
   ]
  },
  {
   "cell_type": "markdown",
   "metadata": {},
   "source": [
    "## Mix all of them"
   ]
  },
  {
   "cell_type": "markdown",
   "metadata": {},
   "source": [
    "Let's consider ``JSON`` text:\n",
    "\n",
    "    # formatted form\n",
    "    {\"skillz\": {\n",
    "        \"web\": [\n",
    "            {\"name\": \"html\", \"years\": \"5\", \"level\": \"5\"},\n",
    "            {\"name\": \"css\", \"years\": \"3\", \"level\": \"5\"}\n",
    "        ],\n",
    "        \"database\": [\n",
    "            {\"name\": \"sql\", \"years\": \"7\", \"level\": \"4\"}\n",
    "        ]\n",
    "    }}\n",
    "    # compact form\n",
    "    {\"skillz\":{\"web\":[{\"name\":\"html\",\"years\":\"5\",\"level\":\"5\"},\n",
    "    {\"name\":\"css\",\"years\":\"3\",\"level\":\"5\"}],\n",
    "    {\"name\":\"sql\",\"years\": \"7\", \"level\": \"4\"}]}}\n",
    "\n",
    "and it's translation to ``XML``-style representation in ``AXON`` *formatted* form (equal indentation of inner content of complex values is just usefull convention which is not required by syntax of ``AXON``):\n",
    "\n",
    "    # formatted form\n",
    "    skills {\n",
    "        web {\n",
    "            html {years:5 level:5}\n",
    "            css {years:3 level:5}}\n",
    "        \n",
    "        database {\n",
    "            sql {years:7 level:4}}\n",
    "    }\n",
    "    \n",
    "    # compact form\n",
    "    skills{web{html{years:5 level:5}} database{sql{years:7 level:4}}}\n",
    "\n",
    "or in *indented* form (equal indentation of inner content of complex values is required by syntax of ``AXON``):\n",
    "\n",
    "    skills:\n",
    "        web:\n",
    "            html:\n",
    "                years: 5\n",
    "                level: 5\n",
    "            css:\n",
    "                years: 3\n",
    "                level: 5\n",
    "        database:\n",
    "            sql:\n",
    "                years: 7\n",
    "                level: 4\n",
    "\n",
    "\n",
    "One could see that ``XML``-style data representation has advantages over ``JSON``-style in some context. The reverse is also the case.\n",
    "\n",
    "Also one could see that formatted form of data representation has advantages over indented form in some context. The reverse is also the case.\n",
    "\n",
    "More of that: you can **mix** them as you want in handwritten ``AXON`` representation:\n",
    "\n",
    "    skillz {\n",
    "        web:\n",
    "            {name: \"html\"\n",
    "             years: 5 \n",
    "             level: 5}\n",
    "            {name: \"css\"\n",
    "             years: 3\n",
    "             level: 5}\n",
    "        database:\n",
    "            {name: \"sql\"\n",
    "             years: 7\n",
    "             level: 4}\n",
    "    }\n",
    "\n",
    "or\n",
    "\n",
    "    skillz:\n",
    "        web:\n",
    "            {name: \"html\"\n",
    "             years: 5 \n",
    "             level: 5}\n",
    "            {name: \"css\"\n",
    "             years: 3\n",
    "             level: 5}\n",
    "        database:\n",
    "            {name: \"sql\"\n",
    "             years: 7\n",
    "             level: 4}\n",
    "\n",
    "Reference implementation of ``AXON`` in ``python`` dosn't force you to choice one *style* or *form* of data representation over another. You can select them explicitly in ``dump`` call. But by default *compact* form of data representation is used.\n",
    "\n",
    "It's hoped that existance in ``AXON`` of formatted expression based and indented statement based representations will help to combine these two ways of data representation when it's reasonable."
   ]
  },
  {
   "cell_type": "markdown",
   "metadata": {},
   "source": [
    "## Compact, formatted and indented forms"
   ]
  },
  {
   "cell_type": "markdown",
   "metadata": {},
   "source": [
    "As one can see there are three forms of named complex values: *compact*, *formatted* and *indented*.\n",
    "\n",
    "*Compact* form uses no space char after ``:`` and only single space char between values and no space before and after ``{`` and ``}`` in order to eat minimum memory.\n",
    "\n",
    "*Formatted* form is just reformatted compact form for easy reading or writing. In this case additional space characters and line breaks are used for ease of reading.\n",
    "\n",
    "*Indented* form uses only indentation (no ``{}``) in order to mark boundaries of the named complex structure's content. In this case indentations are mandatory. If attribute or data item into the complex structure have to begin with a new line then it have to start at the same indentation level. This similar to syntax of ``Python`` statements and ``YAML`` notation for structured content.\n",
    "\n",
    "Dumping of data in ``AXON`` are always in compact form by default. Formatted and indented forms are matter of explicit choice. Thay also matter of taste or other good reasons.\n",
    "\n",
    "Loader of ``AXON`` text representation processes all of these forms."
   ]
  },
  {
   "cell_type": "markdown",
   "metadata": {},
   "source": [
    "For example, consider ``JSON``-style representation of complex structure in formatted form:\n",
    "\n",
    "    { store: {\n",
    "        book: [ \n",
    "          { category: \"reference\"\n",
    "            author: \"Nigel Rees\"\n",
    "            title: \"Sayings of the Century\"\n",
    "            price: 8.95\n",
    "          }\n",
    "          { category: \"fiction\"\n",
    "            author: \"Evelyn Waugh\"\n",
    "            title: \"Sword of Honour\"\n",
    "            price: 12.99\n",
    "          }\n",
    "          { category: \"fiction\"\n",
    "            author: \"Herman Melville\"\n",
    "            title: \"Moby Dick\"\n",
    "            isbn: \"0-553-21311-3\"\n",
    "            price: 8.99\n",
    "          }\n",
    "          { category: \"fiction\"\n",
    "            author: \"J. R. R. Tolkien\"\n",
    "            title: \"The Lord of the Rings\"\n",
    "            isbn: \"0-395-19395-8\"\n",
    "            price: 22.99\n",
    "          }\n",
    "        ]\n",
    "        bicycle: {\n",
    "            color: \"red\"\n",
    "            price: 19.95\n",
    "        }\n",
    "      }\n",
    "    }"
   ]
  },
  {
   "cell_type": "markdown",
   "metadata": {},
   "source": [
    "There is ``XML``-style representation of same structure in formatted form:\n",
    "\n",
    "    store {\n",
    "        book { \n",
    "            category: \"reference\"\n",
    "            author: \"Nigel Rees\"\n",
    "            title: \"Sayings of the Century\"\n",
    "            price: 8.95\n",
    "        }\n",
    "        book { \n",
    "            category: \"fiction\"\n",
    "            author: \"Evelyn Waugh\"\n",
    "            title: \"Sword of Honour\"\n",
    "            price: 12.99\n",
    "        }\n",
    "        book { \n",
    "            category: \"fiction\"\n",
    "            author: \"Herman Melville\"\n",
    "            title: \"Moby Dick\"\n",
    "            isbn: \"0-553-21311-3\"\n",
    "            price: 8.99\n",
    "        }\n",
    "        book { \n",
    "            category: \"fiction\"\n",
    "            author: \"J. R. R. Tolkien\"\n",
    "            title: \"The Lord of the Rings\"\n",
    "            isbn: \"0-395-19395-8\"\n",
    "            price: 22.99\n",
    "        }\n",
    "        bicycle {\n",
    "            color: \"red\"\n",
    "            price: 19.95\n",
    "        }\n",
    "    }"
   ]
  },
  {
   "cell_type": "markdown",
   "metadata": {},
   "source": [
    "and in indented form:\n",
    "\n",
    "    store:\n",
    "        book:\n",
    "            category: \"reference\"\n",
    "            author: \"Nigel Rees\"\n",
    "            title: \"Sayings of the Century\"\n",
    "            price: 8.95\n",
    "        book:\n",
    "            category: \"fiction\"\n",
    "            author: \"Evelyn Waugh\"\n",
    "            title: \"Sword of Honour\"\n",
    "            price: 12.99\n",
    "        book:\n",
    "            category: \"fiction\"\n",
    "            author: \"Herman Melville\"\n",
    "            title: \"Moby Dick\"\n",
    "            isbn: \"0-553-21311-3\"\n",
    "            price: 8.99\n",
    "        book:\n",
    "            category: \"fiction\"\n",
    "            author: \"J. R. R. Tolkien\"\n",
    "            title: \"The Lord of the Rings\"\n",
    "            isbn: \"0-395-19395-8\"\n",
    "            price: 22.99\n",
    "        bicycle:\n",
    "            color: \"red\"\n",
    "            price: 19.95\n"
   ]
  },
  {
   "cell_type": "markdown",
   "metadata": {},
   "source": [
    "Last there is compact form:\n",
    "\n",
    "    store{book{category:\"reference\" author:\"Nigel Rees\" title:\"Sayings of the Century\" price:8.95}\n",
    "    book{category:\"fiction\" author:\"Evelyn Waugh\" title:\"Sword of Honour\" price:12.99}\n",
    "    book{category:\"fiction\" author:\"Herman Melville\" title:\"Moby Dick\" isbn:\"0-553-21311-3\" price:8.99}\n",
    "    book{category:\"fiction\" author:\"J. R. R. Tolkien\" title:\"The Lord of the Rings\" isbn:\"0-395-19395-8\" price:22.99}\n",
    "    bicycle:{color:\"red\" price:19.95}}\n"
   ]
  },
  {
   "cell_type": "markdown",
   "metadata": {},
   "source": [
    "## Mappings: named JSON objects"
   ]
  },
  {
   "cell_type": "markdown",
   "metadata": {},
   "source": [
    "``AXON`` extend `JSON` by allowing using of *named* objects by introducing ``mappings``.\n",
    "\n",
    "``Mappings`` notation is very similar to notation of objects that used for *text format* of ``Google Protocol Buffers``."
   ]
  },
  {
   "cell_type": "markdown",
   "metadata": {},
   "source": [
    "For example:\n",
    "    \n",
    "    # expression formatted form\n",
    "    person {\n",
    "        name: \"John Hunt\"\n",
    "        age: 50\n",
    "        weight: 87.5\n",
    "    }\n",
    "\n",
    "    # statement form\n",
    "    person:\n",
    "        name: \"John Hunt\"\n",
    "        age: 50\n",
    "        weight: 87.5\n"
   ]
  },
  {
   "cell_type": "markdown",
   "metadata": {},
   "source": [
    "## Sequences: named JSON arrays"
   ]
  },
  {
   "cell_type": "markdown",
   "metadata": {},
   "source": [
    "``AXON`` also extend `JSON` by allowing using of *named* arrays. Note that `JSON` arrays are just *lists* in ``AXON``."
   ]
  },
  {
   "cell_type": "markdown",
   "metadata": {},
   "source": [
    "For example:\n",
    "    \n",
    "    # compact form\n",
    "    primes { 2 3 5 7 11 13 17 19 23 }\n",
    "    \n",
    "    # mixed form\n",
    "    people {\n",
    "        person:\n",
    "            name: \"John\" \n",
    "            age: 37\n",
    "            sex: \"male\"\n",
    "        person:\n",
    "            name: \"Ann\" \n",
    "            age: 27\n",
    "            sex: \"female\"\n",
    "        person:\n",
    "            name: \"Jane\" \n",
    "            age: 30\n",
    "            sex: \"female\"\n",
    "    }\n"
   ]
  },
  {
   "cell_type": "markdown",
   "metadata": {},
   "source": [
    "## Hierarchical Objects"
   ]
  },
  {
   "cell_type": "markdown",
   "metadata": {},
   "source": [
    "Hierarchical objects in ``AXON`` are objects, which contains sequence of child subobjects. They are represent attributed trees. So they can represent hierarchical data as well as `XML` can."
   ]
  },
  {
   "cell_type": "markdown",
   "metadata": {},
   "source": [
    "For example:\n",
    "\n",
    "    # compact form\n",
    "    tree{node{id:1 node{id:2 leaf{\"Class A\"}} node{id:3 leaf{\"Class B\"}}}}\n",
    "\n",
    "    # formatted expression\n",
    "    tree {\n",
    "       node {\n",
    "          id:1\n",
    "          node {\n",
    "             id:2\n",
    "             leaf { \"Class A\" }\n",
    "          }\n",
    "          node {\n",
    "             id:3\n",
    "             leaf { \"Class B\" }\n",
    "          }\n",
    "       }\n",
    "    }\n",
    "\n",
    "    # statement form\n",
    "    tree:\n",
    "        node:\n",
    "          id:1\n",
    "          node:\n",
    "             id:2\n",
    "             leaf:\n",
    "                \"Class A\"\n",
    "          node:\n",
    "             id:3\n",
    "             leaf:\n",
    "                \"Class B\"\n"
   ]
  },
  {
   "cell_type": "markdown",
   "metadata": {},
   "source": [
    "## AXON for relational data"
   ]
  },
  {
   "cell_type": "markdown",
   "metadata": {},
   "source": [
    "``AXON`` supports using of object references for representation of relational data."
   ]
  },
  {
   "cell_type": "markdown",
   "metadata": {},
   "source": [
    "For example:    \n",
    "\n",
    "    # formatted expression form\n",
    "    graph {\n",
    "        nodes: [\n",
    "            # &1, &2, &3, &4 are labels of the values\n",
    "            &1 node {1 1}\n",
    "            &2 node {1 2}\n",
    "            &3 node {2 2}\n",
    "            &4 node {2 1}\n",
    "        ]\n",
    "        edges: [\n",
    "            # *1, *2, *3, *4 are references of the values\n",
    "            edge {*1 *2}\n",
    "            edge {*1 *3}\n",
    "            edge {*2 *3}\n",
    "            edge {*1 *4}\n",
    "            edge {*3 *4}\n",
    "        ]\n",
    "    }\n",
    "\n",
    "    # statement form\n",
    "    graph:\n",
    "        nodes: [\n",
    "            # 1, 2, 3, 4 are labels of the values\n",
    "            &1 node {1 1}\n",
    "            &2 node {1 2}\n",
    "            &3 node {2 2}\n",
    "            &4 node {2 1}]\n",
    "        edges:\n",
    "            # *1, *2, *3, *4 are references of the values\n",
    "            edge {*1 *2}\n",
    "            edge {*1 *3}\n",
    "            edge {*2 *3}\n",
    "            edge {*1 *4}\n",
    "            edge {*3 *4}]\n"
   ]
  },
  {
   "cell_type": "code",
   "execution_count": null,
   "metadata": {
    "collapsed": false
   },
   "outputs": [],
   "source": []
  }
 ],
 "metadata": {
  "kernelspec": {
   "display_name": "Python 3",
   "language": "python",
   "name": "python3"
  },
  "language_info": {
   "codemirror_mode": {
    "name": "ipython",
    "version": 3
   },
   "file_extension": ".py",
   "mimetype": "text/x-python",
   "name": "python",
   "nbconvert_exporter": "python",
   "pygments_lexer": "ipython3",
   "version": "3.4.3"
  }
 },
 "nbformat": 4,
 "nbformat_minor": 0
}
