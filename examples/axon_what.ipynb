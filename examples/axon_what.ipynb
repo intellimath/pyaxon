{
 "metadata": {
  "name": "",
  "signature": "sha256:1c099873cbd32c85989d74b46ba987735e64e7a55c94df0dbb5f14a569538e80"
 },
 "nbformat": 3,
 "nbformat_minor": 0,
 "worksheets": [
  {
   "cells": [
    {
     "cell_type": "heading",
     "level": 2,
     "metadata": {},
     "source": [
      "AXON: What & why?"
     ]
    },
    {
     "cell_type": "markdown",
     "metadata": {},
     "source": [
      "``AXON`` is an acronym for <code>A</code>n e<code>X</code>tended <code>O</code>bject <code>N</code>otation &ndash; simple text based notation for representation and interchanging of the objects, documents and data."
     ]
    },
    {
     "cell_type": "heading",
     "level": 3,
     "metadata": {},
     "source": [
      "There is an easy &amp; simple JSON. Why yet another object notation?"
     ]
    },
    {
     "cell_type": "markdown",
     "metadata": {},
     "source": [
      "``JSON`` is an excellent object notation for everything that may be represented by superposition of <em>list</em>s and <em>dict</em>s (in *python* viewpoint) or <em>array</em>s and <em>object</em>s (in *javascript* viewpoint). Almost everything can be expressed by this way, but sometimes that adds useless overhead."
     ]
    },
    {
     "cell_type": "markdown",
     "metadata": {},
     "source": [
      "In order to explain let's consider simple ``JSON`` [sample](http://json.org/example.html):\n",
      "\n",
      "    {\"menu\": {\n",
      "      \"id\": \"file\",\n",
      "      \"value\": \"File\",\n",
      "      \"popup\": {\n",
      "        \"menuitem\": [\n",
      "          {\"value\": \"New\", \"onclick\": \"CreateNewDoc()\"},\n",
      "          {\"value\": \"Open\", \"onclick\": \"OpenDoc()\"},\n",
      "          {\"value\": \"Close\", \"onclick\": \"CloseDoc()\"},\n",
      "          null,\n",
      "          {\"value\": \"Exit\", \"onclick\": \"Exit()\"}          \n",
      "        ]\n",
      "      }\n",
      "    }}"
     ]
    },
    {
     "cell_type": "markdown",
     "metadata": {},
     "source": [
      "One can see that the following pattern:\n",
      "\n",
      "    {\"menu\": {\n",
      "        ...\n",
      "    }}\n",
      "\n",
      "in the example is just a way to notate a *named object*.\n",
      "\n",
      "In ``XML`` world this is an element:\n",
      "\n",
      "    <menu ...>\n",
      "        ...\n",
      "    </menu>\n",
      "\n",
      "``AXON`` extend  ``JSON``'s notion of object by a *named object* &ndash; ``mapping`` in current terminology of ``AXON``:\n",
      "\n",
      "    menu {\n",
      "        ...\n",
      "    }\n",
      "\n",
      "One can see that ``AXON`` pattern is more compact and converted into a single *named object* instead of a *proxy object* containing actual object as an attribute."
     ]
    },
    {
     "cell_type": "markdown",
     "metadata": {},
     "source": [
      "Here is another pattern in this sample:\n",
      "\n",
      "    {\"menuitem\": [\n",
      "        {...}\n",
      "        .....\n",
      "        {...}\n",
      "    ]}\n",
      "\n",
      "One can see again that this is a ``JSON``-ish way to represent list of values that correspond to the same tagname.\n",
      "\n",
      "In ``XML`` world this is an element that acts as container:\n",
      "\n",
      "    <menuitem>\n",
      "        ...\n",
      "    </menuitem>\n",
      "\n",
      "``AXON`` can represent this pattern as:\n",
      "\n",
      "    menuitem {\n",
      "    ...\n",
      "    }\n",
      "\n",
      "Last pattern is almost the ``XML``-like representation, but less verbose.\n"
     ]
    },
    {
     "cell_type": "markdown",
     "metadata": {},
     "source": [
      "Let's now consider ``AXON`` version of the example in expression formatted form:\n",
      "\n",
      "    menu { \n",
      "      id: \"file\"\n",
      "      value: \"File\"\n",
      "      popup {\n",
      "        menuitem { \n",
      "            {value: \"New\" onclick: \"CreateNewDoc()\"}\n",
      "            {value: \"Open\" onclick: \"OpenDoc()\"}\n",
      "            {value: \"Close\" onclick: \"CloseDoc()\"}\n",
      "            null\n",
      "            {value: \"Close\" onclick: \"CloseDoc()\"}\n",
      "        }\n",
      "      }\n",
      "    }\n"
     ]
    },
    {
     "cell_type": "markdown",
     "metadata": {},
     "source": [
      "One can see that last ``AXON`` version is almost the ``XML`` version, but with less verbose notation (without closing tags). This is *expression based* notation in ``AXON`` for representation named complex structures. In *statement based* form ``AXON`` representation looks like ``YAML``:\n",
      "\n",
      "    menu: \n",
      "      id: \"file\" \n",
      "      value: \"File\"\n",
      "      popup:\n",
      "        menuitem:\n",
      "          {value: \"New\" onclick: \"CreateNewDoc()\"}\n",
      "          {value: \"Open\" onclick: \"OpenDoc()\"}\n",
      "          {value: \"Close\" onclick: \"CloseDoc()\"}\n",
      "          null\n",
      "          {value: \"Close\" onclick: \"CloseDoc()\"}\n",
      "\n"
     ]
    },
    {
     "cell_type": "markdown",
     "metadata": {},
     "source": [
      "And finally ``JSON`` version may be expressed in ``AXON`` in less verbose form:\n",
      "\n",
      "    {menu: {\n",
      "     id: \"file\" value: \"File\"\n",
      "     popup: {\n",
      "       menuitem: [\n",
      "         {value: \"New\" onclick: \"CreateNewDoc()\"}\n",
      "         {value: \"Open\" onclick: \"OpenDoc()\"}\n",
      "         {value: \"Close\" onclick: \"CloseDoc()\"}\n",
      "     ]}\n",
      "    }}\n",
      "\n",
      "One can see the difference: \n",
      "\n",
      "* no *commas* between values; \n",
      "\n",
      "* no *double quotes*  around indentifier-like keys.\n",
      "\n",
      "There are another reasons to introduce ``AXON``:\n",
      "\n",
      "* to add *decimal*, *datetime* values;\n",
      "* to add support of cross references for representation of complex graphs of data;\n",
      "* add comments."
     ]
    },
    {
     "cell_type": "heading",
     "level": 3,
     "metadata": {},
     "source": [
      "How AXON is related to XML?"
     ]
    },
    {
     "cell_type": "markdown",
     "metadata": {},
     "source": [
      "``AXON`` often looks like ``XML``, but less verbose. Let's consider some examples."
     ]
    },
    {
     "cell_type": "markdown",
     "metadata": {},
     "source": [
      "<table>\n",
      "<tr>\n",
      "<td><pre>\n",
      "&lt;tag a=\"1\" b=\"abc\" c=\"2003-12-01\" /&gt;\n",
      "</pre></td>\n",
      "<td><pre>\n",
      "tag {a:1 b:\"abc\" c:2003-12-01}\n",
      "</pre></td>\n",
      "</tr>\n",
      "<tr>\n",
      "<td><pre>\n",
      "&lt;tag&gt;\n",
      "    &lt;a&gt;1&lt;/a&gt; \n",
      "    &lt;b&gt;abc&lt;/b&gt; \n",
      "    &lt;c&gt;2003-12-01&lt;/c&gt; \n",
      "&lt;/tag&gt;\n",
      "</pre></td>\n",
      "<td><pre>\n",
      "tag {\n",
      "    a{1}\n",
      "    b{\"abc\"}\n",
      "    c{2003-12-01}\n",
      "}\n",
      "</pre></td>\n",
      "</tr>\n",
      "<tr>\n",
      "<td><pre>\n",
      "&lt;tag a=\"1\" b=\"abc\" c=\"2003-12-01\"\n",
      "    &lt;d&gt; ... &lt;/d&gt; \n",
      "    &lt;e&gt; ... &lt;/e&gt; \n",
      "    &lt;f&gt; ... &lt;/f&gt; \n",
      "&lt;/tag&gt;\n",
      "</pre></td>\n",
      "<td><pre>\n",
      "tag {\n",
      "    a:1 b:\"abc\" c:2003-12-01\n",
      "    d { ... }\n",
      "    e { ... }\n",
      "    f { ... }\n",
      "}\n",
      "</pre></td>\n",
      "</tr>    \n",
      "</table>"
     ]
    },
    {
     "cell_type": "markdown",
     "metadata": {},
     "source": [
      "``AXON`` like ``XML`` supports representation of tree-like structures natively by introducing *named complex values*:\n",
      "\n",
      "* ``Empty``\n",
      "* ``Mapping``\n",
      "* ``Sequence``\n",
      "* ``Element``\n",
      "\n",
      "``Empty``:\n",
      "\n",
      "    tag{}\n",
      "\n",
      "* has only a ``name``.\n",
      "\n",
      "It corresponds to XML representation:\n",
      "\n",
      "    <tag />\n",
      "\n",
      "``Mapping``:\n",
      "\n",
      "    tag {\n",
      "        name_1: value_1\n",
      "        ...............\n",
      "        name_m: value_m\n",
      "    }\n",
      "\n",
      "* has a ``name``, \n",
      "\n",
      "* have attributes (``name``:``value`` pairs).\n",
      "\n",
      "It corresponds to XML representation:\n",
      "\n",
      "    <tag name_1=\"value_1\"\n",
      "            ...\n",
      "         name_m=\"value_m\">\n",
      "    </tag>\n",
      "\n",
      "\n",
      "``Sequence``:\n",
      "\n",
      "    tag {\n",
      "        value_1\n",
      "        .......\n",
      "        value_m\n",
      "    }\n",
      "\n",
      "* has a ``name``, \n",
      "\n",
      "* contains values of any kind.\n",
      "\n",
      "It corresponds to ``XML`` representation:\n",
      "\n",
      "    <tag>\n",
      "        <tag_1>\n",
      "            ...\n",
      "        </tag_1>\n",
      "        ...\n",
      "        <tag_N>\n",
      "            ...\n",
      "        </tag_N>\n",
      "    </tag>\n",
      "\n",
      "\n",
      "``Element``:\n",
      "\n",
      "    tag {\n",
      "        name_1: value_1\n",
      "        ...............\n",
      "        name_m: value_m\n",
      "        tag_1 {\n",
      "            ...\n",
      "        }\n",
      "        ...\n",
      "        tag_N {\n",
      "            ...\n",
      "        }\n",
      "    }\n",
      "\n",
      "* has a ``name``, \n",
      "\n",
      "* have attributes (``name``:``value`` pairs) and \n",
      "\n",
      "* contains values of any kind.\n",
      "\n",
      "It corresponds to XML representation:\n",
      "\n",
      "    <tag name_1=\"value_1\"\n",
      "            ...\n",
      "         name_m=\"value_m\">\n",
      "        <tag_1>\n",
      "            ...\n",
      "        </tag_1>\n",
      "        ...\n",
      "        <tag_N>\n",
      "            ...\n",
      "        </tag_N>\n",
      "    </tag>"
     ]
    },
    {
     "cell_type": "heading",
     "level": 4,
     "metadata": {},
     "source": [
      "Why not to translate these XML-ish data to JSON? "
     ]
    },
    {
     "cell_type": "markdown",
     "metadata": {},
     "source": [
      "Yes, you can."
     ]
    },
    {
     "cell_type": "markdown",
     "metadata": {},
     "source": [
      "The mapping\n",
      "\n",
      "    tag {\n",
      "        name_1: value_1\n",
      "        ...............\n",
      "        name_m: value_m\n",
      "    }\n",
      "\n",
      "translates to:\n",
      "\n",
      "    {\"tag\": {\n",
      "        \"name_1\": value_1,\n",
      "        .................,\n",
      "        \"name_m\": value_m\n",
      "    }}"
     ]
    },
    {
     "cell_type": "markdown",
     "metadata": {},
     "source": [
      "The sequence\n",
      "\n",
      "    tag {\n",
      "        value_1\n",
      "        .......\n",
      "        value_m\n",
      "    }\n",
      "\n",
      "translates to:\n",
      "\n",
      "    {\"tag\": [\n",
      "        value_1,\n",
      "        .......,\n",
      "        value_N\n",
      "    ]}"
     ]
    },
    {
     "cell_type": "markdown",
     "metadata": {},
     "source": [
      "The element\n",
      "\n",
      "    tag {\n",
      "        name_1: value_1\n",
      "        ...............\n",
      "        name_m: value_m\n",
      "        tag_1 {\n",
      "            ...\n",
      "        }\n",
      "        ...\n",
      "        tag_N {\n",
      "            ...\n",
      "        }\n",
      "    }\n",
      "\n",
      "translates to:\n",
      "\n",
      "    {\"tag\": [\n",
      "        {\"name_1\": value_1,\n",
      "         .................,\n",
      "         \"name_m\": value_m},\n",
      "        [{\"tag_1\": ...}, \n",
      "          .......,\n",
      "         {\"tag_N\": ...}]\n",
      "    ]}\n",
      "\n",
      "\n",
      "One can see that translation much of ``XML``-ish structures will make things more complex and less readable. \n",
      "\n",
      "There are no ways to avoid this overhead especially if data are simestructured and contains values of many types in different combinations."
     ]
    },
    {
     "cell_type": "code",
     "collapsed": false,
     "input": [],
     "language": "python",
     "metadata": {},
     "outputs": []
    },
    {
     "cell_type": "code",
     "collapsed": false,
     "input": [],
     "language": "python",
     "metadata": {},
     "outputs": []
    },
    {
     "cell_type": "code",
     "collapsed": false,
     "input": [],
     "language": "python",
     "metadata": {},
     "outputs": []
    },
    {
     "cell_type": "code",
     "collapsed": false,
     "input": [],
     "language": "python",
     "metadata": {},
     "outputs": []
    },
    {
     "cell_type": "code",
     "collapsed": false,
     "input": [],
     "language": "python",
     "metadata": {},
     "outputs": []
    },
    {
     "cell_type": "code",
     "collapsed": false,
     "input": [],
     "language": "python",
     "metadata": {},
     "outputs": []
    }
   ],
   "metadata": {}
  }
 ]
}