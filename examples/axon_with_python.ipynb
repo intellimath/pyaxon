{
 "metadata": {
  "name": ""
 },
 "nbformat": 3,
 "nbformat_minor": 0,
 "worksheets": [
  {
   "cells": [
    {
     "cell_type": "markdown",
     "metadata": {},
     "source": [
      "> [**AXON**](http://axon.intellimath.org) is e**X**tended **O**bject **N**otation. It's a simple notation of objects,\n",
      "documents and data. It's also a text based serialization format in first place. \n",
      "It tries to combine the best of [JSON](http://www.json.org), [XML](http://www.w3.org/XML/) and [YAML](http://www.yaml.org)."
     ]
    },
    {
     "cell_type": "markdown",
     "metadata": {},
     "source": [
      "[pyaxon](https://pypi.python.org/pypi/pyaxon) is reference implementation of the library for processing AXON with [python](http://www.python.org)."
     ]
    },
    {
     "cell_type": "markdown",
     "metadata": {},
     "source": [
      "<!-- TEASER_END -->"
     ]
    },
    {
     "cell_type": "code",
     "collapsed": false,
     "input": [
      "from __future__ import print_function\n",
      "from axon import loads, dumps\n",
      "from pprint import pprint"
     ],
     "language": "python",
     "metadata": {},
     "outputs": [],
     "prompt_number": 1
    },
    {
     "cell_type": "markdown",
     "metadata": {},
     "source": [
      "There are two API functions `loads`/`dumps` for loading/dumping from/to unicode string.\n",
      "\n",
      "By default loading and dumping are safe. By the word \"safe\" we mean that there is no user code is executed while loading and dumping. Unicode strings are converted only into python objects of given types. There is \"unsafe\" mode too. It allows to transform unicode string into user defined objects and to dump objects into unicode string under user control. But this is the topic of another post."
     ]
    },
    {
     "cell_type": "heading",
     "level": 3,
     "metadata": {},
     "source": [
      "Simple example"
     ]
    },
    {
     "cell_type": "code",
     "collapsed": false,
     "input": [
      "text = '''\\\n",
      "note {\n",
      "   from: \"Pooh\"\n",
      "   to: \"Bee\"\n",
      "   posted: 2006-08-15T17:30\n",
      "   heading: \"Honey\"\n",
      "   \"Don't forget to get me honey!\" }\n",
      "'''\n",
      "vals = loads(text)"
     ],
     "language": "python",
     "metadata": {},
     "outputs": [],
     "prompt_number": 2
    },
    {
     "cell_type": "markdown",
     "metadata": {},
     "source": [
      "Here `vals` is always *list of objects*."
     ]
    },
    {
     "cell_type": "code",
     "collapsed": false,
     "input": [
      "ob = vals[0]\n",
      "type(ob)"
     ],
     "language": "python",
     "metadata": {},
     "outputs": [
      {
       "metadata": {},
       "output_type": "pyout",
       "prompt_number": 3,
       "text": [
        "axon._objects.Element"
       ]
      }
     ],
     "prompt_number": 3
    },
    {
     "cell_type": "markdown",
     "metadata": {},
     "source": [
      "We see that the message is converted to the instance of class `Element`. Attribute `vals.mapping` is dictionary containing objects's attributes:"
     ]
    },
    {
     "cell_type": "code",
     "collapsed": false,
     "input": [
      "print(type(ob.mapping))\n",
      "print(ob.mapping)"
     ],
     "language": "python",
     "metadata": {},
     "outputs": [
      {
       "output_type": "stream",
       "stream": "stdout",
       "text": [
        "<type 'dict'>\n",
        "{u'to': u'Bee', u'from': u'Pooh', u'heading': u'Honey', u'posted': datetime.datetime(2006, 8, 15, 17, 30)}\n"
       ]
      }
     ],
     "prompt_number": 4
    },
    {
     "cell_type": "markdown",
     "metadata": {},
     "source": [
      "Attributes of the object are accessable by methods `get/set`:"
     ]
    },
    {
     "cell_type": "code",
     "collapsed": false,
     "input": [
      "[(attr, ob.get(attr)) for attr in ob.mapping]"
     ],
     "language": "python",
     "metadata": {},
     "outputs": [
      {
       "metadata": {},
       "output_type": "pyout",
       "prompt_number": 5,
       "text": [
        "[(u'to', u'Bee'),\n",
        " (u'from', u'Pooh'),\n",
        " (u'heading', u'Honey'),\n",
        " (u'posted', datetime.datetime(2006, 8, 15, 17, 30))]"
       ]
      }
     ],
     "prompt_number": 5
    },
    {
     "cell_type": "markdown",
     "metadata": {},
     "source": [
      "`Element` objects has content - list of values. They are accessible by python's sequence protocol. In our case the first value is the message body of the `note`."
     ]
    },
    {
     "cell_type": "code",
     "collapsed": false,
     "input": [
      "print(ob[0])"
     ],
     "language": "python",
     "metadata": {},
     "outputs": [
      {
       "output_type": "stream",
       "stream": "stdout",
       "text": [
        "Don't forget to get me honey!\n"
       ]
      }
     ],
     "prompt_number": 6
    },
    {
     "cell_type": "markdown",
     "metadata": {},
     "source": [
      "For dumping objects there are *three* modes. First mode is *compact*:"
     ]
    },
    {
     "cell_type": "code",
     "collapsed": false,
     "input": [
      "print(dumps([ob]))"
     ],
     "language": "python",
     "metadata": {},
     "outputs": [
      {
       "output_type": "stream",
       "stream": "stdout",
       "text": [
        "note{from:\"Pooh\" heading:\"Honey\" posted:2006-08-15T17:30 to:\"Bee\" \"Don't forget to get me honey!\"}\n"
       ]
      }
     ],
     "prompt_number": 7
    },
    {
     "cell_type": "markdown",
     "metadata": {},
     "source": [
      "Second mode is pretty dumping mode with indentations and without braces:"
     ]
    },
    {
     "cell_type": "code",
     "collapsed": false,
     "input": [
      "print(dumps([ob], pretty=1))"
     ],
     "language": "python",
     "metadata": {},
     "outputs": [
      {
       "output_type": "stream",
       "stream": "stdout",
       "text": [
        "note:\n",
        "  from: \"Pooh\"\n",
        "  heading: \"Honey\"\n",
        "  posted: 2006-08-15T17:30\n",
        "  to: \"Bee\"\n",
        "  \"Don't forget to get me honey!\"\n"
       ]
      }
     ],
     "prompt_number": 8
    },
    {
     "cell_type": "markdown",
     "metadata": {},
     "source": [
      "Third mode is *pretty* dumping mode with *indentation* and *braces*:"
     ]
    },
    {
     "cell_type": "code",
     "collapsed": false,
     "input": [
      "print(dumps([ob], pretty=1, braces=1))"
     ],
     "language": "python",
     "metadata": {},
     "outputs": [
      {
       "output_type": "stream",
       "stream": "stdout",
       "text": [
        "note {\n",
        "  from: \"Pooh\"\n",
        "  heading: \"Honey\"\n",
        "  posted: 2006-08-15T17:30\n",
        "  to: \"Bee\"\n",
        "  \"Don't forget to get me honey!\"}\n"
       ]
      }
     ],
     "prompt_number": 9
    },
    {
     "cell_type": "markdown",
     "metadata": {},
     "source": [
      "At the end let's consider JSON-like representation too:"
     ]
    },
    {
     "cell_type": "code",
     "collapsed": false,
     "input": [
      "text = \"\"\"\\\n",
      "{note: {\n",
      "    from: \"Pooh\"\n",
      "    to: \"Bee\"\n",
      "    posted: 2006-08-15T17:30\n",
      "    heading: \"Honey\"\n",
      "    body: \"Don't forget to get me honey!\"\n",
      "}}\n",
      "\"\"\"\n",
      "vals = loads(text)"
     ],
     "language": "python",
     "metadata": {},
     "outputs": [],
     "prompt_number": 10
    },
    {
     "cell_type": "markdown",
     "metadata": {},
     "source": [
      "It has converted into python dicts:"
     ]
    },
    {
     "cell_type": "code",
     "collapsed": false,
     "input": [
      "pprint(vals)"
     ],
     "language": "python",
     "metadata": {},
     "outputs": [
      {
       "output_type": "stream",
       "stream": "stdout",
       "text": [
        "[{u'note': {u'body': u\"Don't forget to get me honey!\",\n",
        "            u'from': u'Pooh',\n",
        "            u'heading': u'Honey',\n",
        "            u'posted': datetime.datetime(2006, 8, 15, 17, 30),\n",
        "            u'to': u'Bee'}}]\n"
       ]
      }
     ],
     "prompt_number": 14
    },
    {
     "cell_type": "markdown",
     "metadata": {},
     "source": [
      "Compact dump is pretty small in size."
     ]
    },
    {
     "cell_type": "code",
     "collapsed": false,
     "input": [
      "print(dumps(vals))"
     ],
     "language": "python",
     "metadata": {},
     "outputs": [
      {
       "output_type": "stream",
       "stream": "stdout",
       "text": [
        "{note:{body:\"Don't forget to get me honey!\" from:\"Pooh\" heading:\"Honey\" posted:2006-08-15T17:30 to:\"Bee\"}}\n"
       ]
      }
     ],
     "prompt_number": 15
    },
    {
     "cell_type": "markdown",
     "metadata": {},
     "source": [
      "Dumping in pretty mode is also pretty formatted."
     ]
    },
    {
     "cell_type": "code",
     "collapsed": false,
     "input": [
      "print(dumps(vals, pretty=1))"
     ],
     "language": "python",
     "metadata": {},
     "outputs": [
      {
       "output_type": "stream",
       "stream": "stdout",
       "text": [
        "{\n",
        "  note: {\n",
        "    body: \"Don't forget to get me honey!\"\n",
        "    from: \"Pooh\"\n",
        "    heading: \"Honey\"\n",
        "    posted: 2006-08-15T17:30\n",
        "    to: \"Bee\"}}\n"
       ]
      }
     ],
     "prompt_number": 18
    },
    {
     "cell_type": "markdown",
     "metadata": {},
     "source": [
      "> JSON-like objects are pretty dumps only in indented form with braces."
     ]
    },
    {
     "cell_type": "heading",
     "level": 3,
     "metadata": {},
     "source": [
      "JSON-like example"
     ]
    },
    {
     "cell_type": "markdown",
     "metadata": {},
     "source": [
      "Let's consider now JSON-like example with *crossreferences* and *datetimes*:"
     ]
    },
    {
     "cell_type": "code",
     "collapsed": false,
     "input": [
      "text = '''\\\n",
      "{\n",
      "  topic: [\n",
      "     &1 {python: \"Python related\"}\n",
      "     &2 {axon: \"AXON related\"}\n",
      "     &3 {json: \"JSON related\"}\n",
      "  ]\n",
      "  posts: [\n",
      "      { id: 1\n",
      "        topic: *1\n",
      "        date: 2012-01-02T12:15+03 \n",
      "        body:\"...\" }\n",
      "      { id: 2\n",
      "        topic: *2\n",
      "        date: 2012-01-12T09:25+03 \n",
      "        body:\"...\" }\n",
      "      { id: 3\n",
      "        topic: *3\n",
      "        date: 2012-02-08T10:35+03 \n",
      "        body:\"...\" }\n",
      "  ]\n",
      "}\n",
      "'''\n",
      "vals = loads(text)\n",
      "pprint(vals)"
     ],
     "language": "python",
     "metadata": {},
     "outputs": [
      {
       "output_type": "stream",
       "stream": "stdout",
       "text": [
        "[{u'posts': [{u'body': u'...',\n",
        "              u'date': datetime.datetime(2012, 1, 2, 12, 15, tzinfo=timezone(3:00:00)),\n",
        "              u'id': 1,\n",
        "              u'topic': {u'python': u'Python related'}},\n",
        "             {u'body': u'...',\n",
        "              u'date': datetime.datetime(2012, 1, 12, 9, 25, tzinfo=timezone(3:00:00)),\n",
        "              u'id': 2,\n",
        "              u'topic': {u'axon': u'AXON related'}},\n",
        "             {u'body': u'...',\n",
        "              u'date': datetime.datetime(2012, 2, 8, 10, 35, tzinfo=timezone(3:00:00)),\n",
        "              u'id': 3,\n",
        "              u'topic': {u'json': u'JSON related'}}],\n",
        "  u'topic': [{u'python': u'Python related'},\n",
        "             {u'axon': u'AXON related'},\n",
        "             {u'json': u'JSON related'}]}]\n"
       ]
      }
     ],
     "prompt_number": 2
    },
    {
     "cell_type": "markdown",
     "metadata": {},
     "source": [
      "It's easy to see that crossreference links just works:"
     ]
    },
    {
     "cell_type": "code",
     "collapsed": false,
     "input": [
      "assert vals[0]['topic'][0] is vals[0]['posts'][0]['topic']\n",
      "assert vals[0]['topic'][1] is vals[0]['posts'][1]['topic']\n",
      "assert vals[0]['topic'][2] is vals[0]['posts'][2]['topic']"
     ],
     "language": "python",
     "metadata": {},
     "outputs": [],
     "prompt_number": 9
    },
    {
     "cell_type": "markdown",
     "metadata": {},
     "source": [
      "Pretty dump looks like this one:"
     ]
    },
    {
     "cell_type": "code",
     "collapsed": false,
     "input": [
      "print(dumps(vals, pretty=1, crossref=1, sorted=0))"
     ],
     "language": "python",
     "metadata": {},
     "outputs": [
      {
       "output_type": "stream",
       "stream": "stdout",
       "text": [
        "{\n",
        "  topic: [\n",
        "    &1 { python: \"Python related\"}\n",
        "    &2 { axon: \"AXON related\"}\n",
        "    &3 { json: \"JSON related\"}]\n",
        "  posts: [\n",
        "    {\n",
        "      topic: *1\n",
        "      date: 2012-01-02T12:15+03\n",
        "      body: \"...\"\n",
        "      id: 1}\n",
        "    {\n",
        "      topic: *2\n",
        "      date: 2012-01-12T09:25+03\n",
        "      body: \"...\"\n",
        "      id: 2}\n",
        "    {\n",
        "      topic: *3\n",
        "      date: 2012-02-08T10:35+03\n",
        "      body: \"...\"\n",
        "      id: 3}]}\n"
       ]
      }
     ],
     "prompt_number": 7
    },
    {
     "cell_type": "markdown",
     "metadata": {},
     "source": [
      "> Note that `sorted` parameter defines whether to sort keys in dict."
     ]
    },
    {
     "cell_type": "heading",
     "level": 3,
     "metadata": {},
     "source": [
      "XML-like example"
     ]
    },
    {
     "cell_type": "code",
     "collapsed": false,
     "input": [
      "text = '''\\\n",
      "html {\n",
      "   xmlns:\"http://www.w3.org/1999/xhtml\"\n",
      "   head {\n",
      "     title {\"Form Example\"}\n",
      "     link {\n",
      "        rel:\"stylesheet\"\n",
      "        href: \"formstyle.css\"\n",
      "        type: \"text/css\" }}\n",
      "   body {\n",
      "      h1 {\"Form Example\"}\n",
      "      form { \n",
      "         action: \"sample.py\"\n",
      "         div {\n",
      "             class: \"formin\" \n",
      "             \"(a)\"\n",
      "             input {type:\"text\" name:\"text1\" value:\"A textbox\"}}\n",
      "         div {\n",
      "             class: \"formin\"\n",
      "             \"(b)\"\n",
      "             input {type:\"text\" size:6 maxlength:10 name:\"text2\"}}\n",
      "         div {\n",
      "             class: \"formb\"\n",
      "             \"(c)\"\n",
      "             input {type:\"submit\" value:\"Go!\"}}\n",
      "      }\n",
      "   }\n",
      "}\n",
      "'''\n",
      "vals = loads(text)\n",
      "val = vals[0]\n",
      "print(val)"
     ],
     "language": "python",
     "metadata": {},
     "outputs": [
      {
       "output_type": "stream",
       "stream": "stdout",
       "text": [
        "element(u'html', {u'xmlns': u'http://www.w3.org/1999/xhtml'}, [sequence(u'head', [sequence(u'title', [u'Form Example']), mapping(u'link', {u'href': u'formstyle.css', u'type': u'text/css', u'rel': u'stylesheet'})]), sequence(u'body', [sequence(u'h1', [u'Form Example']), element(u'form', {u'action': u'sample.py'}, [element(u'div', {u'class': u'formin'}, [u'(a)', mapping(u'input', {u'type': u'text', u'name': u'text1', u'value': u'A textbox'})]), element(u'div', {u'class': u'formin'}, [u'(b)', mapping(u'input', {u'maxlength': 10, u'type': u'text', u'name': u'text2', u'size': 6})]), element(u'div', {u'class': u'formb'}, [u'(c)', mapping(u'input', {u'type': u'submit', u'value': u'Go!'})])])])])\n"
       ]
      }
     ],
     "prompt_number": 4
    },
    {
     "cell_type": "markdown",
     "metadata": {},
     "source": [
      "Let's examine the value:"
     ]
    },
    {
     "cell_type": "code",
     "collapsed": false,
     "input": [
      "print(type(val))\n",
      "print(val.mapping)\n",
      "head, body = val[0], val[1]"
     ],
     "language": "python",
     "metadata": {},
     "outputs": [
      {
       "output_type": "stream",
       "stream": "stdout",
       "text": [
        "<type 'axon._objects.Element'>\n",
        "{u'xmlns': u'http://www.w3.org/1999/xhtml'}\n"
       ]
      }
     ],
     "prompt_number": 11
    },
    {
     "cell_type": "code",
     "collapsed": false,
     "input": [
      "print(type(head))\n",
      "title, link = head\n",
      "print(title)\n",
      "print(link)"
     ],
     "language": "python",
     "metadata": {},
     "outputs": [
      {
       "output_type": "stream",
       "stream": "stdout",
       "text": [
        "<type 'axon._objects.Sequence'>\n",
        "sequence(u'title', [u'Form Example'])\n",
        "mapping(u'link', {u'href': u'formstyle.css', u'type': u'text/css', u'rel': u'stylesheet'})\n"
       ]
      }
     ],
     "prompt_number": 14
    },
    {
     "cell_type": "code",
     "collapsed": false,
     "input": [
      "h1, form = body\n",
      "print(type(h1))\n",
      "print(h1)"
     ],
     "language": "python",
     "metadata": {},
     "outputs": [
      {
       "output_type": "stream",
       "stream": "stdout",
       "text": [
        "<type 'axon._objects.Sequence'>\n",
        "sequence(u'h1', [u'Form Example'])\n"
       ]
      }
     ],
     "prompt_number": 16
    },
    {
     "cell_type": "code",
     "collapsed": false,
     "input": [
      "print(type(form))\n",
      "print(form.mapping)\n",
      "div1, div2, div3 = form"
     ],
     "language": "python",
     "metadata": {},
     "outputs": [
      {
       "output_type": "stream",
       "stream": "stdout",
       "text": [
        "<type 'axon._objects.Element'>\n",
        "{u'action': u'sample.py'}\n"
       ]
      }
     ],
     "prompt_number": 18
    },
    {
     "cell_type": "code",
     "collapsed": false,
     "input": [
      "print(type(div1))\n",
      "print(div1.mapping)\n",
      "label1, input1 = div1\n",
      "print(label1)\n",
      "print(input1)"
     ],
     "language": "python",
     "metadata": {},
     "outputs": [
      {
       "output_type": "stream",
       "stream": "stdout",
       "text": [
        "<type 'axon._objects.Element'>\n",
        "{u'class': u'formin'}\n",
        "(a)\n",
        "mapping(u'input', {u'type': u'text', u'name': u'text1', u'value': u'A textbox'})\n"
       ]
      }
     ],
     "prompt_number": 22
    },
    {
     "cell_type": "code",
     "collapsed": false,
     "input": [
      "print(type(div2))\n",
      "print(div2.mapping)\n",
      "label2, input2 = div2\n",
      "print(label2)\n",
      "print(input2)"
     ],
     "language": "python",
     "metadata": {},
     "outputs": [
      {
       "output_type": "stream",
       "stream": "stdout",
       "text": [
        "<type 'axon._objects.Element'>\n",
        "{u'class': u'formin'}\n",
        "(b)\n",
        "mapping(u'input', {u'maxlength': 10, u'type': u'text', u'name': u'text2', u'size': 6})\n"
       ]
      }
     ],
     "prompt_number": 23
    },
    {
     "cell_type": "code",
     "collapsed": false,
     "input": [
      "print(type(div3))\n",
      "print(div3.mapping)\n",
      "label3, input3 = div3\n",
      "print(label3)\n",
      "print(input3)"
     ],
     "language": "python",
     "metadata": {},
     "outputs": [
      {
       "output_type": "stream",
       "stream": "stdout",
       "text": [
        "<type 'axon._objects.Element'>\n",
        "{u'class': u'formb'}\n",
        "(c)\n",
        "mapping(u'input', {u'type': u'submit', u'value': u'Go!'})\n"
       ]
      }
     ],
     "prompt_number": 24
    },
    {
     "cell_type": "code",
     "collapsed": false,
     "input": [
      "print(dumps([val], pretty=1))"
     ],
     "language": "python",
     "metadata": {},
     "outputs": [
      {
       "output_type": "stream",
       "stream": "stdout",
       "text": [
        "html:\n",
        "  xmlns: \"http://www.w3.org/1999/xhtml\"\n",
        "  head:\n",
        "    title:\n",
        "      \"Form Example\"\n",
        "    link:\n",
        "      href: \"formstyle.css\"\n",
        "      rel: \"stylesheet\"\n",
        "      type: \"text/css\"\n",
        "  body:\n",
        "    h1:\n",
        "      \"Form Example\"\n",
        "    form:\n",
        "      action: \"sample.py\"\n",
        "      div:\n",
        "        class: \"formin\"\n",
        "        \"(a)\"\n",
        "        input:\n",
        "          name: \"text1\"\n",
        "          type: \"text\"\n",
        "          value: \"A textbox\"\n",
        "      div:\n",
        "        class: \"formin\"\n",
        "        \"(b)\"\n",
        "        input:\n",
        "          maxlength: 10\n",
        "          name: \"text2\"\n",
        "          size: 6\n",
        "          type: \"text\"\n",
        "      div:\n",
        "        class: \"formb\"\n",
        "        \"(c)\"\n",
        "        input:\n",
        "          type: \"submit\"\n",
        "          value: \"Go!\"\n"
       ]
      }
     ],
     "prompt_number": 5
    },
    {
     "cell_type": "code",
     "collapsed": false,
     "input": [
      "print(dumps([val], pretty=1, braces=1))"
     ],
     "language": "python",
     "metadata": {},
     "outputs": [
      {
       "output_type": "stream",
       "stream": "stdout",
       "text": [
        "html {\n",
        "  xmlns: \"http://www.w3.org/1999/xhtml\"\n",
        "  head {\n",
        "    title { \"Form Example\"}\n",
        "    link {\n",
        "      href: \"formstyle.css\"\n",
        "      rel: \"stylesheet\"\n",
        "      type: \"text/css\"}}\n",
        "  body {\n",
        "    h1 { \"Form Example\"}\n",
        "    form {\n",
        "      action: \"sample.py\"\n",
        "      div {\n",
        "        class: \"formin\"\n",
        "        \"(a)\"\n",
        "        input {\n",
        "          name: \"text1\"\n",
        "          type: \"text\"\n",
        "          value: \"A textbox\"}}\n",
        "      div {\n",
        "        class: \"formin\"\n",
        "        \"(b)\"\n",
        "        input {\n",
        "          maxlength: 10\n",
        "          name: \"text2\"\n",
        "          size: 6\n",
        "          type: \"text\"}}\n",
        "      div {\n",
        "        class: \"formb\"\n",
        "        \"(c)\"\n",
        "        input {\n",
        "          type: \"submit\"\n",
        "          value: \"Go!\"}}}}}\n"
       ]
      }
     ],
     "prompt_number": 6
    },
    {
     "cell_type": "heading",
     "level": 3,
     "metadata": {},
     "source": [
      "Dataset example"
     ]
    },
    {
     "cell_type": "markdown",
     "metadata": {},
     "source": [
      "Let's consider simple tabular dataset:"
     ]
    },
    {
     "cell_type": "code",
     "collapsed": false,
     "input": [
      "text = '''\\\n",
      "dataset {\n",
      "   fields: (\"id\" \"date\" \"time\" \"territory_id\" \"A\" \"B\" \"C\")\n",
      "   (1 2012-01-10 12:35 17 3.14 22 33500)\n",
      "   (2 2012-01-11 13:05 27 1.25 32 11500)\n",
      "   (3 2012-01-12 10:45 -17 -2.26 -12 44700)\n",
      "}\n",
      "'''\n",
      "ob = loads(text)[0]\n",
      "print(ob.name)\n",
      "pprint(ob.mapping)\n",
      "pprint(ob.sequence, width=132)\n",
      "print(\"\\nPretty form of dataset:\")\n",
      "print(dumps([ob], pretty=1, hsize=10))\n"
     ],
     "language": "python",
     "metadata": {},
     "outputs": [
      {
       "output_type": "stream",
       "stream": "stdout",
       "text": [
        "dataset\n",
        "{u'fields': (u'id', u'date', u'time', u'territory_id', u'A', u'B', u'C')}\n",
        "[(1, datetime.date(2012, 1, 10), datetime.time(12, 35), 17, 3.14, 22, 33500),\n",
        " (2, datetime.date(2012, 1, 11), datetime.time(13, 5), 27, 1.25, 32, 11500),\n",
        " (3, datetime.date(2012, 1, 12), datetime.time(10, 45), -17, -2.26, -12, 44700)]\n",
        "\n",
        "Pretty form of dataset:\n",
        "dataset:\n",
        "  fields: ( \"id\" \"date\" \"time\" \"territory_id\" \"A\" \"B\" \"C\")\n",
        "  ( 1 2012-01-10 12:35 17 3.14 22 33500)\n",
        "  ( 2 2012-01-11 13:05 27 1.25 32 11500)\n",
        "  ( 3 2012-01-12 10:45 -17 -2.26 -12 44700)\n"
       ]
      }
     ],
     "prompt_number": 20
    },
    {
     "cell_type": "code",
     "collapsed": false,
     "input": [
      "from collections import namedtuple\n",
      "Datarow = namedtuple(\"Datarow\", ob.get(\"fields\"))\n",
      "rows = []\n",
      "for line in ob.sequence:\n",
      "    print(type(line), line)\n",
      "    rows.append(Datarow(*line))\n",
      "print(\"\\n\")\n",
      "for row in rows:\n",
      "    print(type(row), row)"
     ],
     "language": "python",
     "metadata": {},
     "outputs": [
      {
       "output_type": "stream",
       "stream": "stdout",
       "text": [
        "<type 'tuple'> (1, datetime.date(2012, 1, 10), datetime.time(12, 35), 17, 3.14, 22, 33500)\n",
        "<type 'tuple'> (2, datetime.date(2012, 1, 11), datetime.time(13, 5), 27, 1.25, 32, 11500)\n",
        "<type 'tuple'> (3, datetime.date(2012, 1, 12), datetime.time(10, 45), -17, -2.26, -12, 44700)\n",
        "\n",
        "\n",
        "<class '__main__.Datarow'> Datarow(id=1, date=datetime.date(2012, 1, 10), time=datetime.time(12, 35), territory_id=17, A=3.14, B=22, C=33500)\n",
        "<class '__main__.Datarow'> Datarow(id=2, date=datetime.date(2012, 1, 11), time=datetime.time(13, 5), territory_id=27, A=1.25, B=32, C=11500)\n",
        "<class '__main__.Datarow'> Datarow(id=3, date=datetime.date(2012, 1, 12), time=datetime.time(10, 45), territory_id=-17, A=-2.26, B=-12, C=44700)\n"
       ]
      }
     ],
     "prompt_number": 18
    },
    {
     "cell_type": "code",
     "collapsed": false,
     "input": [],
     "language": "python",
     "metadata": {},
     "outputs": []
    }
   ],
   "metadata": {}
  }
 ]
}