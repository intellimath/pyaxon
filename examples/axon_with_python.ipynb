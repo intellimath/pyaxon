{
 "cells": [
  {
   "cell_type": "markdown",
   "metadata": {},
   "source": [
    "> [**AXON**](http://axon.intellimath.org) is e**X**tended **O**bject **N**otation. It's a simple notation of objects,\n",
    "documents and data. It's also a text based serialization format in first place. \n",
    "It tries to combine the best of [JSON](http://www.json.org), [XML](http://www.w3.org/XML/) and [YAML](http://www.yaml.org)."
   ]
  },
  {
   "cell_type": "markdown",
   "metadata": {},
   "source": [
    "[pyaxon](https://pypi.python.org/pypi/pyaxon) is reference implementation of the library for processing AXON with [python](http://www.python.org)."
   ]
  },
  {
   "cell_type": "markdown",
   "metadata": {},
   "source": [
    "<!-- TEASER_END -->"
   ]
  },
  {
   "cell_type": "code",
   "execution_count": 1,
   "metadata": {
    "collapsed": false
   },
   "outputs": [],
   "source": [
    "from __future__ import print_function\n",
    "from axon import loads, dumps\n",
    "from pprint import pprint"
   ]
  },
  {
   "cell_type": "markdown",
   "metadata": {},
   "source": [
    "There are two API functions `loads`/`dumps` for loading/dumping from/to unicode string.\n",
    "\n",
    "By default loading and dumping are safe. By the word \"safe\" we mean that there is no user code is executed while loading and dumping. Unicode strings are converted only into python objects of given types. There is \"unsafe\" mode too. It allows to transform unicode string into user defined objects and to dump objects into unicode string under user control. But this is the topic of another post."
   ]
  },
  {
   "cell_type": "markdown",
   "metadata": {},
   "source": [
    "### Simple example"
   ]
  },
  {
   "cell_type": "code",
   "execution_count": 2,
   "metadata": {
    "collapsed": false
   },
   "outputs": [],
   "source": [
    "text = '''\\\n",
    "note {\n",
    "   from: \"Pooh\"\n",
    "   to: \"Bee\"\n",
    "   posted: 2006-08-15T17:30\n",
    "   heading: \"Honey\"\n",
    "   \"Don't forget to get me honey!\" }\n",
    "'''\n",
    "vals = loads(text)"
   ]
  },
  {
   "cell_type": "markdown",
   "metadata": {},
   "source": [
    "Here `vals` is always *list of objects*."
   ]
  },
  {
   "cell_type": "code",
   "execution_count": 3,
   "metadata": {
    "collapsed": false
   },
   "outputs": [
    {
     "data": {
      "text/plain": [
       "axon._objects.Node"
      ]
     },
     "execution_count": 3,
     "metadata": {},
     "output_type": "execute_result"
    }
   ],
   "source": [
    "ob = vals[0]\n",
    "type(ob)"
   ]
  },
  {
   "cell_type": "markdown",
   "metadata": {},
   "source": [
    "We see that the message is converted to the instance of class `Element`. Attribute `vals.mapping` is dictionary containing objects's attributes:"
   ]
  },
  {
   "cell_type": "code",
   "execution_count": 5,
   "metadata": {
    "collapsed": false
   },
   "outputs": [
    {
     "name": "stdout",
     "output_type": "stream",
     "text": [
      "<class 'axon.odict.OrderedDict'>\n",
      "OrderedDict([('from', 'Pooh'), ('to', 'Bee'), ('posted', datetime.datetime(2006, 8, 15, 17, 30)), ('heading', 'Honey')])\n"
     ]
    }
   ],
   "source": [
    "print(type(ob.__attrs__))\n",
    "print(ob.__attrs__)"
   ]
  },
  {
   "cell_type": "markdown",
   "metadata": {},
   "source": [
    "Attributes of the object are accessable by methods `get/set`:"
   ]
  },
  {
   "cell_type": "code",
   "execution_count": 10,
   "metadata": {
    "collapsed": false
   },
   "outputs": [
    {
     "data": {
      "text/plain": [
       "[('from', 'Pooh'),\n",
       " ('to', 'Bee'),\n",
       " ('posted', datetime.datetime(2006, 8, 15, 17, 30)),\n",
       " ('heading', 'Honey')]"
      ]
     },
     "execution_count": 10,
     "metadata": {},
     "output_type": "execute_result"
    }
   ],
   "source": [
    "[(attr, getattr(ob, attr)) for attr in ob.__attrs__]"
   ]
  },
  {
   "cell_type": "markdown",
   "metadata": {},
   "source": [
    "`Element` objects has content - list of values. They are accessible by python's sequence protocol. In our case the first value is the message body of the `note`."
   ]
  },
  {
   "cell_type": "code",
   "execution_count": 11,
   "metadata": {
    "collapsed": false
   },
   "outputs": [
    {
     "name": "stdout",
     "output_type": "stream",
     "text": [
      "Don't forget to get me honey!\n"
     ]
    }
   ],
   "source": [
    "print(ob[0])"
   ]
  },
  {
   "cell_type": "markdown",
   "metadata": {},
   "source": [
    "For dumping objects there are *three* modes. First mode is *compact*:"
   ]
  },
  {
   "cell_type": "code",
   "execution_count": 12,
   "metadata": {
    "collapsed": false
   },
   "outputs": [
    {
     "name": "stdout",
     "output_type": "stream",
     "text": [
      "note{from:\"Pooh\" to:\"Bee\" posted:2006-08-15T17:30 heading:\"Honey\" \"Don't forget to get me honey!\"}\n"
     ]
    }
   ],
   "source": [
    "print(dumps([ob]))"
   ]
  },
  {
   "cell_type": "markdown",
   "metadata": {},
   "source": [
    "Second mode is pretty dumping mode with indentations and without braces:"
   ]
  },
  {
   "cell_type": "code",
   "execution_count": 13,
   "metadata": {
    "collapsed": false
   },
   "outputs": [
    {
     "name": "stdout",
     "output_type": "stream",
     "text": [
      "note\n",
      "  from: \"Pooh\"\n",
      "  to: \"Bee\"\n",
      "  posted: 2006-08-15T17:30\n",
      "  heading: \"Honey\"\n",
      "  \"Don't forget to get me honey!\"\n"
     ]
    }
   ],
   "source": [
    "print(dumps([ob], pretty=1))"
   ]
  },
  {
   "cell_type": "markdown",
   "metadata": {},
   "source": [
    "Third mode is *pretty* dumping mode with *indentation* and *braces*:"
   ]
  },
  {
   "cell_type": "code",
   "execution_count": 14,
   "metadata": {
    "collapsed": false
   },
   "outputs": [
    {
     "name": "stdout",
     "output_type": "stream",
     "text": [
      "note {\n",
      "  from: \"Pooh\"\n",
      "  to: \"Bee\"\n",
      "  posted: 2006-08-15T17:30\n",
      "  heading: \"Honey\"\n",
      "  \"Don't forget to get me honey!\"}\n"
     ]
    }
   ],
   "source": [
    "print(dumps([ob], pretty=1, braces=1))"
   ]
  },
  {
   "cell_type": "markdown",
   "metadata": {},
   "source": [
    "At the end let's consider `JSON`-like representation too:"
   ]
  },
  {
   "cell_type": "code",
   "execution_count": 16,
   "metadata": {
    "collapsed": false
   },
   "outputs": [],
   "source": [
    "text = \"\"\"\\\n",
    "{note: {\n",
    "    from: \"Pooh\"\n",
    "    to: \"Bee\"\n",
    "    posted: 2006-08-15T17:30\n",
    "    heading: \"Honey\"\n",
    "    body: \"Don't forget to get me honey!\"\n",
    "}}\n",
    "\"\"\"\n",
    "vals = loads(text)"
   ]
  },
  {
   "cell_type": "markdown",
   "metadata": {},
   "source": [
    "It has converted into python dicts:"
   ]
  },
  {
   "cell_type": "code",
   "execution_count": 17,
   "metadata": {
    "collapsed": false
   },
   "outputs": [
    {
     "name": "stdout",
     "output_type": "stream",
     "text": [
      "[{'note': {'body': \"Don't forget to get me honey!\",\n",
      "           'from': 'Pooh',\n",
      "           'heading': 'Honey',\n",
      "           'posted': datetime.datetime(2006, 8, 15, 17, 30),\n",
      "           'to': 'Bee'}}]\n"
     ]
    }
   ],
   "source": [
    "pprint(vals)"
   ]
  },
  {
   "cell_type": "markdown",
   "metadata": {},
   "source": [
    "Compact dump is pretty small in size."
   ]
  },
  {
   "cell_type": "code",
   "execution_count": 18,
   "metadata": {
    "collapsed": false
   },
   "outputs": [
    {
     "name": "stdout",
     "output_type": "stream",
     "text": [
      "{note:{body:\"Don't forget to get me honey!\" from:\"Pooh\" heading:\"Honey\" posted:2006-08-15T17:30 to:\"Bee\"}}\n"
     ]
    }
   ],
   "source": [
    "print(dumps(vals))"
   ]
  },
  {
   "cell_type": "markdown",
   "metadata": {},
   "source": [
    "Dumping in pretty mode is also pretty formatted."
   ]
  },
  {
   "cell_type": "code",
   "execution_count": 19,
   "metadata": {
    "collapsed": false
   },
   "outputs": [
    {
     "name": "stdout",
     "output_type": "stream",
     "text": [
      "{note: {\n",
      "    body: \"Don't forget to get me honey!\"\n",
      "    from: \"Pooh\"\n",
      "    heading: \"Honey\"\n",
      "    posted: 2006-08-15T17:30\n",
      "    to: \"Bee\"}}\n"
     ]
    }
   ],
   "source": [
    "print(dumps(vals, pretty=1))"
   ]
  },
  {
   "cell_type": "markdown",
   "metadata": {},
   "source": [
    "> JSON-like objects are pretty dumps only in indented form with braces."
   ]
  },
  {
   "cell_type": "markdown",
   "metadata": {},
   "source": [
    "### JSON-like example"
   ]
  },
  {
   "cell_type": "markdown",
   "metadata": {},
   "source": [
    "Let's consider now `JSON`-like example with *crossreferences* and *datetimes*:"
   ]
  },
  {
   "cell_type": "code",
   "execution_count": 20,
   "metadata": {
    "collapsed": false
   },
   "outputs": [
    {
     "name": "stdout",
     "output_type": "stream",
     "text": [
      "[{'posts': [{'body': '...',\n",
      "             'date': datetime.datetime(2012, 1, 2, 12, 15, tzinfo=datetime.timezone(datetime.timedelta(0, 10800))),\n",
      "             'id': 1,\n",
      "             'topic': {'python': 'Python related'}},\n",
      "            {'body': '...',\n",
      "             'date': datetime.datetime(2012, 1, 12, 9, 25, tzinfo=datetime.timezone(datetime.timedelta(0, 10800))),\n",
      "             'id': 2,\n",
      "             'topic': {'axon': 'AXON related'}},\n",
      "            {'body': '...',\n",
      "             'date': datetime.datetime(2012, 2, 8, 10, 35, tzinfo=datetime.timezone(datetime.timedelta(0, 10800))),\n",
      "             'id': 3,\n",
      "             'topic': {'json': 'JSON related'}}],\n",
      "  'topic': [{'python': 'Python related'},\n",
      "            {'axon': 'AXON related'},\n",
      "            {'json': 'JSON related'}]}]\n"
     ]
    }
   ],
   "source": [
    "text = '''\\\n",
    "{\n",
    "  topic: [\n",
    "     &1 {python: \"Python related\"}\n",
    "     &2 {axon: \"AXON related\"}\n",
    "     &3 {json: \"JSON related\"}\n",
    "  ]\n",
    "  posts: [\n",
    "      { id: 1\n",
    "        topic: *1\n",
    "        date: 2012-01-02T12:15+03 \n",
    "        body:\"...\" }\n",
    "      { id: 2\n",
    "        topic: *2\n",
    "        date: 2012-01-12T09:25+03 \n",
    "        body:\"...\" }\n",
    "      { id: 3\n",
    "        topic: *3\n",
    "        date: 2012-02-08T10:35+03 \n",
    "        body:\"...\" }\n",
    "  ]\n",
    "}\n",
    "'''\n",
    "vals = loads(text)\n",
    "pprint(vals)"
   ]
  },
  {
   "cell_type": "markdown",
   "metadata": {},
   "source": [
    "It's easy to see that crossreference links just works:"
   ]
  },
  {
   "cell_type": "code",
   "execution_count": 21,
   "metadata": {
    "collapsed": false
   },
   "outputs": [],
   "source": [
    "assert vals[0]['topic'][0] is vals[0]['posts'][0]['topic']\n",
    "assert vals[0]['topic'][1] is vals[0]['posts'][1]['topic']\n",
    "assert vals[0]['topic'][2] is vals[0]['posts'][2]['topic']"
   ]
  },
  {
   "cell_type": "markdown",
   "metadata": {},
   "source": [
    "Pretty dump looks like this one:"
   ]
  },
  {
   "cell_type": "code",
   "execution_count": 22,
   "metadata": {
    "collapsed": false
   },
   "outputs": [
    {
     "name": "stdout",
     "output_type": "stream",
     "text": [
      "{ posts: [\n",
      "    { topic: &1 {python: \"Python related\"}\n",
      "      id: 1\n",
      "      body: \"...\"\n",
      "      date: 2012-01-02T12:15+03}\n",
      "    { topic: &3 {axon: \"AXON related\"}\n",
      "      id: 2\n",
      "      body: \"...\"\n",
      "      date: 2012-01-12T09:25+03}\n",
      "    { topic: &2 {json: \"JSON related\"}\n",
      "      id: 3\n",
      "      body: \"...\"\n",
      "      date: 2012-02-08T10:35+03}]\n",
      "  topic: [*1 *3 *2]}\n"
     ]
    }
   ],
   "source": [
    "print(dumps(vals, pretty=1, crossref=1, sorted=0))"
   ]
  },
  {
   "cell_type": "markdown",
   "metadata": {},
   "source": [
    "> Note that `sorted` parameter defines whether to sort keys in dict."
   ]
  },
  {
   "cell_type": "markdown",
   "metadata": {},
   "source": [
    "### XML-like example"
   ]
  },
  {
   "cell_type": "code",
   "execution_count": 23,
   "metadata": {
    "collapsed": false
   },
   "outputs": [
    {
     "name": "stdout",
     "output_type": "stream",
     "text": [
      "html{xmlns: 'http://www.w3.org/1999/xhtml' head{title{'Form Example'}, link{rel: 'stylesheet', href: 'formstyle.css', type: 'text/css'}}, body{h1{'Form Example'}, form{action: 'sample.py' div{class: 'formin' '(a)', input{type: 'text', name: 'text1', value: 'A textbox'}}, div{class: 'formin' '(b)', input{type: 'text', size: 6, maxlength: 10, name: 'text2'}}, div{class: 'formb' '(c)', input{type: 'submit', value: 'Go!'}}}}}\n"
     ]
    }
   ],
   "source": [
    "text = '''\\\n",
    "html {\n",
    "   xmlns:\"http://www.w3.org/1999/xhtml\"\n",
    "   head {\n",
    "     title {\"Form Example\"}\n",
    "     link {\n",
    "        rel:\"stylesheet\"\n",
    "        href: \"formstyle.css\"\n",
    "        type: \"text/css\" }}\n",
    "   body {\n",
    "      h1 {\"Form Example\"}\n",
    "      form { \n",
    "         action: \"sample.py\"\n",
    "         div {\n",
    "             class: \"formin\" \n",
    "             \"(a)\"\n",
    "             input {type:\"text\" name:\"text1\" value:\"A textbox\"}}\n",
    "         div {\n",
    "             class: \"formin\"\n",
    "             \"(b)\"\n",
    "             input {type:\"text\" size:6 maxlength:10 name:\"text2\"}}\n",
    "         div {\n",
    "             class: \"formb\"\n",
    "             \"(c)\"\n",
    "             input {type:\"submit\" value:\"Go!\"}}\n",
    "      }\n",
    "   }\n",
    "}\n",
    "'''\n",
    "vals = loads(text)\n",
    "val = vals[0]\n",
    "print(val)"
   ]
  },
  {
   "cell_type": "markdown",
   "metadata": {},
   "source": [
    "Let's examine the value:"
   ]
  },
  {
   "cell_type": "code",
   "execution_count": 25,
   "metadata": {
    "collapsed": false
   },
   "outputs": [
    {
     "name": "stdout",
     "output_type": "stream",
     "text": [
      "<class 'axon._objects.Node'>\n",
      "OrderedDict([('xmlns', 'http://www.w3.org/1999/xhtml')])\n"
     ]
    }
   ],
   "source": [
    "print(type(val))\n",
    "print(val.__attrs__)\n",
    "head, body = val[0], val[1]"
   ]
  },
  {
   "cell_type": "code",
   "execution_count": 26,
   "metadata": {
    "collapsed": false
   },
   "outputs": [
    {
     "name": "stdout",
     "output_type": "stream",
     "text": [
      "<class 'axon._objects.Node'>\n",
      "title{'Form Example'}\n",
      "link{rel: 'stylesheet', href: 'formstyle.css', type: 'text/css'}\n"
     ]
    }
   ],
   "source": [
    "print(type(head))\n",
    "title, link = head\n",
    "print(title)\n",
    "print(link)"
   ]
  },
  {
   "cell_type": "code",
   "execution_count": 36,
   "metadata": {
    "collapsed": false
   },
   "outputs": [
    {
     "name": "stdout",
     "output_type": "stream",
     "text": [
      "h1{'Form Example'}\n"
     ]
    }
   ],
   "source": [
    "h1, form = body\n",
    "print(h1)"
   ]
  },
  {
   "cell_type": "code",
   "execution_count": 37,
   "metadata": {
    "collapsed": false
   },
   "outputs": [
    {
     "name": "stdout",
     "output_type": "stream",
     "text": [
      "[div{class: 'formin' '(a)', input{type: 'text', name: 'text1', value: 'A textbox'}}, div{class: 'formin' '(b)', input{type: 'text', size: 6, maxlength: 10, name: 'text2'}}, div{class: 'formb' '(c)', input{type: 'submit', value: 'Go!'}}]\n"
     ]
    }
   ],
   "source": [
    "print(form.__vals__)\n",
    "div1, div2, div3 = form"
   ]
  },
  {
   "cell_type": "code",
   "execution_count": 38,
   "metadata": {
    "collapsed": false
   },
   "outputs": [
    {
     "name": "stdout",
     "output_type": "stream",
     "text": [
      "OrderedDict([('class', 'formin')])\n",
      "(a)\n",
      "input{type: 'text', name: 'text1', value: 'A textbox'}\n"
     ]
    }
   ],
   "source": [
    "print(div1.__attrs__)\n",
    "label1, input1 = div1\n",
    "print(label1)\n",
    "print(input1)"
   ]
  },
  {
   "cell_type": "code",
   "execution_count": 40,
   "metadata": {
    "collapsed": false
   },
   "outputs": [
    {
     "name": "stdout",
     "output_type": "stream",
     "text": [
      "OrderedDict([('class', 'formin')])\n",
      "(b)\n",
      "input{type: 'text', size: 6, maxlength: 10, name: 'text2'}\n"
     ]
    }
   ],
   "source": [
    "print(div2.__attrs__)\n",
    "label2, input2 = div2\n",
    "print(label2)\n",
    "print(input2)"
   ]
  },
  {
   "cell_type": "code",
   "execution_count": 41,
   "metadata": {
    "collapsed": false
   },
   "outputs": [
    {
     "name": "stdout",
     "output_type": "stream",
     "text": [
      "<class 'axon._objects.Node'>\n",
      "OrderedDict([('class', 'formb')])\n",
      "(c)\n",
      "input{type: 'submit', value: 'Go!'}\n"
     ]
    }
   ],
   "source": [
    "print(type(div3))\n",
    "print(div3.__attrs__)\n",
    "label3, input3 = div3\n",
    "print(label3)\n",
    "print(input3)"
   ]
  },
  {
   "cell_type": "code",
   "execution_count": 42,
   "metadata": {
    "collapsed": false
   },
   "outputs": [
    {
     "name": "stdout",
     "output_type": "stream",
     "text": [
      "html\n",
      "  xmlns: \"http://www.w3.org/1999/xhtml\"\n",
      "  head\n",
      "    title\n",
      "      \"Form Example\"\n",
      "    link\n",
      "      rel: \"stylesheet\"\n",
      "      href: \"formstyle.css\"\n",
      "      type: \"text/css\"\n",
      "  body\n",
      "    h1\n",
      "      \"Form Example\"\n",
      "    form\n",
      "      action: \"sample.py\"\n",
      "      div\n",
      "        class: \"formin\"\n",
      "        \"(a)\"\n",
      "        input\n",
      "          type: \"text\"\n",
      "          name: \"text1\"\n",
      "          value: \"A textbox\"\n",
      "      div\n",
      "        class: \"formin\"\n",
      "        \"(b)\"\n",
      "        input\n",
      "          type: \"text\"\n",
      "          size: 6\n",
      "          maxlength: 10\n",
      "          name: \"text2\"\n",
      "      div\n",
      "        class: \"formb\"\n",
      "        \"(c)\"\n",
      "        input\n",
      "          type: \"submit\"\n",
      "          value: \"Go!\"\n"
     ]
    }
   ],
   "source": [
    "print(dumps([val], pretty=1))"
   ]
  },
  {
   "cell_type": "code",
   "execution_count": 43,
   "metadata": {
    "collapsed": false
   },
   "outputs": [
    {
     "name": "stdout",
     "output_type": "stream",
     "text": [
      "html {\n",
      "  xmlns: \"http://www.w3.org/1999/xhtml\"\n",
      "  head {\n",
      "    title {\"Form Example\"}\n",
      "    link {\n",
      "      rel: \"stylesheet\"\n",
      "      href: \"formstyle.css\"\n",
      "      type: \"text/css\"}}\n",
      "  body {\n",
      "    h1 {\"Form Example\"}\n",
      "    form {\n",
      "      action: \"sample.py\"\n",
      "      div {\n",
      "        class: \"formin\"\n",
      "        \"(a)\"\n",
      "        input {\n",
      "          type: \"text\"\n",
      "          name: \"text1\"\n",
      "          value: \"A textbox\"}}\n",
      "      div {\n",
      "        class: \"formin\"\n",
      "        \"(b)\"\n",
      "        input {\n",
      "          type: \"text\"\n",
      "          size: 6\n",
      "          maxlength: 10\n",
      "          name: \"text2\"}}\n",
      "      div {\n",
      "        class: \"formb\"\n",
      "        \"(c)\"\n",
      "        input {\n",
      "          type: \"submit\"\n",
      "          value: \"Go!\"}}}}}\n"
     ]
    }
   ],
   "source": [
    "print(dumps([val], pretty=1, braces=1))"
   ]
  },
  {
   "cell_type": "markdown",
   "metadata": {},
   "source": [
    "### Dataset example"
   ]
  },
  {
   "cell_type": "markdown",
   "metadata": {},
   "source": [
    "Let's consider simple tabular dataset:"
   ]
  },
  {
   "cell_type": "code",
   "execution_count": 44,
   "metadata": {
    "collapsed": false
   },
   "outputs": [
    {
     "name": "stdout",
     "output_type": "stream",
     "text": [
      "dataset\n",
      "OrderedDict([('fields', ('id', 'date', 'time', 'territory_id', 'A', 'B', 'C'))])\n",
      "[(1, datetime.date(2012, 1, 10), datetime.time(12, 35), 17, 3.14, 22, 33500),\n",
      " (2, datetime.date(2012, 1, 11), datetime.time(13, 5), 27, 1.25, 32, 11500),\n",
      " (3, datetime.date(2012, 1, 12), datetime.time(10, 45), -17, -2.26, -12, 44700)]\n",
      "\n",
      "Pretty form of dataset:\n",
      "dataset\n",
      "  fields: (\"id\" \"date\" \"time\" \"territory_id\" \"A\" \"B\" \"C\")\n",
      "  (1 2012-01-10 12:35 17 3.14 22 33500)\n",
      "  (2 2012-01-11 13:05 27 1.25 32 11500)\n",
      "  (3 2012-01-12 10:45 -17 -2.26 -12 44700)\n"
     ]
    }
   ],
   "source": [
    "text = '''\\\n",
    "dataset {\n",
    "   fields: (\"id\" \"date\" \"time\" \"territory_id\" \"A\" \"B\" \"C\")\n",
    "   (1 2012-01-10 12:35 17 3.14 22 33500)\n",
    "   (2 2012-01-11 13:05 27 1.25 32 11500)\n",
    "   (3 2012-01-12 10:45 -17 -2.26 -12 44700)\n",
    "}\n",
    "'''\n",
    "ob = loads(text)[0]\n",
    "print(ob.__tag__)\n",
    "pprint(ob.__attrs__)\n",
    "pprint(ob.__vals__, width=132)\n",
    "print(\"\\nPretty form of dataset:\")\n",
    "print(dumps([ob], pretty=1, hsize=10))\n"
   ]
  },
  {
   "cell_type": "code",
   "execution_count": 47,
   "metadata": {
    "collapsed": false
   },
   "outputs": [
    {
     "name": "stdout",
     "output_type": "stream",
     "text": [
      "<class 'tuple'> (1, datetime.date(2012, 1, 10), datetime.time(12, 35), 17, 3.14, 22, 33500)\n",
      "<class 'tuple'> (2, datetime.date(2012, 1, 11), datetime.time(13, 5), 27, 1.25, 32, 11500)\n",
      "<class 'tuple'> (3, datetime.date(2012, 1, 12), datetime.time(10, 45), -17, -2.26, -12, 44700)\n",
      "\n",
      "\n",
      "<class '__main__.Datarow'> Datarow(id=1, date=datetime.date(2012, 1, 10), time=datetime.time(12, 35), territory_id=17, A=3.14, B=22, C=33500)\n",
      "<class '__main__.Datarow'> Datarow(id=2, date=datetime.date(2012, 1, 11), time=datetime.time(13, 5), territory_id=27, A=1.25, B=32, C=11500)\n",
      "<class '__main__.Datarow'> Datarow(id=3, date=datetime.date(2012, 1, 12), time=datetime.time(10, 45), territory_id=-17, A=-2.26, B=-12, C=44700)\n"
     ]
    }
   ],
   "source": [
    "from collections import namedtuple\n",
    "Datarow = namedtuple(\"Datarow\", ob.fields)\n",
    "rows = []\n",
    "for line in ob:\n",
    "    print(type(line), line)\n",
    "    rows.append(Datarow(*line))\n",
    "print(\"\\n\")\n",
    "for row in rows:\n",
    "    print(type(row), row)"
   ]
  },
  {
   "cell_type": "code",
   "execution_count": null,
   "metadata": {
    "collapsed": false
   },
   "outputs": [],
   "source": []
  }
 ],
 "metadata": {
  "kernelspec": {
   "display_name": "Python 3",
   "language": "python",
   "name": "python3"
  },
  "language_info": {
   "codemirror_mode": {
    "name": "ipython",
    "version": 3
   },
   "file_extension": ".py",
   "mimetype": "text/x-python",
   "name": "python",
   "nbconvert_exporter": "python",
   "pygments_lexer": "ipython3",
   "version": "3.4.3"
  }
 },
 "nbformat": 4,
 "nbformat_minor": 0
}
