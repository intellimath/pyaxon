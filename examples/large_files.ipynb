{
 "metadata": {
  "name": ""
 },
 "nbformat": 3,
 "nbformat_minor": 0,
 "worksheets": [
  {
   "cells": [
    {
     "cell_type": "code",
     "collapsed": false,
     "input": [
      "import axon\n",
      "from xml.etree.cElementTree import ElementTree, Element, parse\n",
      "import json"
     ],
     "language": "python",
     "metadata": {},
     "outputs": [],
     "prompt_number": 1
    },
    {
     "cell_type": "code",
     "collapsed": false,
     "input": [
      "!ls -l data/EPAXML*.*"
     ],
     "language": "python",
     "metadata": {},
     "outputs": [
      {
       "output_type": "stream",
       "stream": "stdout",
       "text": [
        "-rw-r--r--@ 1 sz  staff  186459594  1 \u043d\u043e\u044f 21:45 data/EPAXML.axon\r\n",
        "-rw-r--r--  1 sz  staff   11384371  2 \u043d\u043e\u044f 01:06 data/EPAXML.axon.gz\r\n",
        "-rw-r--r--@ 1 sz  staff  233268372  8 \u043c\u0430\u0440  2013 data/EPAXML.xml\r\n",
        "-rw-r--r--  1 sz  staff   12576825  2 \u043d\u043e\u044f 01:05 data/EPAXML.xml.gz\r\n",
        "-rw-r--r--@ 1 sz  staff  166923140  2 \u043d\u043e\u044f 00:46 data/EPAXML0.axon\r\n",
        "-rw-r--r--  1 sz  staff   10922863  2 \u043d\u043e\u044f 01:06 data/EPAXML0.axon.gz\r\n"
       ]
      }
     ],
     "prompt_number": 2
    },
    {
     "cell_type": "code",
     "collapsed": false,
     "input": [
      "%time xml_root = parse(\"data/EPAXML.xml\")"
     ],
     "language": "python",
     "metadata": {},
     "outputs": [
      {
       "output_type": "stream",
       "stream": "stdout",
       "text": [
        "CPU times: user 3.33 s, sys: 461 ms, total: 3.79 s\n",
        "Wall time: 18.5 s\n"
       ]
      }
     ],
     "prompt_number": 3
    },
    {
     "cell_type": "code",
     "collapsed": false,
     "input": [
      "root = xml_root.getroot()"
     ],
     "language": "python",
     "metadata": {},
     "outputs": [],
     "prompt_number": 4
    },
    {
     "cell_type": "code",
     "collapsed": false,
     "input": [
      "children = root.getchildren()"
     ],
     "language": "python",
     "metadata": {},
     "outputs": [],
     "prompt_number": 5
    },
    {
     "cell_type": "code",
     "collapsed": false,
     "input": [
      "@axon.reduce(type(Element('a')))\n",
      "def element_reduce(elem):\n",
      "    children = elem.getchildren()\n",
      "    if elem.attrib:\n",
      "        if children:\n",
      "            return axon.element(elem.tag, elem.attrib, children)\n",
      "        else:\n",
      "            return axon.mapping(elem.tag, elem.attrib)\n",
      "    elif children:\n",
      "            return axon.sequence(elem.tag, children)\n",
      "    elif elem.text:\n",
      "        return axon.sequence(elem.tag, [elem.text])\n",
      "    else:\n",
      "        return axon.empty(elem.tag)\n",
      "        \n",
      "@axon.reduce(ElementTree)\n",
      "def etree_reduce(element):\n",
      "    return element_reduce(element.getroot())\n"
     ],
     "language": "python",
     "metadata": {},
     "outputs": [],
     "prompt_number": 6
    },
    {
     "cell_type": "code",
     "collapsed": false,
     "input": [
      "def update_attribs(d):\n",
      "    for key, val in d.items():\n",
      "        d[key] = unicode(val)\n",
      "\n",
      "class ElementTreeBuilder(axon.GenericBuilder):\n",
      "    def empty(self, name):\n",
      "        return et.Element(name)\n",
      "    def mapping(self, name, attribs):\n",
      "        update_attribs(attribs)\n",
      "        return et.Element(name, attribs)\n",
      "    def sequence(self, name, children):\n",
      "        e = cElementTree.Element(name)\n",
      "        e.extend(children)\n",
      "        return e\n",
      "    def element(self, name, attribs, children):\n",
      "        update_attribs(attribs)\n",
      "        e = et.Element(name, attribs)\n",
      "        e.extend(children)\n",
      "        return e\n",
      "\n",
      "axon.register_builder('etree', ElementTreeBuilder())    "
     ],
     "language": "python",
     "metadata": {},
     "outputs": [],
     "prompt_number": 7
    },
    {
     "cell_type": "code",
     "collapsed": false,
     "input": [
      "axon._dumper.reduce_dict"
     ],
     "language": "python",
     "metadata": {},
     "outputs": [
      {
       "metadata": {},
       "output_type": "pyout",
       "prompt_number": 8,
       "text": [
        "{Element: <function __main__.element_reduce>,\n",
        " ElementTree: <function __main__.etree_reduce>,\n",
        " axon._objects.Element: <function axon._dumper.element_reduce>,\n",
        " axon._objects.Sequence: <function axon._dumper.sequence_reduce>,\n",
        " axon._objects.Instance: <function axon._dumper.instance_reduce>,\n",
        " axon._objects.Empty: <function axon._dumper.empty_reduce>,\n",
        " axon._objects.Mapping: <function axon._dumper.mapping_reduce>}"
       ]
      }
     ],
     "prompt_number": 8
    },
    {
     "cell_type": "code",
     "collapsed": false,
     "input": [
      "%time axon.dump(\"data/EPAXML0.axon\", [xml_root], pretty=0)"
     ],
     "language": "python",
     "metadata": {},
     "outputs": [
      {
       "output_type": "stream",
       "stream": "stdout",
       "text": [
        "CPU times: user 16.3 s, sys: 797 ms, total: 17.1 s\n",
        "Wall time: 29.7 s\n"
       ]
      }
     ],
     "prompt_number": 11
    },
    {
     "cell_type": "code",
     "collapsed": false,
     "input": [
      "del root, xml_root"
     ],
     "language": "python",
     "metadata": {},
     "outputs": [],
     "prompt_number": 12
    },
    {
     "cell_type": "code",
     "collapsed": false,
     "input": [
      "%time vs = axon.load(\"data/EPAXML0.axon\")"
     ],
     "language": "python",
     "metadata": {},
     "outputs": [],
     "prompt_number": "*"
    },
    {
     "cell_type": "code",
     "collapsed": false,
     "input": [],
     "language": "python",
     "metadata": {},
     "outputs": []
    }
   ],
   "metadata": {}
  }
 ]
}