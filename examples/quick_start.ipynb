{
 "metadata": {
  "name": ""
 },
 "nbformat": 3,
 "nbformat_minor": 0,
 "worksheets": [
  {
   "cells": [
    {
     "cell_type": "heading",
     "level": 1,
     "metadata": {},
     "source": [
      "Quick Start"
     ]
    },
    {
     "cell_type": "code",
     "collapsed": false,
     "input": [
      "from __future__ import unicode_literals, print_function\n",
      "from axon import loads, dumps\n",
      "from axon import mapping, element, instance, sequence\n",
      "from datetime import date, time, datetime\n",
      "try:\n",
      "    from cdecimal import Decimal\n",
      "except:\n",
      "    from decimal import Decimal"
     ],
     "language": "python",
     "metadata": {},
     "outputs": [],
     "prompt_number": 1
    },
    {
     "cell_type": "heading",
     "level": 2,
     "metadata": {},
     "source": [
      "Dicts"
     ]
    },
    {
     "cell_type": "markdown",
     "metadata": {},
     "source": [
      "Dictionaries are represented in `AXON` similar to ``JSON``'s _objects_. There are only 2 small differencies:\n",
      "\n",
      "* there are no commas (``,``) between values, but only spaces;\n",
      "* if the key is an identifier then double quotes (``\"``) around the key may be omitted."
     ]
    },
    {
     "cell_type": "code",
     "collapsed": false,
     "input": [
      "val = {'a': 1, 'b': 'qwerty', 'c': 3.141528, 'd': True, 'e': datetime.now()}\n",
      "text = dumps([val])\n",
      "print(text)"
     ],
     "language": "python",
     "metadata": {},
     "outputs": [
      {
       "output_type": "stream",
       "stream": "stdout",
       "text": [
        "{a:1 b:\"qwerty\" c:3.141528 d:true e:2013-12-26T11:17:43.755896}\n"
       ]
      }
     ],
     "prompt_number": 7
    },
    {
     "cell_type": "markdown",
     "metadata": {},
     "source": [
      "This is *compact form* of representation. It's suitable for data exchange in a stream. But there also exists *formatted form* suitable for humans:"
     ]
    },
    {
     "cell_type": "code",
     "collapsed": false,
     "input": [
      "text = dumps([val], pretty=1)\n",
      "print(text)"
     ],
     "language": "python",
     "metadata": {},
     "outputs": [
      {
       "output_type": "stream",
       "stream": "stdout",
       "text": [
        "{ a: 1\n",
        "  b: \"qwerty\"\n",
        "  c: 3.141528\n",
        "  d: true\n",
        "  e: 2013-12-26T11:17:43.755896}\n"
       ]
      }
     ],
     "prompt_number": 8
    },
    {
     "cell_type": "heading",
     "level": 2,
     "metadata": {},
     "source": [
      "Lists"
     ]
    },
    {
     "cell_type": "markdown",
     "metadata": {},
     "source": [
      "Lists are *ordered collections* of values."
     ]
    },
    {
     "cell_type": "markdown",
     "metadata": {},
     "source": [
      "Lists are represented in `AXON` similar to ``JSON``'s _arrays_. There is only a small difference:\n",
      "\n",
      "* there are no commas (``,``) between values, but only spaces."
     ]
    },
    {
     "cell_type": "code",
     "collapsed": false,
     "input": [
      "val = [1, 'qwerty', 3.141528, True, datetime.now()]\n",
      "text = dumps([val])\n",
      "print(text)"
     ],
     "language": "python",
     "metadata": {},
     "outputs": [
      {
       "output_type": "stream",
       "stream": "stdout",
       "text": [
        "[1 \"qwerty\" 3.141528 true 2013-12-26T11:18:25.587103]\n"
       ]
      }
     ],
     "prompt_number": 11
    },
    {
     "cell_type": "markdown",
     "metadata": {},
     "source": [
      "This is *compact form* of representation.  There is *formatted form*:"
     ]
    },
    {
     "cell_type": "code",
     "collapsed": false,
     "input": [
      "text = dumps([val], pretty=1)\n",
      "print(text)"
     ],
     "language": "python",
     "metadata": {},
     "outputs": [
      {
       "output_type": "stream",
       "stream": "stdout",
       "text": [
        "[ 1\n",
        "  \"qwerty\"\n",
        "  3.141528\n",
        "  true\n",
        "  2013-12-26T11:18:25.587103]\n"
       ]
      }
     ],
     "prompt_number": 12
    },
    {
     "cell_type": "heading",
     "level": 2,
     "metadata": {},
     "source": [
      "Tuples"
     ]
    },
    {
     "cell_type": "markdown",
     "metadata": {},
     "source": [
      "Tuples are only for _fixed_ collections of values. They are represented as lists, but enclose in opened bracket ``'('`` and closed bracket ``')'``.\n",
      "\n",
      "For example:"
     ]
    },
    {
     "cell_type": "code",
     "collapsed": false,
     "input": [
      "val = [('r', 10), ('g', 20), ('b', 30)]\n",
      "text = dumps([val])\n",
      "print(text)"
     ],
     "language": "python",
     "metadata": {},
     "outputs": [
      {
       "output_type": "stream",
       "stream": "stdout",
       "text": [
        "[(\"r\" 10) (\"g\" 20) (\"b\" 30)]\n"
       ]
      }
     ],
     "prompt_number": 13
    },
    {
     "cell_type": "code",
     "collapsed": false,
     "input": [
      "text = dumps([val], pretty=1)\n",
      "print(text)"
     ],
     "language": "python",
     "metadata": {},
     "outputs": [
      {
       "output_type": "stream",
       "stream": "stdout",
       "text": [
        "[\n",
        "  ( \"r\"\n",
        "    10)\n",
        "  ( \"g\"\n",
        "    20)\n",
        "  ( \"b\"\n",
        "    30)]\n"
       ]
      }
     ],
     "prompt_number": 16
    },
    {
     "cell_type": "markdown",
     "metadata": {},
     "source": [
      "This formatted representation is \"too vertical\". In order to make it \"more horizontal\" there is parameter `hsize`. It define number of simple values that can be put before breaking the line: "
     ]
    },
    {
     "cell_type": "code",
     "collapsed": false,
     "input": [
      "text = dumps([val], pretty=1, hsize=2)\n",
      "print(text)"
     ],
     "language": "python",
     "metadata": {},
     "outputs": [
      {
       "output_type": "stream",
       "stream": "stdout",
       "text": [
        "[\n",
        "  ( \"r\" 10)\n",
        "  ( \"g\" 20)\n",
        "  ( \"b\" 30)]\n"
       ]
      }
     ],
     "prompt_number": 17
    },
    {
     "cell_type": "heading",
     "level": 2,
     "metadata": {},
     "source": [
      "Compositions of dictionaries, lists and tuples"
     ]
    },
    {
     "cell_type": "markdown",
     "metadata": {},
     "source": [
      "Any ``JSON``-like data, i.e. data, which are compositions of dictionaries, lists and tuples, can be easily represented in ``AXON``. For exampe:"
     ]
    },
    {
     "cell_type": "code",
     "collapsed": false,
     "input": [
      "val = {\n",
      "    'node': [1,2,3,4,5,6,7],\n",
      "    'edge': [(1,2), (2,3), (3,7), (5,6)]\n",
      "}\n",
      "print('Compact form:')\n",
      "text = dumps([val])\n",
      "print(text)\n",
      "print('Formatted form:')\n",
      "text = dumps([val], pretty=1)\n",
      "print(text)\n",
      "print('More compact formatted form:')\n",
      "text = dumps([val], pretty=1, hsize=8)\n",
      "print(text)"
     ],
     "language": "python",
     "metadata": {},
     "outputs": [
      {
       "output_type": "stream",
       "stream": "stdout",
       "text": [
        "Compact form:\n",
        "{edge:[(1 2) (2 3) (3 7) (5 6)] node:[1 2 3 4 5 6 7]}\n",
        "Formatted form:\n",
        "{\n",
        "  edge: [\n",
        "    ( 1\n",
        "      2)\n",
        "    ( 2\n",
        "      3)\n",
        "    ( 3\n",
        "      7)\n",
        "    ( 5\n",
        "      6)]\n",
        "  node: [\n",
        "    1\n",
        "    2\n",
        "    3\n",
        "    4\n",
        "    5\n",
        "    6\n",
        "    7]}\n",
        "More compact formatted form:\n",
        "{\n",
        "  edge: [\n",
        "    ( 1 2)\n",
        "    ( 2 3)\n",
        "    ( 3 7)\n",
        "    ( 5 6)]\n",
        "  node: [\n",
        "    1 2 3 4 5 6 7]}\n"
       ]
      }
     ],
     "prompt_number": 23
    },
    {
     "cell_type": "code",
     "collapsed": false,
     "input": [],
     "language": "python",
     "metadata": {},
     "outputs": []
    }
   ],
   "metadata": {}
  }
 ]
}