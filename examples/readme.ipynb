{
 "cells": [
  {
   "cell_type": "code",
   "execution_count": 1,
   "metadata": {
    "collapsed": true
   },
   "outputs": [],
   "source": [
    "import axon"
   ]
  },
  {
   "cell_type": "code",
   "execution_count": 2,
   "metadata": {
    "collapsed": false
   },
   "outputs": [
    {
     "name": "stdout",
     "output_type": "stream",
     "text": [
      "[\"abc абв\" 1 3.14 true]\n",
      "[^2016-06-26T17:01:41.827944 3.14D]\n"
     ]
    }
   ],
   "source": [
    "from decimal import Decimal\n",
    "from datetime import datetime, time, date\n",
    "text = axon.dumps([['abc абв', 1, 3.14, True], [datetime.now(), Decimal('3.14')]])\n",
    "print(text)"
   ]
  },
  {
   "cell_type": "code",
   "execution_count": 3,
   "metadata": {
    "collapsed": false
   },
   "outputs": [],
   "source": [
    "vals = [\n",
    "    {'id':1, 'nickname':'nick', 'time':time(12, 31, 34), 'text':'hello!'},\n",
    "    {'id':2, 'nickname':'mark', 'time':time(12, 32, 3), 'text':'hi!'}\n",
    "]"
   ]
  },
  {
   "cell_type": "code",
   "execution_count": 4,
   "metadata": {
    "collapsed": false
   },
   "outputs": [
    {
     "name": "stdout",
     "output_type": "stream",
     "text": [
      "{id:1 nickname:\"nick\" text:\"hello!\" time:^12:31:34}\n",
      "{id:2 nickname:\"mark\" text:\"hi!\" time:^12:32:03}\n"
     ]
    }
   ],
   "source": [
    "text = axon.dumps(vals)\n",
    "print(text)"
   ]
  },
  {
   "cell_type": "code",
   "execution_count": 5,
   "metadata": {
    "collapsed": false
   },
   "outputs": [
    {
     "name": "stdout",
     "output_type": "stream",
     "text": [
      "{ id: 1\n",
      "  nickname: \"nick\"\n",
      "  text: \"hello!\"\n",
      "  time: ^12:31:34}\n",
      "{ id: 2\n",
      "  nickname: \"mark\"\n",
      "  text: \"hi!\"\n",
      "  time: ^12:32:03}\n"
     ]
    }
   ],
   "source": [
    "text = axon.dumps(vals, pretty=1)\n",
    "print(text)"
   ]
  },
  {
   "cell_type": "code",
   "execution_count": 6,
   "metadata": {
    "collapsed": false
   },
   "outputs": [
    {
     "data": {
      "text/plain": [
       "True"
      ]
     },
     "execution_count": 6,
     "metadata": {},
     "output_type": "execute_result"
    }
   ],
   "source": [
    "vals == axon.loads(text)"
   ]
  },
  {
   "cell_type": "code",
   "execution_count": 7,
   "metadata": {
    "collapsed": false
   },
   "outputs": [
    {
     "name": "stdout",
     "output_type": "stream",
     "text": [
      "[{a:1 b:2 c:3} {a:[1 2 3] b:(1 2 3) c:{1 2 3}}]\n"
     ]
    }
   ],
   "source": [
    "vals = [[{'a':1, 'b':2, 'c':3}, {'a':[1,2,3], 'b':(1,2,3), 'c':{1,2,3}}]]\n",
    "text = axon.dumps(vals)\n",
    "print(text)"
   ]
  },
  {
   "cell_type": "code",
   "execution_count": 8,
   "metadata": {
    "collapsed": false
   },
   "outputs": [
    {
     "name": "stdout",
     "output_type": "stream",
     "text": [
      "[ { a: 1\n",
      "    b: 2\n",
      "    c: 3}\n",
      "  { a: [1 2 3]\n",
      "    b: (1 2 3)\n",
      "    c: {1 2 3}}]\n"
     ]
    }
   ],
   "source": [
    "text = axon.dumps(vals, pretty=1)\n",
    "print(text)"
   ]
  },
  {
   "cell_type": "code",
   "execution_count": 9,
   "metadata": {
    "collapsed": false
   },
   "outputs": [
    {
     "data": {
      "text/plain": [
       "True"
      ]
     },
     "execution_count": 9,
     "metadata": {},
     "output_type": "execute_result"
    }
   ],
   "source": [
    " vals == axon.loads(text)"
   ]
  },
  {
   "cell_type": "code",
   "execution_count": 10,
   "metadata": {
    "collapsed": false
   },
   "outputs": [
    {
     "name": "stdout",
     "output_type": "stream",
     "text": [
      "<class 'axon._objects.Node'>\n",
      "person OrderedDict([('name', 'nick'), ('age', 32), ('email', 'nail@example.com')]) None\n",
      "person{name: 'nick', age: 32, email: 'nail@example.com'}\n"
     ]
    }
   ],
   "source": [
    "vals = axon.loads('person{name:\"nick\" age:32 email:\"nail@example.com\"}')\n",
    "print(type(vals[0]))\n",
    "print(vals[0])"
   ]
  },
  {
   "cell_type": "code",
   "execution_count": 11,
   "metadata": {
    "collapsed": false
   },
   "outputs": [
    {
     "name": "stdout",
     "output_type": "stream",
     "text": [
      "person{name:\"nick\" age:32 email:\"nail@example.com\"}\n"
     ]
    }
   ],
   "source": [
    "text = axon.dumps(vals)\n",
    "print(text)"
   ]
  },
  {
   "cell_type": "code",
   "execution_count": 12,
   "metadata": {
    "collapsed": false
   },
   "outputs": [
    {
     "name": "stdout",
     "output_type": "stream",
     "text": [
      "person\n",
      "  name: \"nick\"\n",
      "  age: 32\n",
      "  email: \"nail@example.com\"\n"
     ]
    }
   ],
   "source": [
    "text = axon.dumps(vals, pretty=1)\n",
    "print(text)"
   ]
  },
  {
   "cell_type": "code",
   "execution_count": 13,
   "metadata": {
    "collapsed": false
   },
   "outputs": [
    {
     "name": "stdout",
     "output_type": "stream",
     "text": [
      "person {\n",
      "  name: \"nick\"\n",
      "  age: 32\n",
      "  email: \"nail@example.com\"}\n"
     ]
    }
   ],
   "source": [
    "text = axon.dumps(vals, pretty=1, braces=1)\n",
    "print(text)"
   ]
  },
  {
   "cell_type": "code",
   "execution_count": 14,
   "metadata": {
    "collapsed": false
   },
   "outputs": [],
   "source": [
    "class Person:\n",
    "    def __init__(self, name, age, email):\n",
    "        self.name = name\n",
    "        self.age = age\n",
    "        self.email = email\n",
    "        \n",
    "    def __str__(self):\n",
    "        return \"Person(name=%r, age=%r, email=%r)\" % (self.name, self.age, self.email)\n",
    "\n",
    "@axon.reduce(Person)\n",
    "def reduce_Person(p):\n",
    "    return axon.node('person', {'name':p.name, 'age':p.age, 'email':p.email})\n",
    "\n",
    "@axon.factory('person')\n",
    "def factory_Person(attrs, vals):\n",
    "    return Person(name=attrs['name'], age=attrs['age'], email=attrs['email'])"
   ]
  },
  {
   "cell_type": "code",
   "execution_count": 15,
   "metadata": {
    "collapsed": false
   },
   "outputs": [
    {
     "name": "stdout",
     "output_type": "stream",
     "text": [
      "person{age:32 email:\"mail@example.com\" name:\"nick\"}\n"
     ]
    }
   ],
   "source": [
    "p = Person('nick', 32, 'mail@example.com')\n",
    "text = axon.dumps([p])\n",
    "print(text)"
   ]
  },
  {
   "cell_type": "code",
   "execution_count": 16,
   "metadata": {
    "collapsed": false
   },
   "outputs": [
    {
     "name": "stdout",
     "output_type": "stream",
     "text": [
      "Person(name='nick', age=32, email='mail@example.com')\n"
     ]
    }
   ],
   "source": [
    "val = axon.loads(text, mode='strict')[0]\n",
    "print(val)"
   ]
  },
  {
   "cell_type": "code",
   "execution_count": 17,
   "metadata": {
    "collapsed": false
   },
   "outputs": [
    {
     "name": "stdout",
     "output_type": "stream",
     "text": [
      "True True True\n"
     ]
    }
   ],
   "source": [
    "print(val.name==p.name, val.age==p.age, val.email==p.email)"
   ]
  },
  {
   "cell_type": "code",
   "execution_count": null,
   "metadata": {
    "collapsed": false
   },
   "outputs": [],
   "source": []
  },
  {
   "cell_type": "code",
   "execution_count": null,
   "metadata": {
    "collapsed": true
   },
   "outputs": [],
   "source": []
  }
 ],
 "metadata": {
  "kernelspec": {
   "display_name": "Python 3",
   "language": "python",
   "name": "python3"
  },
  "language_info": {
   "codemirror_mode": {
    "name": "ipython",
    "version": 3
   },
   "file_extension": ".py",
   "mimetype": "text/x-python",
   "name": "python",
   "nbconvert_exporter": "python",
   "pygments_lexer": "ipython3",
   "version": "3.5.1"
  }
 },
 "nbformat": 4,
 "nbformat_minor": 0
}
