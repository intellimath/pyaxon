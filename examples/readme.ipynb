{
 "cells": [
  {
   "cell_type": "code",
   "execution_count": 1,
   "metadata": {
    "collapsed": true
   },
   "outputs": [],
   "source": [
    "import axon"
   ]
  },
  {
   "cell_type": "code",
   "execution_count": 2,
   "metadata": {
    "collapsed": false
   },
   "outputs": [
    {
     "name": "stdout",
     "output_type": "stream",
     "text": [
      "[\"abc абв\" 1 3.14 true]\n",
      "[^2016-06-26T16:15:38.155027 3.14D]\n"
     ]
    }
   ],
   "source": [
    "from decimal import Decimal\n",
    "from datetime import datetime, time, date\n",
    "text = axon.dumps([['abc абв', 1, 3.14, True], [datetime.now(), Decimal('3.14')]])\n",
    "print(text)"
   ]
  },
  {
   "cell_type": "code",
   "execution_count": 3,
   "metadata": {
    "collapsed": false
   },
   "outputs": [],
   "source": [
    "vals = [\n",
    "    {'id':1, 'nickname':'nick', 'time':time(12, 31, 34), 'text':'hello!'},\n",
    "    {'id':2, 'nickname':'mark', 'time':time(12, 32, 3), 'text':'hi!'}\n",
    "]"
   ]
  },
  {
   "cell_type": "code",
   "execution_count": 4,
   "metadata": {
    "collapsed": false
   },
   "outputs": [
    {
     "name": "stdout",
     "output_type": "stream",
     "text": [
      "{id:1 nickname:\"nick\" text:\"hello!\" time:^12:31:34}\n",
      "{id:2 nickname:\"mark\" text:\"hi!\" time:^12:32:03}\n"
     ]
    }
   ],
   "source": [
    "text = axon.dumps(vals)\n",
    "print(text)"
   ]
  },
  {
   "cell_type": "code",
   "execution_count": 5,
   "metadata": {
    "collapsed": false
   },
   "outputs": [
    {
     "name": "stdout",
     "output_type": "stream",
     "text": [
      "{ id: 1\n",
      "  nickname: \"nick\"\n",
      "  text: \"hello!\"\n",
      "  time: ^12:31:34}\n",
      "{ id: 2\n",
      "  nickname: \"mark\"\n",
      "  text: \"hi!\"\n",
      "  time: ^12:32:03}\n"
     ]
    }
   ],
   "source": [
    "text = axon.dumps(vals, pretty=1)\n",
    "print(text)"
   ]
  },
  {
   "cell_type": "code",
   "execution_count": 6,
   "metadata": {
    "collapsed": false
   },
   "outputs": [
    {
     "data": {
      "text/plain": [
       "True"
      ]
     },
     "execution_count": 6,
     "metadata": {},
     "output_type": "execute_result"
    }
   ],
   "source": [
    "vals == axon.loads(text)"
   ]
  },
  {
   "cell_type": "code",
   "execution_count": 7,
   "metadata": {
    "collapsed": false
   },
   "outputs": [
    {
     "name": "stdout",
     "output_type": "stream",
     "text": [
      "[{a:1 b:2 c:3} {a:[1 2 3] b:(1 2 3) c:{1 2 3}}]\n"
     ]
    }
   ],
   "source": [
    "vals = [[{'a':1, 'b':2, 'c':3}, {'a':[1,2,3], 'b':(1,2,3), 'c':{1,2,3}}]]\n",
    "text = axon.dumps(vals)\n",
    "print(text)"
   ]
  },
  {
   "cell_type": "code",
   "execution_count": 8,
   "metadata": {
    "collapsed": false
   },
   "outputs": [
    {
     "ename": "TypeError",
     "evalue": "'set' object does not support indexing",
     "output_type": "error",
     "traceback": [
      "\u001b[0;31m---------------------------------------------------------------------------\u001b[0m",
      "\u001b[0;31mTypeError\u001b[0m                                 Traceback (most recent call last)",
      "\u001b[0;32m<ipython-input-8-3d7d23ff0b61>\u001b[0m in \u001b[0;36m<module>\u001b[0;34m()\u001b[0m\n\u001b[0;32m----> 1\u001b[0;31m \u001b[0mtext\u001b[0m \u001b[0;34m=\u001b[0m \u001b[0maxon\u001b[0m\u001b[0;34m.\u001b[0m\u001b[0mdumps\u001b[0m\u001b[0;34m(\u001b[0m\u001b[0mvals\u001b[0m\u001b[0;34m,\u001b[0m \u001b[0mpretty\u001b[0m\u001b[0;34m=\u001b[0m\u001b[0;36m1\u001b[0m\u001b[0;34m)\u001b[0m\u001b[0;34m\u001b[0m\u001b[0m\n\u001b[0m\u001b[1;32m      2\u001b[0m \u001b[0mprint\u001b[0m\u001b[0;34m(\u001b[0m\u001b[0mtext\u001b[0m\u001b[0;34m)\u001b[0m\u001b[0;34m\u001b[0m\u001b[0m\n",
      "\u001b[0;32m/Library/Frameworks/Python.framework/Versions/3.5/lib/python3.5/site-packages/pyaxon-0.9-py3.5-macosx-10.6-intel.egg/axon/api.py\u001b[0m in \u001b[0;36mdumps\u001b[0;34m(vals, pretty, braces, sorted, hsize, crossref)\u001b[0m\n\u001b[1;32m    104\u001b[0m \u001b[0;34m\u001b[0m\u001b[0m\n\u001b[1;32m    105\u001b[0m     \u001b[0mdumper\u001b[0m \u001b[0;34m=\u001b[0m \u001b[0mDumper\u001b[0m\u001b[0;34m(\u001b[0m\u001b[0mfd\u001b[0m\u001b[0;34m,\u001b[0m \u001b[0mpretty\u001b[0m\u001b[0;34m,\u001b[0m \u001b[0mbraces\u001b[0m\u001b[0;34m,\u001b[0m \u001b[0msorted\u001b[0m\u001b[0;34m,\u001b[0m \u001b[0mhsize\u001b[0m\u001b[0;34m,\u001b[0m \u001b[0mcrossref\u001b[0m\u001b[0;34m)\u001b[0m\u001b[0;34m\u001b[0m\u001b[0m\n\u001b[0;32m--> 106\u001b[0;31m     \u001b[0mdumper\u001b[0m\u001b[0;34m.\u001b[0m\u001b[0mdump\u001b[0m\u001b[0;34m(\u001b[0m\u001b[0mvals\u001b[0m\u001b[0;34m)\u001b[0m\u001b[0;34m\u001b[0m\u001b[0m\n\u001b[0m\u001b[1;32m    107\u001b[0m     \u001b[0mv\u001b[0m \u001b[0;34m=\u001b[0m \u001b[0mfd\u001b[0m\u001b[0;34m.\u001b[0m\u001b[0mgetvalue\u001b[0m\u001b[0;34m(\u001b[0m\u001b[0;34m)\u001b[0m\u001b[0;34m\u001b[0m\u001b[0m\n\u001b[1;32m    108\u001b[0m     \u001b[0mfd\u001b[0m\u001b[0;34m.\u001b[0m\u001b[0mclose\u001b[0m\u001b[0;34m(\u001b[0m\u001b[0;34m)\u001b[0m\u001b[0;34m\u001b[0m\u001b[0m\n",
      "\u001b[0;32m/Library/Frameworks/Python.framework/Versions/3.5/lib/python3.5/site-packages/pyaxon-0.9-py3.5-macosx-10.6-intel.egg/axon/_dumper.cpython-35m-darwin.so\u001b[0m in \u001b[0;36maxon._dumper.Dumper.dump (lib/axon/_dumper.c:17221)\u001b[0;34m()\u001b[0m\n",
      "\u001b[0;32m/Library/Frameworks/Python.framework/Versions/3.5/lib/python3.5/site-packages/pyaxon-0.9-py3.5-macosx-10.6-intel.egg/axon/_dumper.cpython-35m-darwin.so\u001b[0m in \u001b[0;36maxon._dumper.Dumper.pretty_dump_value (lib/axon/_dumper.c:9961)\u001b[0;34m()\u001b[0m\n",
      "\u001b[0;32m/Library/Frameworks/Python.framework/Versions/3.5/lib/python3.5/site-packages/pyaxon-0.9-py3.5-macosx-10.6-intel.egg/axon/_dumper.cpython-35m-darwin.so\u001b[0m in \u001b[0;36maxon._dumper.Dumper.pretty_dump_list (lib/axon/_dumper.c:15530)\u001b[0;34m()\u001b[0m\n",
      "\u001b[0;32m/Library/Frameworks/Python.framework/Versions/3.5/lib/python3.5/site-packages/pyaxon-0.9-py3.5-macosx-10.6-intel.egg/axon/_dumper.cpython-35m-darwin.so\u001b[0m in \u001b[0;36maxon._dumper.Dumper.pretty_dump_list_sequence (lib/axon/_dumper.c:16043)\u001b[0;34m()\u001b[0m\n",
      "\u001b[0;32m/Library/Frameworks/Python.framework/Versions/3.5/lib/python3.5/site-packages/pyaxon-0.9-py3.5-macosx-10.6-intel.egg/axon/_dumper.cpython-35m-darwin.so\u001b[0m in \u001b[0;36maxon._dumper.Dumper.pretty_dump_value (lib/axon/_dumper.c:9993)\u001b[0;34m()\u001b[0m\n",
      "\u001b[0;32m/Library/Frameworks/Python.framework/Versions/3.5/lib/python3.5/site-packages/pyaxon-0.9-py3.5-macosx-10.6-intel.egg/axon/_dumper.cpython-35m-darwin.so\u001b[0m in \u001b[0;36maxon._dumper.Dumper.pretty_dump_dict (lib/axon/_dumper.c:16112)\u001b[0;34m()\u001b[0m\n",
      "\u001b[0;32m/Library/Frameworks/Python.framework/Versions/3.5/lib/python3.5/site-packages/pyaxon-0.9-py3.5-macosx-10.6-intel.egg/axon/_dumper.cpython-35m-darwin.so\u001b[0m in \u001b[0;36maxon._dumper.Dumper.pretty_dump_dict_values (lib/axon/_dumper.c:16769)\u001b[0;34m()\u001b[0m\n",
      "\u001b[0;32m/Library/Frameworks/Python.framework/Versions/3.5/lib/python3.5/site-packages/pyaxon-0.9-py3.5-macosx-10.6-intel.egg/axon/_dumper.cpython-35m-darwin.so\u001b[0m in \u001b[0;36maxon._dumper.Dumper.pretty_dump_value (lib/axon/_dumper.c:10059)\u001b[0;34m()\u001b[0m\n",
      "\u001b[0;32m/Library/Frameworks/Python.framework/Versions/3.5/lib/python3.5/site-packages/pyaxon-0.9-py3.5-macosx-10.6-intel.egg/axon/_dumper.cpython-35m-darwin.so\u001b[0m in \u001b[0;36maxon._dumper.Dumper.pretty_dump_set (lib/axon/_dumper.c:14958)\u001b[0;34m()\u001b[0m\n",
      "\u001b[0;32m/Library/Frameworks/Python.framework/Versions/3.5/lib/python3.5/site-packages/pyaxon-0.9-py3.5-macosx-10.6-intel.egg/axon/_dumper.cpython-35m-darwin.so\u001b[0m in \u001b[0;36maxon._dumper.Dumper.pretty_dump_set_sequence (lib/axon/_dumper.c:15186)\u001b[0;34m()\u001b[0m\n",
      "\u001b[0;31mTypeError\u001b[0m: 'set' object does not support indexing"
     ]
    }
   ],
   "source": [
    "text = axon.dumps(vals, pretty=1)\n",
    "print(text)"
   ]
  },
  {
   "cell_type": "code",
   "execution_count": null,
   "metadata": {
    "collapsed": false
   },
   "outputs": [],
   "source": [
    " vals == axon.loads(text)"
   ]
  },
  {
   "cell_type": "code",
   "execution_count": null,
   "metadata": {
    "collapsed": false
   },
   "outputs": [],
   "source": [
    "vals = axon.loads('person{name:\"nick\" age:32 email:\"nail@example.com\"}')\n",
    "print(type(vals[0]))\n",
    "print(vals[0])"
   ]
  },
  {
   "cell_type": "code",
   "execution_count": null,
   "metadata": {
    "collapsed": false
   },
   "outputs": [],
   "source": [
    "text = axon.dumps(vals)\n",
    "print(text)"
   ]
  },
  {
   "cell_type": "code",
   "execution_count": null,
   "metadata": {
    "collapsed": false
   },
   "outputs": [],
   "source": [
    "text = axon.dumps(vals, pretty=1)\n",
    "print(text)"
   ]
  },
  {
   "cell_type": "code",
   "execution_count": null,
   "metadata": {
    "collapsed": false
   },
   "outputs": [],
   "source": [
    "text = axon.dumps(vals, pretty=1, braces=1)\n",
    "print(text)"
   ]
  },
  {
   "cell_type": "code",
   "execution_count": null,
   "metadata": {
    "collapsed": false
   },
   "outputs": [],
   "source": [
    "class Person:\n",
    "    def __init__(self, name, age, email):\n",
    "        self.name = name\n",
    "        self.age = age\n",
    "        self.email = email\n",
    "        \n",
    "    def __str__(self):\n",
    "        return \"Person(name=%r, age=%r, email=%r)\" % (self.name, self.age, self.email)\n",
    "\n",
    "@axon.reduce(Person)\n",
    "def reduce_Person(p):\n",
    "    return axon.node('person', {'name':p.name, 'age':p.age, 'email':p.email})\n",
    "\n",
    "@axon.factory('person')\n",
    "def factory_Person(attrs, vals):\n",
    "    return Person(name=attrs['name'], age=attrs['age'], email=attrs['email'])"
   ]
  },
  {
   "cell_type": "code",
   "execution_count": null,
   "metadata": {
    "collapsed": false
   },
   "outputs": [],
   "source": [
    "p = Person('nick', 32, 'mail@example.com')\n",
    "text = axon.dumps([p])\n",
    "print(text)"
   ]
  },
  {
   "cell_type": "code",
   "execution_count": null,
   "metadata": {
    "collapsed": false
   },
   "outputs": [],
   "source": [
    "val = axon.loads(text, mode='strict')[0]\n",
    "print(val)"
   ]
  },
  {
   "cell_type": "code",
   "execution_count": null,
   "metadata": {
    "collapsed": false
   },
   "outputs": [],
   "source": [
    "print(val.name==p.name, val.age==p.age, val.email==p.email)"
   ]
  },
  {
   "cell_type": "code",
   "execution_count": null,
   "metadata": {
    "collapsed": false
   },
   "outputs": [],
   "source": []
  },
  {
   "cell_type": "code",
   "execution_count": null,
   "metadata": {
    "collapsed": true
   },
   "outputs": [],
   "source": []
  }
 ],
 "metadata": {
  "kernelspec": {
   "display_name": "Python 3",
   "language": "python",
   "name": "python3"
  },
  "language_info": {
   "codemirror_mode": {
    "name": "ipython",
    "version": 3
   },
   "file_extension": ".py",
   "mimetype": "text/x-python",
   "name": "python",
   "nbconvert_exporter": "python",
   "pygments_lexer": "ipython3",
   "version": "3.5.1"
  }
 },
 "nbformat": 4,
 "nbformat_minor": 0
}
