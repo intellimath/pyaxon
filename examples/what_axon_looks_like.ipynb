{
 "metadata": {
  "name": ""
 },
 "nbformat": 3,
 "nbformat_minor": 0,
 "worksheets": [
  {
   "cells": [
    {
     "cell_type": "markdown",
     "metadata": {},
     "source": [
      "> [**AXON**](http://axon.intellimath.org) is e**X**tended **O**bject **N**otation. It's a simple notation of objects,\n",
      "documents and data. It's also a text based serialization format in first place. \n",
      "It tries to combine the best of [JSON](http://www.json.org), [XML](http://www.w3.org/XML/) and [YAML](http://www.yaml.org)."
     ]
    },
    {
     "cell_type": "markdown",
     "metadata": {},
     "source": [
      "Several examples could make clear what it looks like..."
     ]
    },
    {
     "cell_type": "markdown",
     "metadata": {},
     "source": [
      "<!-- TEASER_END -->"
     ]
    },
    {
     "cell_type": "heading",
     "level": 3,
     "metadata": {},
     "source": [
      "Simple example"
     ]
    },
    {
     "cell_type": "markdown",
     "metadata": {},
     "source": [
      "This is the simple [XML](http://www.w3.org/XML/):\n",
      "\n",
      "``` html\n",
      "<note>\n",
      "  <from>Pooh</from>\n",
      "  <to>Bee</to>\n",
      "  <posted>2006-08-15T17:30</posted>\n",
      "  <heading>Honey</heading>\n",
      "  Don't forget to get me honey!\n",
      "</note>\n",
      "```"
     ]
    },
    {
     "cell_type": "markdown",
     "metadata": {},
     "source": [
      "And there are it's formatted and compact versions in AXON:\n",
      "\n",
      "``` javascript\n",
      "note {\n",
      "   from: \"Pooh\"\n",
      "   to: \"Bee\"\n",
      "   posted: 2006-08-15T17:30\n",
      "   heading: \"Honey\"\n",
      "   \"Don't forget to get me honey!\" }\n",
      "\n",
      "note{to:\"Bee\" from:\"Pooh\" posted:2006-08-15T17:30 heading:\"Honey\" \"Don't forget to get me honey!\"}\n",
      "```\n"
     ]
    },
    {
     "cell_type": "markdown",
     "metadata": {},
     "source": [
      "and without braces but with *indentations* like in [YAML](http://www.yaml.org):\n",
      "\n",
      "``` yaml\n",
      "note:\n",
      "   from: \"Pooh\"\n",
      "   to: \"Bee\"\n",
      "   posted: 2006-08-15T17:30\n",
      "   heading: \"Honey\"\n",
      "   \"Don't forget to get me honey!\"\n",
      "```"
     ]
    },
    {
     "cell_type": "markdown",
     "metadata": {},
     "source": [
      "These AXON representations are sematically equivalent to the XML original representation. All explicitlty denote the *name* of the object (`note`), *attributes* (`from`, `to`, `posted`, `heading`) and *child value* (`\"Don't forget to get me honey!\"`). "
     ]
    },
    {
     "cell_type": "markdown",
     "metadata": {},
     "source": [
      "[JSON](http://www.json.org) style of representation is also possible in AXON:\n",
      "\n",
      "``` javascript\n",
      "{note: {\n",
      "    from: \"Pooh\"\n",
      "    to: \"Bee\"\n",
      "    posted: 2006-08-15T17:30\n",
      "    heading: \"Honey\"\n",
      "    body: \"Don't forget to get me honey!\"\n",
      "}}\n",
      "\n",
      "{note:{from:\"Pooh\" to:\"Bee\" posted:2006-08-15T17:30 heading:\"Honey\" body:\"Don't forget to get me honey!\"}}\n",
      "```"
     ]
    },
    {
     "cell_type": "heading",
     "level": 3,
     "metadata": {},
     "source": [
      "JSON example"
     ]
    },
    {
     "cell_type": "markdown",
     "metadata": {},
     "source": [
      "JSON could be considered almost as subset of AXON.\n",
      "\n",
      "Let's consider basic [example](http://www.json.org/example.html):\n",
      "\n",
      "``` javascript\n",
      "{\"menu\": {\n",
      "  \"id\": \"file\",\n",
      "  \"value\": \"File\",\n",
      "  \"popup\": {\n",
      "    \"menuitem\": [\n",
      "      {\"value\": \"New\", \"onclick\": \"CreateNewDoc()\"},\n",
      "      {\"value\": \"Open\", \"onclick\": \"OpenDoc()\"},\n",
      "      {\"value\": \"Close\", \"onclick\": \"CloseDoc()\"}\n",
      "    ]\n",
      "  }\n",
      "}}\n",
      "```\n",
      "There is a simple translation to AXON by removing double quotes (**\"**) around the identifier-like keys and commas (**,**):\n",
      "\n",
      "``` javascript\n",
      "{ menu: {\n",
      "  id: \"file\"\n",
      "  value: \"File\"\n",
      "  popup: {\n",
      "    menuitem: [\n",
      "      {value: \"New\"   \"onclick\": \"CreateNewDoc()\"}\n",
      "      {value: \"Open\"  \"onclick\": \"OpenDoc()\"}\n",
      "      {value: \"Close\" \"onclick\": \"CloseDoc()\"}\n",
      "    ]\n",
      "  }\n",
      "}}\n",
      "```\n"
     ]
    },
    {
     "cell_type": "markdown",
     "metadata": {},
     "source": [
      "AXON could be also considered as extension of JSON that supports *datetime* and *crossreferences*:\n",
      "\n",
      "``` javascript\n",
      "{\n",
      "  topic: [\n",
      "     &1 {python: \"Python related\"}\n",
      "     &2 {axon: \"AXON related\"}\n",
      "     &3 {json: \"JSON related\"}\n",
      "  ]\n",
      "  posts: [\n",
      "      { id: 1\n",
      "        topic: *1\n",
      "        date: 2012-01-02T12:15+03 \n",
      "        body:\"...\" }\n",
      "      { id: 2\n",
      "        topic: *2\n",
      "        date: 2012-01-12T09:25+03 \n",
      "        body:\"...\" }\n",
      "      { id: 3\n",
      "        topic: *3\n",
      "        date: 2012-02-08T10:35+03 \n",
      "        body:\"...\" }\n",
      "  ]\n",
      "}\n",
      "```"
     ]
    },
    {
     "cell_type": "heading",
     "level": 3,
     "metadata": {},
     "source": [
      "AXON as compact form of XML"
     ]
    },
    {
     "cell_type": "markdown",
     "metadata": {},
     "source": [
      "There was pointed many times that XML is for documents and JSON is for just data. Actually XML can't be bitten by JSON for documents with variable structure, especially when the order of elements is essential.\n",
      "\n",
      "Let's consider example:\n",
      "\n",
      "``` xhtml\n",
      "<html xmlns=\"http://www.w3.org/1999/xhtml\">\n",
      "<head>\n",
      "<title>Form Example</title>\n",
      "<link rel=\"stylesheet\" href=\"formstyle.css\" type=\"text/css\" />\n",
      "</head>\n",
      "<body>\n",
      "<h1>Form Example</h1>\n",
      "<form action=\"sample.py\">\n",
      "<div class=\"formin\"> (a)\n",
      "  <input type=\"text\" name=\"text1\" value=\"A textbox\" />\n",
      "</div>\n",
      "<div class=\"formin\"> (b)\n",
      "  <input type=\"text\" size=\"6\" maxlength=\"10\" name=\"text2\" />\n",
      "</div>\n",
      "<div class=\"formin\"> (c)\n",
      "  <input type=\"submit\" value=\"Go!\" />\n",
      "</div>\n",
      "</form>\n",
      "</body>\n",
      "</html>\n",
      "```"
     ]
    },
    {
     "cell_type": "markdown",
     "metadata": {},
     "source": [
      "Tranlsation to AXON is looks like (in formatted form):\n",
      "\n",
      "``` javascript\n",
      "html {\n",
      "   xmlns:\"http://www.w3.org/1999/xhtml\"\n",
      "   head {\n",
      "     title {\"Form Example\"}\n",
      "     link {\n",
      "        rel:\"stylesheet\"\n",
      "        href: \"formstyle.css\"\n",
      "        type: \"text/css\" }\n",
      "   body {\n",
      "      h1 {\"Form Example\"}\n",
      "      form { \n",
      "         action: \"sample.py\"\n",
      "         div {\n",
      "             class: \"formin\" \n",
      "             \"(a)\"\n",
      "             input {type:\"text\" name:\"text1\" value:\"A textbox\"}}\n",
      "         div {\n",
      "             class: \"formin\"\n",
      "             \"(b)\"\n",
      "             input {type:\"text\" size:6 maxlength:10 name:\"text2\"}}\n",
      "         div {\n",
      "             class: \"formb\"\n",
      "             \"(c)\"\n",
      "             input {type:\"submit\" value:\"Go!\"}}\n",
      "      }\n",
      "   }\n",
      "}\n",
      "```\n",
      "\n",
      "and in indented form without braces (like in YAML):\n",
      "\n",
      "``` python\n",
      "html:\n",
      "   xmlns: \"http://www.w3.org/1999/xhtml\"\n",
      "   head:\n",
      "     title:\n",
      "         \"Form Example\"\n",
      "     link:\n",
      "         rel: \"stylesheet\"\n",
      "         href: \"formstyle.css\"\n",
      "         type: \"text/css\"\n",
      "   body:\n",
      "      h1:\n",
      "          \"Form Example\"\n",
      "      form: \n",
      "         action: \"sample.py\"\n",
      "         div:\n",
      "             class: \"formin\" \n",
      "             \"(a)\"\n",
      "             input:\n",
      "                 type:\"text\" name:\"text1\" value:\"A textbox\"\n",
      "         div:\n",
      "             class: \"formin\"\n",
      "             \"(b)\"\n",
      "             input:\n",
      "                 type:\"text\" size:6 maxlength:10 name:\"text2\"\n",
      "         div:\n",
      "             class: \"formb\"\n",
      "             \"(c)\"\n",
      "             input:\n",
      "                 type:\"submit\" value:\"Go!\"\n",
      "```\n"
     ]
    },
    {
     "cell_type": "markdown",
     "metadata": {},
     "source": [
      "One can see that it's easy to translate much of namespaceless XML documents to AXON without reorganization of the original document."
     ]
    },
    {
     "cell_type": "markdown",
     "metadata": {},
     "source": [
      "> Note that this example isn't about representation of (X)HTML/XML in AXON. It's all about possibility of AXON to represent such type of documents that is difficult to do in JSON without of syntactic overhead."
     ]
    }
   ],
   "metadata": {}
  }
 ]
}