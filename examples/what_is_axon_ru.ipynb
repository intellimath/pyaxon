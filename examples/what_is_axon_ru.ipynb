{
 "cells": [
  {
   "cell_type": "markdown",
   "metadata": {},
   "source": [
    "#Что такое AXON"
   ]
  },
  {
   "cell_type": "markdown",
   "metadata": {},
   "source": [
    "`AXON` это нотация для сериализованного представления объектов, документов и данных в текстовой форме."
   ]
  },
  {
   "cell_type": "code",
   "execution_count": 1,
   "metadata": {
    "collapsed": true
   },
   "outputs": [],
   "source": [
    "import axon"
   ]
  },
  {
   "cell_type": "markdown",
   "metadata": {},
   "source": [
    "#### AXON это несколько улучшенный вариант JSON"
   ]
  },
  {
   "cell_type": "markdown",
   "metadata": {},
   "source": [
    "`JSON` *всегда* заключает имена в кавычки, `AXON` *позволяет не заключать* в кавычки имена, которые являются *идентификаторами*. Также в `AXON` *опускаются* разделительные *запятые*, используются только пробельные символы для разделения значений. \n",
    "В результате получается более компактное представление.\n",
    "\n",
    "Для сравнения:\n",
    "\n",
    "**`JSON`**\n",
    "```\n",
    "{ \"name\": \"Alex\",\n",
    "  \"age\": 32,\n",
    "  \"email\": \"mail@example.com\"}\n",
    "[\"Alex\", 32, \"mail@example.com\"]\n",
    "```\n",
    "**`AXON`**\n",
    "```\n",
    "{ name: \"Alex\"\n",
    "  age: 32\n",
    "  email: \"mail@example.com\"}\n",
    "[\"Alex\" 32 \"mail@example.com\"]\n",
    "```"
   ]
  },
  {
   "cell_type": "markdown",
   "metadata": {},
   "source": [
    "`AXON` имеет синтаксиc для представления некоторых других атомарных типов: \n",
    "\n",
    "* даты\n",
    "\n",
    "```\n",
    "2010-12-31\n",
    "\n",
    "```\n",
    "\n",
    "* времени\n",
    "\n",
    "```\n",
    "12:30\n",
    "12:30:15\n",
    "12:30+03:00\n",
    "12:30:15-04:30\n",
    "```\n",
    "\n",
    "* даты и времени\n",
    "\n",
    "```\n",
    "2010-12-31T12:30\n",
    "2010-12-31T12:30:05.0125\n",
    "2010-12-31T12:30+04:00\n",
    "2010-12-31T12:30:05.0123-04:00\n",
    "```\n",
    "\n",
    "* десятичных чисел\n",
    "\n",
    "```\n",
    "1D 123456789D\n",
    "3.14D 1.23e-6D\n",
    "```"
   ]
  },
  {
   "cell_type": "markdown",
   "metadata": {},
   "source": [
    "`AXON` позволяет определять *метки* неатомарных значений и использовать их в качестве *ссылок*. Это позволяет не создавать копии многократно используемых неатомарных значений при сериализации и десериализации.\n",
    "\n",
    "Например:\n",
    "\n",
    "``` javascript\n",
    "[ { prev: &a (2012-12-30 10:00)\n",
    "    next: &c (2012-01-01 12:00) }\n",
    "  { prev: &b (2012-12-31 13:00)\n",
    "    next: *a }\n",
    "  { prev: *c\n",
    "    next: *b } ]\n",
    "```\n",
    "\n",
    "Здесь определение метки значения имеет префикс `&` (`&a &b &c`) и оно предваряет значение для которого она определена, а ссылка при помощи метки имеет префикс `*` (`*a *b *c`)."
   ]
  },
  {
   "cell_type": "markdown",
   "metadata": {
    "collapsed": true
   },
   "source": [
    "#### AXON содержит упрощенный вариант Infoset XML, но в более компактной нотации"
   ]
  },
  {
   "cell_type": "markdown",
   "metadata": {},
   "source": [
    "Рассмотрим пример `XML` представления:\n",
    "\n",
    "``` xml\n",
    "<person>\n",
    "  <name>John Smith</name>\n",
    "  <age>25</age>\n",
    "  <address type=\"home\">\n",
    "     <street>21 2nd Street</street>\n",
    "     <city>New York</city>\n",
    "     <state>NY</state>\n",
    "  </address>\n",
    "  <address type=\"current\">\n",
    "     <street>1410 NE Campus Parkway</street>\n",
    "     <city>Seattle</city>\n",
    "     <state>WA</state>\n",
    "  </address>\n",
    "  <phone type=\"home\">212-555-1234</phone>\n",
    "  <phone type=\"fax\">646-555-4567</phone>\n",
    "</person>\n",
    "```\n",
    "Его аналог в формате `AXON` имеет вид:\n",
    "\n",
    "``` javascript\n",
    "person {\n",
    "  name {\"John Smith\"}\n",
    "  age {25}\n",
    "  address { \n",
    "     type: \"home\"\n",
    "     street {\"21 2nd Street\"}\n",
    "     city {\"New York\"}\n",
    "     state {\"NY\"}\n",
    "  }\n",
    "  address {\n",
    "     type: \"current\"\n",
    "     street {\"1410 NE Campus Parkway\"}\n",
    "     city {\"Seattle\"}\n",
    "     state {\"WA\"}\n",
    "  }\n",
    "  phone {type:\"home\" \"212-555-1234\"}\n",
    "  phone {type:\"fax\" \"646-555-4567\"}\n",
    "}\n",
    "```\n",
    "\n",
    "Представление в формате `AXON` можно построить из формата `XML` за 5 шагов:\n",
    "\n",
    "1. Заменить `<tag>` на `tag {`\n",
    "2. Заменить `</tag>` на `}`\n",
    "3. Заменить `attr=value` на `attr: value`\n",
    "4. Текст внутри элементов заключить в двойные кавычки (`\"`)\n",
    "5. Удалить символ запятой (`,`) или заменить его на один пробел\n",
    "\n",
    "Результат такого преобразования структурно идентичен первоначальному `XML` документу. По-существу это синтаксически более компактная форма представления `XML` документа.\n",
    "\n",
    "Этот пример демонстрирует идею упрощенного представления `XML` документа при помощи `AXON`.\n",
    "\n",
    "Для сравнения также приведем представление в `AXON` с форматированием сложных элементов без {}:\n",
    "\n",
    "``` javascript\n",
    "person\n",
    "  name {\"John Smith\"}\n",
    "  age {25}\n",
    "  address\n",
    "     type: \"home\"\n",
    "     street {\"21 2nd Street\"}\n",
    "     city {\"New York\"}\n",
    "     state {\"NY\"}\n",
    "  address\n",
    "     type: \"current\"\n",
    "     street {\"1410 NE Campus Parkway\"}\n",
    "     city {\"Seattle\"}\n",
    "     state {\"WA\"}\n",
    "  phone\n",
    "      type: \"home\"\n",
    "      \"212-555-1234\"\n",
    "  phone\n",
    "      type:\"fax\"\n",
    "      \"646-555-4567\"\n",
    "```\n",
    "\n",
    "Это представление получается из предыдущего удалением всех символов { и }, пустых строк."
   ]
  },
  {
   "cell_type": "markdown",
   "metadata": {
    "collapsed": true
   },
   "source": [
    "#### AXON расширяет возможности XML и JSON"
   ]
  },
  {
   "cell_type": "markdown",
   "metadata": {},
   "source": [
    "В `XML` атрибуты могут иметь только простые значения, в `AXON` значением атрибута может любое значение (как и в `JSON`). Кроме того простые значения имеют тип (*текст* в формате `unicode`, *число*, *десятичное число*, *дата* и *время*, *массив байтов* в кодировке *base64*). `AXON` можно рассматривать как расширение `JSON` в том смысле, что объекты могут именованными, так же как и элементы `XML` являются именованными.\n",
    "\n",
    "Например:\n",
    "\n",
    "``` javascript\n",
    "person\n",
    "  name: \"John Smith\"\n",
    "  age: 25\n",
    "  burn: 1975-10-21\n",
    "  locations: [\n",
    "    address\n",
    "      type: \"home\"\n",
    "      street: \"21 2nd Street\"\n",
    "      city: \"New York\"\n",
    "      state: \"NY\"\n",
    "    address\n",
    "      type: \"current\"\n",
    "      street: \"1410 NE Campus Parkway\"\n",
    "      city: \"Seattle\"\n",
    "      state: \"WA\"\n",
    "  ]\n",
    "  contacts: [\n",
    "    phone \n",
    "      type: \"home\"\n",
    "      \"212-555-1234\"\n",
    "    phone\n",
    "      type: \"fax\" \n",
    "      \"646-555-4567\"\n",
    "    email\n",
    "      type: \"personal\"\n",
    "      \"mail@example.com\"\n",
    "  ]\n",
    "```\n"
   ]
  },
  {
   "cell_type": "markdown",
   "metadata": {},
   "source": [
    "В `JSON` есть одно неудобство, связанное с представлением нерегулярных структур, в которых существенен порядок частей. В таких структурах доступ к элементам осуществляется в результате последовательного поиска по имени, а не в результате \"прямого\" доступа по имени.\n",
    "\n",
    "В качестве примера рассмотрим структурированный документ в формате `XML`:\n",
    "\n",
    "``` xml\n",
    "<section title=\"Title\">\n",
    "<par style=\"normal\">paragraph</par>\n",
    "<enumerate style=\"enum\">\n",
    "<item>item text</item>\n",
    "<item>item text</item>\n",
    "</enumerate>\n",
    "<par style=\"normal\">paragraph</par>\n",
    "<itemize style=\"itemize\">\n",
    "<item>item text</item>\n",
    "<item>item text</item>\n",
    "</itemize>\n",
    "<par style=\"normal\">paragraph</par>\n",
    "</section>\n",
    "```\n",
    "\n",
    "Непосредственно в `JSON` этот документ не транслируется из-за важности порядка и повторяемости элементов. Один вариант трансляции, который эмулирует последовательность именованных элементов имеет вид:\n",
    "\n",
    "``` javascript\n",
    "{\n",
    "  \"tag\": \"section\",\n",
    "  \"attrs\": {\"title\": \"Title\"},\n",
    "  \"nodes\": [\n",
    "     { \"tag\": \"par\", \"style\":\"normal\", \"text\":\"paragraph\"},\n",
    "     { \"tag\":\"enumerate\", \"style\": \"enumerate\",\n",
    "       \"nodes\": [\n",
    "         { \"tag\":\"item\", \"text\":\"item text\"},\n",
    "         { \"tag\":\"item\", \"text\":\"item text\"}\n",
    "       ]\n",
    "     },\n",
    "     { \"tag\": \"par\", \"style\":\"normal\", \"text\":\"paragraph\"},\n",
    "     { \"tag\":\"itemize\",\n",
    "       \"nodes\": [\n",
    "         { \"tag\":\"item\", \"text\":\"item text\"},\n",
    "         { \"tag\":\"item\", \"text\":\"item text\"}\n",
    "       ]\n",
    "     },\n",
    "     { \"tag\": \"par\", \"style\":\"normal\", \"text\":\"paragraph\"}     \n",
    "  ]\n",
    "}\n",
    "```\n",
    "\n",
    "В `AXON` можно транслировать такие структуры \"один в один\":\n",
    "\n",
    "``` javascript\n",
    "section\n",
    "  title: \"Title\"\n",
    "  par \n",
    "    style: \"normal\"\n",
    "    \"paragraph\"\n",
    "  enumerate\n",
    "    style: \"enum\"\n",
    "    item { \"item text\" }\n",
    "    item { \"item text\" }\n",
    "  par\n",
    "    style: \"normal\"  \n",
    "    \"paragraph\"\n",
    "  itemize\n",
    "    style: \"itemize\"\n",
    "    item { \"Item text\" }\n",
    "    item { \"Item text\" }\n",
    "  par\n",
    "    style: \"normal\"  \n",
    "    \"paragraph\"\n",
    "```\n"
   ]
  },
  {
   "cell_type": "markdown",
   "metadata": {},
   "source": [
    "`AXON` имеет возможность эмулировать \"пространства имен\". Например:\n",
    "    \n",
    "``` javascript\n",
    "{ xs.type: \"element\"\n",
    "  xs.name: \"person\"\n",
    "  py.type: \"Person\"\n",
    "}\n",
    "\n",
    "```"
   ]
  },
  {
   "cell_type": "markdown",
   "metadata": {},
   "source": [
    "### AXON поддерживает форматирование в стиле YAML"
   ]
  },
  {
   "cell_type": "markdown",
   "metadata": {},
   "source": [
    "Привлекательной стороной `YAML` является формат представления в стиле `wiki`. `AXON` также поддерживает подобный стиль форматирования.\n",
    "Например:\n",
    "\n",
    "* форматирование без {} (`YAML`-стиль)\n",
    "\n",
    "``` javascript\n",
    "person\n",
    "  name: \"Alex\"\n",
    "  age: 25\n",
    "```\n",
    "\n",
    "* форматирование с {} и отступами (`C/JSON`-стиль)\n",
    "\n",
    "``` javascript\n",
    "person {\n",
    "  name: \"Alex\"\n",
    "  age: 25}\n",
    "```\n",
    "\n",
    "* компактный формат\n",
    "\n",
    "``` javascript\n",
    "person{name:\"Alex\" age:25}\n",
    "```"
   ]
  },
  {
   "cell_type": "markdown",
   "metadata": {},
   "source": [
    "### AXON может представлять серию объектов"
   ]
  },
  {
   "cell_type": "markdown",
   "metadata": {},
   "source": [
    "Одно из ограничений `JSON` связано с тем, что он представляет единственный корневой объект. Напротив, `AXON` представляет серию объектов или серию пар `ключ`:`объект`. Например:\n",
    "\n",
    "* серия объектов\n",
    "\n",
    "``` javascript\n",
    "{ name: \"Alex\"\n",
    "  age: 32 }\n",
    "{ name: \"Michael\"\n",
    "  age: 28 }\n",
    "{ name: \"Nick\"\n",
    "  age: 19 }\n",
    "```\n",
    "\n",
    "* серия объектов с ключами\n",
    "\n",
    "``` javascript\n",
    "alex: {\n",
    "    message: \"Hello\"\n",
    "    datetime: 2015-07-12T12:32:35\n",
    "}\n",
    "michael: {\n",
    "    message: \"How are you\"\n",
    "    datetime: 2015-07-12T12:32:35\n",
    "}\n",
    "\n",
    "```"
   ]
  },
  {
   "cell_type": "code",
   "execution_count": null,
   "metadata": {
    "collapsed": true
   },
   "outputs": [],
   "source": []
  }
 ],
 "metadata": {
  "kernelspec": {
   "display_name": "Python 3",
   "language": "python",
   "name": "python3"
  },
  "language_info": {
   "codemirror_mode": {
    "name": "ipython",
    "version": 3
   },
   "file_extension": ".py",
   "mimetype": "text/x-python",
   "name": "python",
   "nbconvert_exporter": "python",
   "pygments_lexer": "ipython3",
   "version": "3.4.3"
  }
 },
 "nbformat": 4,
 "nbformat_minor": 0
}
