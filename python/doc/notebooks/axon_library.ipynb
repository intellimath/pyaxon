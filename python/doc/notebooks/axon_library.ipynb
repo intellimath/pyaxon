{
 "metadata": {
  "name": "xon_library"
 },
 "nbformat": 3,
 "nbformat_minor": 0,
 "worksheets": [
  {
   "cells": [
    {
     "cell_type": "heading",
     "level": 1,
     "metadata": {},
     "source": [
      "xon: python library fo XON"
     ]
    },
    {
     "cell_type": "markdown",
     "metadata": {},
     "source": [
      "There is ``simpleon`` library. It's reference implementation of `SimpleON` in ``Python``. \n",
      "\n",
      "It's resonable fast. It has almost similar performance as the `json` module from the standard library."
     ]
    },
    {
     "cell_type": "markdown",
     "metadata": {},
     "source": [
      "In `simpleon` library:\n",
      "\n",
      "  * *Dict* corresponds to `dict` type.\n",
      "  * *List* corresponds to `list` type.\n",
      "\n",
      "In `safe` mode:\n",
      "\n",
      "  * *Mapping* corresponds to the class `Mapping` with a name and attribute access (`obj.attr`).\n",
      "  * *Sequence* corresponds to the class `Sequence` with a name and index access to values (`seq[index]`).\n",
      "  * *Element* corresponds to the class `Element` with a name, attribute access (`elem.attr`) and index access to child values (`elem[index]`).\n",
      "  * *Instance* corresponds to the class `Instance` with a name, index access (`constr[index]`) and attribute access (`constr.attr`) to other  values.\n",
      "  * *Empty* corresponds to the class `Empty` with a name.\n",
      "\n",
      "In `unsafe` mode all objects are created by `callable(name, dict, [list])`, `callable(name, list, [dict])` or `callable(name)`, where `name` is the name of named complex value:\n",
      "\n",
      "  * *Mapping* corresponds to the objects created by `callable(name, dict)`, where `dict` is a python *dict*.\n",
      "  * *Sequence* corresponds to the objects created by `callable(name, list)`, where `list` is a python *list*\n",
      "  * *Element* corresponds to the objects created by `callable(name, dict, list)`, where `dict` is a python *dict*, `list` is a python *list*.\n",
      "  * *Instance* corresponds to the objects created by `callable(name, tuple, dict)`, where `tuple` is a python *tuple*, `dict` is a python *dict*.\n"
     ]
    },
    {
     "cell_type": "markdown",
     "metadata": {},
     "source": [
      "First let's get inventory:\n",
      "\n",
      "* function `loads` convert unicode string in `SimpleON` to list of values.\n",
      "* function `iloads` is an iterator version of `loads`.\n",
      "* function `dumps` convert sequence of values to unicode string in `SimpleON`.\n",
      "* function `load` load `SimpleON` text from the file and convert it to the list of values.\n",
      "* function `iload` is an iterator version of `load`.\n",
      "* function `dump` convert sequence of values to `SimpleON` text and save it to the file.\n"
     ]
    },
    {
     "cell_type": "code",
     "collapsed": false,
     "input": [
      "from __future__ import unicode_literals\n",
      "from xon.api import loads, dumps\n",
      "\n",
      "# pretty printing of python objects\n",
      "from pprint import pprint\n",
      "\n",
      "# ipython tools for pretty of images and html\n",
      "from IPython.display import HTML, display_pretty, publish_png"
     ],
     "language": "python",
     "metadata": {},
     "outputs": [],
     "prompt_number": 18
    },
    {
     "cell_type": "heading",
     "level": 2,
     "metadata": {},
     "source": [
      "JSON as subset of SimpleON"
     ]
    },
    {
     "cell_type": "markdown",
     "metadata": {},
     "source": [
      "Any `JSON` message can be used in `SimpleON`. \n",
      "There is argument `allow_comma = True` or `allow_comma = 1` in `loads` function for this purpose.\n",
      "\n",
      "`JSON` *object* corresponds to a *dict* and `JSON` *array* corresponds to a *list* in `SimpleON` correspondently. "
     ]
    },
    {
     "cell_type": "code",
     "collapsed": false,
     "input": [
      "msg = '''{\n",
      "  \"text\": \"JSON is subset of SimpleON\",\n",
      "  \"numbers\": [1, 1.0], \n",
      "  \"array\": [\n",
      "     {\"id\": 1, \"val\": 1.1}, \n",
      "     {\"id\": 2, \"val\": 2.2},\n",
      "     {\"id\": 3, \"val\": 3.3}\n",
      "  ], \n",
      "  \"object\": {\"a\": 1, \"b\": 2, \"c\":3} \n",
      "}'''\n",
      "ob = loads(msg, json=1)[0]\n",
      "display(HTML(\"<b>Python object:</b>\"))\n",
      "display_pretty(ob)\n",
      "display(HTML(\"<b>Compact dump:</b>\"))\n",
      "print(dumps([ob]))\n",
      "display(HTML(\"<b>Pretty dump:</b>\"))\n",
      "print(dumps([ob], pretty=1))"
     ],
     "language": "python",
     "metadata": {},
     "outputs": [
      {
       "html": [
        "<b>Python object:</b>"
       ],
       "output_type": "display_data",
       "text": [
        "<IPython.core.display.HTML at 0x104dc1090>"
       ]
      },
      {
       "output_type": "display_data",
       "text": [
        "{u'array': [{u'id': 1, u'val': 1.1},\n",
        "  {u'id': 2, u'val': 2.2},\n",
        "  {u'id': 3, u'val': 3.3}],\n",
        " u'numbers': [1, 1.0],\n",
        " u'object': {u'a': 1, u'b': 2, u'c': 3},\n",
        " u'text': u'JSON is subset of SimpleON'}"
       ]
      },
      {
       "html": [
        "<b>Compact dump:</b>"
       ],
       "output_type": "display_data",
       "text": [
        "<IPython.core.display.HTML at 0x104dc1090>"
       ]
      },
      {
       "output_type": "stream",
       "stream": "stdout",
       "text": [
        "{array:[{id:1 val:1.1} {id:2 val:2.2} {id:3 val:3.3}] numbers:[1 1.0] object:{a:1 b:2 c:3} text:\"JSON is subset of SimpleON\"}\n"
       ]
      },
      {
       "html": [
        "<b>Pretty dump:</b>"
       ],
       "output_type": "display_data",
       "text": [
        "<IPython.core.display.HTML at 0x104dc1090>"
       ]
      },
      {
       "output_type": "stream",
       "stream": "stdout",
       "text": [
        "{ array: [\n",
        "    { id: 1\n",
        "      val: 1.1}\n",
        "    { id: 2\n",
        "      val: 2.2}\n",
        "    { id: 3\n",
        "      val: 3.3}]\n",
        "  numbers: [\n",
        "    1\n",
        "    1.0]\n",
        "  object: {\n",
        "    a: 1\n",
        "    b: 2\n",
        "    c: 3}\n",
        "  text: \"JSON is subset of SimpleON\"}\n"
       ]
      }
     ],
     "prompt_number": 19
    },
    {
     "cell_type": "markdown",
     "metadata": {},
     "source": [
      "But `SimpleON` allow you to completely delete all *comma* symbols between values and *double quotes* from keys if the key is a valid identifier:"
     ]
    },
    {
     "cell_type": "code",
     "collapsed": false,
     "input": [
      "msg = '''{\n",
      "  text: \"This SimpleON version of JSON message\" \n",
      "  numbers: [1 1.0]\n",
      "  array: [\n",
      "     {id:1 val:1.1} \n",
      "     {id:2 val:2.2}\n",
      "     {id:3 val:3.3}\n",
      "  ]\n",
      "  object: {a:1 b:2 c:3} \n",
      "}'''\n",
      "ob = loads(msg)[0]\n",
      "display(HTML(\"<b>Python object:</b>\"))\n",
      "pprint(ob)\n",
      "display(HTML(\"<b>Compact dump:</b>\"))\n",
      "print dumps([ob])\n",
      "display(HTML(\"<b>Pretty dump:</b>\"))\n",
      "print dumps([ob], pretty=1)"
     ],
     "language": "python",
     "metadata": {},
     "outputs": [
      {
       "html": [
        "<b>Python object:</b>"
       ],
       "output_type": "display_data",
       "text": [
        "<IPython.core.display.HTML at 0x104d0a1d0>"
       ]
      },
      {
       "output_type": "stream",
       "stream": "stdout",
       "text": [
        "{u'array': [{u'id': 1, u'val': 1.1},\n",
        "            {u'id': 2, u'val': 2.2},\n",
        "            {u'id': 3, u'val': 3.3}],\n",
        " u'numbers': [1, 1.0],\n",
        " u'object': {u'a': 1, u'b': 2, u'c': 3},\n",
        " u'text': u'This SimpleON version of JSON message'}\n"
       ]
      },
      {
       "html": [
        "<b>Compact dump:</b>"
       ],
       "output_type": "display_data",
       "text": [
        "<IPython.core.display.HTML at 0x1047fee50>"
       ]
      },
      {
       "output_type": "stream",
       "stream": "stdout",
       "text": [
        "{array:[{id:1 val:1.1} {id:2 val:2.2} {id:3 val:3.3}] numbers:[1 1.0] object:{a:1 b:2 c:3} text:\"This SimpleON version of JSON message\"}\n"
       ]
      },
      {
       "html": [
        "<b>Pretty dump:</b>"
       ],
       "output_type": "display_data",
       "text": [
        "<IPython.core.display.HTML at 0x1047fee50>"
       ]
      },
      {
       "output_type": "stream",
       "stream": "stdout",
       "text": [
        "{ array: [\n",
        "    { id: 1\n",
        "      val: 1.1}\n",
        "    { id: 2\n",
        "      val: 2.2}\n",
        "    { id: 3\n",
        "      val: 3.3}]\n",
        "  numbers: [\n",
        "    1\n",
        "    1.0]\n",
        "  object: {\n",
        "    a: 1\n",
        "    b: 2\n",
        "    c: 3}\n",
        "  text: \"This SimpleON version of JSON message\"}\n"
       ]
      }
     ],
     "prompt_number": 20
    },
    {
     "cell_type": "heading",
     "level": 2,
     "metadata": {},
     "source": [
      "Mappings: named JSON objects"
     ]
    },
    {
     "cell_type": "markdown",
     "metadata": {},
     "source": [
      "`SimpleON` extend `JSON` by allowing using of *named* objects. Note that `JSON` objects are just *dicts* in `SimpleON`."
     ]
    },
    {
     "cell_type": "code",
     "collapsed": false,
     "input": [
      "msg = '''\n",
      "observation {\n",
      "   date: 2010-12-01\n",
      "   time: 12:30\n",
      "   T: 32.5\n",
      "   R: 2.5\n",
      "}\n",
      "observation {\n",
      "   date: 2010-12-02\n",
      "   time: 12:30\n",
      "   T: 30.5\n",
      "   R: 4.5\n",
      "}\n",
      "'''\n",
      "obs = loads(msg)\n",
      "print(obs)\n",
      "# compact form\n",
      "print '### Compact form\\n', dumps(obs)\n",
      "# formatted form\n",
      "print '### Formatted form\\n', dumps(obs, pretty=1)"
     ],
     "language": "python",
     "metadata": {},
     "outputs": [
      {
       "output_type": "stream",
       "stream": "stdout",
       "text": [
        "[mapping(u'observation', {u'date': datetime.date(2010, 12, 1), u'R': 2.5, u'T': 32.5, u'time': datetime.time(12, 30)}), mapping(u'observation', {u'date': datetime.date(2010, 12, 2), u'R': 4.5, u'T': 30.5, u'time': datetime.time(12, 30)})]\n",
        "### Compact form\n",
        "observation{R:2.5 T:32.5 date:2010-12-01 time:12:30} observation{R:4.5 T:30.5 date:2010-12-02 time:12:30}\n",
        "### Formatted form\n",
        "observation {\n",
        "  R: 2.5\n",
        "  T: 32.5\n",
        "  date: 2010-12-01\n",
        "  time: 12:30}\n",
        "observation {\n",
        "  R: 4.5\n",
        "  T: 30.5\n",
        "  date: 2010-12-02\n",
        "  time: 12:30}\n"
       ]
      }
     ],
     "prompt_number": 21
    },
    {
     "cell_type": "markdown",
     "metadata": {},
     "source": [
      "``SimpleON`` also support indented (``YAML``-like) form of named objects:"
     ]
    },
    {
     "cell_type": "code",
     "collapsed": false,
     "input": [
      "# indented form\n",
      "print '### Indented form\\n', dumps(obs, pretty=2)"
     ],
     "language": "python",
     "metadata": {},
     "outputs": [
      {
       "output_type": "stream",
       "stream": "stdout",
       "text": [
        "### Indented form\n",
        "observation:\n",
        "  R: 2.5\n",
        "  T: 32.5\n",
        "  date: 2010-12-01\n",
        "  time: 12:30\n",
        "observation:\n",
        "  R: 4.5\n",
        "  T: 30.5\n",
        "  date: 2010-12-02\n",
        "  time: 12:30\n"
       ]
      }
     ],
     "prompt_number": 22
    },
    {
     "cell_type": "markdown",
     "metadata": {},
     "source": [
      "*Mappings* are supposed to support attribute access (`ob.a.attr`)."
     ]
    },
    {
     "cell_type": "code",
     "collapsed": false,
     "input": [
      "ob = obs[0]\n",
      "print ob.a.date, ob.a.time, ob.a.T, ob.a.R"
     ],
     "language": "python",
     "metadata": {},
     "outputs": [
      {
       "output_type": "stream",
       "stream": "stdout",
       "text": [
        "2010-12-01 12:30:00 32.5 2.5\n"
       ]
      }
     ],
     "prompt_number": 23
    },
    {
     "cell_type": "heading",
     "level": 2,
     "metadata": {},
     "source": [
      "Sequences: named JSON arrays"
     ]
    },
    {
     "cell_type": "markdown",
     "metadata": {},
     "source": [
      "`SimpleON` also extend `JSON` by allowing using of *named* arrays. Note that `JSON` arrays are just *lists* in `SimpleON`."
     ]
    },
    {
     "cell_type": "code",
     "collapsed": false,
     "input": [
      "msg = '''\n",
      "container {\n",
      "   item {id:1 value:1.2}\n",
      "   \"just string\"\n",
      "   item {id:2 value:3.4}\n",
      "   100 \n",
      "   container {\n",
      "       item {id:3 value:5.2}\n",
      "       3.141528\n",
      "       item {id:4 value:7.4}\n",
      "   }\n",
      "   177\n",
      "}\n",
      "'''\n",
      "ob = loads(msg)[0]\n",
      "# compact form\n",
      "print \"### Compact form\\n\", dumps([ob])\n",
      "# formatted form\n",
      "print \"### Formatted form\\n\", dumps([ob], pretty=1)\n",
      "# indented form\n",
      "print \"### Indented form\\n\", dumps([ob], pretty=2)"
     ],
     "language": "python",
     "metadata": {},
     "outputs": [
      {
       "output_type": "stream",
       "stream": "stdout",
       "text": [
        "### Compact form\n",
        "container{item{id:1 value:1.2} \"just string\" item{id:2 value:3.4} 100 container{item{id:3 value:5.2} 3.141528 item{id:4 value:7.4}} 177}\n",
        "### Formatted form\n",
        "container {\n",
        "  item {\n",
        "    id: 1\n",
        "    value: 1.2}\n",
        "  \"just string\"\n",
        "  item {\n",
        "    id: 2\n",
        "    value: 3.4}\n",
        "  100\n",
        "  container {\n",
        "    item {\n",
        "      id: 3\n",
        "      value: 5.2}\n",
        "    3.141528\n",
        "    item {\n",
        "      id: 4\n",
        "      value: 7.4}}\n",
        "  177}\n",
        "### Indented form\n",
        "container:\n",
        "  item:\n",
        "    id: 1\n",
        "    value: 1.2\n",
        "  \"just string\"\n",
        "  item:\n",
        "    id: 2\n",
        "    value: 3.4\n",
        "  100\n",
        "  container:\n",
        "    item:\n",
        "      id: 3\n",
        "      value: 5.2\n",
        "    3.141528\n",
        "    item:\n",
        "      id: 4\n",
        "      value: 7.4\n",
        "  177\n"
       ]
      }
     ],
     "prompt_number": 24
    },
    {
     "cell_type": "markdown",
     "metadata": {},
     "source": [
      "*Sequences* support index access (`ob[idx]`)."
     ]
    },
    {
     "cell_type": "code",
     "collapsed": false,
     "input": [
      "print ob[0]\n",
      "print ob[1]\n",
      "print ob[4][-1]"
     ],
     "language": "python",
     "metadata": {},
     "outputs": [
      {
       "output_type": "stream",
       "stream": "stdout",
       "text": [
        "mapping(u'item', {u'id': 1, u'value': 1.2})\n",
        "just string\n",
        "mapping(u'item', {u'id': 4, u'value': 7.4})\n"
       ]
      }
     ],
     "prompt_number": 25
    },
    {
     "cell_type": "heading",
     "level": 2,
     "metadata": {},
     "source": [
      "Hierarchical Objects"
     ]
    },
    {
     "cell_type": "markdown",
     "metadata": {},
     "source": [
      "Hierarchical objects in `SimpleON` are objects, which contains sequence of child subobjects. They are represent attributed trees. So they can represent hierarchical data as well as `XML` can."
     ]
    },
    {
     "cell_type": "code",
     "collapsed": false,
     "input": [
      "msg = '''\n",
      "tree {\n",
      "   node {\n",
      "      id:1\n",
      "      node {\n",
      "         id:2\n",
      "         leaf { \"Class A\" }\n",
      "      }\n",
      "      node {\n",
      "         id:3\n",
      "         leaf { \"Class B\" }\n",
      "      }\n",
      "   }\n",
      "}\n",
      "'''\n",
      "ob = loads(msg)[0]\n",
      "print dumps([ob])\n",
      "print dumps([ob], pretty=True)\n"
     ],
     "language": "python",
     "metadata": {},
     "outputs": [
      {
       "output_type": "stream",
       "stream": "stdout",
       "text": [
        "tree{node{id:1 node{id:2 leaf{\"Class A\"}} node{id:3 leaf{\"Class B\"}}}}\n",
        "tree {\n",
        "  node {\n",
        "    id: 1\n",
        "    node {\n",
        "      id: 2\n",
        "      leaf {\n",
        "        \"Class A\"}}\n",
        "    node {\n",
        "      id: 3\n",
        "      leaf {\n",
        "        \"Class B\"}}}}\n"
       ]
      }
     ],
     "prompt_number": 26
    },
    {
     "cell_type": "markdown",
     "metadata": {},
     "source": [
      "Here is fragment of `OSM XML`"
     ]
    },
    {
     "cell_type": "code",
     "collapsed": false,
     "input": [
      "msg = '''\n",
      "osm {\n",
      "  version:\"0.6\" generator:\"CGImap 0.0.2\"\n",
      "  bounds {\n",
      "    minlat:54.0889580 minlon:12.2487570 \n",
      "    maxlat:54.0913900 maxlon:12.2524800}\n",
      "  node {\n",
      "    id:298884269 lat:54.0901746 lon:12.2482632 user:\"SvenHRO\"\n",
      "    uid:46882 visible:true version:1 changeset:676636 \n",
      "    timestamp:2008-09-21T21:37:45}\n",
      "  node {\n",
      "    id:261728686 lat:54.0906309 lon:12.2441924 user:\"PikoWinter\" \n",
      "    uid:36744 visible:true version:1 changeset:323878 \n",
      "    timestamp:2008-05-03T13:39:23}\n",
      "  node {\n",
      "    id:1831881213 version:1 changeset:12370172 lat:54.0900666 \n",
      "    lon:12.2539381 user:lafkor\n",
      "    uid:75625 visible:true timestamp:2012-07-20T09:43:19\n",
      "    tag {k:\"name\" v:\"Neu Broderstorf\"}\n",
      "    tag {k:\"traffic_sign\" v:\"city_limit\"}\n",
      "  }\n",
      "  node {\n",
      "    id:298884272 lat:54.0901447 lon:12.2516513 user:\"SvenHRO\" uid:46882 visible:true version:1 changeset:676636 timestamp:2008-09-21T21:37:45}\n",
      "  way {\n",
      "    id:26659127 user:\"Masch\" uid:55988 visible:true version:5 changeset:4142606 timestamp:2010-03-16T11:47:08\n",
      "    nd {ref:\"292403538\"}\n",
      "    nd {ref:\"298884289\"}\n",
      "    nd {ref:\"261728686\"}\n",
      "    tag {k:\"highway\" v:\"unclassified\"}\n",
      "    tag {k:\"name\" v:\"Pastower Stra\u00dfe\"}\n",
      "  }\n",
      "  relation {\n",
      "    id:56688 user:kmvar uid:56190 visible:true version:28 \n",
      "    changeset:6947637 timestamp:2011-01-12T14:23:49\n",
      "    member {type:\"node\" ref:294942404 role:\"\"}\n",
      "    member {type:\"node\" ref:364933006 role:\"\"}\n",
      "    member {type:\"way\" ref:4579143 role:\"\"}\n",
      "    member {type:\"node\" ref:249673494 role:\"\"}\n",
      "    tag {k:\"name\" v:\"K\u00fcstenbus Linie 123\"}\n",
      "    tag {k:\"network\" v:\"VVW\"}\n",
      "    tag {k:\"operator\" v:\"Regionalverkehr K\u00fcste\"}\n",
      "    tag {k:\"ref\" v:\"123\"}\n",
      "    tag {k:\"route\" v:\"bus\"}\n",
      "    tag {k:\"type\" v:\"route\"}\n",
      "  }\n",
      "}'''\n",
      "ob = loads(msg)[0]\n",
      "print \"Compact form:\"\n",
      "print dumps([ob])\n",
      "print \"\\nPretty form:\"\n",
      "print dumps([ob], pretty=True)\n"
     ],
     "language": "python",
     "metadata": {},
     "outputs": [
      {
       "output_type": "stream",
       "stream": "stdout",
       "text": [
        "Compact form:\n",
        "osm{generator:\"CGImap 0.0.2\" version:\"0.6\" bounds{maxlat:54.09139 maxlon:12.25248 minlat:54.088958 minlon:12.248757} node{changeset:676636 id:298884269 lat:54.0901746 lon:12.2482632 timestamp:2008-09-21T21:37:45 uid:46882 user:\"SvenHRO\" version:1 visible:true} node{changeset:323878 id:261728686 lat:54.0906309 lon:12.2441924 timestamp:2008-05-03T13:39:23 uid:36744 user:\"PikoWinter\" version:1 visible:true} node{changeset:12370172 id:1831881213 lat:54.0900666 lon:12.2539381 timestamp:2012-07-20T09:43:19 uid:75625 user:\"lafkor\" version:1 visible:true tag{k:\"name\" v:\"Neu Broderstorf\"} tag{k:\"traffic_sign\" v:\"city_limit\"}} node{changeset:676636 id:298884272 lat:54.0901447 lon:12.2516513 timestamp:2008-09-21T21:37:45 uid:46882 user:\"SvenHRO\" version:1 visible:true} way{changeset:4142606 id:26659127 timestamp:2010-03-16T11:47:08 uid:55988 user:\"Masch\" version:5 visible:true nd{ref:\"292403538\"} nd{ref:\"298884289\"} nd{ref:\"261728686\"} tag{k:\"highway\" v:\"unclassified\"} tag{k:\"name\" v:\"Pastower Stra\u00dfe\"}} relation{changeset:6947637 id:56688 timestamp:2011-01-12T14:23:49 uid:56190 user:\"kmvar\" version:28 visible:true member{ref:294942404 role:\"\" type:\"node\"} member{ref:364933006 role:\"\" type:\"node\"} member{ref:4579143 role:\"\" type:\"way\"} member{ref:249673494 role:\"\" type:\"node\"} tag{k:\"name\" v:\"K\u00fcstenbus Linie 123\"} tag{k:\"network\" v:\"VVW\"} tag{k:\"operator\" v:\"Regionalverkehr K\u00fcste\"} tag{k:\"ref\" v:\"123\"} tag{k:\"route\" v:\"bus\"} tag{k:\"type\" v:\"route\"}}}\n",
        "\n",
        "Pretty form:\n",
        "osm {\n",
        "  generator: \"CGImap 0.0.2\"\n",
        "  version: \"0.6\"\n",
        "  bounds {\n",
        "    maxlat: 54.09139\n",
        "    maxlon: 12.25248\n",
        "    minlat: 54.088958\n",
        "    minlon: 12.248757}\n",
        "  node {\n",
        "    changeset: 676636\n",
        "    id: 298884269\n",
        "    lat: 54.0901746\n",
        "    lon: 12.2482632\n",
        "    timestamp: 2008-09-21T21:37:45\n",
        "    uid: 46882\n",
        "    user: \"SvenHRO\"\n",
        "    version: 1\n",
        "    visible: true}\n",
        "  node {\n",
        "    changeset: 323878\n",
        "    id: 261728686\n",
        "    lat: 54.0906309\n",
        "    lon: 12.2441924\n",
        "    timestamp: 2008-05-03T13:39:23\n",
        "    uid: 36744\n",
        "    user: \"PikoWinter\"\n",
        "    version: 1\n",
        "    visible: true}\n",
        "  node {\n",
        "    changeset: 12370172\n",
        "    id: 1831881213\n",
        "    lat: 54.0900666\n",
        "    lon: 12.2539381\n",
        "    timestamp: 2012-07-20T09:43:19\n",
        "    uid: 75625\n",
        "    user: \"lafkor\"\n",
        "    version: 1\n",
        "    visible: true\n",
        "    tag {\n",
        "      k: \"name\"\n",
        "      v: \"Neu Broderstorf\"}\n",
        "    tag {\n",
        "      k: \"traffic_sign\"\n",
        "      v: \"city_limit\"}}\n",
        "  node {\n",
        "    changeset: 676636\n",
        "    id: 298884272\n",
        "    lat: 54.0901447\n",
        "    lon: 12.2516513\n",
        "    timestamp: 2008-09-21T21:37:45\n",
        "    uid: 46882\n",
        "    user: \"SvenHRO\"\n",
        "    version: 1\n",
        "    visible: true}\n",
        "  way {\n",
        "    changeset: 4142606\n",
        "    id: 26659127\n",
        "    timestamp: 2010-03-16T11:47:08\n",
        "    uid: 55988\n",
        "    user: \"Masch\"\n",
        "    version: 5\n",
        "    visible: true\n",
        "    nd {\n",
        "      ref: \"292403538\"}\n",
        "    nd {\n",
        "      ref: \"298884289\"}\n",
        "    nd {\n",
        "      ref: \"261728686\"}\n",
        "    tag {\n",
        "      k: \"highway\"\n",
        "      v: \"unclassified\"}\n",
        "    tag {\n",
        "      k: \"name\"\n",
        "      v: \"Pastower Stra\u00dfe\"}}\n",
        "  relation {\n",
        "    changeset: 6947637\n",
        "    id: 56688\n",
        "    timestamp: 2011-01-12T14:23:49\n",
        "    uid: 56190\n",
        "    user: \"kmvar\"\n",
        "    version: 28\n",
        "    visible: true\n",
        "    member {\n",
        "      ref: 294942404\n",
        "      role: \"\"\n",
        "      type: \"node\"}\n",
        "    member {\n",
        "      ref: 364933006\n",
        "      role: \"\"\n",
        "      type: \"node\"}\n",
        "    member {\n",
        "      ref: 4579143\n",
        "      role: \"\"\n",
        "      type: \"way\"}\n",
        "    member {\n",
        "      ref: 249673494\n",
        "      role: \"\"\n",
        "      type: \"node\"}\n",
        "    tag {\n",
        "      k: \"name\"\n",
        "      v: \"K\u00fcstenbus Linie 123\"}\n",
        "    tag {\n",
        "      k: \"network\"\n",
        "      v: \"VVW\"}\n",
        "    tag {\n",
        "      k: \"operator\"\n",
        "      v: \"Regionalverkehr K\u00fcste\"}\n",
        "    tag {\n",
        "      k: \"ref\"\n",
        "      v: \"123\"}\n",
        "    tag {\n",
        "      k: \"route\"\n",
        "      v: \"bus\"}\n",
        "    tag {\n",
        "      k: \"type\"\n",
        "      v: \"route\"}}}\n"
       ]
      }
     ],
     "prompt_number": 27
    },
    {
     "cell_type": "heading",
     "level": 3,
     "metadata": {},
     "source": [
      "SimpleON for relational data"
     ]
    },
    {
     "cell_type": "markdown",
     "metadata": {},
     "source": [
      "`SimpleON` supports using of object references for representation of relational data."
     ]
    },
    {
     "cell_type": "code",
     "collapsed": false,
     "input": [
      "from xon.utils import factory, reduce\n",
      "\n",
      "class Base(object):\n",
      "\n",
      "    def __str__(self):\n",
      "        return '%s: ' % self.__class__.__name__ + repr(self.__dict__)\n",
      "        \n",
      "    __repr__ = __str__\n",
      "\n",
      "class Graph(Base):\n",
      "    def __init__(self, nodes=None, edges=None):\n",
      "        if nodes is None:\n",
      "            self.nodes = []\n",
      "        else:\n",
      "            self.nodes = list(nodes)\n",
      "        \n",
      "        if edges is None:\n",
      "            self.edges = []\n",
      "        else:\n",
      "            self.edges = list(edges)\n",
      "            \n",
      "            \n",
      "class Node(Base):\n",
      "    def __init__(self, x, y):\n",
      "        self.x = x\n",
      "        self.y = y\n",
      "\n",
      "class Edge(Base):\n",
      "    def __init__(self, p1, p2):\n",
      "        self.p1 = p1\n",
      "        self.p2 = p2\n",
      "        \n",
      "        \n",
      "@factory('graph')\n",
      "def create_graph(kwdict):\n",
      "    return Graph(**kwdict)\n",
      "\n",
      "@factory('node')\n",
      "def create_node(args):\n",
      "    return Node(*args)\n",
      "\n",
      "@factory('edge')\n",
      "def create_edge(args):\n",
      "    return Edge(*args)\n",
      "\n",
      "@reduce(Graph)\n",
      "def reduce_graph(graph):\n",
      "    return u'graph', {'nodes': graph.nodes, 'edges': graph.edges}\n",
      "\n",
      "@reduce(Node)\n",
      "def reduce_node(node):\n",
      "    return u'node', [node.x, node.y]\n",
      "\n",
      "@reduce(Edge)\n",
      "def reduce_edge(edge):\n",
      "    return u'edge', [edge.p1, edge.p2]\n",
      "\n",
      "text = \"\"\"\n",
      "graph {\n",
      "    nodes: [\n",
      "        &1 node {1 1}\n",
      "        &2 node {1 2}\n",
      "        &3 node {2 2}\n",
      "        &4 node {2 1}\n",
      "    ]\n",
      "    edges: [\n",
      "        edge {*1 *2}\n",
      "        edge {*1 *3}\n",
      "        edge {*2 *3}\n",
      "        edge {*1 *4}\n",
      "        edge {*3 *4}\n",
      "    ]\n",
      "}\n",
      "\"\"\"\n",
      "obs = loads(text, mode='strict')[0]\n",
      "display(HTML(u'<b>Graph object</b>'))\n",
      "print obs\n",
      "display(HTML(u'<b>Compact flow dump</b>'))\n",
      "print dumps([obs], crossref=True)\n",
      "display(HTML(u'<b>Formatted dump</b>'))\n",
      "print dumps([obs], pretty=True, crossref=True)\n"
     ],
     "language": "python",
     "metadata": {},
     "outputs": [
      {
       "html": [
        "<b>Graph object</b>"
       ],
       "output_type": "display_data",
       "text": [
        "<IPython.core.display.HTML at 0x104df5f90>"
       ]
      },
      {
       "output_type": "stream",
       "stream": "stdout",
       "text": [
        "Graph: {'nodes': [Node: {'y': 1, 'x': 1}, Node: {'y': 2, 'x': 1}, Node: {'y': 2, 'x': 2}, Node: {'y': 1, 'x': 2}], 'edges': [Edge: {'p2': Node: {'y': 2, 'x': 1}, 'p1': Node: {'y': 1, 'x': 1}}, Edge: {'p2': Node: {'y': 2, 'x': 2}, 'p1': Node: {'y': 1, 'x': 1}}, Edge: {'p2': Node: {'y': 2, 'x': 2}, 'p1': Node: {'y': 2, 'x': 1}}, Edge: {'p2': Node: {'y': 1, 'x': 2}, 'p1': Node: {'y': 1, 'x': 1}}, Edge: {'p2': Node: {'y': 1, 'x': 2}, 'p1': Node: {'y': 2, 'x': 2}}]}\n"
       ]
      },
      {
       "html": [
        "<b>Compact flow dump</b>"
       ],
       "output_type": "display_data",
       "text": [
        "<IPython.core.display.HTML at 0x104df5f90>"
       ]
      },
      {
       "output_type": "stream",
       "stream": "stdout",
       "text": [
        "graph{edges:[edge{&1 node{1 1} &2 node{1 2}} edge{*1 &4 node{2 2}} edge{*2 *4} edge{*1 &3 node{2 1}} edge{*4 *3}] nodes:[*1 *2 *4 *3]}\n"
       ]
      },
      {
       "html": [
        "<b>Formatted dump</b>"
       ],
       "output_type": "display_data",
       "text": [
        "<IPython.core.display.HTML at 0x1047feb50>"
       ]
      },
      {
       "output_type": "stream",
       "stream": "stdout",
       "text": [
        "graph {\n",
        "  edges: [\n",
        "    edge {\n",
        "      &1 node {\n",
        "        1\n",
        "        1}\n",
        "      &2 node {\n",
        "        1\n",
        "        2}}\n",
        "    edge {\n",
        "      *1\n",
        "      &4 node {\n",
        "        2\n",
        "        2}}\n",
        "    edge {\n",
        "      *2\n",
        "      *4}\n",
        "    edge {\n",
        "      *1\n",
        "      &3 node {\n",
        "        2\n",
        "        1}}\n",
        "    edge {\n",
        "      *4\n",
        "      *3}]\n",
        "  nodes: [\n",
        "    *1\n",
        "    *2\n",
        "    *4\n",
        "    *3]}\n"
       ]
      }
     ],
     "prompt_number": 28
    },
    {
     "cell_type": "heading",
     "level": 2,
     "metadata": {},
     "source": [
      "Simple data types"
     ]
    },
    {
     "cell_type": "markdown",
     "metadata": {},
     "source": [
      "There are several types of simple values: *number*, *unicode string*, *date/time/datetime*, *constant*."
     ]
    },
    {
     "cell_type": "heading",
     "level": 3,
     "metadata": {},
     "source": [
      "Numbers"
     ]
    },
    {
     "cell_type": "markdown",
     "metadata": {},
     "source": [
      "There are three types of number: *int*, *float* and *decimal*."
     ]
    },
    {
     "cell_type": "heading",
     "level": 4,
     "metadata": {},
     "source": [
      "Int"
     ]
    },
    {
     "cell_type": "markdown",
     "metadata": {},
     "source": [
      "Each integer value in *SimpleON* represents python `int` value."
     ]
    },
    {
     "cell_type": "code",
     "collapsed": false,
     "input": [
      "text = dumps([17, 171717171717171717171717171717])\n",
      "print 'dumped:', text\n",
      "values = loads(text)\n",
      "print 'loaded:', values"
     ],
     "language": "python",
     "metadata": {},
     "outputs": [
      {
       "output_type": "stream",
       "stream": "stdout",
       "text": [
        "dumped: 17 171717171717171717171717171717\n",
        "loaded: [17, 171717171717171717171717171717L]\n"
       ]
      }
     ],
     "prompt_number": 29
    },
    {
     "cell_type": "markdown",
     "metadata": {},
     "source": [
      "*Note*: In `Python2` there are two types of integer values: `int` and `long`. \"Small\" values in *SimpleON* are represented by `int` values and \"large\" values are represented by `long` values in `Python2`. In `Python3` there is single type of integer values:`int`. It's equivalent to `long` in `Python2`."
     ]
    },
    {
     "cell_type": "heading",
     "level": 4,
     "metadata": {},
     "source": [
      "Float"
     ]
    },
    {
     "cell_type": "markdown",
     "metadata": {},
     "source": [
      "Each *float* value in *SimpleON* represents `float` value in `Python`."
     ]
    },
    {
     "cell_type": "code",
     "collapsed": false,
     "input": [
      "text = dumps([1.0, -2.1356e19])\n",
      "print 'dumped:', repr(text)\n",
      "values = loads(text)\n",
      "print 'loaded:', values"
     ],
     "language": "python",
     "metadata": {},
     "outputs": [
      {
       "output_type": "stream",
       "stream": "stdout",
       "text": [
        "dumped: u'1.0 -2.1356e+19'\n",
        "loaded: [1.0, -2.1356e+19]\n"
       ]
      }
     ],
     "prompt_number": 30
    },
    {
     "cell_type": "heading",
     "level": 4,
     "metadata": {},
     "source": [
      "Decimals"
     ]
    },
    {
     "cell_type": "markdown",
     "metadata": {},
     "source": [
      "Each *decimal* value in `SimpleON` representation converts to python `Decimal` value from `decimal` module (or `cdecimal` if available)."
     ]
    },
    {
     "cell_type": "code",
     "collapsed": false,
     "input": [
      "from cdecimal import Decimal\n",
      "text = dumps([Decimal('1.0'), Decimal('-2.1356e19')])\n",
      "print 'dumped:', text\n",
      "values = loads(text)\n",
      "print 'loaded:', values"
     ],
     "language": "python",
     "metadata": {},
     "outputs": [
      {
       "output_type": "stream",
       "stream": "stdout",
       "text": [
        "dumped: 1.0$ -21.356E+18$\n",
        "loaded: [Decimal('1.0'), Decimal('-2.1356E+19')]\n"
       ]
      }
     ],
     "prompt_number": 31
    },
    {
     "cell_type": "heading",
     "level": 3,
     "metadata": {},
     "source": [
      "Constants"
     ]
    },
    {
     "cell_type": "heading",
     "level": 4,
     "metadata": {},
     "source": [
      "Boolean"
     ]
    },
    {
     "cell_type": "markdown",
     "metadata": {},
     "source": [
      "Each *boolean* value in `SimpleON` representation converts to python `bool` value."
     ]
    },
    {
     "cell_type": "code",
     "collapsed": false,
     "input": [
      "text = dumps([True, False])\n",
      "print 'dumped:', repr(text)\n",
      "values = loads(text)\n",
      "print 'loaded:', values"
     ],
     "language": "python",
     "metadata": {},
     "outputs": [
      {
       "output_type": "stream",
       "stream": "stdout",
       "text": [
        "dumped: u'true false'\n",
        "loaded: [True, False]\n"
       ]
      }
     ],
     "prompt_number": 32
    },
    {
     "cell_type": "heading",
     "level": 4,
     "metadata": {},
     "source": [
      "Null"
     ]
    },
    {
     "cell_type": "markdown",
     "metadata": {},
     "source": [
      "Each *null* value in `SimpleON` representation converts to python `None`."
     ]
    },
    {
     "cell_type": "code",
     "collapsed": false,
     "input": [
      "text = dumps([None])\n",
      "print 'dumped:', text\n",
      "values = loads(text)\n",
      "print 'loaded:', values"
     ],
     "language": "python",
     "metadata": {},
     "outputs": [
      {
       "output_type": "stream",
       "stream": "stdout",
       "text": [
        "dumped: null\n",
        "loaded: [None]\n"
       ]
      }
     ],
     "prompt_number": 33
    },
    {
     "cell_type": "heading",
     "level": 4,
     "metadata": {},
     "source": [
      "Infinity, NaN"
     ]
    },
    {
     "cell_type": "code",
     "collapsed": false,
     "input": [
      "text = dumps([float('nan'), float('inf'), float('-inf')])\n",
      "print 'dumped:', repr(text)\n",
      "print text\n",
      "values = loads(text)\n",
      "print 'loaded:', values"
     ],
     "language": "python",
     "metadata": {},
     "outputs": [
      {
       "output_type": "stream",
       "stream": "stdout",
       "text": [
        "dumped: u'? \\u221e -\\u221e'\n",
        "? \u221e -\u221e\n",
        "loaded: [nan, inf, -inf]\n"
       ]
      }
     ],
     "prompt_number": 34
    },
    {
     "cell_type": "heading",
     "level": 3,
     "metadata": {},
     "source": [
      "Unicode string"
     ]
    },
    {
     "cell_type": "code",
     "collapsed": false,
     "input": [
      "text = dumps([\n",
      "    u\"symbol 'a'\",\n",
      "    u\"text in english\",\n",
      "    u\"\u0442\u0435\u043a\u0441\u0442 \u043d\u0430 \u0440\u0443\u0441\u0441\u043a\u043e\u043c \u044f\u0437\u044b\u043a\u0435\",\n",
      "    u\"\u4e2d\u6587\u6587\u672c\"\n",
      "])\n",
      "print 'dumped:', text\n",
      "values = loads(text)\n",
      "print 'loaded:', values"
     ],
     "language": "python",
     "metadata": {},
     "outputs": [
      {
       "output_type": "stream",
       "stream": "stdout",
       "text": [
        "dumped: \"symbol 'a'\" \"text in english\" \"\u0442\u0435\u043a\u0441\u0442 \u043d\u0430 \u0440\u0443\u0441\u0441\u043a\u043e\u043c \u044f\u0437\u044b\u043a\u0435\" \"\u4e2d\u6587\u6587\u672c\"\n",
        "loaded: [u\"symbol 'a'\", u'text in english', u'\\u0442\\u0435\\u043a\\u0441\\u0442 \\u043d\\u0430 \\u0440\\u0443\\u0441\\u0441\\u043a\\u043e\\u043c \\u044f\\u0437\\u044b\\u043a\\u0435', u'\\u4e2d\\u6587\\u6587\\u672c']\n"
       ]
      }
     ],
     "prompt_number": 35
    },
    {
     "cell_type": "code",
     "collapsed": false,
     "input": [
      "text = dumps([\n",
      "u\"\"\"one line text \\\n",
      "splited by symbol \\ at end \\\n",
      "of line\"\"\"])\n",
      "print 'dumped:', text\n",
      "values = loads(text)\n",
      "print 'loaded:', values"
     ],
     "language": "python",
     "metadata": {},
     "outputs": [
      {
       "output_type": "stream",
       "stream": "stdout",
       "text": [
        "dumped: \"one line text splited by symbol \\ at end of line\"\n",
        "loaded: [u'one line text splited by symbol \\\\ at end of line']\n"
       ]
      }
     ],
     "prompt_number": 36
    },
    {
     "cell_type": "code",
     "collapsed": false,
     "input": [
      "text = dumps([\n",
      "u\"\"\"first line\n",
      "   second line\n",
      "third line\"\"\"])\n",
      "print 'dumped:', repr(text)\n",
      "values = loads(text)\n",
      "print 'loaded:', values"
     ],
     "language": "python",
     "metadata": {},
     "outputs": [
      {
       "output_type": "stream",
       "stream": "stdout",
       "text": [
        "dumped: u'\"first line\\n   second line\\nthird line\"'\n",
        "loaded: [u'first line\\n   second line\\nthird line']\n"
       ]
      }
     ],
     "prompt_number": 37
    },
    {
     "cell_type": "heading",
     "level": 3,
     "metadata": {},
     "source": [
      "Dates/times"
     ]
    },
    {
     "cell_type": "markdown",
     "metadata": {},
     "source": [
      "*Date*, *time* and *datetime* value in `SimpleON` converts to python `date`, `time` and `datetime` objects. "
     ]
    },
    {
     "cell_type": "code",
     "collapsed": false,
     "input": [
      "from datetime import date, time, datetime\n",
      "text = dumps([\n",
      "    date(2010,12,1),\n",
      "    time(12,0,30),\n",
      "    datetime(2010,12,1, 12,0,30,1230)\n",
      "])\n",
      "print 'dumped:', repr(text)\n",
      "values = loads(text)\n",
      "print 'loaded:', values"
     ],
     "language": "python",
     "metadata": {},
     "outputs": [
      {
       "output_type": "stream",
       "stream": "stdout",
       "text": [
        "dumped: u'2010-12-01 12:00:30 2010-12-01T12:00:30.001230'\n",
        "loaded: [datetime.date(2010, 12, 1), datetime.time(12, 0, 30), datetime.datetime(2010, 12, 1, 12, 0, 30, 1230)]\n"
       ]
      }
     ],
     "prompt_number": 38
    },
    {
     "cell_type": "markdown",
     "metadata": {},
     "source": [
      "There exists support of timezone by offset. If time/datetime object has timezone info then the instance of `TZOffset` is assigns to `.tzinfo` attribute."
     ]
    },
    {
     "cell_type": "code",
     "collapsed": false,
     "input": [
      "from datetime import date, time, datetime\n",
      "values = loads(u\"2012-12-31T12:59:00+12:00\")\n",
      "print values"
     ],
     "language": "python",
     "metadata": {},
     "outputs": [
      {
       "output_type": "stream",
       "stream": "stdout",
       "text": [
        "[datetime.datetime(2012, 12, 31, 12, 59, tzinfo=<tz:+12>)]\n"
       ]
      }
     ],
     "prompt_number": 39
    },
    {
     "cell_type": "code",
     "collapsed": false,
     "input": [],
     "language": "python",
     "metadata": {},
     "outputs": [],
     "prompt_number": 39
    },
    {
     "cell_type": "code",
     "collapsed": false,
     "input": [],
     "language": "python",
     "metadata": {},
     "outputs": [],
     "prompt_number": 39
    },
    {
     "cell_type": "code",
     "collapsed": false,
     "input": [],
     "language": "python",
     "metadata": {},
     "outputs": [],
     "prompt_number": 39
    },
    {
     "cell_type": "code",
     "collapsed": false,
     "input": [],
     "language": "python",
     "metadata": {},
     "outputs": [],
     "prompt_number": 39
    },
    {
     "cell_type": "code",
     "collapsed": false,
     "input": [],
     "language": "python",
     "metadata": {},
     "outputs": [],
     "prompt_number": 39
    },
    {
     "cell_type": "code",
     "collapsed": false,
     "input": [],
     "language": "python",
     "metadata": {},
     "outputs": [],
     "prompt_number": 39
    },
    {
     "cell_type": "code",
     "collapsed": false,
     "input": [],
     "language": "python",
     "metadata": {},
     "outputs": [],
     "prompt_number": 39
    }
   ],
   "metadata": {}
  }
 ]
}